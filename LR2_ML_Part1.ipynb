{
  "nbformat": 4,
  "nbformat_minor": 0,
  "metadata": {
    "colab": {
      "provenance": [],
      "authorship_tag": "ABX9TyMhwpG5lhVT6jyeZfI8qdlK",
      "include_colab_link": true
    },
    "kernelspec": {
      "name": "python3",
      "display_name": "Python 3"
    },
    "language_info": {
      "name": "python"
    }
  },
  "cells": [
    {
      "cell_type": "markdown",
      "metadata": {
        "id": "view-in-github",
        "colab_type": "text"
      },
      "source": [
        "<a href=\"https://colab.research.google.com/github/TheGreemDark/LR_ML/blob/main/LR2_ML_Part1.ipynb\" target=\"_parent\"><img src=\"https://colab.research.google.com/assets/colab-badge.svg\" alt=\"Open In Colab\"/></a>"
      ]
    },
    {
      "cell_type": "markdown",
      "source": [
        "#Import библиотек"
      ],
      "metadata": {
        "id": "2spYqRDXz2ih"
      }
    },
    {
      "cell_type": "code",
      "source": [
        "import numpy as np # библиотека Numpy для операций линейной алгебры и прочего\n",
        "import matplotlib.pyplot as plt # библиотека Matplotlib для визуализации\n",
        "import pandas as pd # Библиотека Pandas для работы с табличными данными\n",
        "\n",
        "import plotly.graph_objects as go # Библиотека Plotly. Модуль \"Graph Objects\"\n",
        "import plotly.express as px # Библиотека Plotly. Модуль \"Express\"\n",
        "from google.colab import files  # чтобы загружать файлы в облако через проводник"
      ],
      "metadata": {
        "id": "ufTfhuGHz5YW"
      },
      "execution_count": null,
      "outputs": []
    },
    {
      "cell_type": "code",
      "metadata": {
        "id": "W1M6Kfo6vrTM"
      },
      "source": [
        "import pandas as pd # Библиотека Pandas для работы с табличными данными\n",
        "import numpy as np # библиотека Numpy для операций линейной алгебры и прочего\n",
        "import matplotlib.pyplot as plt # библиотека Matplotlib для визуализации\n",
        "import seaborn as sns # библиотека seaborn для визуализации\n",
        "import numpy as np # библиотека Numpy для операций линейной алгебры и прочего\n",
        "import plotly.graph_objects as go # Библиотека Plotly. Модуль \"Graph Objects\"\n",
        "import plotly.express as px # Библиотека Plotly. Модуль \"Express\"\n",
        "\n",
        "# предварительная обработка числовых признаков\n",
        "from sklearn.preprocessing import MinMaxScaler# Импортируем нормализацию от scikit-learn\n",
        "from sklearn.preprocessing import StandardScaler # Импортируем стандартизацию от scikit-learn\n",
        "from sklearn.preprocessing import PowerTransformer  # Степенное преобразование от scikit-learn\n",
        "# предварительная обработка категориальных признаков\n",
        "from sklearn.preprocessing import OneHotEncoder# Импортируем One-Hot Encoding от scikit-learn\n",
        "from sklearn.preprocessing import OrdinalEncoder# Импортируем Порядковое кодированиеот scikit-learn\n",
        "\n",
        "from sklearn.pipeline import Pipeline # Pipeline.Не добавить, не убавить\n",
        "\n",
        "from sklearn.compose import ColumnTransformer # т.н. преобразователь колонок\n",
        "\n",
        "from sklearn.base import BaseEstimator, TransformerMixin # для создания собственных преобразователей / трансформеров данных"
      ],
      "execution_count": null,
      "outputs": []
    },
    {
      "cell_type": "code",
      "source": [
        "import warnings\n",
        "warnings.filterwarnings('ignore')"
      ],
      "metadata": {
        "id": "kG_F8idxU__n"
      },
      "execution_count": null,
      "outputs": []
    },
    {
      "cell_type": "markdown",
      "source": [
        "# Генерация данных"
      ],
      "metadata": {
        "id": "eAH61dNE0CfJ"
      }
    },
    {
      "cell_type": "markdown",
      "source": [
        "Создание одномерных данных, которые могут быть некоторыми функциями от входных данных `X`.\n",
        "\n",
        "Чтобы не иметь всегда `100%` необходимо добавить шумы к данным.\n",
        "\n",
        "Так будет иметься как истинный вариант зависимости, так и зашумленный.\n",
        "\n",
        "Созданные данные могут быть как линейными, `f = None`, так и  гармоническими (`np.sin, np.cos`) или экспонециальными `np.exp`"
      ],
      "metadata": {
        "id": "WoXy6Qvv0u0b"
      }
    },
    {
      "cell_type": "code",
      "source": [
        "def true_fun(x, a=np.pi, b = 0, f=np.cos): #данные выбраны гармонические np.cos\n",
        "    \"\"\"Генерация произвольной зависимости\n",
        "    Входные переменные:\n",
        "    ===========\n",
        "    x: массив данных из которых будет генерироваться зависимость\n",
        "    a: коэффициент на который входные данные будут умножаться\n",
        "    если а - список, то это коэффициенты в полиномиальной зависимости\n",
        "    так, а = [1,2,3] позволит сгенерировать зависимость вида 1*x+ 2*x^2 +3*x^3\n",
        "    b: коэффициент который будет добавлен к данным (постоянная прибавочка)\n",
        "    f: функция которая будет применена к зависимости. Можно задать списком. Тогда это будут разные колонки\n",
        "    \"\"\"\n",
        "    x = np.atleast_1d(x)[:] # убеждаемся что данные - одномерный массив\n",
        "    a = np.atleast_1d(a)\n",
        "\n",
        "    if f is None: f = lambda x:x # если функция не задана (None) то ничего не происходит\n",
        "    x = np.sum([ai*np.power(x, i+1) for i,ai in enumerate(a)],axis=0) # домножаем входные данные на коэффициенты (и если надо возводим в степень)\n",
        "\n",
        "    return f(x/2 + 1/(x+5)+b) # функция, отличная от примера\n",
        "\n",
        "def noises(shape , noise_power):\n",
        "    \"\"\"Генерация случайного шума\n",
        "    Входные переменные:\n",
        "    ===========\n",
        "    shape: размерность массива данных\n",
        "    noise_power: коэффициент ~ сила шума\n",
        "    \"\"\"\n",
        "    return np.random.randn(*shape) *noise_power # библиотека numpy может генерировать случайные числа.\n",
        "                                                # в данном случае - нормальное распределение (среднее = 0, стандартное отклонение = 1 )\n",
        "\n",
        "def dataset(a, b, f = np.cos,  N = 250, x_max =1, noise_power = 0, random_x = True,  seed = 42):\n",
        "    \"\"\"Генерация набора данных\n",
        "    Входные переменные:\n",
        "    ===========\n",
        "    a: коэффициент на который входные данные будут умножаться\n",
        "    если а - список, то это коэффициенты в полиномиальной зависимости\n",
        "    так, а = [1,2,3] позволит сгенерировать зависимость вида 1*x+ 2*x^2 +3*x^3\n",
        "    b: коэффициент который будет добавлен к данным (постоянная прибавочка)\n",
        "    f: функция которая будет применена к зависимости. Можно задать списком. Тогда это будут разные колонки\n",
        "    N: количество точек данных\n",
        "    x_max: максимальное значение данных\n",
        "    noise_power: коэффициент ~ сила шума\n",
        "    random_x: как будут распределены данные (линейно, или случайно)\n",
        "    seed: фиксированный сид случайных чисел (для повторяемости)\n",
        "    \"\"\"\n",
        "\n",
        "    np.random.seed(seed) # фиксируем случайный seed\n",
        "\n",
        "    if random_x:# если мы хотим случайно распределить данные\n",
        "        x = np.sort(np.random.rand(N))*x_max # то x будет N случайных числе из диапазона от 0 до x_max\n",
        "    else: # иначе\n",
        "        x = np.linspace(0,x_max,N) # х это равномерно распределенные N чисел из диапазона от 0 до x_max\n",
        "\n",
        "    y_true = np.array([]) # создаем пустой массив который будет \"наполнять\" зависимостями\n",
        "\n",
        "    for f_ in np.append([], f): # если f - задана списком, то мы учтем все варианты\n",
        "        y_true=np.append(y_true, true_fun(x, a, b, f_)) # применяем описанную выше функцию true_fun\n",
        "\n",
        "    y_true = y_true.reshape(-1,N).T\n",
        "    y = y_true + noises(y_true.shape , noise_power) # добавляем шум\n",
        "\n",
        "    return y, y_true, np.atleast_2d(x).T # возвращаем зашумленные значения зависимостей, зависимости без шума, и массив входных данных"
      ],
      "metadata": {
        "id": "aidxHlw70Fh-"
      },
      "execution_count": null,
      "outputs": []
    },
    {
      "cell_type": "markdown",
      "source": [
        "Визуализация получившихся данных"
      ],
      "metadata": {
        "id": "z2fETN6Q3BfG"
      }
    },
    {
      "cell_type": "code",
      "source": [
        "def vis_data(y, y_true,x, title):\n",
        "    \"\"\"Визуализация полученного набора данных\n",
        "    Входные переменные:\n",
        "    ===========\n",
        "    y: зашумленные значения зависимостей\n",
        "    y_true: зависимости без шума\n",
        "    x: массив входных данных\n",
        "    title: общий заголовок\n",
        "    \"\"\"\n",
        "    fig  = plt.figure(figsize=(14,8))# создаем \"полотно\", на котором будем \"рисовать\" график\n",
        "    # рисуем с помощью библиотеки matplotlib\n",
        "    plt.scatter(x[:,0], # какую переменную используем для горизонтальной оси - массив данных х\n",
        "                y, # какую переменную используем для вертикальной оси - зашумленные значения зависимостей\n",
        "                edgecolor='b', #  цвет маркера\n",
        "                label=\"Зашумленные данные\", # название зависимости, которое будет отображено в легенде\n",
        "                s=196, # квадрат радиуса\n",
        "                alpha = 0.6) # прозрачность\n",
        "    plt.scatter(x[:,0], y_true,label=\"Реальные данные\", s=81,c='g', alpha = 0.8) # аналогично вышеописанному, только для зависимости без шума\n",
        "                                                                                # и с другими параметрами маркеров (цвет, размер, прозрачность, название)\n",
        "    plt.grid() # чтобы была сетка\n",
        "    plt.xlabel('x',fontsize=35) # название горизонтальной оси\n",
        "    plt.ylabel('y',fontsize=35) # название вертикальной оси\n",
        "    plt.legend(fontsize=25) # чтобы была легенда\n",
        "    plt.title(title, fontsize=25 ) # заголовок\n",
        "    plt.xticks(fontsize = 25) # чтобы промежуточные значения горизонтальной оси были не маленькими\n",
        "    plt.yticks(fontsize = 25);# чтобы промежуточные значения вертикальной оси были не маленькими\n",
        "    plt.tight_layout() # чтобы полотно было без пустого пространство"
      ],
      "metadata": {
        "id": "tpLt-Eii3AXe"
      },
      "execution_count": null,
      "outputs": []
    },
    {
      "cell_type": "code",
      "source": [
        "def vis_data_plotly(y, y_true,x, title):\n",
        "    \"\"\"Визуализация полученного набора данных с помощью библиотеки plotly\n",
        "    Входные переменные:\n",
        "    ===========\n",
        "    y: зашумленные значения зависимостей\n",
        "    y_true: зависимости без шума\n",
        "    x: массив входных данных\n",
        "    title: общий заголовок\n",
        "    \"\"\"\n",
        "    fig = go.Figure()\n",
        "    # рисуем с помощью библиотеки plotly\n",
        "    fig.add_trace(\n",
        "        go.Scatter(\n",
        "        x=x[:,0],\n",
        "        y=y_true[:,0],\n",
        "        mode='lines+markers',\n",
        "        name='Реальные данные',\n",
        "        marker=dict(size = 10,\n",
        "                    color='Green')\n",
        "        )\n",
        "    )\n",
        "    fig.add_trace(\n",
        "        go.Scatter(\n",
        "        x=x[:,0],\n",
        "        y=y[:,0],\n",
        "        mode='markers',\n",
        "        name='Зашумленные данные',\n",
        "        opacity=0.5,\n",
        "        marker=dict(size = 15,\n",
        "                    color='LightSkyBlue',\n",
        "                    line=dict(\n",
        "                        color='Blue',\n",
        "                        width=3\n",
        "            )),\n",
        "\n",
        "        )\n",
        "    )\n",
        "    fig.update_layout(\n",
        "            title=title,\n",
        "            width=1200,\n",
        "            height=600,\n",
        "        template = \"plotly_dark\"\n",
        "            )\n",
        "\n",
        "    fig.show()"
      ],
      "metadata": {
        "id": "oP3tNPLa3Kei"
      },
      "execution_count": null,
      "outputs": []
    },
    {
      "cell_type": "markdown",
      "source": [
        "**Нелинейная зависимость**"
      ],
      "metadata": {
        "id": "zR8diOPn3QRB"
      }
    },
    {
      "cell_type": "markdown",
      "source": [
        "Применяем описанные выше функции для генерации нелинейной зависимости вида\n",
        "\n",
        "`y = 3*(x/2 + 1/(x + 5)) + 2`, где `х` изменяется в диапазоне от `0` до `1`, в `х` - `100` точек, \"мощность\" шума `0.1`\n",
        "\n",
        "Запускается функция `dataset` с нужными параметрами\n",
        "\n",
        "*   `a = 3` (на это число домножится `x/2 + 1/(x + 5)`)\n",
        "*  ` b = 2 `(это число добавится к `x/2 + 1/(x + 5)`)\n",
        "*   `f = np.cos` (чтобы была другая гармоническая зависимость)\n",
        "*   `N = 100` (число точек)\n",
        "*   `x_max = 1` (максимальное значение `х`)\n",
        "*   `noise_power = 0.1` (мощность шума)\n",
        "*   `seed = 42` (фиксированный сид случайных чисел)\n",
        "                       \n",
        "\n",
        "Далее визуализируются данные с помощью функции `vis_data`"
      ],
      "metadata": {
        "id": "zvQ8jA8z3Whn"
      }
    },
    {
      "cell_type": "code",
      "source": [
        "y, y_true, x = dataset(a = 3, b = 2,\n",
        "                       f = np.cos,  N = 100,\n",
        "                       x_max = 1,\n",
        "                       noise_power = 0.1,\n",
        "                       seed = 42)\n",
        "vis_data(y, y_true,x, 'Нелинейная зависимость')"
      ],
      "metadata": {
        "colab": {
          "base_uri": "https://localhost:8080/",
          "height": 807
        },
        "id": "fKo8iM4_3Vjf",
        "outputId": "80e4d121-28f3-46c0-c7ea-e9415933cf44"
      },
      "execution_count": null,
      "outputs": [
        {
          "output_type": "display_data",
          "data": {
            "text/plain": [
              "<Figure size 1400x800 with 1 Axes>"
            ],
            "image/png": "[encoded data removed]"
          },
          "metadata": {}
        }
      ]
    },
    {
      "cell_type": "markdown",
      "source": [
        "Визуально можно заключить, что модель реальных данных хорошо описывает основную тенденцию, несмотря на шум, присутствующий в измерениях или данных."
      ],
      "metadata": {
        "id": "mil121xCU4H5"
      }
    },
    {
      "cell_type": "markdown",
      "source": [
        "# Модель линейной регрессии"
      ],
      "metadata": {
        "id": "6QS-YY8-CUvj"
      }
    },
    {
      "cell_type": "markdown",
      "source": [
        "## Тренировочная и тестовая выборка"
      ],
      "metadata": {
        "id": "CwDlKy2eGkC0"
      }
    },
    {
      "cell_type": "markdown",
      "source": [
        "Для того, чтобы выделить из входных данных тренировочную и тестовую выборку необходимо записать следующую функцию.\n",
        "\n",
        "Функция будет иметь следующие входные аргументы:\n",
        "* `x,y` - входные данные и метки;\n",
        "* `train_size` - размер тренировочной части;\n",
        "* `test_size`  - размер тестовой части;\n",
        "* `random_state` - состояние генератора случайных чисел;\n",
        "* `shuffle` - необходимость перемешивания данных."
      ],
      "metadata": {
        "id": "GIHJflqaGmku"
      }
    },
    {
      "cell_type": "code",
      "source": [
        "def train_test_split(x,y, train_size=None, test_size=None, random_state=42, shuffle=True,):\n",
        "    \"\"\"Разбиение данных на тренировочную-валидационную-тестовую\n",
        "    Входные переменные:\n",
        "    ===========\n",
        "    x: матрица признаков\n",
        "    y: вектор целевых меток\n",
        "    train_size: размер тренировочной выборки (в долях или в штуках)\n",
        "    test_size: размер тестовой выборки (в долях или в штуках)\n",
        "    random_state: фиксированный сид случайных чисел (для повторяемости)\n",
        "    shuffle: перемешиваем ли мы выборку или нет\n",
        "    \"\"\"\n",
        "    if random_state: np.random.seed(random_state) # фиксируем случайный seed\n",
        "\n",
        "    size = y.shape[0] # считаем сколько у нас точек\n",
        "    idxs = np.arange(size) # массив индексов от 0 до количества точек\n",
        "    if shuffle: np.random.shuffle(idxs) # если перемешиваем - то перемешиваем\n",
        "\n",
        "    # если задаем test_size, но не задаем train_size\n",
        "    if test_size and train_size is None:\n",
        "        # тогда нам надо посчитать train_size\n",
        "        # если размер задали в долях\n",
        "        if (test_size<= 1):  train_size = 1 - test_size\n",
        "        # если размер задали в штуках\n",
        "        else:  train_size = size - test_size\n",
        "        test_size = None    # обнулим переменную, чтобы потом не сломалось\n",
        "\n",
        "\n",
        "    # если задаем train_size, но не задаем test_size, или мы некорректно задали размер  train_size\n",
        "    if train_size is None or train_size > size: train_size = size\n",
        "\n",
        "    # если задаем train_size\n",
        "    if (train_size<= 1): train_size *= size\n",
        "\n",
        "    # если test_size не обнулилось\n",
        "    if test_size is not None:\n",
        "        # если размер задали в долях\n",
        "        if test_size<= 1: test_size *= size\n",
        "        # если размер задали в штуках\n",
        "        if test_size>size: test_size = size-train_size\n",
        "    else: test_size = 0 # если обнулилось - то обнулилось)\n",
        "\n",
        "    # разбиваем выборку на тренировочную и валидационную.\n",
        "    # в тренировочную берем индексы от 0 до train_size\n",
        "    x_train, y_train = x[idxs[:int(train_size)]], y[idxs[:int(train_size)]]\n",
        "    # в валидационную берем индексы от train_size до size - test_size\n",
        "    x_val,   y_val   = x[idxs[int(train_size):size - int(test_size)]], y[idxs[int(train_size):size - int(test_size)]]\n",
        "\n",
        "    # если test_size всё еще не обнулилось\n",
        "    if test_size > 0:\n",
        "        # в тестовую берем индексы от size - test_size до конца\n",
        "        x_test, y_test = x[idxs[size - int(test_size):]], y[idxs[size - int(test_size):]]\n",
        "        # возвращаем тренировочную, валидационную и тестовую часть (сначала признаки, потом целевые метки)\n",
        "        return x_train,  x_val, x_test, y_train.squeeze(), y_val.squeeze(), y_test.squeeze()\n",
        "    # возвращаем тренировочную и валидационную  (сначала признаки, потом целевые метки)\n",
        "    return x_train, x_val, y_train.squeeze(), y_val.squeeze()\n",
        "\n",
        "# пример использования, если хотим разбить на 3 части\n",
        "x_train, x_val, x_test, y_train, y_val, y_test = train_test_split(x, y, train_size = 0.5, test_size=0.3, )\n",
        "print(x_train.shape, y_train.shape, x_val.shape, y_val.shape,  x_test.shape, y_test.shape )\n",
        "\n",
        "# пример использования, если хотим разбить на 2 части\n",
        "x_train, x_test, y_train, y_test = train_test_split(x, y,  test_size=0.3, )\n",
        "print(x_train.shape, y_train.shape,  x_test.shape, y_test.shape )"
      ],
      "metadata": {
        "colab": {
          "base_uri": "https://localhost:8080/"
        },
        "id": "kINR2zFbCdyc",
        "outputId": "fd57738a-2302-4b81-fa89-414b83f02b11"
      },
      "execution_count": null,
      "outputs": [
        {
          "output_type": "stream",
          "name": "stdout",
          "text": [
            "(50, 1) (50,) (20, 1) (20,) (30, 1) (30,)\n",
            "(70, 1) (70,) (30, 1) (30,)\n"
          ]
        }
      ]
    },
    {
      "cell_type": "code",
      "source": [
        "x_train, x_test, y_train, y_test = train_test_split(x, y,  test_size=0.3, shuffle = True)\n",
        "print(x_train.shape, y_train.shape,  x_test.shape, y_test.shape )"
      ],
      "metadata": {
        "colab": {
          "base_uri": "https://localhost:8080/"
        },
        "id": "P6rJMIXNG4iu",
        "outputId": "31033315-c7f7-45ea-8dbc-c1b933d11550"
      },
      "execution_count": null,
      "outputs": [
        {
          "output_type": "stream",
          "name": "stdout",
          "text": [
            "(70, 1) (70,) (30, 1) (30,)\n"
          ]
        }
      ]
    },
    {
      "cell_type": "code",
      "source": [
        "def plot_train_test_data(x_train, y_train, x_test, y_test):\n",
        "    \"\"\"Отрисовка тестовых и тренировочных данных.\n",
        "    Входные переменные:\n",
        "    ===========\n",
        "    x_train: признаки на которых тренировались\n",
        "    y_train: тренировочные целевые значения\n",
        "    x_test: тестовые признаки\n",
        "    y_test: тестовые целевые значения\n",
        "    \"\"\"\n",
        "\n",
        "    fig = go.Figure()\n",
        "    # рисуем с помощью библиотеки plotly\n",
        "    fig.add_trace(\n",
        "        go.Scatter(\n",
        "        x=x_train[:,0],\n",
        "        y=y_train,\n",
        "        mode='markers',\n",
        "        name='Тренировочные данные',\n",
        "        marker=dict(size = 10,\n",
        "                    color='Green')\n",
        "        )\n",
        "    )\n",
        "    fig.add_trace(\n",
        "        go.Scatter(\n",
        "        x=x_test[:,0],\n",
        "        y=y_test,\n",
        "        mode='markers',\n",
        "        name='Тестовые данные',\n",
        "        marker=dict(size = 15,\n",
        "                    color='LightSkyBlue',\n",
        "                    line=dict(\n",
        "                        color='Red',\n",
        "                        width=3\n",
        "            )),\n",
        "\n",
        "        )\n",
        "    )\n",
        "    fig.update_layout(\n",
        "            title='Тренировочные и тестовые данные',\n",
        "            width=1200,\n",
        "            height=600,\n",
        "        template = \"plotly_dark\"\n",
        "            )\n",
        "\n",
        "    fig.show()"
      ],
      "metadata": {
        "id": "u3rzdSMcH603"
      },
      "execution_count": null,
      "outputs": []
    },
    {
      "cell_type": "code",
      "source": [
        "plot_train_test_data(x_train, y_train, x_test, y_test)"
      ],
      "metadata": {
        "colab": {
          "base_uri": "https://localhost:8080/",
          "height": 617
        },
        "id": "VXN_h_JkIDo9",
        "outputId": "d18873eb-1f2a-4714-b814-f0014ecb8958"
      },
      "execution_count": null,
      "outputs": [
        {
          "output_type": "display_data",
          "data": {
            "text/html": [
              "<html>\n",
              "<head><meta charset=\"utf-8\" /></head>\n",
              "<body>\n",
              "    <div>            <script src=\"https://cdnjs.cloudflare.com/ajax/libs/mathjax/2.7.5/MathJax.js?config=TeX-AMS-MML_SVG\"></script><script type=\"text/javascript\">if (window.MathJax && window.MathJax.Hub && window.MathJax.Hub.Config) {window.MathJax.Hub.Config({SVG: {font: \"STIX-Web\"}});}</script>                <script type=\"text/javascript\">window.PlotlyConfig = {MathJaxConfig: 'local'};</script>\n",
              "        <script charset=\"utf-8\" src=\"https://cdn.plot.ly/plotly-2.35.2.min.js\"></script>                <div id=\"69c79eac-5007-485e-abac-d73cd6faee8c\" class=\"plotly-graph-div\" style=\"height:600px; width:1200px;\"></div>            <script type=\"text/javascript\">                                    window.PLOTLYENV=window.PLOTLYENV || {};                                    if (document.getElementById(\"69c79eac-5007-485e-abac-d73cd6faee8c\")) {                    Plotly.newPlot(                        \"69c79eac-5007-485e-abac-d73cd6faee8c\",                        [{\"marker\":{\"color\":\"Green\",\"size\":10},\"mode\":\"markers\",\"name\":\"Тренировочные данные\",\"x\":[0.8083973481164611,0.5142344384136116,0.7068573438476171,0.388677289689482,0.3745401188473625,0.32533033076326434,0.18182496720710062,0.7751328233611146,0.07455064367977082,0.005522117123602399,0.14092422497476265,0.2713490317738959,0.7290071680409873,0.29214464853521815,0.8948273504276488,0.045227288910538066,0.7607850486168974,0.770967179954561,0.09767211400638387,0.28093450968738076,0.5227328293819941,0.8661761457749352,0.1987156815341724,0.3584657285442726,0.6842330265121569,0.1195942459383017,0.3308980248526492,0.9656320330745594,0.07404465173409036,0.713244787222995,0.0884925020519195,0.43194501864211576,0.8287375091519293,0.21233911067827616,0.9394989415641891,0.046450412719997725,0.6232981268275579,0.6118528947223795,0.3046137691733707,0.12203823484477883,0.45606998421703593,0.3042422429595377,0.06355835028602363,0.9507143064099162,0.19967378215835974,0.15599452033620265,0.7851759613930136,0.1959828624191452,0.5986584841970366,0.10789142699330445,0.18485445552552704,0.034388521115218396,0.13949386065204183,0.32518332202674705,0.06505159298527952,0.7712703466859457,0.05808361216819946,0.6075448519014384,0.3109823217156622,0.8872127425763265,0.5247564316322378,0.9868869366005173,0.5200680211778108,0.3663618432936917,0.4722149251619493,0.6375574713552131,0.42754101835854963,0.662522284353982,0.5978999788110851,0.9695846277645586],\"y\":[-0.913266967572303,-1.0268093337636421,-1.1219473122620998,-1.0133964994289786,-0.8354152466264914,-0.8539316722190262,-0.7716708187899872,-0.8010265386431524,-0.5771654324316574,-0.5859421867617085,-0.7737569144033493,-0.6572675757140944,-0.9661586353121427,-0.8686272789307242,-0.8635830393506385,-0.6598613299781285,-1.0586458657729918,-0.9653049272429247,-0.745253301501216,-0.8355680366167414,-0.9721548527969512,-0.8621130423864165,-0.8212963605904993,-0.7907691172652475,-0.9214653732221386,-0.6171423590743093,-0.8912149696794142,-0.9152165891354296,-0.7183582301511311,-0.9454718638305782,-0.6501224793307185,-1.0846480198333093,-0.8937843375363044,-0.8148162050891964,-0.9981554751575827,-0.6034878373515413,-1.1588833481123535,-0.8662825932216369,-0.8726596894341857,-0.7865961894554394,-0.7361555732011947,-1.061626254715755,-0.7090998112038347,-0.9979698299955874,-0.8680819394484063,-0.8950378253026144,-0.9378400008263421,-0.826716493272765,-0.9139997133606457,-0.6511567276721061,-0.9164121924861028,-0.8250142301555896,-0.7659540629280804,-0.903225204400091,-0.7396836160669714,-0.959156845435709,-0.5037362544797601,-0.973752835690457,-0.8683913459624867,-0.9080369278012306,-1.0858274012528155,-0.8113920797993781,-1.1332935377622513,-0.8345666446709927,-1.0608173412444053,-0.9807127667758208,-0.8021038341673404,-0.9740006854866088,-1.0274521668803867,-0.8709656772212931],\"type\":\"scatter\"},{\"marker\":{\"color\":\"LightSkyBlue\",\"line\":{\"color\":\"Red\",\"width\":3},\"size\":15},\"mode\":\"markers\",\"name\":\"Тестовые данные\",\"x\":[0.7722447692966574,0.3567533266935893,0.5467102793432796,0.4401524937396013,0.9699098521619943,0.5426960831582485,0.7319939418114051,0.2912291401980419,0.9488855372533332,0.5612771975694962,0.6011150117432088,0.8154614284548342,0.31171107608941095,0.2587799816000169,0.020584494295802447,0.4951769101112702,0.17052412368729153,0.02541912674409519,0.18340450985343382,0.8631034258755935,0.9093204020787821,0.7296061783380641,0.8324426408004217,0.8021969807540397,0.15601864044243652,0.5924145688620425,0.7080725777960455,0.11586905952512971,0.9218742350231168,0.49379559636439074],\"y\":[-1.0596851574364303,-1.0208833442408771,-1.0773698000582559,-0.8895549045890161,-0.8772108788410394,-0.9370742022194114,-0.9608114109670028,-0.8347693505378708,-1.0063994272058898,-0.8337683589728473,-1.1187712101019356,-1.074253683792853,-0.628589932863715,-0.7958916521118911,-0.6411518250188607,-0.9602599538752598,-0.7359141083165325,-0.6073540216944171,-0.7970466212287042,-1.041778576504625,-0.7490787483128103,-0.9707289050764866,-0.8553708376894187,-1.0998437395143401,-0.719096682697943,-1.072773975721,-1.1301928942293187,-0.7006502945113382,-0.9568692768947759,-1.026375009998638],\"type\":\"scatter\"}],                        {\"template\":{\"data\":{\"barpolar\":[{\"marker\":{\"line\":{\"color\":\"rgb(17,17,17)\",\"width\":0.5},\"pattern\":{\"fillmode\":\"overlay\",\"size\":10,\"solidity\":0.2}},\"type\":\"barpolar\"}],\"bar\":[{\"error_x\":{\"color\":\"#f2f5fa\"},\"error_y\":{\"color\":\"#f2f5fa\"},\"marker\":{\"line\":{\"color\":\"rgb(17,17,17)\",\"width\":0.5},\"pattern\":{\"fillmode\":\"overlay\",\"size\":10,\"solidity\":0.2}},\"type\":\"bar\"}],\"carpet\":[{\"aaxis\":{\"endlinecolor\":\"#A2B1C6\",\"gridcolor\":\"#506784\",\"linecolor\":\"#506784\",\"minorgridcolor\":\"#506784\",\"startlinecolor\":\"#A2B1C6\"},\"baxis\":{\"endlinecolor\":\"#A2B1C6\",\"gridcolor\":\"#506784\",\"linecolor\":\"#506784\",\"minorgridcolor\":\"#506784\",\"startlinecolor\":\"#A2B1C6\"},\"type\":\"carpet\"}],\"choropleth\":[{\"colorbar\":{\"outlinewidth\":0,\"ticks\":\"\"},\"type\":\"choropleth\"}],\"contourcarpet\":[{\"colorbar\":{\"outlinewidth\":0,\"ticks\":\"\"},\"type\":\"contourcarpet\"}],\"contour\":[{\"colorbar\":{\"outlinewidth\":0,\"ticks\":\"\"},\"colorscale\":[[0.0,\"#0d0887\"],[0.1111111111111111,\"#46039f\"],[0.2222222222222222,\"#7201a8\"],[0.3333333333333333,\"#9c179e\"],[0.4444444444444444,\"#bd3786\"],[0.5555555555555556,\"#d8576b\"],[0.6666666666666666,\"#ed7953\"],[0.7777777777777778,\"#fb9f3a\"],[0.8888888888888888,\"#fdca26\"],[1.0,\"#f0f921\"]],\"type\":\"contour\"}],\"heatmapgl\":[{\"colorbar\":{\"outlinewidth\":0,\"ticks\":\"\"},\"colorscale\":[[0.0,\"#0d0887\"],[0.1111111111111111,\"#46039f\"],[0.2222222222222222,\"#7201a8\"],[0.3333333333333333,\"#9c179e\"],[0.4444444444444444,\"#bd3786\"],[0.5555555555555556,\"#d8576b\"],[0.6666666666666666,\"#ed7953\"],[0.7777777777777778,\"#fb9f3a\"],[0.8888888888888888,\"#fdca26\"],[1.0,\"#f0f921\"]],\"type\":\"heatmapgl\"}],\"heatmap\":[{\"colorbar\":{\"outlinewidth\":0,\"ticks\":\"\"},\"colorscale\":[[0.0,\"#0d0887\"],[0.1111111111111111,\"#46039f\"],[0.2222222222222222,\"#7201a8\"],[0.3333333333333333,\"#9c179e\"],[0.4444444444444444,\"#bd3786\"],[0.5555555555555556,\"#d8576b\"],[0.6666666666666666,\"#ed7953\"],[0.7777777777777778,\"#fb9f3a\"],[0.8888888888888888,\"#fdca26\"],[1.0,\"#f0f921\"]],\"type\":\"heatmap\"}],\"histogram2dcontour\":[{\"colorbar\":{\"outlinewidth\":0,\"ticks\":\"\"},\"colorscale\":[[0.0,\"#0d0887\"],[0.1111111111111111,\"#46039f\"],[0.2222222222222222,\"#7201a8\"],[0.3333333333333333,\"#9c179e\"],[0.4444444444444444,\"#bd3786\"],[0.5555555555555556,\"#d8576b\"],[0.6666666666666666,\"#ed7953\"],[0.7777777777777778,\"#fb9f3a\"],[0.8888888888888888,\"#fdca26\"],[1.0,\"#f0f921\"]],\"type\":\"histogram2dcontour\"}],\"histogram2d\":[{\"colorbar\":{\"outlinewidth\":0,\"ticks\":\"\"},\"colorscale\":[[0.0,\"#0d0887\"],[0.1111111111111111,\"#46039f\"],[0.2222222222222222,\"#7201a8\"],[0.3333333333333333,\"#9c179e\"],[0.4444444444444444,\"#bd3786\"],[0.5555555555555556,\"#d8576b\"],[0.6666666666666666,\"#ed7953\"],[0.7777777777777778,\"#fb9f3a\"],[0.8888888888888888,\"#fdca26\"],[1.0,\"#f0f921\"]],\"type\":\"histogram2d\"}],\"histogram\":[{\"marker\":{\"pattern\":{\"fillmode\":\"overlay\",\"size\":10,\"solidity\":0.2}},\"type\":\"histogram\"}],\"mesh3d\":[{\"colorbar\":{\"outlinewidth\":0,\"ticks\":\"\"},\"type\":\"mesh3d\"}],\"parcoords\":[{\"line\":{\"colorbar\":{\"outlinewidth\":0,\"ticks\":\"\"}},\"type\":\"parcoords\"}],\"pie\":[{\"automargin\":true,\"type\":\"pie\"}],\"scatter3d\":[{\"line\":{\"colorbar\":{\"outlinewidth\":0,\"ticks\":\"\"}},\"marker\":{\"colorbar\":{\"outlinewidth\":0,\"ticks\":\"\"}},\"type\":\"scatter3d\"}],\"scattercarpet\":[{\"marker\":{\"colorbar\":{\"outlinewidth\":0,\"ticks\":\"\"}},\"type\":\"scattercarpet\"}],\"scattergeo\":[{\"marker\":{\"colorbar\":{\"outlinewidth\":0,\"ticks\":\"\"}},\"type\":\"scattergeo\"}],\"scattergl\":[{\"marker\":{\"line\":{\"color\":\"#283442\"}},\"type\":\"scattergl\"}],\"scattermapbox\":[{\"marker\":{\"colorbar\":{\"outlinewidth\":0,\"ticks\":\"\"}},\"type\":\"scattermapbox\"}],\"scatterpolargl\":[{\"marker\":{\"colorbar\":{\"outlinewidth\":0,\"ticks\":\"\"}},\"type\":\"scatterpolargl\"}],\"scatterpolar\":[{\"marker\":{\"colorbar\":{\"outlinewidth\":0,\"ticks\":\"\"}},\"type\":\"scatterpolar\"}],\"scatter\":[{\"marker\":{\"line\":{\"color\":\"#283442\"}},\"type\":\"scatter\"}],\"scatterternary\":[{\"marker\":{\"colorbar\":{\"outlinewidth\":0,\"ticks\":\"\"}},\"type\":\"scatterternary\"}],\"surface\":[{\"colorbar\":{\"outlinewidth\":0,\"ticks\":\"\"},\"colorscale\":[[0.0,\"#0d0887\"],[0.1111111111111111,\"#46039f\"],[0.2222222222222222,\"#7201a8\"],[0.3333333333333333,\"#9c179e\"],[0.4444444444444444,\"#bd3786\"],[0.5555555555555556,\"#d8576b\"],[0.6666666666666666,\"#ed7953\"],[0.7777777777777778,\"#fb9f3a\"],[0.8888888888888888,\"#fdca26\"],[1.0,\"#f0f921\"]],\"type\":\"surface\"}],\"table\":[{\"cells\":{\"fill\":{\"color\":\"#506784\"},\"line\":{\"color\":\"rgb(17,17,17)\"}},\"header\":{\"fill\":{\"color\":\"#2a3f5f\"},\"line\":{\"color\":\"rgb(17,17,17)\"}},\"type\":\"table\"}]},\"layout\":{\"annotationdefaults\":{\"arrowcolor\":\"#f2f5fa\",\"arrowhead\":0,\"arrowwidth\":1},\"autotypenumbers\":\"strict\",\"coloraxis\":{\"colorbar\":{\"outlinewidth\":0,\"ticks\":\"\"}},\"colorscale\":{\"diverging\":[[0,\"#8e0152\"],[0.1,\"#c51b7d\"],[0.2,\"#de77ae\"],[0.3,\"#f1b6da\"],[0.4,\"#fde0ef\"],[0.5,\"#f7f7f7\"],[0.6,\"#e6f5d0\"],[0.7,\"#b8e186\"],[0.8,\"#7fbc41\"],[0.9,\"#4d9221\"],[1,\"#276419\"]],\"sequential\":[[0.0,\"#0d0887\"],[0.1111111111111111,\"#46039f\"],[0.2222222222222222,\"#7201a8\"],[0.3333333333333333,\"#9c179e\"],[0.4444444444444444,\"#bd3786\"],[0.5555555555555556,\"#d8576b\"],[0.6666666666666666,\"#ed7953\"],[0.7777777777777778,\"#fb9f3a\"],[0.8888888888888888,\"#fdca26\"],[1.0,\"#f0f921\"]],\"sequentialminus\":[[0.0,\"#0d0887\"],[0.1111111111111111,\"#46039f\"],[0.2222222222222222,\"#7201a8\"],[0.3333333333333333,\"#9c179e\"],[0.4444444444444444,\"#bd3786\"],[0.5555555555555556,\"#d8576b\"],[0.6666666666666666,\"#ed7953\"],[0.7777777777777778,\"#fb9f3a\"],[0.8888888888888888,\"#fdca26\"],[1.0,\"#f0f921\"]]},\"colorway\":[\"#636efa\",\"#EF553B\",\"#00cc96\",\"#ab63fa\",\"#FFA15A\",\"#19d3f3\",\"#FF6692\",\"#B6E880\",\"#FF97FF\",\"#FECB52\"],\"font\":{\"color\":\"#f2f5fa\"},\"geo\":{\"bgcolor\":\"rgb(17,17,17)\",\"lakecolor\":\"rgb(17,17,17)\",\"landcolor\":\"rgb(17,17,17)\",\"showlakes\":true,\"showland\":true,\"subunitcolor\":\"#506784\"},\"hoverlabel\":{\"align\":\"left\"},\"hovermode\":\"closest\",\"mapbox\":{\"style\":\"dark\"},\"paper_bgcolor\":\"rgb(17,17,17)\",\"plot_bgcolor\":\"rgb(17,17,17)\",\"polar\":{\"angularaxis\":{\"gridcolor\":\"#506784\",\"linecolor\":\"#506784\",\"ticks\":\"\"},\"bgcolor\":\"rgb(17,17,17)\",\"radialaxis\":{\"gridcolor\":\"#506784\",\"linecolor\":\"#506784\",\"ticks\":\"\"}},\"scene\":{\"xaxis\":{\"backgroundcolor\":\"rgb(17,17,17)\",\"gridcolor\":\"#506784\",\"gridwidth\":2,\"linecolor\":\"#506784\",\"showbackground\":true,\"ticks\":\"\",\"zerolinecolor\":\"#C8D4E3\"},\"yaxis\":{\"backgroundcolor\":\"rgb(17,17,17)\",\"gridcolor\":\"#506784\",\"gridwidth\":2,\"linecolor\":\"#506784\",\"showbackground\":true,\"ticks\":\"\",\"zerolinecolor\":\"#C8D4E3\"},\"zaxis\":{\"backgroundcolor\":\"rgb(17,17,17)\",\"gridcolor\":\"#506784\",\"gridwidth\":2,\"linecolor\":\"#506784\",\"showbackground\":true,\"ticks\":\"\",\"zerolinecolor\":\"#C8D4E3\"}},\"shapedefaults\":{\"line\":{\"color\":\"#f2f5fa\"}},\"sliderdefaults\":{\"bgcolor\":\"#C8D4E3\",\"bordercolor\":\"rgb(17,17,17)\",\"borderwidth\":1,\"tickwidth\":0},\"ternary\":{\"aaxis\":{\"gridcolor\":\"#506784\",\"linecolor\":\"#506784\",\"ticks\":\"\"},\"baxis\":{\"gridcolor\":\"#506784\",\"linecolor\":\"#506784\",\"ticks\":\"\"},\"bgcolor\":\"rgb(17,17,17)\",\"caxis\":{\"gridcolor\":\"#506784\",\"linecolor\":\"#506784\",\"ticks\":\"\"}},\"title\":{\"x\":0.05},\"updatemenudefaults\":{\"bgcolor\":\"#506784\",\"borderwidth\":0},\"xaxis\":{\"automargin\":true,\"gridcolor\":\"#283442\",\"linecolor\":\"#506784\",\"ticks\":\"\",\"title\":{\"standoff\":15},\"zerolinecolor\":\"#283442\",\"zerolinewidth\":2},\"yaxis\":{\"automargin\":true,\"gridcolor\":\"#283442\",\"linecolor\":\"#506784\",\"ticks\":\"\",\"title\":{\"standoff\":15},\"zerolinecolor\":\"#283442\",\"zerolinewidth\":2}}},\"title\":{\"text\":\"Тренировочные и тестовые данные\"},\"width\":1200,\"height\":600},                        {\"responsive\": true}                    ).then(function(){\n",
              "                            \n",
              "var gd = document.getElementById('69c79eac-5007-485e-abac-d73cd6faee8c');\n",
              "var x = new MutationObserver(function (mutations, observer) {{\n",
              "        var display = window.getComputedStyle(gd).display;\n",
              "        if (!display || display === 'none') {{\n",
              "            console.log([gd, 'removed!']);\n",
              "            Plotly.purge(gd);\n",
              "            observer.disconnect();\n",
              "        }}\n",
              "}});\n",
              "\n",
              "// Listen for the removal of the full notebook cells\n",
              "var notebookContainer = gd.closest('#notebook-container');\n",
              "if (notebookContainer) {{\n",
              "    x.observe(notebookContainer, {childList: true});\n",
              "}}\n",
              "\n",
              "// Listen for the clearing of the current output cell\n",
              "var outputEl = gd.closest('.output');\n",
              "if (outputEl) {{\n",
              "    x.observe(outputEl, {childList: true});\n",
              "}}\n",
              "\n",
              "                        })                };                            </script>        </div>\n",
              "</body>\n",
              "</html>"
            ]
          },
          "metadata": {}
        }
      ]
    },
    {
      "cell_type": "markdown",
      "source": [
        "График демонстрирует, что тестовые данные хорошо охватывают тренировочную область, что важно для надёжной оценки модели. Явных проблем с несоответствием распределений или выбросами не наблюдается."
      ],
      "metadata": {
        "id": "SagDLv33I9Wk"
      }
    },
    {
      "cell_type": "markdown",
      "source": [
        "## Инициализация весов"
      ],
      "metadata": {
        "id": "oIQrEVTrJ2kn"
      }
    },
    {
      "cell_type": "code",
      "source": [
        "def init_weights(W_shape, add_bias = True, random_state = 42):\n",
        "    \"\"\"Генерация весов\n",
        "    Входные переменные:\n",
        "    ===========\n",
        "    W_shape: сколько весов надо (количество признаков)\n",
        "    add_bias: учитываем смещение или нет\n",
        "    random_state: фиксированный сид случайных чисел (для повторяемости)\n",
        "    \"\"\"\n",
        "    W_shape = np.atleast_1d(W_shape) # убеждаемся что данные - одномерный массив\n",
        "    if random_state:  # фиксируем случайный seed\n",
        "        np.random.seed(random_state)\n",
        "    W = np.random.randn(*list(W_shape))/np.sqrt(np.sum(W_shape))   # генерируем случайные числа с нулевым средним и дисперсией как корень из размерности весов\n",
        "    if add_bias: # если учитываем смещение\n",
        "        W = np.hstack((0,W )) # добавляем 0 в наш вектор весов\n",
        "    return W.squeeze()"
      ],
      "metadata": {
        "id": "bB6aGodaIECr"
      },
      "execution_count": null,
      "outputs": []
    },
    {
      "cell_type": "markdown",
      "source": [
        "Далее запустим функцию для разных значений длин вектора весов."
      ],
      "metadata": {
        "id": "s46-cI_QK8Fl"
      }
    },
    {
      "cell_type": "code",
      "source": [
        "init_weights(1)"
      ],
      "metadata": {
        "colab": {
          "base_uri": "https://localhost:8080/"
        },
        "id": "RWUCZ7mtK4nf",
        "outputId": "daeeae37-a5af-418a-ad0a-43ae1f012d36"
      },
      "execution_count": null,
      "outputs": [
        {
          "output_type": "execute_result",
          "data": {
            "text/plain": [
              "array([0.        , 0.49671415])"
            ]
          },
          "metadata": {},
          "execution_count": 397
        }
      ]
    },
    {
      "cell_type": "code",
      "source": [
        "init_weights(3)"
      ],
      "metadata": {
        "colab": {
          "base_uri": "https://localhost:8080/"
        },
        "id": "_b-i8hxrLF_8",
        "outputId": "e5d61a6b-3db6-4ec9-9cf4-50e90d7f12e0"
      },
      "execution_count": null,
      "outputs": [
        {
          "output_type": "execute_result",
          "data": {
            "text/plain": [
              "array([ 0.        ,  0.28677805, -0.07982693,  0.37394315])"
            ]
          },
          "metadata": {},
          "execution_count": 398
        }
      ]
    },
    {
      "cell_type": "code",
      "source": [
        "init_weights(6)"
      ],
      "metadata": {
        "colab": {
          "base_uri": "https://localhost:8080/"
        },
        "id": "T1pIY2JxLH3P",
        "outputId": "94700e46-4535-4bb8-bb68-aac36e056090"
      },
      "execution_count": null,
      "outputs": [
        {
          "output_type": "execute_result",
          "data": {
            "text/plain": [
              "array([ 0.        ,  0.2027827 , -0.05644616,  0.26441774,  0.62177434,\n",
              "       -0.09559271, -0.09558601])"
            ]
          },
          "metadata": {},
          "execution_count": 399
        }
      ]
    },
    {
      "cell_type": "code",
      "source": [
        "init_weights(10)"
      ],
      "metadata": {
        "colab": {
          "base_uri": "https://localhost:8080/"
        },
        "id": "doV6bQRaLI63",
        "outputId": "a7cc51fb-b9dc-42fa-e21a-13653437be06"
      },
      "execution_count": null,
      "outputs": [
        {
          "output_type": "execute_result",
          "data": {
            "text/plain": [
              "array([ 0.        ,  0.15707481, -0.04372301,  0.2048171 ,  0.48162433,\n",
              "       -0.0740458 , -0.07404061,  0.49939094,  0.24268417, -0.14846084,\n",
              "        0.17157255])"
            ]
          },
          "metadata": {},
          "execution_count": 400
        }
      ]
    },
    {
      "cell_type": "code",
      "source": [
        "# Генерация большого количества весов, например 10000\n",
        "weights = init_weights(10000)\n",
        "\n",
        "# Визуализация гистограммы\n",
        "plt.figure(figsize=(8,5))\n",
        "plt.hist(weights, bins=50, color='red', edgecolor='black')\n",
        "plt.title('Гистограмма распределения функции весововых параметров')\n",
        "plt.xlabel('Значение веса')\n",
        "plt.ylabel('Количество')\n",
        "plt.grid(True)\n",
        "plt.show()\n"
      ],
      "metadata": {
        "colab": {
          "base_uri": "https://localhost:8080/",
          "height": 487
        },
        "id": "x8pmxQBHLKnL",
        "outputId": "0507a39b-2082-46e6-83e6-80cd410935d2"
      },
      "execution_count": null,
      "outputs": [
        {
          "output_type": "display_data",
          "data": {
            "text/plain": [
              "<Figure size 800x500 with 1 Axes>"
            ],
            "image/png": "[encoded data removed]"
          },
          "metadata": {}
        }
      ]
    },
    {
      "cell_type": "markdown",
      "source": [
        "- Функции весовых параметров сгенерированы с использованием нормального распределения с нулевым средним и дисперсией, скорректированной на размерность весов (деление на корень суммы размерностей).\n",
        "- Из-за этого веса имеют форму нормального распределения (колоколообразная кривая), центрированную около нуля.\n",
        "- Добавлен элемент смещения (0) в начале массива, он обычно выделяется отдельным значением, но при большом числе весов не влияет на общую форму распределения."
      ],
      "metadata": {
        "id": "IeqteEsaL_6w"
      }
    },
    {
      "cell_type": "markdown",
      "source": [
        "## Предсказание"
      ],
      "metadata": {
        "id": "2IZ83lTnNGEW"
      }
    },
    {
      "cell_type": "markdown",
      "source": [
        "Запишем функции предсказания и расчета значений функции потерь.\n",
        "\n",
        " Отметим, что для учета смещения будет добавляться единичный столбец к входным данным."
      ],
      "metadata": {
        "id": "d7lXC19wNRFC"
      }
    },
    {
      "cell_type": "code",
      "source": [
        "def predict( X, W, add_bias = True):\n",
        "    \"\"\"Предсказание линейной модели\n",
        "    Входные переменные:\n",
        "    ===========\n",
        "    X: признаки\n",
        "    W: вектор весов\n",
        "    add_bias: учитываем смещение или нет\n",
        "    \"\"\"\n",
        "    if add_bias: # если учитываем смещение\n",
        "        X_full = np.column_stack((np.ones(X.shape[0]),X)) # добавляем единички по количеству точек данных\n",
        "    else:\n",
        "        X_full = X # иначе ничего не делаем\n",
        "    return  np.dot(X_full,W) # предсказание как матричное перемножение признаков на веса"
      ],
      "metadata": {
        "id": "G4-tpABCL2Cb"
      },
      "execution_count": null,
      "outputs": []
    },
    {
      "cell_type": "markdown",
      "source": [
        "Проверка правильности работы функции.\n",
        "\n",
        "Зададим веса и значение признака."
      ],
      "metadata": {
        "id": "YiefWyoONm8F"
      }
    },
    {
      "cell_type": "code",
      "source": [
        "w = np.array([-5, 2])\n",
        "x_ = np.array([0,1,2,5])"
      ],
      "metadata": {
        "id": "Y62YqEIxNgz1"
      },
      "execution_count": null,
      "outputs": []
    },
    {
      "cell_type": "markdown",
      "source": [
        "Проверим, что всё будет работать корректно на двумерном массиве\n",
        "\n",
        "Для этого:\n",
        "1. добавим еще 1 значение в вектор весов\n",
        "2. по другому определим признаки"
      ],
      "metadata": {
        "id": "I8C8UwXgN2l4"
      }
    },
    {
      "cell_type": "code",
      "source": [
        "w = init_weights(2)\n",
        "w"
      ],
      "metadata": {
        "colab": {
          "base_uri": "https://localhost:8080/"
        },
        "id": "GEm3uMnuNzSn",
        "outputId": "0a3996f3-9be3-4ece-e2d6-8c8388d835db"
      },
      "execution_count": null,
      "outputs": [
        {
          "output_type": "execute_result",
          "data": {
            "text/plain": [
              "array([ 0.        ,  0.35122995, -0.09776762])"
            ]
          },
          "metadata": {},
          "execution_count": 404
        }
      ]
    },
    {
      "cell_type": "code",
      "source": [
        "x_ = np.random.randn(5,2)\n",
        "x_"
      ],
      "metadata": {
        "colab": {
          "base_uri": "https://localhost:8080/"
        },
        "id": "xGgJpGjfOAY3",
        "outputId": "1095c951-d689-48d1-aed7-027fc2db928e"
      },
      "execution_count": null,
      "outputs": [
        {
          "output_type": "execute_result",
          "data": {
            "text/plain": [
              "array([[ 0.64768854,  1.52302986],\n",
              "       [-0.23415337, -0.23413696],\n",
              "       [ 1.57921282,  0.76743473],\n",
              "       [-0.46947439,  0.54256004],\n",
              "       [-0.46341769, -0.46572975]])"
            ]
          },
          "metadata": {},
          "execution_count": 405
        }
      ]
    },
    {
      "cell_type": "code",
      "source": [
        "predict( x_, w )"
      ],
      "metadata": {
        "colab": {
          "base_uri": "https://localhost:8080/"
        },
        "id": "Cs9UF94GOED3",
        "outputId": "e2bcb3f6-9eab-48d6-c7dd-70a67df94e48"
      },
      "execution_count": null,
      "outputs": [
        {
          "output_type": "execute_result",
          "data": {
            "text/plain": [
              "array([ 0.0785846 , -0.05935066,  0.47963656, -0.21793827, -0.11723288])"
            ]
          },
          "metadata": {},
          "execution_count": 406
        }
      ]
    },
    {
      "cell_type": "markdown",
      "source": [
        "Реализация предсказания модели на трех мерном массиве"
      ],
      "metadata": {
        "id": "NfQsXF-8PZhJ"
      }
    },
    {
      "cell_type": "code",
      "source": [
        "def predict_3d(X, W, add_bias=True):\n",
        "    \"\"\"\n",
        "    Предсказание для линейной модели на 3-мерном массиве.\n",
        "\n",
        "    Вход:\n",
        "    X - ndarray с размерностью (N, M, K), где\n",
        "        N - количество объектов (примеров),\n",
        "        M и K - признаки,\n",
        "    W - вектор весов длиной M*K (+1, если add_bias=True),\n",
        "    add_bias - учитывать ли смещение, по умолчанию True.\n",
        "\n",
        "    Выход:\n",
        "    ndarray с предсказаниями для каждого из N объектов.\n",
        "    \"\"\"\n",
        "    assert X.ndim == 3, \"Входной массив должен быть трехмерным\"\n",
        "\n",
        "    N = X.shape[0]\n",
        "    # Преобразуем каждый объект в вектор признаков\n",
        "    X_full = X.reshape(N, -1)\n",
        "\n",
        "    if add_bias:\n",
        "        # Добавляем столбец единиц для смещения\n",
        "        X_full = np.column_stack((np.ones(N), X_full))\n",
        "\n",
        "    W_flat = W.reshape(-1)\n",
        "\n",
        "    # Проверяем, что длина весов соответствует числу признаков + bias\n",
        "    assert W_flat.shape[0] == X_full.shape[1], \"Размер весов не соответствует размеру признаков\"\n",
        "\n",
        "    # Предсказание как матричное умножение\n",
        "    y_pred = np.dot(X_full, W_flat)\n",
        "\n",
        "    return y_pred\n",
        "\n",
        "# Пример использования\n",
        "X_3d = np.random.randn(5, 2, 3)  # 5 объектов, каждый с 2x3 признаками\n",
        "W_3d = np.random.randn(2*3 + 1)  # веса с учётом смещения\n",
        "\n",
        "preds = predict_3d(X_3d, W_3d)\n",
        "print(preds)"
      ],
      "metadata": {
        "colab": {
          "base_uri": "https://localhost:8080/"
        },
        "id": "TbfHYYFcOGRp",
        "outputId": "c174b292-8b67-4943-d4d5-3d8c011b062a"
      },
      "execution_count": null,
      "outputs": [
        {
          "output_type": "stream",
          "name": "stdout",
          "text": [
            "[ 3.17830129  0.87666177 -0.19543895 -1.72614136  4.42381732]\n"
          ]
        }
      ]
    },
    {
      "cell_type": "markdown",
      "source": [
        "- Реализуется 3-мерный массив.\n",
        "- Сворачивание всех признаков во второй и третьей оси в единый вектор.\n",
        "- Добавление единиц для смещения (если add_bias=True).\n",
        "- Проверка согласованности размеров весов и признаков.\n",
        "- Возвращается одномерный массив предсказаний для каждого объекта."
      ],
      "metadata": {
        "id": "9xPeDmcHSQku"
      }
    },
    {
      "cell_type": "markdown",
      "source": [
        "## Функция потерь"
      ],
      "metadata": {
        "id": "IP_2ahl4ScjL"
      }
    },
    {
      "cell_type": "code",
      "source": [
        "def loss_func(yhat, y):\n",
        "    \"\"\"функция потерь\n",
        "    Входные переменные:\n",
        "    ===========\n",
        "    yhat: предсказание модели\n",
        "    y: реальные значения\n",
        "    \"\"\"\n",
        "    return np.square(yhat - y)\n",
        "    # функция потерь как квадрат разности предсказаний и реальных значений"
      ],
      "metadata": {
        "id": "nCUFr0ApQAS_"
      },
      "execution_count": null,
      "outputs": []
    },
    {
      "cell_type": "markdown",
      "source": [
        "Проведем проверку функции потерь на большом диапазоне данных\n",
        "\n",
        "Посмотрим на график того как меняется функция потерь в зависимости от отклонения (мультипликативного) оценки результата от его истинного значения."
      ],
      "metadata": {
        "id": "YnpdUZh9Siz_"
      }
    },
    {
      "cell_type": "code",
      "source": [
        "decline = np.linspace(start = 0.5, stop = 1.5,num = 25) # созданим вектор \"пропорций\" от 50% до 150%\n",
        "yhat = decline* 1 # на примере 1 точке\n",
        "loss = loss_func(yhat, 1) # посчитаем функцию потерь\n",
        "plt.plot(decline,loss,'-o', mfc = 'none'); plt.grid();  # визуализируем"
      ],
      "metadata": {
        "colab": {
          "base_uri": "https://localhost:8080/",
          "height": 430
        },
        "id": "3200k-F2SgUh",
        "outputId": "0f4439da-16f0-4fc6-926f-6b547ac4e62b"
      },
      "execution_count": null,
      "outputs": [
        {
          "output_type": "display_data",
          "data": {
            "text/plain": [
              "<Figure size 640x480 with 1 Axes>"
            ],
            "image/png": "[encoded data removed]"
          },
          "metadata": {}
        }
      ]
    },
    {
      "cell_type": "markdown",
      "source": [
        "Получается парабола и чем дальше от исходной точки - тем больше"
      ],
      "metadata": {
        "id": "WtGaPA2iSvpG"
      }
    },
    {
      "cell_type": "markdown",
      "source": [
        "## Градиент функции потерь"
      ],
      "metadata": {
        "id": "WBcaleSQTNMH"
      }
    },
    {
      "cell_type": "code",
      "source": [
        "def grad_loss(y_hat, y, X, add_bias = True):\n",
        "    \"\"\"Оценим градиент функции потерь\n",
        "    Входные переменные:\n",
        "    ===========\n",
        "    yhat: предсказание модели\n",
        "    y: реальные значения\n",
        "    X: признаки\n",
        "    add_bias: учитываем смещение или нет\n",
        "    \"\"\"\n",
        "    if add_bias: # если учитываем смещение\n",
        "        X_full = np.column_stack((np.ones(X.shape[0]),X)) # добавляем единички по количеству точек данных\n",
        "    else:\n",
        "        X_full = X # иначе ничего не делаем\n",
        "\n",
        "    return 2*np.dot(X_full.T, (y_hat - y)) / y.size  # градиент функции потерь как среднее от матричного умножения признаков на разницу предсказание-реальное"
      ],
      "metadata": {
        "id": "tlBLaikESrhz"
      },
      "execution_count": null,
      "outputs": []
    },
    {
      "cell_type": "markdown",
      "metadata": {
        "id": "OREgnQ5BbNaV"
      },
      "source": [
        "Проведем расчет градиента ошибки\n",
        "\n",
        "Если предсказание меньше реального значения, то градиент будет отрицательный"
      ]
    },
    {
      "cell_type": "code",
      "source": [
        "grad_loss(np.array([1]), # предсказание\n",
        "          np.array([2]), # реальное значение\n",
        "          np.array([2])  # признак\n",
        "          )"
      ],
      "metadata": {
        "colab": {
          "base_uri": "https://localhost:8080/"
        },
        "id": "KBRwa_uzXax9",
        "outputId": "1fb7d424-a589-4124-c3ca-96bd25091022"
      },
      "execution_count": null,
      "outputs": [
        {
          "output_type": "execute_result",
          "data": {
            "text/plain": [
              "array([-2., -4.])"
            ]
          },
          "metadata": {},
          "execution_count": 411
        }
      ]
    },
    {
      "cell_type": "markdown",
      "source": [
        "Если предсказание меньше реального значения, то градиент будет положительный"
      ],
      "metadata": {
        "id": "HoaedSJGYjIi"
      }
    },
    {
      "cell_type": "code",
      "source": [
        "grad_loss(np.array([2]), # предсказание\n",
        "          np.array([1]), # реальное значение\n",
        "          np.array([2])  # признак\n",
        "          )"
      ],
      "metadata": {
        "colab": {
          "base_uri": "https://localhost:8080/"
        },
        "id": "iV3pKi2VYU-f",
        "outputId": "fb42c08d-6b39-4d3a-ba28-c3b5c958ae36"
      },
      "execution_count": null,
      "outputs": [
        {
          "output_type": "execute_result",
          "data": {
            "text/plain": [
              "array([2., 4.])"
            ]
          },
          "metadata": {},
          "execution_count": 412
        }
      ]
    },
    {
      "cell_type": "markdown",
      "source": [
        "Зависит от того каких отклонений больше у градиента"
      ],
      "metadata": {
        "id": "l4wvI2qAbWot"
      }
    },
    {
      "cell_type": "code",
      "source": [
        "grad_loss(np.array([2, 1.5]),# предсказание\n",
        "          np.array([1, 2]),  # реальное значение\n",
        "          np.array([0.5, 3])   # признак\n",
        "          )"
      ],
      "metadata": {
        "colab": {
          "base_uri": "https://localhost:8080/"
        },
        "id": "lJUptzxza7LT",
        "outputId": "c57b383f-2ad0-4eb6-fbc2-e902c9bdd7cc"
      },
      "execution_count": null,
      "outputs": [
        {
          "output_type": "execute_result",
          "data": {
            "text/plain": [
              "array([ 0.5, -1. ])"
            ]
          },
          "metadata": {},
          "execution_count": 413
        }
      ]
    },
    {
      "cell_type": "markdown",
      "source": [
        "Градиент положительный"
      ],
      "metadata": {
        "id": "zz34cwYLUaZ9"
      }
    },
    {
      "cell_type": "code",
      "source": [
        "grad_loss(np.array([2, 3]),# предсказание\n",
        "          np.array([0, 2]),  # реальное значение\n",
        "          np.array([0.5, 1])   # признак\n",
        "          )"
      ],
      "metadata": {
        "colab": {
          "base_uri": "https://localhost:8080/"
        },
        "outputId": "c86da8be-14ba-428a-d0b0-9da80aa45318",
        "id": "LRlK7a7mUR-C"
      },
      "execution_count": null,
      "outputs": [
        {
          "output_type": "execute_result",
          "data": {
            "text/plain": [
              "array([3., 2.])"
            ]
          },
          "metadata": {},
          "execution_count": 414
        }
      ]
    },
    {
      "cell_type": "markdown",
      "source": [
        "## Обновление весов"
      ],
      "metadata": {
        "id": "12ssMDpqVabF"
      }
    },
    {
      "cell_type": "code",
      "execution_count": null,
      "metadata": {
        "id": "sUyyHcz-bNaW"
      },
      "outputs": [],
      "source": [
        "def update_weights(grad, W, learning_rate):\n",
        "    \"\"\"Обновим веса\n",
        "    Входные переменные:\n",
        "    ===========\n",
        "    grad: значение градиента\n",
        "    W: веса\n",
        "    learning_rate: скорость обучения\n",
        "    \"\"\"\n",
        "    return W - learning_rate*grad # просто из старых весов вычитаем градиент помноженный на скорость обучения"
      ]
    },
    {
      "cell_type": "markdown",
      "source": [
        "Протестируем полученные веса"
      ],
      "metadata": {
        "id": "s-Lb37jGa00E"
      }
    },
    {
      "cell_type": "code",
      "source": [
        "update_weights(np.array([6]), # градиент\n",
        "               np.array([12]), # текущие веса\n",
        "               0.5)"
      ],
      "metadata": {
        "colab": {
          "base_uri": "https://localhost:8080/"
        },
        "id": "ROfr3svua1ZQ",
        "outputId": "70446cb6-369d-4996-be11-ac115ab1b2a8"
      },
      "execution_count": null,
      "outputs": [
        {
          "output_type": "execute_result",
          "data": {
            "text/plain": [
              "array([9.])"
            ]
          },
          "metadata": {},
          "execution_count": 416
        }
      ]
    },
    {
      "cell_type": "markdown",
      "source": [
        "В зависимости от знака градиента будут или увеличиваться, или уменьшаться веса"
      ],
      "metadata": {
        "id": "FvlwT8J9e-Fl"
      }
    },
    {
      "cell_type": "code",
      "source": [
        "update_weights(np.array([7, -7]), # градиент\n",
        "               np.array([15, 15]), # текущие веса\n",
        "               0.1)"
      ],
      "metadata": {
        "colab": {
          "base_uri": "https://localhost:8080/"
        },
        "id": "nZ2rzWlzew0i",
        "outputId": "232c9e2e-609b-403d-ac94-dbd52ed299e3"
      },
      "execution_count": null,
      "outputs": [
        {
          "output_type": "execute_result",
          "data": {
            "text/plain": [
              "array([14.3, 15.7])"
            ]
          },
          "metadata": {},
          "execution_count": 417
        }
      ]
    },
    {
      "cell_type": "markdown",
      "metadata": {
        "id": "ytsRzxtfbNaU"
      },
      "source": [
        "Протестируем функции вместе на \"реальных\" данных"
      ]
    },
    {
      "cell_type": "code",
      "execution_count": null,
      "metadata": {
        "colab": {
          "base_uri": "https://localhost:8080/"
        },
        "id": "vh9RQ2f0bNaU",
        "outputId": "c576379e-f8b1-4a71-a43f-fef59808942a"
      },
      "outputs": [
        {
          "output_type": "stream",
          "name": "stdout",
          "text": [
            "Веса [0.         0.49671415]\n",
            "Первая точка-признак [0.80839735],\n",
            " Предсказание [0.4015424],\n",
            " Реальное значение -0.913266967572303,\n",
            " Функция потерь: [1.72872368]\n",
            "Градиент [2.62961874 2.12577682]\n",
            "После обновления\n",
            "Веса [-0.26296187  0.28413647]\n",
            "Первая точка-признак [0.80839735],\n",
            " Предсказание [-0.0332667],\n",
            " Реальное значение -0.913266967572303,\n",
            " Функция потерь: [0.77440046]\n"
          ]
        }
      ],
      "source": [
        "weights = init_weights(x_train.shape[1]) # генерируем веса\n",
        "yhat = predict( x_train[0],weights) # делаем предсказание на 1 точке\n",
        "loss = loss_func(yhat, y_train[0]) # посчитаем функцию потерь\n",
        "\n",
        "print(f'Веса {weights}')\n",
        "\n",
        "print(f'Первая точка-признак {x_train[0]},\\n Предсказание {yhat},\\n Реальное значение {y_train[0]},\\n Функция потерь: {loss}')\n",
        "\n",
        "grad = grad_loss(yhat, y_train[0], x_train[0]) # делаем оценку градиента функции потерь\n",
        "\n",
        "print(f'Градиент {grad}')\n",
        "\n",
        "# теперь проведем обновление весовых параметров\n",
        "laerning_rate = 0.1\n",
        "weights = update_weights(grad, weights, laerning_rate)\n",
        "\n",
        "print('После обновления')\n",
        "\n",
        "yhat = predict( x_train[0],weights)\n",
        "loss = loss_func(yhat, y_train[0])\n",
        "\n",
        "print(f'Веса {weights}')\n",
        "\n",
        "print(f'Первая точка-признак {x_train[0]},\\n Предсказание {yhat},\\n Реальное значение {y_train[0]},\\n Функция потерь: {loss}')"
      ]
    },
    {
      "cell_type": "markdown",
      "source": [
        "Функция потерь уменьшается, то есть теория в целом пока работает\n",
        "\n",
        "Необходимо подготовить функцию"
      ],
      "metadata": {
        "id": "HkQ60Xx3ySTi"
      }
    },
    {
      "cell_type": "markdown",
      "source": [
        "## Сбор градиентного спуска для регрессии в одну функцию"
      ],
      "metadata": {
        "id": "fSkM9AhPVsU5"
      }
    },
    {
      "cell_type": "code",
      "execution_count": null,
      "metadata": {
        "id": "kPuYzZCybNaX"
      },
      "outputs": [],
      "source": [
        "def fit(X, y, learning_rate, weights = None,  epochs=30):\n",
        "    \"\"\"Обучение модели.\n",
        "    Входные переменные:\n",
        "    ===========\n",
        "    X: признаки\n",
        "    y: реальные значения\n",
        "    learning_rate: скорость обучения\n",
        "    weights: веса\n",
        "    epochs: количество эпох обучения\n",
        "    \"\"\"\n",
        "\n",
        "    if weights is None: weights = init_weights(X.shape[1]) # если веса не заданы - генерируем веса случайно\n",
        "    # если хотим продолжать обучение\n",
        "\n",
        "    cost = np.zeros(epochs) # создадим массив из нулей\n",
        "\n",
        "    for i in range(epochs): # цикл по количеству эпох\n",
        "    # на каждом шаге\n",
        "        yhat    = predict(X,weights) # делаем предсказание\n",
        "        grad    = grad_loss(yhat,  y, X)  # считаем производную функции потерь\n",
        "        weights = update_weights(grad, weights, learning_rate)  # обновляем веса\n",
        "        cost[i] = loss_func(yhat,  y).mean() # фиксируем среднее значение функции потерь. на память. потому что можем\n",
        "\n",
        "    return weights, cost # возвращаем итоговые веса (после epochs шагов обновлений) и график функции потерь. потому что нам интересно"
      ]
    },
    {
      "cell_type": "markdown",
      "metadata": {
        "id": "Cvn_Wm-AbNaX"
      },
      "source": [
        "Протестируем обучение"
      ]
    },
    {
      "cell_type": "code",
      "execution_count": null,
      "metadata": {
        "id": "kVCNZlaVbNaX"
      },
      "outputs": [],
      "source": [
        "weights, cost = fit(x_train, y_train, learning_rate=0.05, epochs=200)"
      ]
    },
    {
      "cell_type": "code",
      "source": [
        "def plot_cost(cost):\n",
        "    \"\"\"Отрисовка функции потерь.\n",
        "    Входные переменные:\n",
        "    ===========\n",
        "    cost: функция потерь\n",
        "    \"\"\"\n",
        "    fig = go.Figure()\n",
        "        # рисуем с помощью библиотеки plotly\n",
        "    fig.add_trace(\n",
        "            go.Scatter(\n",
        "            y=cost,\n",
        "            mode='lines+markers',\n",
        "            name='Реальные данные',\n",
        "\n",
        "            )\n",
        "        )\n",
        "    fig.update_layout(\n",
        "                title=\"Кривая обучения\",\n",
        "                width=1200,\n",
        "                height=600,\n",
        "            template = \"plotly_dark\"\n",
        "                )\n",
        "\n",
        "    fig.show()"
      ],
      "metadata": {
        "id": "HD_1i3YvFC15"
      },
      "execution_count": null,
      "outputs": []
    },
    {
      "cell_type": "code",
      "source": [
        "plot_cost(cost);"
      ],
      "metadata": {
        "colab": {
          "base_uri": "https://localhost:8080/",
          "height": 617
        },
        "id": "zAMYaslOEbPR",
        "outputId": "57496849-2175-4d29-e613-ef710d270ae0"
      },
      "execution_count": null,
      "outputs": [
        {
          "output_type": "display_data",
          "data": {
            "text/html": [
              "<html>\n",
              "<head><meta charset=\"utf-8\" /></head>\n",
              "<body>\n",
              "    <div>            <script src=\"https://cdnjs.cloudflare.com/ajax/libs/mathjax/2.7.5/MathJax.js?config=TeX-AMS-MML_SVG\"></script><script type=\"text/javascript\">if (window.MathJax && window.MathJax.Hub && window.MathJax.Hub.Config) {window.MathJax.Hub.Config({SVG: {font: \"STIX-Web\"}});}</script>                <script type=\"text/javascript\">window.PlotlyConfig = {MathJaxConfig: 'local'};</script>\n",
              "        <script charset=\"utf-8\" src=\"https://cdn.plot.ly/plotly-2.35.2.min.js\"></script>                <div id=\"c7f7db3e-1a5b-4b2c-84ae-81138c22aac4\" class=\"plotly-graph-div\" style=\"height:600px; width:1200px;\"></div>            <script type=\"text/javascript\">                                    window.PLOTLYENV=window.PLOTLYENV || {};                                    if (document.getElementById(\"c7f7db3e-1a5b-4b2c-84ae-81138c22aac4\")) {                    Plotly.newPlot(                        \"c7f7db3e-1a5b-4b2c-84ae-81138c22aac4\",                        [{\"mode\":\"lines+markers\",\"name\":\"Реальные данные\",\"y\":[1.243688870150233,0.9663779815046981,0.7520429809469066,0.5863750548583393,0.45831661366049276,0.3593225527860302,0.28278936902229845,0.22361399233591098,0.17785285938630882,0.14245845193500478,0.11507569867218408,0.09388463836859579,0.07747883291130436,0.06477140717866717,0.0549224384181164,0.047282844118988324,0.041351019612658906,0.03673932842264213,0.033148206634936415,0.030346151240318055,0.028154255499727096,0.026434258163766575,0.025079308132720392,0.024006827558050094,0.02315299658009404,0.02246849123580054,0.021915189792756386,0.021463627464893845,0.02109102946352635,0.02077979097508552,0.02051630251543856,0.020290042184758505,0.020092874178146057,0.0199185066868388,0.019762072973488223,0.019619807634058,0.019488796418169835,0.019366782894050097,0.019252019041929944,0.019143149794542683,0.019039123811313168,0.018939124525464635,0.018842516857667736,0.01874880603651157,0.0186576057749114,0.01856861367662037,0.018481592230041526,0.01839635411981214,0.0183127508750925,0.01823066409640874,0.01814999867516438,0.018070677553060025,0.017992637671535566,0.017915826840850097,0.01784020131985083,0.01776572394495943,0.017692362683593216,0.01762008951559167,0.017548879568129002,0.017478710446525596,0.017409561716456017,0.017341414503162636,0.017274251181098457,0.017208055133460787,0.017142810565744324,0.01707850236104833,0.017015115967659082,0.016952637311582912,0.01689105272836879,0.016830348909846016,0.016770512862396215,0.016711531874146864,0.016653393489067303,0.016596085486406658,0.016539595864267644,0.01648391282638423,0.016429024771382673,0.016374920283969106,0.016321588127613196,0.016269017238395307,0.016217196719759786,0.016166115837975503,0.016115764018150017,0.0160661308406782,0.016017206038033416,0.015968979491830095,0.015921441230102466,0.015874581424756857,0.015828390389164407,0.015782858575868607,0.015737976574387712,0.01569373510909651,0.015650125037175524,0.015607137346618047,0.015564763154287954,0.015522993704022202,0.015481820364773738,0.015441234628791116,0.015401228109832034,0.015361792541408402,0.015322919775061257,0.01528460177866389,0.015246830634752032,0.015209598538880069,0.01517289779800235,0.015136720828878942,0.01510106015650513,0.015065908412564083,0.015031258333902264,0.014997102761026967,0.014963434636625757,0.014930247004107255,0.014897533006162983,0.014865285883349857,0.014833498972693142,0.014802165706309314,0.014771279610048751,0.014740834302157786,0.01471082349195996,0.014681240978556092,0.014652080649542924,0.014623336479750103,0.014595002529995196,0.01456707294585644,0.014539541956463094,0.014512403873303012,0.01448565308904723,0.014459284076391379,0.014433291386913582,0.014407669649948709,0.014382413571478656,0.014357517933038468,0.01433297759063809,0.014308787473699522,0.014284942584009091,0.014261437994684736,0.014238268849157973,0.014215430360170464,0.014192917808784797,0.014170726543409517,0.01414885197883796,0.01412728959530086,0.014106034937532468,0.01408508361384999,0.014064431295246167,0.01404407371449481,0.014024006665269102,0.014004226001272456,0.013984727635381828,0.013965507538803204,0.013946561740239172,0.013927886325068356,0.013909477434536587,0.013891331264959575,0.013873444066937001,0.0138558121445778,0.013838431854736502,0.013821299606260504,0.013804411859248022,0.013787765124316695,0.01377135596188259,0.01375518098144952,0.013739236840908461,0.01372352024584705,0.013708027948868835,0.013692756748922322,0.013677703490639556,0.013662865063684155,0.01364823840210864,0.01363382048372096,0.013619608329460017,0.013605599002780131,0.013591789609044303,0.013578177294926101,0.0135647592478201,0.01355153269526075,0.0135384949043495,0.013525643181190145,0.013512974870332196,0.013500487354222197,0.01348817805266289,0.013476044422280106,0.013464083955997205,0.013452294182517099,0.013440672665811604,0.013429217004618115,0.013417924831943442,0.013406793814574753,0.013395821652597454,0.013385006078919993,0.013374344858805452,0.013363835789409738,0.013353476699326497,0.013343265448138401,0.013333199925974917,0.013323278053076355,0.013313497779364145,0.013303857084017233,0.013294353975054561,0.013284986488923449],\"type\":\"scatter\"}],                        {\"template\":{\"data\":{\"barpolar\":[{\"marker\":{\"line\":{\"color\":\"rgb(17,17,17)\",\"width\":0.5},\"pattern\":{\"fillmode\":\"overlay\",\"size\":10,\"solidity\":0.2}},\"type\":\"barpolar\"}],\"bar\":[{\"error_x\":{\"color\":\"#f2f5fa\"},\"error_y\":{\"color\":\"#f2f5fa\"},\"marker\":{\"line\":{\"color\":\"rgb(17,17,17)\",\"width\":0.5},\"pattern\":{\"fillmode\":\"overlay\",\"size\":10,\"solidity\":0.2}},\"type\":\"bar\"}],\"carpet\":[{\"aaxis\":{\"endlinecolor\":\"#A2B1C6\",\"gridcolor\":\"#506784\",\"linecolor\":\"#506784\",\"minorgridcolor\":\"#506784\",\"startlinecolor\":\"#A2B1C6\"},\"baxis\":{\"endlinecolor\":\"#A2B1C6\",\"gridcolor\":\"#506784\",\"linecolor\":\"#506784\",\"minorgridcolor\":\"#506784\",\"startlinecolor\":\"#A2B1C6\"},\"type\":\"carpet\"}],\"choropleth\":[{\"colorbar\":{\"outlinewidth\":0,\"ticks\":\"\"},\"type\":\"choropleth\"}],\"contourcarpet\":[{\"colorbar\":{\"outlinewidth\":0,\"ticks\":\"\"},\"type\":\"contourcarpet\"}],\"contour\":[{\"colorbar\":{\"outlinewidth\":0,\"ticks\":\"\"},\"colorscale\":[[0.0,\"#0d0887\"],[0.1111111111111111,\"#46039f\"],[0.2222222222222222,\"#7201a8\"],[0.3333333333333333,\"#9c179e\"],[0.4444444444444444,\"#bd3786\"],[0.5555555555555556,\"#d8576b\"],[0.6666666666666666,\"#ed7953\"],[0.7777777777777778,\"#fb9f3a\"],[0.8888888888888888,\"#fdca26\"],[1.0,\"#f0f921\"]],\"type\":\"contour\"}],\"heatmapgl\":[{\"colorbar\":{\"outlinewidth\":0,\"ticks\":\"\"},\"colorscale\":[[0.0,\"#0d0887\"],[0.1111111111111111,\"#46039f\"],[0.2222222222222222,\"#7201a8\"],[0.3333333333333333,\"#9c179e\"],[0.4444444444444444,\"#bd3786\"],[0.5555555555555556,\"#d8576b\"],[0.6666666666666666,\"#ed7953\"],[0.7777777777777778,\"#fb9f3a\"],[0.8888888888888888,\"#fdca26\"],[1.0,\"#f0f921\"]],\"type\":\"heatmapgl\"}],\"heatmap\":[{\"colorbar\":{\"outlinewidth\":0,\"ticks\":\"\"},\"colorscale\":[[0.0,\"#0d0887\"],[0.1111111111111111,\"#46039f\"],[0.2222222222222222,\"#7201a8\"],[0.3333333333333333,\"#9c179e\"],[0.4444444444444444,\"#bd3786\"],[0.5555555555555556,\"#d8576b\"],[0.6666666666666666,\"#ed7953\"],[0.7777777777777778,\"#fb9f3a\"],[0.8888888888888888,\"#fdca26\"],[1.0,\"#f0f921\"]],\"type\":\"heatmap\"}],\"histogram2dcontour\":[{\"colorbar\":{\"outlinewidth\":0,\"ticks\":\"\"},\"colorscale\":[[0.0,\"#0d0887\"],[0.1111111111111111,\"#46039f\"],[0.2222222222222222,\"#7201a8\"],[0.3333333333333333,\"#9c179e\"],[0.4444444444444444,\"#bd3786\"],[0.5555555555555556,\"#d8576b\"],[0.6666666666666666,\"#ed7953\"],[0.7777777777777778,\"#fb9f3a\"],[0.8888888888888888,\"#fdca26\"],[1.0,\"#f0f921\"]],\"type\":\"histogram2dcontour\"}],\"histogram2d\":[{\"colorbar\":{\"outlinewidth\":0,\"ticks\":\"\"},\"colorscale\":[[0.0,\"#0d0887\"],[0.1111111111111111,\"#46039f\"],[0.2222222222222222,\"#7201a8\"],[0.3333333333333333,\"#9c179e\"],[0.4444444444444444,\"#bd3786\"],[0.5555555555555556,\"#d8576b\"],[0.6666666666666666,\"#ed7953\"],[0.7777777777777778,\"#fb9f3a\"],[0.8888888888888888,\"#fdca26\"],[1.0,\"#f0f921\"]],\"type\":\"histogram2d\"}],\"histogram\":[{\"marker\":{\"pattern\":{\"fillmode\":\"overlay\",\"size\":10,\"solidity\":0.2}},\"type\":\"histogram\"}],\"mesh3d\":[{\"colorbar\":{\"outlinewidth\":0,\"ticks\":\"\"},\"type\":\"mesh3d\"}],\"parcoords\":[{\"line\":{\"colorbar\":{\"outlinewidth\":0,\"ticks\":\"\"}},\"type\":\"parcoords\"}],\"pie\":[{\"automargin\":true,\"type\":\"pie\"}],\"scatter3d\":[{\"line\":{\"colorbar\":{\"outlinewidth\":0,\"ticks\":\"\"}},\"marker\":{\"colorbar\":{\"outlinewidth\":0,\"ticks\":\"\"}},\"type\":\"scatter3d\"}],\"scattercarpet\":[{\"marker\":{\"colorbar\":{\"outlinewidth\":0,\"ticks\":\"\"}},\"type\":\"scattercarpet\"}],\"scattergeo\":[{\"marker\":{\"colorbar\":{\"outlinewidth\":0,\"ticks\":\"\"}},\"type\":\"scattergeo\"}],\"scattergl\":[{\"marker\":{\"line\":{\"color\":\"#283442\"}},\"type\":\"scattergl\"}],\"scattermapbox\":[{\"marker\":{\"colorbar\":{\"outlinewidth\":0,\"ticks\":\"\"}},\"type\":\"scattermapbox\"}],\"scatterpolargl\":[{\"marker\":{\"colorbar\":{\"outlinewidth\":0,\"ticks\":\"\"}},\"type\":\"scatterpolargl\"}],\"scatterpolar\":[{\"marker\":{\"colorbar\":{\"outlinewidth\":0,\"ticks\":\"\"}},\"type\":\"scatterpolar\"}],\"scatter\":[{\"marker\":{\"line\":{\"color\":\"#283442\"}},\"type\":\"scatter\"}],\"scatterternary\":[{\"marker\":{\"colorbar\":{\"outlinewidth\":0,\"ticks\":\"\"}},\"type\":\"scatterternary\"}],\"surface\":[{\"colorbar\":{\"outlinewidth\":0,\"ticks\":\"\"},\"colorscale\":[[0.0,\"#0d0887\"],[0.1111111111111111,\"#46039f\"],[0.2222222222222222,\"#7201a8\"],[0.3333333333333333,\"#9c179e\"],[0.4444444444444444,\"#bd3786\"],[0.5555555555555556,\"#d8576b\"],[0.6666666666666666,\"#ed7953\"],[0.7777777777777778,\"#fb9f3a\"],[0.8888888888888888,\"#fdca26\"],[1.0,\"#f0f921\"]],\"type\":\"surface\"}],\"table\":[{\"cells\":{\"fill\":{\"color\":\"#506784\"},\"line\":{\"color\":\"rgb(17,17,17)\"}},\"header\":{\"fill\":{\"color\":\"#2a3f5f\"},\"line\":{\"color\":\"rgb(17,17,17)\"}},\"type\":\"table\"}]},\"layout\":{\"annotationdefaults\":{\"arrowcolor\":\"#f2f5fa\",\"arrowhead\":0,\"arrowwidth\":1},\"autotypenumbers\":\"strict\",\"coloraxis\":{\"colorbar\":{\"outlinewidth\":0,\"ticks\":\"\"}},\"colorscale\":{\"diverging\":[[0,\"#8e0152\"],[0.1,\"#c51b7d\"],[0.2,\"#de77ae\"],[0.3,\"#f1b6da\"],[0.4,\"#fde0ef\"],[0.5,\"#f7f7f7\"],[0.6,\"#e6f5d0\"],[0.7,\"#b8e186\"],[0.8,\"#7fbc41\"],[0.9,\"#4d9221\"],[1,\"#276419\"]],\"sequential\":[[0.0,\"#0d0887\"],[0.1111111111111111,\"#46039f\"],[0.2222222222222222,\"#7201a8\"],[0.3333333333333333,\"#9c179e\"],[0.4444444444444444,\"#bd3786\"],[0.5555555555555556,\"#d8576b\"],[0.6666666666666666,\"#ed7953\"],[0.7777777777777778,\"#fb9f3a\"],[0.8888888888888888,\"#fdca26\"],[1.0,\"#f0f921\"]],\"sequentialminus\":[[0.0,\"#0d0887\"],[0.1111111111111111,\"#46039f\"],[0.2222222222222222,\"#7201a8\"],[0.3333333333333333,\"#9c179e\"],[0.4444444444444444,\"#bd3786\"],[0.5555555555555556,\"#d8576b\"],[0.6666666666666666,\"#ed7953\"],[0.7777777777777778,\"#fb9f3a\"],[0.8888888888888888,\"#fdca26\"],[1.0,\"#f0f921\"]]},\"colorway\":[\"#636efa\",\"#EF553B\",\"#00cc96\",\"#ab63fa\",\"#FFA15A\",\"#19d3f3\",\"#FF6692\",\"#B6E880\",\"#FF97FF\",\"#FECB52\"],\"font\":{\"color\":\"#f2f5fa\"},\"geo\":{\"bgcolor\":\"rgb(17,17,17)\",\"lakecolor\":\"rgb(17,17,17)\",\"landcolor\":\"rgb(17,17,17)\",\"showlakes\":true,\"showland\":true,\"subunitcolor\":\"#506784\"},\"hoverlabel\":{\"align\":\"left\"},\"hovermode\":\"closest\",\"mapbox\":{\"style\":\"dark\"},\"paper_bgcolor\":\"rgb(17,17,17)\",\"plot_bgcolor\":\"rgb(17,17,17)\",\"polar\":{\"angularaxis\":{\"gridcolor\":\"#506784\",\"linecolor\":\"#506784\",\"ticks\":\"\"},\"bgcolor\":\"rgb(17,17,17)\",\"radialaxis\":{\"gridcolor\":\"#506784\",\"linecolor\":\"#506784\",\"ticks\":\"\"}},\"scene\":{\"xaxis\":{\"backgroundcolor\":\"rgb(17,17,17)\",\"gridcolor\":\"#506784\",\"gridwidth\":2,\"linecolor\":\"#506784\",\"showbackground\":true,\"ticks\":\"\",\"zerolinecolor\":\"#C8D4E3\"},\"yaxis\":{\"backgroundcolor\":\"rgb(17,17,17)\",\"gridcolor\":\"#506784\",\"gridwidth\":2,\"linecolor\":\"#506784\",\"showbackground\":true,\"ticks\":\"\",\"zerolinecolor\":\"#C8D4E3\"},\"zaxis\":{\"backgroundcolor\":\"rgb(17,17,17)\",\"gridcolor\":\"#506784\",\"gridwidth\":2,\"linecolor\":\"#506784\",\"showbackground\":true,\"ticks\":\"\",\"zerolinecolor\":\"#C8D4E3\"}},\"shapedefaults\":{\"line\":{\"color\":\"#f2f5fa\"}},\"sliderdefaults\":{\"bgcolor\":\"#C8D4E3\",\"bordercolor\":\"rgb(17,17,17)\",\"borderwidth\":1,\"tickwidth\":0},\"ternary\":{\"aaxis\":{\"gridcolor\":\"#506784\",\"linecolor\":\"#506784\",\"ticks\":\"\"},\"baxis\":{\"gridcolor\":\"#506784\",\"linecolor\":\"#506784\",\"ticks\":\"\"},\"bgcolor\":\"rgb(17,17,17)\",\"caxis\":{\"gridcolor\":\"#506784\",\"linecolor\":\"#506784\",\"ticks\":\"\"}},\"title\":{\"x\":0.05},\"updatemenudefaults\":{\"bgcolor\":\"#506784\",\"borderwidth\":0},\"xaxis\":{\"automargin\":true,\"gridcolor\":\"#283442\",\"linecolor\":\"#506784\",\"ticks\":\"\",\"title\":{\"standoff\":15},\"zerolinecolor\":\"#283442\",\"zerolinewidth\":2},\"yaxis\":{\"automargin\":true,\"gridcolor\":\"#283442\",\"linecolor\":\"#506784\",\"ticks\":\"\",\"title\":{\"standoff\":15},\"zerolinecolor\":\"#283442\",\"zerolinewidth\":2}}},\"title\":{\"text\":\"Кривая обучения\"},\"width\":1200,\"height\":600},                        {\"responsive\": true}                    ).then(function(){\n",
              "                            \n",
              "var gd = document.getElementById('c7f7db3e-1a5b-4b2c-84ae-81138c22aac4');\n",
              "var x = new MutationObserver(function (mutations, observer) {{\n",
              "        var display = window.getComputedStyle(gd).display;\n",
              "        if (!display || display === 'none') {{\n",
              "            console.log([gd, 'removed!']);\n",
              "            Plotly.purge(gd);\n",
              "            observer.disconnect();\n",
              "        }}\n",
              "}});\n",
              "\n",
              "// Listen for the removal of the full notebook cells\n",
              "var notebookContainer = gd.closest('#notebook-container');\n",
              "if (notebookContainer) {{\n",
              "    x.observe(notebookContainer, {childList: true});\n",
              "}}\n",
              "\n",
              "// Listen for the clearing of the current output cell\n",
              "var outputEl = gd.closest('.output');\n",
              "if (outputEl) {{\n",
              "    x.observe(outputEl, {childList: true});\n",
              "}}\n",
              "\n",
              "                        })                };                            </script>        </div>\n",
              "</body>\n",
              "</html>"
            ]
          },
          "metadata": {}
        }
      ]
    },
    {
      "cell_type": "markdown",
      "source": [
        "- Ошибка быстро уменьшается с первых эпох — модель успешно обучается и быстро подстраивается под данные.\n",
        "- Значение ошибки близко к нулю к концу обучения — это говорит о хорошей сходимости модели и низкой ошибке на обучающей выборке.\n",
        "- Отсутствует переобучение — если бы ошибка на обучении была очень низкой, а на валидации высокой, это указывало бы на переобучение. На графике показана только кривая ошибки, но резкое снижение и стабилизация указывает на адекватное обучение."
      ],
      "metadata": {
        "id": "D2mUOil3XjTa"
      }
    },
    {
      "cell_type": "markdown",
      "source": [
        "## Коэффициент детерминации"
      ],
      "metadata": {
        "id": "R3ATQFz9fSxo"
      }
    },
    {
      "cell_type": "code",
      "execution_count": null,
      "metadata": {
        "id": "d1NfJJYSbNaY"
      },
      "outputs": [],
      "source": [
        "def r2_score(yhat, y):\n",
        "    \"\"\"Расчет коэффициента детерминации.\n",
        "    Входные переменные:\n",
        "    ===========\n",
        "    yhat: предсказание модели\n",
        "    y: реальные значения\n",
        "    \"\"\"\n",
        "    return 1-(np.square(y-yhat)).sum(axis=0)/(np.square(y-np.mean(y, axis=0))).sum(axis=0)"
      ]
    },
    {
      "cell_type": "code",
      "execution_count": null,
      "metadata": {
        "scrolled": false,
        "colab": {
          "base_uri": "https://localhost:8080/"
        },
        "id": "c6XAwledbNaY",
        "outputId": "6ccf2094-e8bc-4fc9-eb2e-0f9a4bdce424"
      },
      "outputs": [
        {
          "output_type": "execute_result",
          "data": {
            "text/plain": [
              "(np.float64(0.342348247661899), np.float64(0.33840908700870986))"
            ]
          },
          "metadata": {},
          "execution_count": 424
        }
      ],
      "source": [
        "predicts = predict( x_test,weights,)\n",
        "\n",
        "r2_score(predicts, y_test), r2_score(predict(x_train,weights, ), y_train)"
      ]
    },
    {
      "cell_type": "markdown",
      "metadata": {
        "id": "lSypeKwWbNaY"
      },
      "source": [
        "Посмотрим на то, какая интерпретация может быть у предсказанных и заданных данных."
      ]
    },
    {
      "cell_type": "code",
      "source": [
        "def plot_model_weights(x_train, y_train, x_test, x, y, weights):\n",
        "    \"\"\"Отрисовка модели.\n",
        "    Входные переменные:\n",
        "    ===========\n",
        "    x_train: признаки на которых тренировались\n",
        "    y_train: тренировочные целевые значения\n",
        "    x_test: тестовые признаки\n",
        "    x: полные признаки\n",
        "    y: реальные целевые значения (без шума)\n",
        "    weights: веса\n",
        "    \"\"\"\n",
        "    fig = go.Figure()\n",
        "    # рисуем с помощью библиотеки plotly\n",
        "    fig.add_trace(\n",
        "        go.Scatter(\n",
        "        x=x_test[:,0],\n",
        "        y=predict(x_test,weights, ),\n",
        "        mode='markers',\n",
        "        name='Предсказание на x_test',\n",
        "        marker=dict(size = 10,\n",
        "                    color='Blue')\n",
        "        )\n",
        "    )\n",
        "    fig.add_trace(\n",
        "        go.Scatter(\n",
        "        x=x_train[:,0],\n",
        "        y=predict(x_train,weights, ),\n",
        "        mode='markers',\n",
        "        name='Предсказание на x_train',\n",
        "        marker=dict(size = 15,\n",
        "                    color='LightSkyBlue',\n",
        "                    ),\n",
        "\n",
        "        )\n",
        "    )\n",
        "\n",
        "    fig.add_trace(\n",
        "        go.Scatter(\n",
        "        x=x_train[:,0],\n",
        "        y=y_train,\n",
        "        mode='markers',\n",
        "        name='Тренировочные данные',\n",
        "        marker=dict(size = 5,\n",
        "                    color='Red')\n",
        "        )\n",
        "    )\n",
        "\n",
        "    fig.add_trace(\n",
        "        go.Scatter(\n",
        "        x=x[:,0],\n",
        "        y=y[:,0],\n",
        "        mode='lines+markers',\n",
        "        name='Истинные значения',\n",
        "        opacity = 0.7,\n",
        "        marker=dict(size = 15,\n",
        "                    color='green',),\n",
        "\n",
        "        )\n",
        "    )\n",
        "\n",
        "    fig.update_layout(\n",
        "            title='Тренировочные и тестовые данные',\n",
        "            width=1200,\n",
        "            height=600,\n",
        "        template = \"plotly_dark\"\n",
        "            )\n",
        "\n",
        "    fig.show()"
      ],
      "metadata": {
        "id": "Ifcmx5p2FMTg"
      },
      "execution_count": null,
      "outputs": []
    },
    {
      "cell_type": "code",
      "execution_count": null,
      "metadata": {
        "colab": {
          "base_uri": "https://localhost:8080/",
          "height": 617
        },
        "id": "F4gf1EElbNaZ",
        "outputId": "59535d9d-70a1-4ea7-a913-140ffc67bb58"
      },
      "outputs": [
        {
          "output_type": "display_data",
          "data": {
            "text/html": [
              "<html>\n",
              "<head><meta charset=\"utf-8\" /></head>\n",
              "<body>\n",
              "    <div>            <script src=\"https://cdnjs.cloudflare.com/ajax/libs/mathjax/2.7.5/MathJax.js?config=TeX-AMS-MML_SVG\"></script><script type=\"text/javascript\">if (window.MathJax && window.MathJax.Hub && window.MathJax.Hub.Config) {window.MathJax.Hub.Config({SVG: {font: \"STIX-Web\"}});}</script>                <script type=\"text/javascript\">window.PlotlyConfig = {MathJaxConfig: 'local'};</script>\n",
              "        <script charset=\"utf-8\" src=\"https://cdn.plot.ly/plotly-2.35.2.min.js\"></script>                <div id=\"062566b5-d821-4488-95cd-d5f4b93a4b84\" class=\"plotly-graph-div\" style=\"height:600px; width:1200px;\"></div>            <script type=\"text/javascript\">                                    window.PLOTLYENV=window.PLOTLYENV || {};                                    if (document.getElementById(\"062566b5-d821-4488-95cd-d5f4b93a4b84\")) {                    Plotly.newPlot(                        \"062566b5-d821-4488-95cd-d5f4b93a4b84\",                        [{\"marker\":{\"color\":\"Blue\",\"size\":10},\"mode\":\"markers\",\"name\":\"Предсказание на x_test\",\"x\":[0.7722447692966574,0.3567533266935893,0.5467102793432796,0.4401524937396013,0.9699098521619943,0.5426960831582485,0.7319939418114051,0.2912291401980419,0.9488855372533332,0.5612771975694962,0.6011150117432088,0.8154614284548342,0.31171107608941095,0.2587799816000169,0.020584494295802447,0.4951769101112702,0.17052412368729153,0.02541912674409519,0.18340450985343382,0.8631034258755935,0.9093204020787821,0.7296061783380641,0.8324426408004217,0.8021969807540397,0.15601864044243652,0.5924145688620425,0.7080725777960455,0.11586905952512971,0.9218742350231168,0.49379559636439074],\"y\":[-0.9377577613301882,-0.8514871648070614,-0.8909288907692969,-0.8688037570466394,-0.9787999654818555,-0.8900954028464799,-0.9294002777778264,-0.8378820454807802,-0.9744345802953476,-0.8939534939163704,-0.9022252214191362,-0.9467310555620849,-0.8421348137597767,-0.8311444620268665,-0.7816867243413209,-0.8802287558239444,-0.8128194504187095,-0.782690563608554,-0.815493870356313,-0.9566232052325865,-0.9662194705168111,-0.9289044943318168,-0.9502569508478255,-0.9439768909792283,-0.8098076033285508,-0.9004187043157487,-0.9244333635850269,-0.8014711421148392,-0.9688260865519676,-0.8799419466415885],\"type\":\"scatter\"},{\"marker\":{\"color\":\"LightSkyBlue\",\"size\":15},\"mode\":\"markers\",\"name\":\"Предсказание на x_train\",\"x\":[0.8083973481164611,0.5142344384136116,0.7068573438476171,0.388677289689482,0.3745401188473625,0.32533033076326434,0.18182496720710062,0.7751328233611146,0.07455064367977082,0.005522117123602399,0.14092422497476265,0.2713490317738959,0.7290071680409873,0.29214464853521815,0.8948273504276488,0.045227288910538066,0.7607850486168974,0.770967179954561,0.09767211400638387,0.28093450968738076,0.5227328293819941,0.8661761457749352,0.1987156815341724,0.3584657285442726,0.6842330265121569,0.1195942459383017,0.3308980248526492,0.9656320330745594,0.07404465173409036,0.713244787222995,0.0884925020519195,0.43194501864211576,0.8287375091519293,0.21233911067827616,0.9394989415641891,0.046450412719997725,0.6232981268275579,0.6118528947223795,0.3046137691733707,0.12203823484477883,0.45606998421703593,0.3042422429595377,0.06355835028602363,0.9507143064099162,0.19967378215835974,0.15599452033620265,0.7851759613930136,0.1959828624191452,0.5986584841970366,0.10789142699330445,0.18485445552552704,0.034388521115218396,0.13949386065204183,0.32518332202674705,0.06505159298527952,0.7712703466859457,0.05808361216819946,0.6075448519014384,0.3109823217156622,0.8872127425763265,0.5247564316322378,0.9868869366005173,0.5200680211778108,0.3663618432936917,0.4722149251619493,0.6375574713552131,0.42754101835854963,0.662522284353982,0.5978999788110851,0.9695846277645586],\"y\":[-0.9452643047167228,-0.8841857671274722,-0.9241810383939489,-0.8581156992331458,-0.8551803267160657,-0.8449626487148185,-0.8151659019017062,-0.9383574226502163,-0.792891989774089,-0.7785592465392247,-0.806673473252596,-0.8337542376926088,-0.9287801187843241,-0.8380721371223199,-0.9632102046615376,-0.7868034328301673,-0.935378321376293,-0.9374924889723179,-0.7976928179814567,-0.8357445191106201,-0.8859503311669523,-0.957261209656947,-0.8186730066246555,-0.8518427194924244,-0.9194834365847986,-0.8022446214722256,-0.8461186972903085,-0.9779117401981314,-0.7927869280988924,-0.9255072956732787,-0.7957868085719705,-0.867099597345605,-0.9494876355629918,-0.8215017083461376,-0.9724855938027485,-0.7870573962331261,-0.9068312141661306,-0.904454782548494,-0.8406611639114947,-0.8027520792902175,-0.8721087863633354,-0.8405840220385103,-0.790609604119418,-0.974814296914908,-0.8188719419188699,-0.8098025951485027,-0.9404427303608827,-0.8181055775248739,-0.9017151601397605,-0.7998147057919848,-0.8157949299335547,-0.7845529244745206,-0.8063764794502847,-0.8449321245449006,-0.7909196536781082,-0.9375554370190903,-0.7894728564639825,-0.9035602817576202,-0.8419834987912944,-0.9616291449951636,-0.8863705019703757,-0.9823250036693063,-0.8853970235176917,-0.8534822298644785,-0.8754610423747281,-0.9097919542254748,-0.8661851724198569,-0.9149755250253904,-0.9015576678176513,-0.9787324374899554],\"type\":\"scatter\"},{\"marker\":{\"color\":\"Red\",\"size\":5},\"mode\":\"markers\",\"name\":\"Тренировочные данные\",\"x\":[0.8083973481164611,0.5142344384136116,0.7068573438476171,0.388677289689482,0.3745401188473625,0.32533033076326434,0.18182496720710062,0.7751328233611146,0.07455064367977082,0.005522117123602399,0.14092422497476265,0.2713490317738959,0.7290071680409873,0.29214464853521815,0.8948273504276488,0.045227288910538066,0.7607850486168974,0.770967179954561,0.09767211400638387,0.28093450968738076,0.5227328293819941,0.8661761457749352,0.1987156815341724,0.3584657285442726,0.6842330265121569,0.1195942459383017,0.3308980248526492,0.9656320330745594,0.07404465173409036,0.713244787222995,0.0884925020519195,0.43194501864211576,0.8287375091519293,0.21233911067827616,0.9394989415641891,0.046450412719997725,0.6232981268275579,0.6118528947223795,0.3046137691733707,0.12203823484477883,0.45606998421703593,0.3042422429595377,0.06355835028602363,0.9507143064099162,0.19967378215835974,0.15599452033620265,0.7851759613930136,0.1959828624191452,0.5986584841970366,0.10789142699330445,0.18485445552552704,0.034388521115218396,0.13949386065204183,0.32518332202674705,0.06505159298527952,0.7712703466859457,0.05808361216819946,0.6075448519014384,0.3109823217156622,0.8872127425763265,0.5247564316322378,0.9868869366005173,0.5200680211778108,0.3663618432936917,0.4722149251619493,0.6375574713552131,0.42754101835854963,0.662522284353982,0.5978999788110851,0.9695846277645586],\"y\":[-0.913266967572303,-1.0268093337636421,-1.1219473122620998,-1.0133964994289786,-0.8354152466264914,-0.8539316722190262,-0.7716708187899872,-0.8010265386431524,-0.5771654324316574,-0.5859421867617085,-0.7737569144033493,-0.6572675757140944,-0.9661586353121427,-0.8686272789307242,-0.8635830393506385,-0.6598613299781285,-1.0586458657729918,-0.9653049272429247,-0.745253301501216,-0.8355680366167414,-0.9721548527969512,-0.8621130423864165,-0.8212963605904993,-0.7907691172652475,-0.9214653732221386,-0.6171423590743093,-0.8912149696794142,-0.9152165891354296,-0.7183582301511311,-0.9454718638305782,-0.6501224793307185,-1.0846480198333093,-0.8937843375363044,-0.8148162050891964,-0.9981554751575827,-0.6034878373515413,-1.1588833481123535,-0.8662825932216369,-0.8726596894341857,-0.7865961894554394,-0.7361555732011947,-1.061626254715755,-0.7090998112038347,-0.9979698299955874,-0.8680819394484063,-0.8950378253026144,-0.9378400008263421,-0.826716493272765,-0.9139997133606457,-0.6511567276721061,-0.9164121924861028,-0.8250142301555896,-0.7659540629280804,-0.903225204400091,-0.7396836160669714,-0.959156845435709,-0.5037362544797601,-0.973752835690457,-0.8683913459624867,-0.9080369278012306,-1.0858274012528155,-0.8113920797993781,-1.1332935377622513,-0.8345666446709927,-1.0608173412444053,-0.9807127667758208,-0.8021038341673404,-0.9740006854866088,-1.0274521668803867,-0.8709656772212931],\"type\":\"scatter\"},{\"marker\":{\"color\":\"green\",\"size\":15},\"mode\":\"lines+markers\",\"name\":\"Истинные значения\",\"opacity\":0.7,\"x\":[0.005522117123602399,0.020584494295802447,0.02541912674409519,0.034388521115218396,0.045227288910538066,0.046450412719997725,0.05808361216819946,0.06355835028602363,0.06505159298527952,0.07404465173409036,0.07455064367977082,0.0884925020519195,0.09767211400638387,0.10789142699330445,0.11586905952512971,0.1195942459383017,0.12203823484477883,0.13949386065204183,0.14092422497476265,0.15599452033620265,0.15601864044243652,0.17052412368729153,0.18182496720710062,0.18340450985343382,0.18485445552552704,0.1959828624191452,0.1987156815341724,0.19967378215835974,0.21233911067827616,0.2587799816000169,0.2713490317738959,0.28093450968738076,0.2912291401980419,0.29214464853521815,0.3042422429595377,0.3046137691733707,0.3109823217156622,0.31171107608941095,0.32518332202674705,0.32533033076326434,0.3308980248526492,0.3567533266935893,0.3584657285442726,0.3663618432936917,0.3745401188473625,0.388677289689482,0.42754101835854963,0.43194501864211576,0.4401524937396013,0.45606998421703593,0.4722149251619493,0.49379559636439074,0.4951769101112702,0.5142344384136116,0.5200680211778108,0.5227328293819941,0.5247564316322378,0.5426960831582485,0.5467102793432796,0.5612771975694962,0.5924145688620425,0.5978999788110851,0.5986584841970366,0.6011150117432088,0.6075448519014384,0.6118528947223795,0.6232981268275579,0.6375574713552131,0.662522284353982,0.6842330265121569,0.7068573438476171,0.7080725777960455,0.713244787222995,0.7290071680409873,0.7296061783380641,0.7319939418114051,0.7607850486168974,0.770967179954561,0.7712703466859457,0.7722447692966574,0.7751328233611146,0.7851759613930136,0.8021969807540397,0.8083973481164611,0.8154614284548342,0.8287375091519293,0.8324426408004217,0.8631034258755935,0.8661761457749352,0.8872127425763265,0.8948273504276488,0.9093204020787821,0.9218742350231168,0.9394989415641891,0.9488855372533332,0.9507143064099162,0.9656320330745594,0.9695846277645586,0.9699098521619943,0.9868869366005173],\"y\":[-0.5946468935855256,-0.611251089972274,-0.6165300993479673,-0.6262573386955004,-0.6378941411943774,-0.639199094502716,-0.6515256589539117,-0.6572727893764699,-0.6588342557776526,-0.6681825257926775,-0.6687056442018648,-0.6829975902966869,-0.6922772811245121,-0.7024834709834417,-0.7103580494461422,-0.7140068581275982,-0.7163908800677041,-0.7331878482683036,-0.7345460990901335,-0.7486863304894026,-0.7487087104044007,-0.7620196355345215,-0.7721821644542333,-0.7735879078911895,-0.7748751182810614,-0.784651960996229,-0.7870249089378223,-0.7878542125262444,-0.7986876339225955,-0.8362967377933449,-0.8458861658351474,-0.8530258178999253,-0.8605243896101472,-0.8611826873541075,-0.8697491331858507,-0.870008301889264,-0.8744143669565894,-0.8749141441122437,-0.8839891079219787,-0.8840864064523875,-0.8877437927088898,-0.9040155404789239,-0.9050513987167496,-0.9097599479396702,-0.9145184413307961,-0.9224577539495047,-0.9423832652609504,-0.9444629135540813,-0.9482406139690431,-0.9552011357821926,-0.9617637087313365,-0.9697452370383607,-0.9702250903840238,-0.9764617683520221,-0.9782271946556381,-0.9790111502775539,-0.979597029880205,-0.9844334452829295,-0.9854273766348756,-0.9887617994746012,-0.9944486464873763,-0.995246015259819,-0.9953514350976126,-0.99568477845854,-0.99649882915087,-0.9969968686498797,-0.9981350246562306,-0.9991761526290511,-0.9999889649114512,-0.9996476603998696,-0.9982522411742915,-0.998147232920891,-0.997666020392268,-0.9958571026354613,-0.9957781901110743,-0.9954562319167004,-0.9906433936151426,-0.9885302969590251,-0.9884640927655771,-0.9882500156337936,-0.9876039897576281,-0.9852232929175209,-0.9807133897940752,-0.9789223284356859,-0.9767855167701207,-0.9724927979105495,-0.9712303955901591,-0.959710344669454,-0.9584506553108487,-0.9493150204948804,-0.9457890553500875,-0.938758046578205,-0.9323304652944888,-0.9227818587218337,-0.9174479842433375,-0.9163888014990436,-0.9075064181940191,-0.9050808747029575,-0.9048799587740414,-0.8941104047029805],\"type\":\"scatter\"}],                        {\"template\":{\"data\":{\"barpolar\":[{\"marker\":{\"line\":{\"color\":\"rgb(17,17,17)\",\"width\":0.5},\"pattern\":{\"fillmode\":\"overlay\",\"size\":10,\"solidity\":0.2}},\"type\":\"barpolar\"}],\"bar\":[{\"error_x\":{\"color\":\"#f2f5fa\"},\"error_y\":{\"color\":\"#f2f5fa\"},\"marker\":{\"line\":{\"color\":\"rgb(17,17,17)\",\"width\":0.5},\"pattern\":{\"fillmode\":\"overlay\",\"size\":10,\"solidity\":0.2}},\"type\":\"bar\"}],\"carpet\":[{\"aaxis\":{\"endlinecolor\":\"#A2B1C6\",\"gridcolor\":\"#506784\",\"linecolor\":\"#506784\",\"minorgridcolor\":\"#506784\",\"startlinecolor\":\"#A2B1C6\"},\"baxis\":{\"endlinecolor\":\"#A2B1C6\",\"gridcolor\":\"#506784\",\"linecolor\":\"#506784\",\"minorgridcolor\":\"#506784\",\"startlinecolor\":\"#A2B1C6\"},\"type\":\"carpet\"}],\"choropleth\":[{\"colorbar\":{\"outlinewidth\":0,\"ticks\":\"\"},\"type\":\"choropleth\"}],\"contourcarpet\":[{\"colorbar\":{\"outlinewidth\":0,\"ticks\":\"\"},\"type\":\"contourcarpet\"}],\"contour\":[{\"colorbar\":{\"outlinewidth\":0,\"ticks\":\"\"},\"colorscale\":[[0.0,\"#0d0887\"],[0.1111111111111111,\"#46039f\"],[0.2222222222222222,\"#7201a8\"],[0.3333333333333333,\"#9c179e\"],[0.4444444444444444,\"#bd3786\"],[0.5555555555555556,\"#d8576b\"],[0.6666666666666666,\"#ed7953\"],[0.7777777777777778,\"#fb9f3a\"],[0.8888888888888888,\"#fdca26\"],[1.0,\"#f0f921\"]],\"type\":\"contour\"}],\"heatmapgl\":[{\"colorbar\":{\"outlinewidth\":0,\"ticks\":\"\"},\"colorscale\":[[0.0,\"#0d0887\"],[0.1111111111111111,\"#46039f\"],[0.2222222222222222,\"#7201a8\"],[0.3333333333333333,\"#9c179e\"],[0.4444444444444444,\"#bd3786\"],[0.5555555555555556,\"#d8576b\"],[0.6666666666666666,\"#ed7953\"],[0.7777777777777778,\"#fb9f3a\"],[0.8888888888888888,\"#fdca26\"],[1.0,\"#f0f921\"]],\"type\":\"heatmapgl\"}],\"heatmap\":[{\"colorbar\":{\"outlinewidth\":0,\"ticks\":\"\"},\"colorscale\":[[0.0,\"#0d0887\"],[0.1111111111111111,\"#46039f\"],[0.2222222222222222,\"#7201a8\"],[0.3333333333333333,\"#9c179e\"],[0.4444444444444444,\"#bd3786\"],[0.5555555555555556,\"#d8576b\"],[0.6666666666666666,\"#ed7953\"],[0.7777777777777778,\"#fb9f3a\"],[0.8888888888888888,\"#fdca26\"],[1.0,\"#f0f921\"]],\"type\":\"heatmap\"}],\"histogram2dcontour\":[{\"colorbar\":{\"outlinewidth\":0,\"ticks\":\"\"},\"colorscale\":[[0.0,\"#0d0887\"],[0.1111111111111111,\"#46039f\"],[0.2222222222222222,\"#7201a8\"],[0.3333333333333333,\"#9c179e\"],[0.4444444444444444,\"#bd3786\"],[0.5555555555555556,\"#d8576b\"],[0.6666666666666666,\"#ed7953\"],[0.7777777777777778,\"#fb9f3a\"],[0.8888888888888888,\"#fdca26\"],[1.0,\"#f0f921\"]],\"type\":\"histogram2dcontour\"}],\"histogram2d\":[{\"colorbar\":{\"outlinewidth\":0,\"ticks\":\"\"},\"colorscale\":[[0.0,\"#0d0887\"],[0.1111111111111111,\"#46039f\"],[0.2222222222222222,\"#7201a8\"],[0.3333333333333333,\"#9c179e\"],[0.4444444444444444,\"#bd3786\"],[0.5555555555555556,\"#d8576b\"],[0.6666666666666666,\"#ed7953\"],[0.7777777777777778,\"#fb9f3a\"],[0.8888888888888888,\"#fdca26\"],[1.0,\"#f0f921\"]],\"type\":\"histogram2d\"}],\"histogram\":[{\"marker\":{\"pattern\":{\"fillmode\":\"overlay\",\"size\":10,\"solidity\":0.2}},\"type\":\"histogram\"}],\"mesh3d\":[{\"colorbar\":{\"outlinewidth\":0,\"ticks\":\"\"},\"type\":\"mesh3d\"}],\"parcoords\":[{\"line\":{\"colorbar\":{\"outlinewidth\":0,\"ticks\":\"\"}},\"type\":\"parcoords\"}],\"pie\":[{\"automargin\":true,\"type\":\"pie\"}],\"scatter3d\":[{\"line\":{\"colorbar\":{\"outlinewidth\":0,\"ticks\":\"\"}},\"marker\":{\"colorbar\":{\"outlinewidth\":0,\"ticks\":\"\"}},\"type\":\"scatter3d\"}],\"scattercarpet\":[{\"marker\":{\"colorbar\":{\"outlinewidth\":0,\"ticks\":\"\"}},\"type\":\"scattercarpet\"}],\"scattergeo\":[{\"marker\":{\"colorbar\":{\"outlinewidth\":0,\"ticks\":\"\"}},\"type\":\"scattergeo\"}],\"scattergl\":[{\"marker\":{\"line\":{\"color\":\"#283442\"}},\"type\":\"scattergl\"}],\"scattermapbox\":[{\"marker\":{\"colorbar\":{\"outlinewidth\":0,\"ticks\":\"\"}},\"type\":\"scattermapbox\"}],\"scatterpolargl\":[{\"marker\":{\"colorbar\":{\"outlinewidth\":0,\"ticks\":\"\"}},\"type\":\"scatterpolargl\"}],\"scatterpolar\":[{\"marker\":{\"colorbar\":{\"outlinewidth\":0,\"ticks\":\"\"}},\"type\":\"scatterpolar\"}],\"scatter\":[{\"marker\":{\"line\":{\"color\":\"#283442\"}},\"type\":\"scatter\"}],\"scatterternary\":[{\"marker\":{\"colorbar\":{\"outlinewidth\":0,\"ticks\":\"\"}},\"type\":\"scatterternary\"}],\"surface\":[{\"colorbar\":{\"outlinewidth\":0,\"ticks\":\"\"},\"colorscale\":[[0.0,\"#0d0887\"],[0.1111111111111111,\"#46039f\"],[0.2222222222222222,\"#7201a8\"],[0.3333333333333333,\"#9c179e\"],[0.4444444444444444,\"#bd3786\"],[0.5555555555555556,\"#d8576b\"],[0.6666666666666666,\"#ed7953\"],[0.7777777777777778,\"#fb9f3a\"],[0.8888888888888888,\"#fdca26\"],[1.0,\"#f0f921\"]],\"type\":\"surface\"}],\"table\":[{\"cells\":{\"fill\":{\"color\":\"#506784\"},\"line\":{\"color\":\"rgb(17,17,17)\"}},\"header\":{\"fill\":{\"color\":\"#2a3f5f\"},\"line\":{\"color\":\"rgb(17,17,17)\"}},\"type\":\"table\"}]},\"layout\":{\"annotationdefaults\":{\"arrowcolor\":\"#f2f5fa\",\"arrowhead\":0,\"arrowwidth\":1},\"autotypenumbers\":\"strict\",\"coloraxis\":{\"colorbar\":{\"outlinewidth\":0,\"ticks\":\"\"}},\"colorscale\":{\"diverging\":[[0,\"#8e0152\"],[0.1,\"#c51b7d\"],[0.2,\"#de77ae\"],[0.3,\"#f1b6da\"],[0.4,\"#fde0ef\"],[0.5,\"#f7f7f7\"],[0.6,\"#e6f5d0\"],[0.7,\"#b8e186\"],[0.8,\"#7fbc41\"],[0.9,\"#4d9221\"],[1,\"#276419\"]],\"sequential\":[[0.0,\"#0d0887\"],[0.1111111111111111,\"#46039f\"],[0.2222222222222222,\"#7201a8\"],[0.3333333333333333,\"#9c179e\"],[0.4444444444444444,\"#bd3786\"],[0.5555555555555556,\"#d8576b\"],[0.6666666666666666,\"#ed7953\"],[0.7777777777777778,\"#fb9f3a\"],[0.8888888888888888,\"#fdca26\"],[1.0,\"#f0f921\"]],\"sequentialminus\":[[0.0,\"#0d0887\"],[0.1111111111111111,\"#46039f\"],[0.2222222222222222,\"#7201a8\"],[0.3333333333333333,\"#9c179e\"],[0.4444444444444444,\"#bd3786\"],[0.5555555555555556,\"#d8576b\"],[0.6666666666666666,\"#ed7953\"],[0.7777777777777778,\"#fb9f3a\"],[0.8888888888888888,\"#fdca26\"],[1.0,\"#f0f921\"]]},\"colorway\":[\"#636efa\",\"#EF553B\",\"#00cc96\",\"#ab63fa\",\"#FFA15A\",\"#19d3f3\",\"#FF6692\",\"#B6E880\",\"#FF97FF\",\"#FECB52\"],\"font\":{\"color\":\"#f2f5fa\"},\"geo\":{\"bgcolor\":\"rgb(17,17,17)\",\"lakecolor\":\"rgb(17,17,17)\",\"landcolor\":\"rgb(17,17,17)\",\"showlakes\":true,\"showland\":true,\"subunitcolor\":\"#506784\"},\"hoverlabel\":{\"align\":\"left\"},\"hovermode\":\"closest\",\"mapbox\":{\"style\":\"dark\"},\"paper_bgcolor\":\"rgb(17,17,17)\",\"plot_bgcolor\":\"rgb(17,17,17)\",\"polar\":{\"angularaxis\":{\"gridcolor\":\"#506784\",\"linecolor\":\"#506784\",\"ticks\":\"\"},\"bgcolor\":\"rgb(17,17,17)\",\"radialaxis\":{\"gridcolor\":\"#506784\",\"linecolor\":\"#506784\",\"ticks\":\"\"}},\"scene\":{\"xaxis\":{\"backgroundcolor\":\"rgb(17,17,17)\",\"gridcolor\":\"#506784\",\"gridwidth\":2,\"linecolor\":\"#506784\",\"showbackground\":true,\"ticks\":\"\",\"zerolinecolor\":\"#C8D4E3\"},\"yaxis\":{\"backgroundcolor\":\"rgb(17,17,17)\",\"gridcolor\":\"#506784\",\"gridwidth\":2,\"linecolor\":\"#506784\",\"showbackground\":true,\"ticks\":\"\",\"zerolinecolor\":\"#C8D4E3\"},\"zaxis\":{\"backgroundcolor\":\"rgb(17,17,17)\",\"gridcolor\":\"#506784\",\"gridwidth\":2,\"linecolor\":\"#506784\",\"showbackground\":true,\"ticks\":\"\",\"zerolinecolor\":\"#C8D4E3\"}},\"shapedefaults\":{\"line\":{\"color\":\"#f2f5fa\"}},\"sliderdefaults\":{\"bgcolor\":\"#C8D4E3\",\"bordercolor\":\"rgb(17,17,17)\",\"borderwidth\":1,\"tickwidth\":0},\"ternary\":{\"aaxis\":{\"gridcolor\":\"#506784\",\"linecolor\":\"#506784\",\"ticks\":\"\"},\"baxis\":{\"gridcolor\":\"#506784\",\"linecolor\":\"#506784\",\"ticks\":\"\"},\"bgcolor\":\"rgb(17,17,17)\",\"caxis\":{\"gridcolor\":\"#506784\",\"linecolor\":\"#506784\",\"ticks\":\"\"}},\"title\":{\"x\":0.05},\"updatemenudefaults\":{\"bgcolor\":\"#506784\",\"borderwidth\":0},\"xaxis\":{\"automargin\":true,\"gridcolor\":\"#283442\",\"linecolor\":\"#506784\",\"ticks\":\"\",\"title\":{\"standoff\":15},\"zerolinecolor\":\"#283442\",\"zerolinewidth\":2},\"yaxis\":{\"automargin\":true,\"gridcolor\":\"#283442\",\"linecolor\":\"#506784\",\"ticks\":\"\",\"title\":{\"standoff\":15},\"zerolinecolor\":\"#283442\",\"zerolinewidth\":2}}},\"title\":{\"text\":\"Тренировочные и тестовые данные\"},\"width\":1200,\"height\":600},                        {\"responsive\": true}                    ).then(function(){\n",
              "                            \n",
              "var gd = document.getElementById('062566b5-d821-4488-95cd-d5f4b93a4b84');\n",
              "var x = new MutationObserver(function (mutations, observer) {{\n",
              "        var display = window.getComputedStyle(gd).display;\n",
              "        if (!display || display === 'none') {{\n",
              "            console.log([gd, 'removed!']);\n",
              "            Plotly.purge(gd);\n",
              "            observer.disconnect();\n",
              "        }}\n",
              "}});\n",
              "\n",
              "// Listen for the removal of the full notebook cells\n",
              "var notebookContainer = gd.closest('#notebook-container');\n",
              "if (notebookContainer) {{\n",
              "    x.observe(notebookContainer, {childList: true});\n",
              "}}\n",
              "\n",
              "// Listen for the clearing of the current output cell\n",
              "var outputEl = gd.closest('.output');\n",
              "if (outputEl) {{\n",
              "    x.observe(outputEl, {childList: true});\n",
              "}}\n",
              "\n",
              "                        })                };                            </script>        </div>\n",
              "</body>\n",
              "</html>"
            ]
          },
          "metadata": {}
        }
      ],
      "source": [
        "plot_model_weights(x_train, y_train, x_test, x, y_true, weights);"
      ]
    },
    {
      "cell_type": "markdown",
      "source": [
        "Используемой нелинейной зависимости не хватит, распределение предсказанных значений не дает достаточного совпадения с истинными значениями. Необходимо проверить различные степени полиномов исходных данных.\n"
      ],
      "metadata": {
        "id": "GEleo7NeffkY"
      }
    },
    {
      "cell_type": "markdown",
      "source": [
        "### Анализ весов модели"
      ],
      "metadata": {
        "id": "xGVs6h3Yy1Zp"
      }
    },
    {
      "cell_type": "code",
      "source": [
        "weights"
      ],
      "metadata": {
        "colab": {
          "base_uri": "https://localhost:8080/"
        },
        "id": "_UE-GHBHP0X4",
        "outputId": "07f4c0b8-ab17-4c8c-8739-1a479622e6f2"
      },
      "execution_count": null,
      "outputs": [
        {
          "output_type": "execute_result",
          "data": {
            "text/plain": [
              "array([-0.77741266, -0.20763507])"
            ]
          },
          "metadata": {},
          "execution_count": 427
        }
      ]
    },
    {
      "cell_type": "code",
      "source": [
        "def vis_weigths(weights):\n",
        "    \"\"\"Отрисовка весов.\n",
        "    Входные переменные:\n",
        "    ===========\n",
        "    weights: веса\n",
        "    \"\"\"\n",
        "    numbers = np.arange(0,len(weights)) # создаем массив от 0 до количество весов-1\n",
        "    tick_labels = np.array(['w'+str(num) for num in numbers]) # создаем \"названия\" весов\n",
        "\n",
        "\n",
        "    fig = go.Figure()\n",
        "    fig.add_trace(go.Bar(x=numbers[weights<0], y=weights[weights<0],\n",
        "                    marker_color='red',\n",
        "                    name='отрицательные веса'))\n",
        "    fig.add_trace(go.Bar(x=numbers[weights>=0], y=weights[weights>=0],\n",
        "                    marker_color='blue',\n",
        "                    name='положительные веса'\n",
        "                    ))\n",
        "\n",
        "    fig.update_layout(\n",
        "                title=\"Веса модели\",\n",
        "                width=1200,\n",
        "                height=600,\n",
        "                template = \"plotly_dark\",\n",
        "                xaxis = dict(\n",
        "                                         tickmode = 'array',\n",
        "                                         tickvals = numbers,\n",
        "                                         ticktext = tick_labels,\n",
        "                                         )\n",
        "                )\n",
        "\n",
        "    fig.show()"
      ],
      "metadata": {
        "id": "XlDwMXTxOzPm"
      },
      "execution_count": null,
      "outputs": []
    },
    {
      "cell_type": "code",
      "source": [
        "vis_weigths(weights)"
      ],
      "metadata": {
        "colab": {
          "base_uri": "https://localhost:8080/",
          "height": 617
        },
        "id": "F-OVTOjzPXRh",
        "outputId": "68bb8f62-7a7a-4c03-9c39-73e457401305"
      },
      "execution_count": null,
      "outputs": [
        {
          "output_type": "display_data",
          "data": {
            "text/html": [
              "<html>\n",
              "<head><meta charset=\"utf-8\" /></head>\n",
              "<body>\n",
              "    <div>            <script src=\"https://cdnjs.cloudflare.com/ajax/libs/mathjax/2.7.5/MathJax.js?config=TeX-AMS-MML_SVG\"></script><script type=\"text/javascript\">if (window.MathJax && window.MathJax.Hub && window.MathJax.Hub.Config) {window.MathJax.Hub.Config({SVG: {font: \"STIX-Web\"}});}</script>                <script type=\"text/javascript\">window.PlotlyConfig = {MathJaxConfig: 'local'};</script>\n",
              "        <script charset=\"utf-8\" src=\"https://cdn.plot.ly/plotly-2.35.2.min.js\"></script>                <div id=\"6b93ac38-0c27-4eee-842d-046ffcb2e6f4\" class=\"plotly-graph-div\" style=\"height:600px; width:1200px;\"></div>            <script type=\"text/javascript\">                                    window.PLOTLYENV=window.PLOTLYENV || {};                                    if (document.getElementById(\"6b93ac38-0c27-4eee-842d-046ffcb2e6f4\")) {                    Plotly.newPlot(                        \"6b93ac38-0c27-4eee-842d-046ffcb2e6f4\",                        [{\"marker\":{\"color\":\"red\"},\"name\":\"отрицательные веса\",\"x\":[0,1],\"y\":[-0.7774126613404079,-0.2076350742211163],\"type\":\"bar\"},{\"marker\":{\"color\":\"blue\"},\"name\":\"положительные веса\",\"x\":[],\"y\":[],\"type\":\"bar\"}],                        {\"template\":{\"data\":{\"barpolar\":[{\"marker\":{\"line\":{\"color\":\"rgb(17,17,17)\",\"width\":0.5},\"pattern\":{\"fillmode\":\"overlay\",\"size\":10,\"solidity\":0.2}},\"type\":\"barpolar\"}],\"bar\":[{\"error_x\":{\"color\":\"#f2f5fa\"},\"error_y\":{\"color\":\"#f2f5fa\"},\"marker\":{\"line\":{\"color\":\"rgb(17,17,17)\",\"width\":0.5},\"pattern\":{\"fillmode\":\"overlay\",\"size\":10,\"solidity\":0.2}},\"type\":\"bar\"}],\"carpet\":[{\"aaxis\":{\"endlinecolor\":\"#A2B1C6\",\"gridcolor\":\"#506784\",\"linecolor\":\"#506784\",\"minorgridcolor\":\"#506784\",\"startlinecolor\":\"#A2B1C6\"},\"baxis\":{\"endlinecolor\":\"#A2B1C6\",\"gridcolor\":\"#506784\",\"linecolor\":\"#506784\",\"minorgridcolor\":\"#506784\",\"startlinecolor\":\"#A2B1C6\"},\"type\":\"carpet\"}],\"choropleth\":[{\"colorbar\":{\"outlinewidth\":0,\"ticks\":\"\"},\"type\":\"choropleth\"}],\"contourcarpet\":[{\"colorbar\":{\"outlinewidth\":0,\"ticks\":\"\"},\"type\":\"contourcarpet\"}],\"contour\":[{\"colorbar\":{\"outlinewidth\":0,\"ticks\":\"\"},\"colorscale\":[[0.0,\"#0d0887\"],[0.1111111111111111,\"#46039f\"],[0.2222222222222222,\"#7201a8\"],[0.3333333333333333,\"#9c179e\"],[0.4444444444444444,\"#bd3786\"],[0.5555555555555556,\"#d8576b\"],[0.6666666666666666,\"#ed7953\"],[0.7777777777777778,\"#fb9f3a\"],[0.8888888888888888,\"#fdca26\"],[1.0,\"#f0f921\"]],\"type\":\"contour\"}],\"heatmapgl\":[{\"colorbar\":{\"outlinewidth\":0,\"ticks\":\"\"},\"colorscale\":[[0.0,\"#0d0887\"],[0.1111111111111111,\"#46039f\"],[0.2222222222222222,\"#7201a8\"],[0.3333333333333333,\"#9c179e\"],[0.4444444444444444,\"#bd3786\"],[0.5555555555555556,\"#d8576b\"],[0.6666666666666666,\"#ed7953\"],[0.7777777777777778,\"#fb9f3a\"],[0.8888888888888888,\"#fdca26\"],[1.0,\"#f0f921\"]],\"type\":\"heatmapgl\"}],\"heatmap\":[{\"colorbar\":{\"outlinewidth\":0,\"ticks\":\"\"},\"colorscale\":[[0.0,\"#0d0887\"],[0.1111111111111111,\"#46039f\"],[0.2222222222222222,\"#7201a8\"],[0.3333333333333333,\"#9c179e\"],[0.4444444444444444,\"#bd3786\"],[0.5555555555555556,\"#d8576b\"],[0.6666666666666666,\"#ed7953\"],[0.7777777777777778,\"#fb9f3a\"],[0.8888888888888888,\"#fdca26\"],[1.0,\"#f0f921\"]],\"type\":\"heatmap\"}],\"histogram2dcontour\":[{\"colorbar\":{\"outlinewidth\":0,\"ticks\":\"\"},\"colorscale\":[[0.0,\"#0d0887\"],[0.1111111111111111,\"#46039f\"],[0.2222222222222222,\"#7201a8\"],[0.3333333333333333,\"#9c179e\"],[0.4444444444444444,\"#bd3786\"],[0.5555555555555556,\"#d8576b\"],[0.6666666666666666,\"#ed7953\"],[0.7777777777777778,\"#fb9f3a\"],[0.8888888888888888,\"#fdca26\"],[1.0,\"#f0f921\"]],\"type\":\"histogram2dcontour\"}],\"histogram2d\":[{\"colorbar\":{\"outlinewidth\":0,\"ticks\":\"\"},\"colorscale\":[[0.0,\"#0d0887\"],[0.1111111111111111,\"#46039f\"],[0.2222222222222222,\"#7201a8\"],[0.3333333333333333,\"#9c179e\"],[0.4444444444444444,\"#bd3786\"],[0.5555555555555556,\"#d8576b\"],[0.6666666666666666,\"#ed7953\"],[0.7777777777777778,\"#fb9f3a\"],[0.8888888888888888,\"#fdca26\"],[1.0,\"#f0f921\"]],\"type\":\"histogram2d\"}],\"histogram\":[{\"marker\":{\"pattern\":{\"fillmode\":\"overlay\",\"size\":10,\"solidity\":0.2}},\"type\":\"histogram\"}],\"mesh3d\":[{\"colorbar\":{\"outlinewidth\":0,\"ticks\":\"\"},\"type\":\"mesh3d\"}],\"parcoords\":[{\"line\":{\"colorbar\":{\"outlinewidth\":0,\"ticks\":\"\"}},\"type\":\"parcoords\"}],\"pie\":[{\"automargin\":true,\"type\":\"pie\"}],\"scatter3d\":[{\"line\":{\"colorbar\":{\"outlinewidth\":0,\"ticks\":\"\"}},\"marker\":{\"colorbar\":{\"outlinewidth\":0,\"ticks\":\"\"}},\"type\":\"scatter3d\"}],\"scattercarpet\":[{\"marker\":{\"colorbar\":{\"outlinewidth\":0,\"ticks\":\"\"}},\"type\":\"scattercarpet\"}],\"scattergeo\":[{\"marker\":{\"colorbar\":{\"outlinewidth\":0,\"ticks\":\"\"}},\"type\":\"scattergeo\"}],\"scattergl\":[{\"marker\":{\"line\":{\"color\":\"#283442\"}},\"type\":\"scattergl\"}],\"scattermapbox\":[{\"marker\":{\"colorbar\":{\"outlinewidth\":0,\"ticks\":\"\"}},\"type\":\"scattermapbox\"}],\"scatterpolargl\":[{\"marker\":{\"colorbar\":{\"outlinewidth\":0,\"ticks\":\"\"}},\"type\":\"scatterpolargl\"}],\"scatterpolar\":[{\"marker\":{\"colorbar\":{\"outlinewidth\":0,\"ticks\":\"\"}},\"type\":\"scatterpolar\"}],\"scatter\":[{\"marker\":{\"line\":{\"color\":\"#283442\"}},\"type\":\"scatter\"}],\"scatterternary\":[{\"marker\":{\"colorbar\":{\"outlinewidth\":0,\"ticks\":\"\"}},\"type\":\"scatterternary\"}],\"surface\":[{\"colorbar\":{\"outlinewidth\":0,\"ticks\":\"\"},\"colorscale\":[[0.0,\"#0d0887\"],[0.1111111111111111,\"#46039f\"],[0.2222222222222222,\"#7201a8\"],[0.3333333333333333,\"#9c179e\"],[0.4444444444444444,\"#bd3786\"],[0.5555555555555556,\"#d8576b\"],[0.6666666666666666,\"#ed7953\"],[0.7777777777777778,\"#fb9f3a\"],[0.8888888888888888,\"#fdca26\"],[1.0,\"#f0f921\"]],\"type\":\"surface\"}],\"table\":[{\"cells\":{\"fill\":{\"color\":\"#506784\"},\"line\":{\"color\":\"rgb(17,17,17)\"}},\"header\":{\"fill\":{\"color\":\"#2a3f5f\"},\"line\":{\"color\":\"rgb(17,17,17)\"}},\"type\":\"table\"}]},\"layout\":{\"annotationdefaults\":{\"arrowcolor\":\"#f2f5fa\",\"arrowhead\":0,\"arrowwidth\":1},\"autotypenumbers\":\"strict\",\"coloraxis\":{\"colorbar\":{\"outlinewidth\":0,\"ticks\":\"\"}},\"colorscale\":{\"diverging\":[[0,\"#8e0152\"],[0.1,\"#c51b7d\"],[0.2,\"#de77ae\"],[0.3,\"#f1b6da\"],[0.4,\"#fde0ef\"],[0.5,\"#f7f7f7\"],[0.6,\"#e6f5d0\"],[0.7,\"#b8e186\"],[0.8,\"#7fbc41\"],[0.9,\"#4d9221\"],[1,\"#276419\"]],\"sequential\":[[0.0,\"#0d0887\"],[0.1111111111111111,\"#46039f\"],[0.2222222222222222,\"#7201a8\"],[0.3333333333333333,\"#9c179e\"],[0.4444444444444444,\"#bd3786\"],[0.5555555555555556,\"#d8576b\"],[0.6666666666666666,\"#ed7953\"],[0.7777777777777778,\"#fb9f3a\"],[0.8888888888888888,\"#fdca26\"],[1.0,\"#f0f921\"]],\"sequentialminus\":[[0.0,\"#0d0887\"],[0.1111111111111111,\"#46039f\"],[0.2222222222222222,\"#7201a8\"],[0.3333333333333333,\"#9c179e\"],[0.4444444444444444,\"#bd3786\"],[0.5555555555555556,\"#d8576b\"],[0.6666666666666666,\"#ed7953\"],[0.7777777777777778,\"#fb9f3a\"],[0.8888888888888888,\"#fdca26\"],[1.0,\"#f0f921\"]]},\"colorway\":[\"#636efa\",\"#EF553B\",\"#00cc96\",\"#ab63fa\",\"#FFA15A\",\"#19d3f3\",\"#FF6692\",\"#B6E880\",\"#FF97FF\",\"#FECB52\"],\"font\":{\"color\":\"#f2f5fa\"},\"geo\":{\"bgcolor\":\"rgb(17,17,17)\",\"lakecolor\":\"rgb(17,17,17)\",\"landcolor\":\"rgb(17,17,17)\",\"showlakes\":true,\"showland\":true,\"subunitcolor\":\"#506784\"},\"hoverlabel\":{\"align\":\"left\"},\"hovermode\":\"closest\",\"mapbox\":{\"style\":\"dark\"},\"paper_bgcolor\":\"rgb(17,17,17)\",\"plot_bgcolor\":\"rgb(17,17,17)\",\"polar\":{\"angularaxis\":{\"gridcolor\":\"#506784\",\"linecolor\":\"#506784\",\"ticks\":\"\"},\"bgcolor\":\"rgb(17,17,17)\",\"radialaxis\":{\"gridcolor\":\"#506784\",\"linecolor\":\"#506784\",\"ticks\":\"\"}},\"scene\":{\"xaxis\":{\"backgroundcolor\":\"rgb(17,17,17)\",\"gridcolor\":\"#506784\",\"gridwidth\":2,\"linecolor\":\"#506784\",\"showbackground\":true,\"ticks\":\"\",\"zerolinecolor\":\"#C8D4E3\"},\"yaxis\":{\"backgroundcolor\":\"rgb(17,17,17)\",\"gridcolor\":\"#506784\",\"gridwidth\":2,\"linecolor\":\"#506784\",\"showbackground\":true,\"ticks\":\"\",\"zerolinecolor\":\"#C8D4E3\"},\"zaxis\":{\"backgroundcolor\":\"rgb(17,17,17)\",\"gridcolor\":\"#506784\",\"gridwidth\":2,\"linecolor\":\"#506784\",\"showbackground\":true,\"ticks\":\"\",\"zerolinecolor\":\"#C8D4E3\"}},\"shapedefaults\":{\"line\":{\"color\":\"#f2f5fa\"}},\"sliderdefaults\":{\"bgcolor\":\"#C8D4E3\",\"bordercolor\":\"rgb(17,17,17)\",\"borderwidth\":1,\"tickwidth\":0},\"ternary\":{\"aaxis\":{\"gridcolor\":\"#506784\",\"linecolor\":\"#506784\",\"ticks\":\"\"},\"baxis\":{\"gridcolor\":\"#506784\",\"linecolor\":\"#506784\",\"ticks\":\"\"},\"bgcolor\":\"rgb(17,17,17)\",\"caxis\":{\"gridcolor\":\"#506784\",\"linecolor\":\"#506784\",\"ticks\":\"\"}},\"title\":{\"x\":0.05},\"updatemenudefaults\":{\"bgcolor\":\"#506784\",\"borderwidth\":0},\"xaxis\":{\"automargin\":true,\"gridcolor\":\"#283442\",\"linecolor\":\"#506784\",\"ticks\":\"\",\"title\":{\"standoff\":15},\"zerolinecolor\":\"#283442\",\"zerolinewidth\":2},\"yaxis\":{\"automargin\":true,\"gridcolor\":\"#283442\",\"linecolor\":\"#506784\",\"ticks\":\"\",\"title\":{\"standoff\":15},\"zerolinecolor\":\"#283442\",\"zerolinewidth\":2}}},\"xaxis\":{\"tickmode\":\"array\",\"tickvals\":[0,1],\"ticktext\":[\"w0\",\"w1\"]},\"title\":{\"text\":\"Веса модели\"},\"width\":1200,\"height\":600},                        {\"responsive\": true}                    ).then(function(){\n",
              "                            \n",
              "var gd = document.getElementById('6b93ac38-0c27-4eee-842d-046ffcb2e6f4');\n",
              "var x = new MutationObserver(function (mutations, observer) {{\n",
              "        var display = window.getComputedStyle(gd).display;\n",
              "        if (!display || display === 'none') {{\n",
              "            console.log([gd, 'removed!']);\n",
              "            Plotly.purge(gd);\n",
              "            observer.disconnect();\n",
              "        }}\n",
              "}});\n",
              "\n",
              "// Listen for the removal of the full notebook cells\n",
              "var notebookContainer = gd.closest('#notebook-container');\n",
              "if (notebookContainer) {{\n",
              "    x.observe(notebookContainer, {childList: true});\n",
              "}}\n",
              "\n",
              "// Listen for the clearing of the current output cell\n",
              "var outputEl = gd.closest('.output');\n",
              "if (outputEl) {{\n",
              "    x.observe(outputEl, {childList: true});\n",
              "}}\n",
              "\n",
              "                        })                };                            </script>        </div>\n",
              "</body>\n",
              "</html>"
            ]
          },
          "metadata": {}
        }
      ]
    },
    {
      "cell_type": "markdown",
      "source": [
        "- Больший по модулю вес (w0) указывает на более сильное влияние соответствующего параметра модели на итоговый результат.\n",
        "- Отрицательные значения весов говорят о том, что увеличение соответствующих признаков приводит к уменьшению целевого показателя (y).\n",
        "- Разница в величинах весов показывает, что параметр w0 играет более важную роль, чем w1."
      ],
      "metadata": {
        "id": "izd-UpCyVj9R"
      }
    },
    {
      "cell_type": "markdown",
      "source": [
        "## Батчи"
      ],
      "metadata": {
        "id": "0kVe097ZgKOP"
      }
    },
    {
      "cell_type": "markdown",
      "metadata": {
        "id": "p4EBHGq1bNaZ"
      },
      "source": [
        "На практике как правило, на каждой эпохе рассматривается не вся выборка, а только некоторая ее часть - т.н. батч (мини пакет).\n",
        "Запишем функцию для генерации минибатчей заданного размера."
      ]
    },
    {
      "cell_type": "code",
      "execution_count": null,
      "metadata": {
        "id": "ltFx0w91bNaZ"
      },
      "outputs": [],
      "source": [
        "def load_batch(X,y, batch_size = 100):\n",
        "    \"\"\"загрузка батча.\n",
        "    Входные переменные:\n",
        "    ===========\n",
        "    X: признаки\n",
        "    y: целевые переменные\n",
        "    batch_size: размер батча\n",
        "    \"\"\"\n",
        "    idxs = np.arange(y.size) # массив всех индексов\n",
        "    np.random.shuffle(idxs) # перемешиваем индексы\n",
        "\n",
        "    for i_batch in range(0,y.size,batch_size): # берем столько батчей, сколько \"влезет\" в размерность данных\n",
        "        idx_batch = idxs[i_batch:i_batch+batch_size] # индексы текущего батча\n",
        "        x_batch   = np.take(X, idx_batch,axis=0) # признаки в текущем батче\n",
        "        y_batch   = np.take(y, idx_batch) # целевые переменные в текущем батче\n",
        "        yield  x_batch, y_batch # возвращаем текущий батч\n",
        "        # использование yield вместо return позволит на следущем вызове функции не запускать всё заново, а продолжить итерировать в цикле"
      ]
    },
    {
      "cell_type": "markdown",
      "metadata": {
        "id": "UPQkCM1qbNaZ"
      },
      "source": [
        "Также запишем функцию оптимизации методом стохастического градиентного спуска."
      ]
    },
    {
      "cell_type": "code",
      "execution_count": null,
      "metadata": {
        "id": "CgUUhr3sbNaZ"
      },
      "outputs": [],
      "source": [
        "BATCH = 10\n",
        "\n",
        "def fit_SGD(X, y, learning_rate, weights = None,  epochs=30, batch_size = 100, random_state = 42):\n",
        "    \"\"\"Обучение модели с разбиением данных на батчи.\n",
        "    Входные переменные:\n",
        "    ===========\n",
        "    X: признаки\n",
        "    y: реальные значения\n",
        "    learning_rate: скорость обучения\n",
        "    weights: веса\n",
        "    epochs: количество эпох обучения\n",
        "    batch_size: размер батча\n",
        "    random_state: фиксированный сид случайных чисел (для повторяемости)\n",
        "    \"\"\"\n",
        "\n",
        "    if random_state: np.random.seed(random_state)# фиксируем случайный seed\n",
        "\n",
        "    if weights is None: weights = init_weights(X.shape[1])# если веса не заданы - генерируем веса случайно\n",
        "    # это если хотим продолжать обучение\n",
        "\n",
        "\n",
        "    if batch_size is None or batch_size>y.size : batch_size = y.size  # \"чиним\" если размер батча не задан, или он больше количества данных\n",
        "    n_batches = y.size//batch_size # считаем сколько батчей \"влезет\" в нашу выборку\n",
        "\n",
        "    cost    = np.zeros(epochs) # создадим массив из нулей\n",
        "\n",
        "    for i in range(epochs): # цикл по количеству эпох\n",
        "    # на каждом шаге\n",
        "        loss = 0 #считаем функцию потерь в рамках отдельной эпохи\n",
        "        for cnt,(x_batch, y_batch) in enumerate(load_batch(X,y, batch_size)): # перебираем данные по батчам\n",
        "\n",
        "            yhat    = predict(x_batch, weights) # делаем предсказание в рамках текущего батча\n",
        "            grad    = grad_loss(yhat,  y_batch, x_batch) # считаем производную функции потерь в рамках текущего батча\n",
        "            weights = update_weights(grad, weights, learning_rate) # обновляем веса\n",
        "            loss   += loss_func(yhat,  y_batch).mean()# фиксируем среднее значение функции потерь в рамках текущего батча\n",
        "\n",
        "            if cnt>= n_batches: # неполные батчи не учитываем)\n",
        "                break\n",
        "        cost[i] = loss/n_batches # функция потерь как среднее от функций потерь на всех батчах в рамках эпохи\n",
        "\n",
        "    return weights, cost #возвращаем итоговые веса (после epochs шагов обновлений) и график функции потерь."
      ]
    },
    {
      "cell_type": "markdown",
      "source": [
        "Запустим обучение модели с разбиением данных на батчи"
      ],
      "metadata": {
        "id": "fNAl1j6b6g1l"
      }
    },
    {
      "cell_type": "code",
      "execution_count": null,
      "metadata": {
        "id": "2PD2HbycbNaa",
        "outputId": "d4147e25-5fcf-479f-d7cf-e2eb668320fd",
        "colab": {
          "base_uri": "https://localhost:8080/"
        }
      },
      "outputs": [
        {
          "output_type": "execute_result",
          "data": {
            "text/plain": [
              "(np.float64(0.2814912514744179), np.float64(0.27873353439695703))"
            ]
          },
          "metadata": {},
          "execution_count": 432
        }
      ],
      "source": [
        "weights = init_weights(x_train.shape[1], random_state=42)\n",
        "\n",
        "weights, cost = fit_SGD(x_train, y_train, learning_rate=0.1, weights= weights,  batch_size = 10,  epochs=10)\n",
        "\n",
        "predicts = predict(x_test, weights, )\n",
        "r2_score(predicts, y_test), r2_score(predict(x_train,weights, ), y_train)"
      ]
    },
    {
      "cell_type": "markdown",
      "source": [
        "При этом веса получились следующие"
      ],
      "metadata": {
        "id": "ocs_EJJ16sDd"
      }
    },
    {
      "cell_type": "code",
      "source": [
        "weights"
      ],
      "metadata": {
        "colab": {
          "base_uri": "https://localhost:8080/"
        },
        "id": "QBNTrsNJP8wC",
        "outputId": "7129d3d4-862c-46de-d6de-33ebcbe4bc92"
      },
      "execution_count": null,
      "outputs": [
        {
          "output_type": "execute_result",
          "data": {
            "text/plain": [
              "array([-0.81015584, -0.15250698])"
            ]
          },
          "metadata": {},
          "execution_count": 433
        }
      ]
    },
    {
      "cell_type": "code",
      "source": [
        "vis_weigths(weights)"
      ],
      "metadata": {
        "colab": {
          "base_uri": "https://localhost:8080/",
          "height": 617
        },
        "id": "WpEyxPJnPlii",
        "outputId": "397f7f20-ae99-4f1a-a633-b52786f2beff"
      },
      "execution_count": null,
      "outputs": [
        {
          "output_type": "display_data",
          "data": {
            "text/html": [
              "<html>\n",
              "<head><meta charset=\"utf-8\" /></head>\n",
              "<body>\n",
              "    <div>            <script src=\"https://cdnjs.cloudflare.com/ajax/libs/mathjax/2.7.5/MathJax.js?config=TeX-AMS-MML_SVG\"></script><script type=\"text/javascript\">if (window.MathJax && window.MathJax.Hub && window.MathJax.Hub.Config) {window.MathJax.Hub.Config({SVG: {font: \"STIX-Web\"}});}</script>                <script type=\"text/javascript\">window.PlotlyConfig = {MathJaxConfig: 'local'};</script>\n",
              "        <script charset=\"utf-8\" src=\"https://cdn.plot.ly/plotly-2.35.2.min.js\"></script>                <div id=\"d3113115-f9f9-4f65-aefe-2a6a5952c279\" class=\"plotly-graph-div\" style=\"height:600px; width:1200px;\"></div>            <script type=\"text/javascript\">                                    window.PLOTLYENV=window.PLOTLYENV || {};                                    if (document.getElementById(\"d3113115-f9f9-4f65-aefe-2a6a5952c279\")) {                    Plotly.newPlot(                        \"d3113115-f9f9-4f65-aefe-2a6a5952c279\",                        [{\"marker\":{\"color\":\"red\"},\"name\":\"отрицательные веса\",\"x\":[0,1],\"y\":[-0.8101558391580982,-0.15250698278913932],\"type\":\"bar\"},{\"marker\":{\"color\":\"blue\"},\"name\":\"положительные веса\",\"x\":[],\"y\":[],\"type\":\"bar\"}],                        {\"template\":{\"data\":{\"barpolar\":[{\"marker\":{\"line\":{\"color\":\"rgb(17,17,17)\",\"width\":0.5},\"pattern\":{\"fillmode\":\"overlay\",\"size\":10,\"solidity\":0.2}},\"type\":\"barpolar\"}],\"bar\":[{\"error_x\":{\"color\":\"#f2f5fa\"},\"error_y\":{\"color\":\"#f2f5fa\"},\"marker\":{\"line\":{\"color\":\"rgb(17,17,17)\",\"width\":0.5},\"pattern\":{\"fillmode\":\"overlay\",\"size\":10,\"solidity\":0.2}},\"type\":\"bar\"}],\"carpet\":[{\"aaxis\":{\"endlinecolor\":\"#A2B1C6\",\"gridcolor\":\"#506784\",\"linecolor\":\"#506784\",\"minorgridcolor\":\"#506784\",\"startlinecolor\":\"#A2B1C6\"},\"baxis\":{\"endlinecolor\":\"#A2B1C6\",\"gridcolor\":\"#506784\",\"linecolor\":\"#506784\",\"minorgridcolor\":\"#506784\",\"startlinecolor\":\"#A2B1C6\"},\"type\":\"carpet\"}],\"choropleth\":[{\"colorbar\":{\"outlinewidth\":0,\"ticks\":\"\"},\"type\":\"choropleth\"}],\"contourcarpet\":[{\"colorbar\":{\"outlinewidth\":0,\"ticks\":\"\"},\"type\":\"contourcarpet\"}],\"contour\":[{\"colorbar\":{\"outlinewidth\":0,\"ticks\":\"\"},\"colorscale\":[[0.0,\"#0d0887\"],[0.1111111111111111,\"#46039f\"],[0.2222222222222222,\"#7201a8\"],[0.3333333333333333,\"#9c179e\"],[0.4444444444444444,\"#bd3786\"],[0.5555555555555556,\"#d8576b\"],[0.6666666666666666,\"#ed7953\"],[0.7777777777777778,\"#fb9f3a\"],[0.8888888888888888,\"#fdca26\"],[1.0,\"#f0f921\"]],\"type\":\"contour\"}],\"heatmapgl\":[{\"colorbar\":{\"outlinewidth\":0,\"ticks\":\"\"},\"colorscale\":[[0.0,\"#0d0887\"],[0.1111111111111111,\"#46039f\"],[0.2222222222222222,\"#7201a8\"],[0.3333333333333333,\"#9c179e\"],[0.4444444444444444,\"#bd3786\"],[0.5555555555555556,\"#d8576b\"],[0.6666666666666666,\"#ed7953\"],[0.7777777777777778,\"#fb9f3a\"],[0.8888888888888888,\"#fdca26\"],[1.0,\"#f0f921\"]],\"type\":\"heatmapgl\"}],\"heatmap\":[{\"colorbar\":{\"outlinewidth\":0,\"ticks\":\"\"},\"colorscale\":[[0.0,\"#0d0887\"],[0.1111111111111111,\"#46039f\"],[0.2222222222222222,\"#7201a8\"],[0.3333333333333333,\"#9c179e\"],[0.4444444444444444,\"#bd3786\"],[0.5555555555555556,\"#d8576b\"],[0.6666666666666666,\"#ed7953\"],[0.7777777777777778,\"#fb9f3a\"],[0.8888888888888888,\"#fdca26\"],[1.0,\"#f0f921\"]],\"type\":\"heatmap\"}],\"histogram2dcontour\":[{\"colorbar\":{\"outlinewidth\":0,\"ticks\":\"\"},\"colorscale\":[[0.0,\"#0d0887\"],[0.1111111111111111,\"#46039f\"],[0.2222222222222222,\"#7201a8\"],[0.3333333333333333,\"#9c179e\"],[0.4444444444444444,\"#bd3786\"],[0.5555555555555556,\"#d8576b\"],[0.6666666666666666,\"#ed7953\"],[0.7777777777777778,\"#fb9f3a\"],[0.8888888888888888,\"#fdca26\"],[1.0,\"#f0f921\"]],\"type\":\"histogram2dcontour\"}],\"histogram2d\":[{\"colorbar\":{\"outlinewidth\":0,\"ticks\":\"\"},\"colorscale\":[[0.0,\"#0d0887\"],[0.1111111111111111,\"#46039f\"],[0.2222222222222222,\"#7201a8\"],[0.3333333333333333,\"#9c179e\"],[0.4444444444444444,\"#bd3786\"],[0.5555555555555556,\"#d8576b\"],[0.6666666666666666,\"#ed7953\"],[0.7777777777777778,\"#fb9f3a\"],[0.8888888888888888,\"#fdca26\"],[1.0,\"#f0f921\"]],\"type\":\"histogram2d\"}],\"histogram\":[{\"marker\":{\"pattern\":{\"fillmode\":\"overlay\",\"size\":10,\"solidity\":0.2}},\"type\":\"histogram\"}],\"mesh3d\":[{\"colorbar\":{\"outlinewidth\":0,\"ticks\":\"\"},\"type\":\"mesh3d\"}],\"parcoords\":[{\"line\":{\"colorbar\":{\"outlinewidth\":0,\"ticks\":\"\"}},\"type\":\"parcoords\"}],\"pie\":[{\"automargin\":true,\"type\":\"pie\"}],\"scatter3d\":[{\"line\":{\"colorbar\":{\"outlinewidth\":0,\"ticks\":\"\"}},\"marker\":{\"colorbar\":{\"outlinewidth\":0,\"ticks\":\"\"}},\"type\":\"scatter3d\"}],\"scattercarpet\":[{\"marker\":{\"colorbar\":{\"outlinewidth\":0,\"ticks\":\"\"}},\"type\":\"scattercarpet\"}],\"scattergeo\":[{\"marker\":{\"colorbar\":{\"outlinewidth\":0,\"ticks\":\"\"}},\"type\":\"scattergeo\"}],\"scattergl\":[{\"marker\":{\"line\":{\"color\":\"#283442\"}},\"type\":\"scattergl\"}],\"scattermapbox\":[{\"marker\":{\"colorbar\":{\"outlinewidth\":0,\"ticks\":\"\"}},\"type\":\"scattermapbox\"}],\"scatterpolargl\":[{\"marker\":{\"colorbar\":{\"outlinewidth\":0,\"ticks\":\"\"}},\"type\":\"scatterpolargl\"}],\"scatterpolar\":[{\"marker\":{\"colorbar\":{\"outlinewidth\":0,\"ticks\":\"\"}},\"type\":\"scatterpolar\"}],\"scatter\":[{\"marker\":{\"line\":{\"color\":\"#283442\"}},\"type\":\"scatter\"}],\"scatterternary\":[{\"marker\":{\"colorbar\":{\"outlinewidth\":0,\"ticks\":\"\"}},\"type\":\"scatterternary\"}],\"surface\":[{\"colorbar\":{\"outlinewidth\":0,\"ticks\":\"\"},\"colorscale\":[[0.0,\"#0d0887\"],[0.1111111111111111,\"#46039f\"],[0.2222222222222222,\"#7201a8\"],[0.3333333333333333,\"#9c179e\"],[0.4444444444444444,\"#bd3786\"],[0.5555555555555556,\"#d8576b\"],[0.6666666666666666,\"#ed7953\"],[0.7777777777777778,\"#fb9f3a\"],[0.8888888888888888,\"#fdca26\"],[1.0,\"#f0f921\"]],\"type\":\"surface\"}],\"table\":[{\"cells\":{\"fill\":{\"color\":\"#506784\"},\"line\":{\"color\":\"rgb(17,17,17)\"}},\"header\":{\"fill\":{\"color\":\"#2a3f5f\"},\"line\":{\"color\":\"rgb(17,17,17)\"}},\"type\":\"table\"}]},\"layout\":{\"annotationdefaults\":{\"arrowcolor\":\"#f2f5fa\",\"arrowhead\":0,\"arrowwidth\":1},\"autotypenumbers\":\"strict\",\"coloraxis\":{\"colorbar\":{\"outlinewidth\":0,\"ticks\":\"\"}},\"colorscale\":{\"diverging\":[[0,\"#8e0152\"],[0.1,\"#c51b7d\"],[0.2,\"#de77ae\"],[0.3,\"#f1b6da\"],[0.4,\"#fde0ef\"],[0.5,\"#f7f7f7\"],[0.6,\"#e6f5d0\"],[0.7,\"#b8e186\"],[0.8,\"#7fbc41\"],[0.9,\"#4d9221\"],[1,\"#276419\"]],\"sequential\":[[0.0,\"#0d0887\"],[0.1111111111111111,\"#46039f\"],[0.2222222222222222,\"#7201a8\"],[0.3333333333333333,\"#9c179e\"],[0.4444444444444444,\"#bd3786\"],[0.5555555555555556,\"#d8576b\"],[0.6666666666666666,\"#ed7953\"],[0.7777777777777778,\"#fb9f3a\"],[0.8888888888888888,\"#fdca26\"],[1.0,\"#f0f921\"]],\"sequentialminus\":[[0.0,\"#0d0887\"],[0.1111111111111111,\"#46039f\"],[0.2222222222222222,\"#7201a8\"],[0.3333333333333333,\"#9c179e\"],[0.4444444444444444,\"#bd3786\"],[0.5555555555555556,\"#d8576b\"],[0.6666666666666666,\"#ed7953\"],[0.7777777777777778,\"#fb9f3a\"],[0.8888888888888888,\"#fdca26\"],[1.0,\"#f0f921\"]]},\"colorway\":[\"#636efa\",\"#EF553B\",\"#00cc96\",\"#ab63fa\",\"#FFA15A\",\"#19d3f3\",\"#FF6692\",\"#B6E880\",\"#FF97FF\",\"#FECB52\"],\"font\":{\"color\":\"#f2f5fa\"},\"geo\":{\"bgcolor\":\"rgb(17,17,17)\",\"lakecolor\":\"rgb(17,17,17)\",\"landcolor\":\"rgb(17,17,17)\",\"showlakes\":true,\"showland\":true,\"subunitcolor\":\"#506784\"},\"hoverlabel\":{\"align\":\"left\"},\"hovermode\":\"closest\",\"mapbox\":{\"style\":\"dark\"},\"paper_bgcolor\":\"rgb(17,17,17)\",\"plot_bgcolor\":\"rgb(17,17,17)\",\"polar\":{\"angularaxis\":{\"gridcolor\":\"#506784\",\"linecolor\":\"#506784\",\"ticks\":\"\"},\"bgcolor\":\"rgb(17,17,17)\",\"radialaxis\":{\"gridcolor\":\"#506784\",\"linecolor\":\"#506784\",\"ticks\":\"\"}},\"scene\":{\"xaxis\":{\"backgroundcolor\":\"rgb(17,17,17)\",\"gridcolor\":\"#506784\",\"gridwidth\":2,\"linecolor\":\"#506784\",\"showbackground\":true,\"ticks\":\"\",\"zerolinecolor\":\"#C8D4E3\"},\"yaxis\":{\"backgroundcolor\":\"rgb(17,17,17)\",\"gridcolor\":\"#506784\",\"gridwidth\":2,\"linecolor\":\"#506784\",\"showbackground\":true,\"ticks\":\"\",\"zerolinecolor\":\"#C8D4E3\"},\"zaxis\":{\"backgroundcolor\":\"rgb(17,17,17)\",\"gridcolor\":\"#506784\",\"gridwidth\":2,\"linecolor\":\"#506784\",\"showbackground\":true,\"ticks\":\"\",\"zerolinecolor\":\"#C8D4E3\"}},\"shapedefaults\":{\"line\":{\"color\":\"#f2f5fa\"}},\"sliderdefaults\":{\"bgcolor\":\"#C8D4E3\",\"bordercolor\":\"rgb(17,17,17)\",\"borderwidth\":1,\"tickwidth\":0},\"ternary\":{\"aaxis\":{\"gridcolor\":\"#506784\",\"linecolor\":\"#506784\",\"ticks\":\"\"},\"baxis\":{\"gridcolor\":\"#506784\",\"linecolor\":\"#506784\",\"ticks\":\"\"},\"bgcolor\":\"rgb(17,17,17)\",\"caxis\":{\"gridcolor\":\"#506784\",\"linecolor\":\"#506784\",\"ticks\":\"\"}},\"title\":{\"x\":0.05},\"updatemenudefaults\":{\"bgcolor\":\"#506784\",\"borderwidth\":0},\"xaxis\":{\"automargin\":true,\"gridcolor\":\"#283442\",\"linecolor\":\"#506784\",\"ticks\":\"\",\"title\":{\"standoff\":15},\"zerolinecolor\":\"#283442\",\"zerolinewidth\":2},\"yaxis\":{\"automargin\":true,\"gridcolor\":\"#283442\",\"linecolor\":\"#506784\",\"ticks\":\"\",\"title\":{\"standoff\":15},\"zerolinecolor\":\"#283442\",\"zerolinewidth\":2}}},\"xaxis\":{\"tickmode\":\"array\",\"tickvals\":[0,1],\"ticktext\":[\"w0\",\"w1\"]},\"title\":{\"text\":\"Веса модели\"},\"width\":1200,\"height\":600},                        {\"responsive\": true}                    ).then(function(){\n",
              "                            \n",
              "var gd = document.getElementById('d3113115-f9f9-4f65-aefe-2a6a5952c279');\n",
              "var x = new MutationObserver(function (mutations, observer) {{\n",
              "        var display = window.getComputedStyle(gd).display;\n",
              "        if (!display || display === 'none') {{\n",
              "            console.log([gd, 'removed!']);\n",
              "            Plotly.purge(gd);\n",
              "            observer.disconnect();\n",
              "        }}\n",
              "}});\n",
              "\n",
              "// Listen for the removal of the full notebook cells\n",
              "var notebookContainer = gd.closest('#notebook-container');\n",
              "if (notebookContainer) {{\n",
              "    x.observe(notebookContainer, {childList: true});\n",
              "}}\n",
              "\n",
              "// Listen for the clearing of the current output cell\n",
              "var outputEl = gd.closest('.output');\n",
              "if (outputEl) {{\n",
              "    x.observe(outputEl, {childList: true});\n",
              "}}\n",
              "\n",
              "                        })                };                            </script>        </div>\n",
              "</body>\n",
              "</html>"
            ]
          },
          "metadata": {}
        }
      ]
    },
    {
      "cell_type": "markdown",
      "source": [
        "Вес w0 стал превосходить по модулю вес w1, при этом по сравнению с предыдущим вариантом вес w1 стал также меньше по модулю."
      ],
      "metadata": {
        "id": "prBA4wmYV0Sk"
      }
    },
    {
      "cell_type": "markdown",
      "source": [
        "Эволюция функции потерь"
      ],
      "metadata": {
        "id": "Kz8wfLTS6wja"
      }
    },
    {
      "cell_type": "code",
      "source": [
        "plot_cost(cost);"
      ],
      "metadata": {
        "colab": {
          "base_uri": "https://localhost:8080/",
          "height": 617
        },
        "id": "GeLI8nhoIjqg",
        "outputId": "bff82041-c549-4cc1-91a8-18b85f271487"
      },
      "execution_count": null,
      "outputs": [
        {
          "output_type": "display_data",
          "data": {
            "text/html": [
              "<html>\n",
              "<head><meta charset=\"utf-8\" /></head>\n",
              "<body>\n",
              "    <div>            <script src=\"https://cdnjs.cloudflare.com/ajax/libs/mathjax/2.7.5/MathJax.js?config=TeX-AMS-MML_SVG\"></script><script type=\"text/javascript\">if (window.MathJax && window.MathJax.Hub && window.MathJax.Hub.Config) {window.MathJax.Hub.Config({SVG: {font: \"STIX-Web\"}});}</script>                <script type=\"text/javascript\">window.PlotlyConfig = {MathJaxConfig: 'local'};</script>\n",
              "        <script charset=\"utf-8\" src=\"https://cdn.plot.ly/plotly-2.35.2.min.js\"></script>                <div id=\"ea7e87bb-7c4b-462e-a9ce-f606cdf37ab7\" class=\"plotly-graph-div\" style=\"height:600px; width:1200px;\"></div>            <script type=\"text/javascript\">                                    window.PLOTLYENV=window.PLOTLYENV || {};                                    if (document.getElementById(\"ea7e87bb-7c4b-462e-a9ce-f606cdf37ab7\")) {                    Plotly.newPlot(                        \"ea7e87bb-7c4b-462e-a9ce-f606cdf37ab7\",                        [{\"mode\":\"lines+markers\",\"name\":\"Реальные данные\",\"y\":[0.4141351192108823,0.03030507598776373,0.02126864459219091,0.020034251302965853,0.018465779146761667,0.017718266230124256,0.01661574388090245,0.015908189154237744,0.015280616122654992,0.014791072269184451],\"type\":\"scatter\"}],                        {\"template\":{\"data\":{\"barpolar\":[{\"marker\":{\"line\":{\"color\":\"rgb(17,17,17)\",\"width\":0.5},\"pattern\":{\"fillmode\":\"overlay\",\"size\":10,\"solidity\":0.2}},\"type\":\"barpolar\"}],\"bar\":[{\"error_x\":{\"color\":\"#f2f5fa\"},\"error_y\":{\"color\":\"#f2f5fa\"},\"marker\":{\"line\":{\"color\":\"rgb(17,17,17)\",\"width\":0.5},\"pattern\":{\"fillmode\":\"overlay\",\"size\":10,\"solidity\":0.2}},\"type\":\"bar\"}],\"carpet\":[{\"aaxis\":{\"endlinecolor\":\"#A2B1C6\",\"gridcolor\":\"#506784\",\"linecolor\":\"#506784\",\"minorgridcolor\":\"#506784\",\"startlinecolor\":\"#A2B1C6\"},\"baxis\":{\"endlinecolor\":\"#A2B1C6\",\"gridcolor\":\"#506784\",\"linecolor\":\"#506784\",\"minorgridcolor\":\"#506784\",\"startlinecolor\":\"#A2B1C6\"},\"type\":\"carpet\"}],\"choropleth\":[{\"colorbar\":{\"outlinewidth\":0,\"ticks\":\"\"},\"type\":\"choropleth\"}],\"contourcarpet\":[{\"colorbar\":{\"outlinewidth\":0,\"ticks\":\"\"},\"type\":\"contourcarpet\"}],\"contour\":[{\"colorbar\":{\"outlinewidth\":0,\"ticks\":\"\"},\"colorscale\":[[0.0,\"#0d0887\"],[0.1111111111111111,\"#46039f\"],[0.2222222222222222,\"#7201a8\"],[0.3333333333333333,\"#9c179e\"],[0.4444444444444444,\"#bd3786\"],[0.5555555555555556,\"#d8576b\"],[0.6666666666666666,\"#ed7953\"],[0.7777777777777778,\"#fb9f3a\"],[0.8888888888888888,\"#fdca26\"],[1.0,\"#f0f921\"]],\"type\":\"contour\"}],\"heatmapgl\":[{\"colorbar\":{\"outlinewidth\":0,\"ticks\":\"\"},\"colorscale\":[[0.0,\"#0d0887\"],[0.1111111111111111,\"#46039f\"],[0.2222222222222222,\"#7201a8\"],[0.3333333333333333,\"#9c179e\"],[0.4444444444444444,\"#bd3786\"],[0.5555555555555556,\"#d8576b\"],[0.6666666666666666,\"#ed7953\"],[0.7777777777777778,\"#fb9f3a\"],[0.8888888888888888,\"#fdca26\"],[1.0,\"#f0f921\"]],\"type\":\"heatmapgl\"}],\"heatmap\":[{\"colorbar\":{\"outlinewidth\":0,\"ticks\":\"\"},\"colorscale\":[[0.0,\"#0d0887\"],[0.1111111111111111,\"#46039f\"],[0.2222222222222222,\"#7201a8\"],[0.3333333333333333,\"#9c179e\"],[0.4444444444444444,\"#bd3786\"],[0.5555555555555556,\"#d8576b\"],[0.6666666666666666,\"#ed7953\"],[0.7777777777777778,\"#fb9f3a\"],[0.8888888888888888,\"#fdca26\"],[1.0,\"#f0f921\"]],\"type\":\"heatmap\"}],\"histogram2dcontour\":[{\"colorbar\":{\"outlinewidth\":0,\"ticks\":\"\"},\"colorscale\":[[0.0,\"#0d0887\"],[0.1111111111111111,\"#46039f\"],[0.2222222222222222,\"#7201a8\"],[0.3333333333333333,\"#9c179e\"],[0.4444444444444444,\"#bd3786\"],[0.5555555555555556,\"#d8576b\"],[0.6666666666666666,\"#ed7953\"],[0.7777777777777778,\"#fb9f3a\"],[0.8888888888888888,\"#fdca26\"],[1.0,\"#f0f921\"]],\"type\":\"histogram2dcontour\"}],\"histogram2d\":[{\"colorbar\":{\"outlinewidth\":0,\"ticks\":\"\"},\"colorscale\":[[0.0,\"#0d0887\"],[0.1111111111111111,\"#46039f\"],[0.2222222222222222,\"#7201a8\"],[0.3333333333333333,\"#9c179e\"],[0.4444444444444444,\"#bd3786\"],[0.5555555555555556,\"#d8576b\"],[0.6666666666666666,\"#ed7953\"],[0.7777777777777778,\"#fb9f3a\"],[0.8888888888888888,\"#fdca26\"],[1.0,\"#f0f921\"]],\"type\":\"histogram2d\"}],\"histogram\":[{\"marker\":{\"pattern\":{\"fillmode\":\"overlay\",\"size\":10,\"solidity\":0.2}},\"type\":\"histogram\"}],\"mesh3d\":[{\"colorbar\":{\"outlinewidth\":0,\"ticks\":\"\"},\"type\":\"mesh3d\"}],\"parcoords\":[{\"line\":{\"colorbar\":{\"outlinewidth\":0,\"ticks\":\"\"}},\"type\":\"parcoords\"}],\"pie\":[{\"automargin\":true,\"type\":\"pie\"}],\"scatter3d\":[{\"line\":{\"colorbar\":{\"outlinewidth\":0,\"ticks\":\"\"}},\"marker\":{\"colorbar\":{\"outlinewidth\":0,\"ticks\":\"\"}},\"type\":\"scatter3d\"}],\"scattercarpet\":[{\"marker\":{\"colorbar\":{\"outlinewidth\":0,\"ticks\":\"\"}},\"type\":\"scattercarpet\"}],\"scattergeo\":[{\"marker\":{\"colorbar\":{\"outlinewidth\":0,\"ticks\":\"\"}},\"type\":\"scattergeo\"}],\"scattergl\":[{\"marker\":{\"line\":{\"color\":\"#283442\"}},\"type\":\"scattergl\"}],\"scattermapbox\":[{\"marker\":{\"colorbar\":{\"outlinewidth\":0,\"ticks\":\"\"}},\"type\":\"scattermapbox\"}],\"scatterpolargl\":[{\"marker\":{\"colorbar\":{\"outlinewidth\":0,\"ticks\":\"\"}},\"type\":\"scatterpolargl\"}],\"scatterpolar\":[{\"marker\":{\"colorbar\":{\"outlinewidth\":0,\"ticks\":\"\"}},\"type\":\"scatterpolar\"}],\"scatter\":[{\"marker\":{\"line\":{\"color\":\"#283442\"}},\"type\":\"scatter\"}],\"scatterternary\":[{\"marker\":{\"colorbar\":{\"outlinewidth\":0,\"ticks\":\"\"}},\"type\":\"scatterternary\"}],\"surface\":[{\"colorbar\":{\"outlinewidth\":0,\"ticks\":\"\"},\"colorscale\":[[0.0,\"#0d0887\"],[0.1111111111111111,\"#46039f\"],[0.2222222222222222,\"#7201a8\"],[0.3333333333333333,\"#9c179e\"],[0.4444444444444444,\"#bd3786\"],[0.5555555555555556,\"#d8576b\"],[0.6666666666666666,\"#ed7953\"],[0.7777777777777778,\"#fb9f3a\"],[0.8888888888888888,\"#fdca26\"],[1.0,\"#f0f921\"]],\"type\":\"surface\"}],\"table\":[{\"cells\":{\"fill\":{\"color\":\"#506784\"},\"line\":{\"color\":\"rgb(17,17,17)\"}},\"header\":{\"fill\":{\"color\":\"#2a3f5f\"},\"line\":{\"color\":\"rgb(17,17,17)\"}},\"type\":\"table\"}]},\"layout\":{\"annotationdefaults\":{\"arrowcolor\":\"#f2f5fa\",\"arrowhead\":0,\"arrowwidth\":1},\"autotypenumbers\":\"strict\",\"coloraxis\":{\"colorbar\":{\"outlinewidth\":0,\"ticks\":\"\"}},\"colorscale\":{\"diverging\":[[0,\"#8e0152\"],[0.1,\"#c51b7d\"],[0.2,\"#de77ae\"],[0.3,\"#f1b6da\"],[0.4,\"#fde0ef\"],[0.5,\"#f7f7f7\"],[0.6,\"#e6f5d0\"],[0.7,\"#b8e186\"],[0.8,\"#7fbc41\"],[0.9,\"#4d9221\"],[1,\"#276419\"]],\"sequential\":[[0.0,\"#0d0887\"],[0.1111111111111111,\"#46039f\"],[0.2222222222222222,\"#7201a8\"],[0.3333333333333333,\"#9c179e\"],[0.4444444444444444,\"#bd3786\"],[0.5555555555555556,\"#d8576b\"],[0.6666666666666666,\"#ed7953\"],[0.7777777777777778,\"#fb9f3a\"],[0.8888888888888888,\"#fdca26\"],[1.0,\"#f0f921\"]],\"sequentialminus\":[[0.0,\"#0d0887\"],[0.1111111111111111,\"#46039f\"],[0.2222222222222222,\"#7201a8\"],[0.3333333333333333,\"#9c179e\"],[0.4444444444444444,\"#bd3786\"],[0.5555555555555556,\"#d8576b\"],[0.6666666666666666,\"#ed7953\"],[0.7777777777777778,\"#fb9f3a\"],[0.8888888888888888,\"#fdca26\"],[1.0,\"#f0f921\"]]},\"colorway\":[\"#636efa\",\"#EF553B\",\"#00cc96\",\"#ab63fa\",\"#FFA15A\",\"#19d3f3\",\"#FF6692\",\"#B6E880\",\"#FF97FF\",\"#FECB52\"],\"font\":{\"color\":\"#f2f5fa\"},\"geo\":{\"bgcolor\":\"rgb(17,17,17)\",\"lakecolor\":\"rgb(17,17,17)\",\"landcolor\":\"rgb(17,17,17)\",\"showlakes\":true,\"showland\":true,\"subunitcolor\":\"#506784\"},\"hoverlabel\":{\"align\":\"left\"},\"hovermode\":\"closest\",\"mapbox\":{\"style\":\"dark\"},\"paper_bgcolor\":\"rgb(17,17,17)\",\"plot_bgcolor\":\"rgb(17,17,17)\",\"polar\":{\"angularaxis\":{\"gridcolor\":\"#506784\",\"linecolor\":\"#506784\",\"ticks\":\"\"},\"bgcolor\":\"rgb(17,17,17)\",\"radialaxis\":{\"gridcolor\":\"#506784\",\"linecolor\":\"#506784\",\"ticks\":\"\"}},\"scene\":{\"xaxis\":{\"backgroundcolor\":\"rgb(17,17,17)\",\"gridcolor\":\"#506784\",\"gridwidth\":2,\"linecolor\":\"#506784\",\"showbackground\":true,\"ticks\":\"\",\"zerolinecolor\":\"#C8D4E3\"},\"yaxis\":{\"backgroundcolor\":\"rgb(17,17,17)\",\"gridcolor\":\"#506784\",\"gridwidth\":2,\"linecolor\":\"#506784\",\"showbackground\":true,\"ticks\":\"\",\"zerolinecolor\":\"#C8D4E3\"},\"zaxis\":{\"backgroundcolor\":\"rgb(17,17,17)\",\"gridcolor\":\"#506784\",\"gridwidth\":2,\"linecolor\":\"#506784\",\"showbackground\":true,\"ticks\":\"\",\"zerolinecolor\":\"#C8D4E3\"}},\"shapedefaults\":{\"line\":{\"color\":\"#f2f5fa\"}},\"sliderdefaults\":{\"bgcolor\":\"#C8D4E3\",\"bordercolor\":\"rgb(17,17,17)\",\"borderwidth\":1,\"tickwidth\":0},\"ternary\":{\"aaxis\":{\"gridcolor\":\"#506784\",\"linecolor\":\"#506784\",\"ticks\":\"\"},\"baxis\":{\"gridcolor\":\"#506784\",\"linecolor\":\"#506784\",\"ticks\":\"\"},\"bgcolor\":\"rgb(17,17,17)\",\"caxis\":{\"gridcolor\":\"#506784\",\"linecolor\":\"#506784\",\"ticks\":\"\"}},\"title\":{\"x\":0.05},\"updatemenudefaults\":{\"bgcolor\":\"#506784\",\"borderwidth\":0},\"xaxis\":{\"automargin\":true,\"gridcolor\":\"#283442\",\"linecolor\":\"#506784\",\"ticks\":\"\",\"title\":{\"standoff\":15},\"zerolinecolor\":\"#283442\",\"zerolinewidth\":2},\"yaxis\":{\"automargin\":true,\"gridcolor\":\"#283442\",\"linecolor\":\"#506784\",\"ticks\":\"\",\"title\":{\"standoff\":15},\"zerolinecolor\":\"#283442\",\"zerolinewidth\":2}}},\"title\":{\"text\":\"Кривая обучения\"},\"width\":1200,\"height\":600},                        {\"responsive\": true}                    ).then(function(){\n",
              "                            \n",
              "var gd = document.getElementById('ea7e87bb-7c4b-462e-a9ce-f606cdf37ab7');\n",
              "var x = new MutationObserver(function (mutations, observer) {{\n",
              "        var display = window.getComputedStyle(gd).display;\n",
              "        if (!display || display === 'none') {{\n",
              "            console.log([gd, 'removed!']);\n",
              "            Plotly.purge(gd);\n",
              "            observer.disconnect();\n",
              "        }}\n",
              "}});\n",
              "\n",
              "// Listen for the removal of the full notebook cells\n",
              "var notebookContainer = gd.closest('#notebook-container');\n",
              "if (notebookContainer) {{\n",
              "    x.observe(notebookContainer, {childList: true});\n",
              "}}\n",
              "\n",
              "// Listen for the clearing of the current output cell\n",
              "var outputEl = gd.closest('.output');\n",
              "if (outputEl) {{\n",
              "    x.observe(outputEl, {childList: true});\n",
              "}}\n",
              "\n",
              "                        })                };                            </script>        </div>\n",
              "</body>\n",
              "</html>"
            ]
          },
          "metadata": {}
        }
      ]
    },
    {
      "cell_type": "markdown",
      "source": [
        "Функция потерь уменьшилась"
      ],
      "metadata": {
        "id": "DUq925BLWZQU"
      }
    },
    {
      "cell_type": "markdown",
      "source": [
        "Визуализация модели"
      ],
      "metadata": {
        "id": "EYuPbDQl60Uq"
      }
    },
    {
      "cell_type": "code",
      "source": [
        "plot_model_weights(x_train, y_train, x_test, x, y_true, weights);"
      ],
      "metadata": {
        "colab": {
          "base_uri": "https://localhost:8080/",
          "height": 617
        },
        "id": "UmB3TS3MPt6J",
        "outputId": "33279907-0706-493d-84d2-ad20195d6c18"
      },
      "execution_count": null,
      "outputs": [
        {
          "output_type": "display_data",
          "data": {
            "text/html": [
              "<html>\n",
              "<head><meta charset=\"utf-8\" /></head>\n",
              "<body>\n",
              "    <div>            <script src=\"https://cdnjs.cloudflare.com/ajax/libs/mathjax/2.7.5/MathJax.js?config=TeX-AMS-MML_SVG\"></script><script type=\"text/javascript\">if (window.MathJax && window.MathJax.Hub && window.MathJax.Hub.Config) {window.MathJax.Hub.Config({SVG: {font: \"STIX-Web\"}});}</script>                <script type=\"text/javascript\">window.PlotlyConfig = {MathJaxConfig: 'local'};</script>\n",
              "        <script charset=\"utf-8\" src=\"https://cdn.plot.ly/plotly-2.35.2.min.js\"></script>                <div id=\"3e668d52-4eac-4bed-92ed-2f21d0a78539\" class=\"plotly-graph-div\" style=\"height:600px; width:1200px;\"></div>            <script type=\"text/javascript\">                                    window.PLOTLYENV=window.PLOTLYENV || {};                                    if (document.getElementById(\"3e668d52-4eac-4bed-92ed-2f21d0a78539\")) {                    Plotly.newPlot(                        \"3e668d52-4eac-4bed-92ed-2f21d0a78539\",                        [{\"marker\":{\"color\":\"Blue\",\"size\":10},\"mode\":\"markers\",\"name\":\"Предсказание на x_test\",\"x\":[0.7722447692966574,0.3567533266935893,0.5467102793432796,0.4401524937396013,0.9699098521619943,0.5426960831582485,0.7319939418114051,0.2912291401980419,0.9488855372533332,0.5612771975694962,0.6011150117432088,0.8154614284548342,0.31171107608941095,0.2587799816000169,0.020584494295802447,0.4951769101112702,0.17052412368729153,0.02541912674409519,0.18340450985343382,0.8631034258755935,0.9093204020787821,0.7296061783380641,0.8324426408004217,0.8021969807540397,0.15601864044243652,0.5924145688620425,0.7080725777960455,0.11586905952512971,0.9218742350231168,0.49379559636439074],\"y\":[-0.9279285588982263,-0.8645632126121257,-0.8935329743205493,-0.8772821679454403,-0.9580738642887842,-0.8929207813720466,-0.9217900266436844,-0.8545703166299768,-0.9548675094568555,-0.8957545310677657,-0.901830075908313,-0.9345194011926665,-0.8576939548744501,-0.8496215933581458,-0.8132951182753912,-0.8856737756660169,-0.836161958754409,-0.8140324334829748,-0.8381263075857663,-0.9417851384733545,-0.9488335500677403,-0.921425876040751,-0.9371091546515938,-0.9324964802954541,-0.8339497712708378,-0.9005031976155771,-0.9181418515935013,-0.8278266798248909,-0.9507480972525196,-0.8854631156741951],\"type\":\"scatter\"},{\"marker\":{\"color\":\"LightSkyBlue\",\"size\":15},\"mode\":\"markers\",\"name\":\"Предсказание на x_train\",\"x\":[0.8083973481164611,0.5142344384136116,0.7068573438476171,0.388677289689482,0.3745401188473625,0.32533033076326434,0.18182496720710062,0.7751328233611146,0.07455064367977082,0.005522117123602399,0.14092422497476265,0.2713490317738959,0.7290071680409873,0.29214464853521815,0.8948273504276488,0.045227288910538066,0.7607850486168974,0.770967179954561,0.09767211400638387,0.28093450968738076,0.5227328293819941,0.8661761457749352,0.1987156815341724,0.3584657285442726,0.6842330265121569,0.1195942459383017,0.3308980248526492,0.9656320330745594,0.07404465173409036,0.713244787222995,0.0884925020519195,0.43194501864211576,0.8287375091519293,0.21233911067827616,0.9394989415641891,0.046450412719997725,0.6232981268275579,0.6118528947223795,0.3046137691733707,0.12203823484477883,0.45606998421703593,0.3042422429595377,0.06355835028602363,0.9507143064099162,0.19967378215835974,0.15599452033620265,0.7851759613930136,0.1959828624191452,0.5986584841970366,0.10789142699330445,0.18485445552552704,0.034388521115218396,0.13949386065204183,0.32518332202674705,0.06505159298527952,0.7712703466859457,0.05808361216819946,0.6075448519014384,0.3109823217156622,0.8872127425763265,0.5247564316322378,0.9868869366005173,0.5200680211778108,0.3663618432936917,0.4722149251619493,0.6375574713552131,0.42754101835854963,0.662522284353982,0.5978999788110851,0.9695846277645586],\"y\":[-0.9334420796140812,-0.8885801818068255,-0.9179565199306434,-0.8694318398873013,-0.8672758226169951,-0.8597709863125963,-0.8378854163025873,-0.9283690073097286,-0.8215253328906883,-0.810998000579227,-0.8316477675108971,-0.8515384612766893,-0.9213345227876842,-0.8547099380441978,-0.9466232584890187,-0.817053316529577,-0.9261808714737498,-0.9277337176024197,-0.8250515185678486,-0.8530003135918669,-0.8898762457719761,-0.9422537497141592,-0.8404613681817623,-0.8648243658516959,-0.9145061535561484,-0.8283947967650909,-0.8606200985392614,-0.9574214670068416,-0.821448165585737,-0.9189306496475589,-0.8236515636454982,-0.8760304706820058,-0.9365440962030457,-0.8425390362557712,-0.9534359880696426,-0.8172398514513353,-0.9052131558586913,-0.9034676780430092,-0.8566115660107563,-0.8287675221391878,-0.8797096963917287,-0.8565549056688575,-0.8198489313912749,-0.9551464095231438,-0.8406074852171656,-0.8339460927862115,-0.9299006559887084,-0.840044594184021,-0.9014554383041079,-0.8266100351576617,-0.8383474344254255,-0.8154003287559608,-0.8314296269637498,-0.8597485664537464,-0.8200766613299103,-0.9277799526459052,-0.8190139955993648,-0.9028106714306611,-0.8575828147437152,-0.9454619776204911,-0.890184859245526,-0.9606629882130597,-0.8894698439130443,-0.8660285784878866,-0.8821719126225464,-0.9073878054691549,-0.8753588298865567,-0.9111951137754922,-0.9013397609362671,-0.9580242652972017],\"type\":\"scatter\"},{\"marker\":{\"color\":\"Red\",\"size\":5},\"mode\":\"markers\",\"name\":\"Тренировочные данные\",\"x\":[0.8083973481164611,0.5142344384136116,0.7068573438476171,0.388677289689482,0.3745401188473625,0.32533033076326434,0.18182496720710062,0.7751328233611146,0.07455064367977082,0.005522117123602399,0.14092422497476265,0.2713490317738959,0.7290071680409873,0.29214464853521815,0.8948273504276488,0.045227288910538066,0.7607850486168974,0.770967179954561,0.09767211400638387,0.28093450968738076,0.5227328293819941,0.8661761457749352,0.1987156815341724,0.3584657285442726,0.6842330265121569,0.1195942459383017,0.3308980248526492,0.9656320330745594,0.07404465173409036,0.713244787222995,0.0884925020519195,0.43194501864211576,0.8287375091519293,0.21233911067827616,0.9394989415641891,0.046450412719997725,0.6232981268275579,0.6118528947223795,0.3046137691733707,0.12203823484477883,0.45606998421703593,0.3042422429595377,0.06355835028602363,0.9507143064099162,0.19967378215835974,0.15599452033620265,0.7851759613930136,0.1959828624191452,0.5986584841970366,0.10789142699330445,0.18485445552552704,0.034388521115218396,0.13949386065204183,0.32518332202674705,0.06505159298527952,0.7712703466859457,0.05808361216819946,0.6075448519014384,0.3109823217156622,0.8872127425763265,0.5247564316322378,0.9868869366005173,0.5200680211778108,0.3663618432936917,0.4722149251619493,0.6375574713552131,0.42754101835854963,0.662522284353982,0.5978999788110851,0.9695846277645586],\"y\":[-0.913266967572303,-1.0268093337636421,-1.1219473122620998,-1.0133964994289786,-0.8354152466264914,-0.8539316722190262,-0.7716708187899872,-0.8010265386431524,-0.5771654324316574,-0.5859421867617085,-0.7737569144033493,-0.6572675757140944,-0.9661586353121427,-0.8686272789307242,-0.8635830393506385,-0.6598613299781285,-1.0586458657729918,-0.9653049272429247,-0.745253301501216,-0.8355680366167414,-0.9721548527969512,-0.8621130423864165,-0.8212963605904993,-0.7907691172652475,-0.9214653732221386,-0.6171423590743093,-0.8912149696794142,-0.9152165891354296,-0.7183582301511311,-0.9454718638305782,-0.6501224793307185,-1.0846480198333093,-0.8937843375363044,-0.8148162050891964,-0.9981554751575827,-0.6034878373515413,-1.1588833481123535,-0.8662825932216369,-0.8726596894341857,-0.7865961894554394,-0.7361555732011947,-1.061626254715755,-0.7090998112038347,-0.9979698299955874,-0.8680819394484063,-0.8950378253026144,-0.9378400008263421,-0.826716493272765,-0.9139997133606457,-0.6511567276721061,-0.9164121924861028,-0.8250142301555896,-0.7659540629280804,-0.903225204400091,-0.7396836160669714,-0.959156845435709,-0.5037362544797601,-0.973752835690457,-0.8683913459624867,-0.9080369278012306,-1.0858274012528155,-0.8113920797993781,-1.1332935377622513,-0.8345666446709927,-1.0608173412444053,-0.9807127667758208,-0.8021038341673404,-0.9740006854866088,-1.0274521668803867,-0.8709656772212931],\"type\":\"scatter\"},{\"marker\":{\"color\":\"green\",\"size\":15},\"mode\":\"lines+markers\",\"name\":\"Истинные значения\",\"opacity\":0.7,\"x\":[0.005522117123602399,0.020584494295802447,0.02541912674409519,0.034388521115218396,0.045227288910538066,0.046450412719997725,0.05808361216819946,0.06355835028602363,0.06505159298527952,0.07404465173409036,0.07455064367977082,0.0884925020519195,0.09767211400638387,0.10789142699330445,0.11586905952512971,0.1195942459383017,0.12203823484477883,0.13949386065204183,0.14092422497476265,0.15599452033620265,0.15601864044243652,0.17052412368729153,0.18182496720710062,0.18340450985343382,0.18485445552552704,0.1959828624191452,0.1987156815341724,0.19967378215835974,0.21233911067827616,0.2587799816000169,0.2713490317738959,0.28093450968738076,0.2912291401980419,0.29214464853521815,0.3042422429595377,0.3046137691733707,0.3109823217156622,0.31171107608941095,0.32518332202674705,0.32533033076326434,0.3308980248526492,0.3567533266935893,0.3584657285442726,0.3663618432936917,0.3745401188473625,0.388677289689482,0.42754101835854963,0.43194501864211576,0.4401524937396013,0.45606998421703593,0.4722149251619493,0.49379559636439074,0.4951769101112702,0.5142344384136116,0.5200680211778108,0.5227328293819941,0.5247564316322378,0.5426960831582485,0.5467102793432796,0.5612771975694962,0.5924145688620425,0.5978999788110851,0.5986584841970366,0.6011150117432088,0.6075448519014384,0.6118528947223795,0.6232981268275579,0.6375574713552131,0.662522284353982,0.6842330265121569,0.7068573438476171,0.7080725777960455,0.713244787222995,0.7290071680409873,0.7296061783380641,0.7319939418114051,0.7607850486168974,0.770967179954561,0.7712703466859457,0.7722447692966574,0.7751328233611146,0.7851759613930136,0.8021969807540397,0.8083973481164611,0.8154614284548342,0.8287375091519293,0.8324426408004217,0.8631034258755935,0.8661761457749352,0.8872127425763265,0.8948273504276488,0.9093204020787821,0.9218742350231168,0.9394989415641891,0.9488855372533332,0.9507143064099162,0.9656320330745594,0.9695846277645586,0.9699098521619943,0.9868869366005173],\"y\":[-0.5946468935855256,-0.611251089972274,-0.6165300993479673,-0.6262573386955004,-0.6378941411943774,-0.639199094502716,-0.6515256589539117,-0.6572727893764699,-0.6588342557776526,-0.6681825257926775,-0.6687056442018648,-0.6829975902966869,-0.6922772811245121,-0.7024834709834417,-0.7103580494461422,-0.7140068581275982,-0.7163908800677041,-0.7331878482683036,-0.7345460990901335,-0.7486863304894026,-0.7487087104044007,-0.7620196355345215,-0.7721821644542333,-0.7735879078911895,-0.7748751182810614,-0.784651960996229,-0.7870249089378223,-0.7878542125262444,-0.7986876339225955,-0.8362967377933449,-0.8458861658351474,-0.8530258178999253,-0.8605243896101472,-0.8611826873541075,-0.8697491331858507,-0.870008301889264,-0.8744143669565894,-0.8749141441122437,-0.8839891079219787,-0.8840864064523875,-0.8877437927088898,-0.9040155404789239,-0.9050513987167496,-0.9097599479396702,-0.9145184413307961,-0.9224577539495047,-0.9423832652609504,-0.9444629135540813,-0.9482406139690431,-0.9552011357821926,-0.9617637087313365,-0.9697452370383607,-0.9702250903840238,-0.9764617683520221,-0.9782271946556381,-0.9790111502775539,-0.979597029880205,-0.9844334452829295,-0.9854273766348756,-0.9887617994746012,-0.9944486464873763,-0.995246015259819,-0.9953514350976126,-0.99568477845854,-0.99649882915087,-0.9969968686498797,-0.9981350246562306,-0.9991761526290511,-0.9999889649114512,-0.9996476603998696,-0.9982522411742915,-0.998147232920891,-0.997666020392268,-0.9958571026354613,-0.9957781901110743,-0.9954562319167004,-0.9906433936151426,-0.9885302969590251,-0.9884640927655771,-0.9882500156337936,-0.9876039897576281,-0.9852232929175209,-0.9807133897940752,-0.9789223284356859,-0.9767855167701207,-0.9724927979105495,-0.9712303955901591,-0.959710344669454,-0.9584506553108487,-0.9493150204948804,-0.9457890553500875,-0.938758046578205,-0.9323304652944888,-0.9227818587218337,-0.9174479842433375,-0.9163888014990436,-0.9075064181940191,-0.9050808747029575,-0.9048799587740414,-0.8941104047029805],\"type\":\"scatter\"}],                        {\"template\":{\"data\":{\"barpolar\":[{\"marker\":{\"line\":{\"color\":\"rgb(17,17,17)\",\"width\":0.5},\"pattern\":{\"fillmode\":\"overlay\",\"size\":10,\"solidity\":0.2}},\"type\":\"barpolar\"}],\"bar\":[{\"error_x\":{\"color\":\"#f2f5fa\"},\"error_y\":{\"color\":\"#f2f5fa\"},\"marker\":{\"line\":{\"color\":\"rgb(17,17,17)\",\"width\":0.5},\"pattern\":{\"fillmode\":\"overlay\",\"size\":10,\"solidity\":0.2}},\"type\":\"bar\"}],\"carpet\":[{\"aaxis\":{\"endlinecolor\":\"#A2B1C6\",\"gridcolor\":\"#506784\",\"linecolor\":\"#506784\",\"minorgridcolor\":\"#506784\",\"startlinecolor\":\"#A2B1C6\"},\"baxis\":{\"endlinecolor\":\"#A2B1C6\",\"gridcolor\":\"#506784\",\"linecolor\":\"#506784\",\"minorgridcolor\":\"#506784\",\"startlinecolor\":\"#A2B1C6\"},\"type\":\"carpet\"}],\"choropleth\":[{\"colorbar\":{\"outlinewidth\":0,\"ticks\":\"\"},\"type\":\"choropleth\"}],\"contourcarpet\":[{\"colorbar\":{\"outlinewidth\":0,\"ticks\":\"\"},\"type\":\"contourcarpet\"}],\"contour\":[{\"colorbar\":{\"outlinewidth\":0,\"ticks\":\"\"},\"colorscale\":[[0.0,\"#0d0887\"],[0.1111111111111111,\"#46039f\"],[0.2222222222222222,\"#7201a8\"],[0.3333333333333333,\"#9c179e\"],[0.4444444444444444,\"#bd3786\"],[0.5555555555555556,\"#d8576b\"],[0.6666666666666666,\"#ed7953\"],[0.7777777777777778,\"#fb9f3a\"],[0.8888888888888888,\"#fdca26\"],[1.0,\"#f0f921\"]],\"type\":\"contour\"}],\"heatmapgl\":[{\"colorbar\":{\"outlinewidth\":0,\"ticks\":\"\"},\"colorscale\":[[0.0,\"#0d0887\"],[0.1111111111111111,\"#46039f\"],[0.2222222222222222,\"#7201a8\"],[0.3333333333333333,\"#9c179e\"],[0.4444444444444444,\"#bd3786\"],[0.5555555555555556,\"#d8576b\"],[0.6666666666666666,\"#ed7953\"],[0.7777777777777778,\"#fb9f3a\"],[0.8888888888888888,\"#fdca26\"],[1.0,\"#f0f921\"]],\"type\":\"heatmapgl\"}],\"heatmap\":[{\"colorbar\":{\"outlinewidth\":0,\"ticks\":\"\"},\"colorscale\":[[0.0,\"#0d0887\"],[0.1111111111111111,\"#46039f\"],[0.2222222222222222,\"#7201a8\"],[0.3333333333333333,\"#9c179e\"],[0.4444444444444444,\"#bd3786\"],[0.5555555555555556,\"#d8576b\"],[0.6666666666666666,\"#ed7953\"],[0.7777777777777778,\"#fb9f3a\"],[0.8888888888888888,\"#fdca26\"],[1.0,\"#f0f921\"]],\"type\":\"heatmap\"}],\"histogram2dcontour\":[{\"colorbar\":{\"outlinewidth\":0,\"ticks\":\"\"},\"colorscale\":[[0.0,\"#0d0887\"],[0.1111111111111111,\"#46039f\"],[0.2222222222222222,\"#7201a8\"],[0.3333333333333333,\"#9c179e\"],[0.4444444444444444,\"#bd3786\"],[0.5555555555555556,\"#d8576b\"],[0.6666666666666666,\"#ed7953\"],[0.7777777777777778,\"#fb9f3a\"],[0.8888888888888888,\"#fdca26\"],[1.0,\"#f0f921\"]],\"type\":\"histogram2dcontour\"}],\"histogram2d\":[{\"colorbar\":{\"outlinewidth\":0,\"ticks\":\"\"},\"colorscale\":[[0.0,\"#0d0887\"],[0.1111111111111111,\"#46039f\"],[0.2222222222222222,\"#7201a8\"],[0.3333333333333333,\"#9c179e\"],[0.4444444444444444,\"#bd3786\"],[0.5555555555555556,\"#d8576b\"],[0.6666666666666666,\"#ed7953\"],[0.7777777777777778,\"#fb9f3a\"],[0.8888888888888888,\"#fdca26\"],[1.0,\"#f0f921\"]],\"type\":\"histogram2d\"}],\"histogram\":[{\"marker\":{\"pattern\":{\"fillmode\":\"overlay\",\"size\":10,\"solidity\":0.2}},\"type\":\"histogram\"}],\"mesh3d\":[{\"colorbar\":{\"outlinewidth\":0,\"ticks\":\"\"},\"type\":\"mesh3d\"}],\"parcoords\":[{\"line\":{\"colorbar\":{\"outlinewidth\":0,\"ticks\":\"\"}},\"type\":\"parcoords\"}],\"pie\":[{\"automargin\":true,\"type\":\"pie\"}],\"scatter3d\":[{\"line\":{\"colorbar\":{\"outlinewidth\":0,\"ticks\":\"\"}},\"marker\":{\"colorbar\":{\"outlinewidth\":0,\"ticks\":\"\"}},\"type\":\"scatter3d\"}],\"scattercarpet\":[{\"marker\":{\"colorbar\":{\"outlinewidth\":0,\"ticks\":\"\"}},\"type\":\"scattercarpet\"}],\"scattergeo\":[{\"marker\":{\"colorbar\":{\"outlinewidth\":0,\"ticks\":\"\"}},\"type\":\"scattergeo\"}],\"scattergl\":[{\"marker\":{\"line\":{\"color\":\"#283442\"}},\"type\":\"scattergl\"}],\"scattermapbox\":[{\"marker\":{\"colorbar\":{\"outlinewidth\":0,\"ticks\":\"\"}},\"type\":\"scattermapbox\"}],\"scatterpolargl\":[{\"marker\":{\"colorbar\":{\"outlinewidth\":0,\"ticks\":\"\"}},\"type\":\"scatterpolargl\"}],\"scatterpolar\":[{\"marker\":{\"colorbar\":{\"outlinewidth\":0,\"ticks\":\"\"}},\"type\":\"scatterpolar\"}],\"scatter\":[{\"marker\":{\"line\":{\"color\":\"#283442\"}},\"type\":\"scatter\"}],\"scatterternary\":[{\"marker\":{\"colorbar\":{\"outlinewidth\":0,\"ticks\":\"\"}},\"type\":\"scatterternary\"}],\"surface\":[{\"colorbar\":{\"outlinewidth\":0,\"ticks\":\"\"},\"colorscale\":[[0.0,\"#0d0887\"],[0.1111111111111111,\"#46039f\"],[0.2222222222222222,\"#7201a8\"],[0.3333333333333333,\"#9c179e\"],[0.4444444444444444,\"#bd3786\"],[0.5555555555555556,\"#d8576b\"],[0.6666666666666666,\"#ed7953\"],[0.7777777777777778,\"#fb9f3a\"],[0.8888888888888888,\"#fdca26\"],[1.0,\"#f0f921\"]],\"type\":\"surface\"}],\"table\":[{\"cells\":{\"fill\":{\"color\":\"#506784\"},\"line\":{\"color\":\"rgb(17,17,17)\"}},\"header\":{\"fill\":{\"color\":\"#2a3f5f\"},\"line\":{\"color\":\"rgb(17,17,17)\"}},\"type\":\"table\"}]},\"layout\":{\"annotationdefaults\":{\"arrowcolor\":\"#f2f5fa\",\"arrowhead\":0,\"arrowwidth\":1},\"autotypenumbers\":\"strict\",\"coloraxis\":{\"colorbar\":{\"outlinewidth\":0,\"ticks\":\"\"}},\"colorscale\":{\"diverging\":[[0,\"#8e0152\"],[0.1,\"#c51b7d\"],[0.2,\"#de77ae\"],[0.3,\"#f1b6da\"],[0.4,\"#fde0ef\"],[0.5,\"#f7f7f7\"],[0.6,\"#e6f5d0\"],[0.7,\"#b8e186\"],[0.8,\"#7fbc41\"],[0.9,\"#4d9221\"],[1,\"#276419\"]],\"sequential\":[[0.0,\"#0d0887\"],[0.1111111111111111,\"#46039f\"],[0.2222222222222222,\"#7201a8\"],[0.3333333333333333,\"#9c179e\"],[0.4444444444444444,\"#bd3786\"],[0.5555555555555556,\"#d8576b\"],[0.6666666666666666,\"#ed7953\"],[0.7777777777777778,\"#fb9f3a\"],[0.8888888888888888,\"#fdca26\"],[1.0,\"#f0f921\"]],\"sequentialminus\":[[0.0,\"#0d0887\"],[0.1111111111111111,\"#46039f\"],[0.2222222222222222,\"#7201a8\"],[0.3333333333333333,\"#9c179e\"],[0.4444444444444444,\"#bd3786\"],[0.5555555555555556,\"#d8576b\"],[0.6666666666666666,\"#ed7953\"],[0.7777777777777778,\"#fb9f3a\"],[0.8888888888888888,\"#fdca26\"],[1.0,\"#f0f921\"]]},\"colorway\":[\"#636efa\",\"#EF553B\",\"#00cc96\",\"#ab63fa\",\"#FFA15A\",\"#19d3f3\",\"#FF6692\",\"#B6E880\",\"#FF97FF\",\"#FECB52\"],\"font\":{\"color\":\"#f2f5fa\"},\"geo\":{\"bgcolor\":\"rgb(17,17,17)\",\"lakecolor\":\"rgb(17,17,17)\",\"landcolor\":\"rgb(17,17,17)\",\"showlakes\":true,\"showland\":true,\"subunitcolor\":\"#506784\"},\"hoverlabel\":{\"align\":\"left\"},\"hovermode\":\"closest\",\"mapbox\":{\"style\":\"dark\"},\"paper_bgcolor\":\"rgb(17,17,17)\",\"plot_bgcolor\":\"rgb(17,17,17)\",\"polar\":{\"angularaxis\":{\"gridcolor\":\"#506784\",\"linecolor\":\"#506784\",\"ticks\":\"\"},\"bgcolor\":\"rgb(17,17,17)\",\"radialaxis\":{\"gridcolor\":\"#506784\",\"linecolor\":\"#506784\",\"ticks\":\"\"}},\"scene\":{\"xaxis\":{\"backgroundcolor\":\"rgb(17,17,17)\",\"gridcolor\":\"#506784\",\"gridwidth\":2,\"linecolor\":\"#506784\",\"showbackground\":true,\"ticks\":\"\",\"zerolinecolor\":\"#C8D4E3\"},\"yaxis\":{\"backgroundcolor\":\"rgb(17,17,17)\",\"gridcolor\":\"#506784\",\"gridwidth\":2,\"linecolor\":\"#506784\",\"showbackground\":true,\"ticks\":\"\",\"zerolinecolor\":\"#C8D4E3\"},\"zaxis\":{\"backgroundcolor\":\"rgb(17,17,17)\",\"gridcolor\":\"#506784\",\"gridwidth\":2,\"linecolor\":\"#506784\",\"showbackground\":true,\"ticks\":\"\",\"zerolinecolor\":\"#C8D4E3\"}},\"shapedefaults\":{\"line\":{\"color\":\"#f2f5fa\"}},\"sliderdefaults\":{\"bgcolor\":\"#C8D4E3\",\"bordercolor\":\"rgb(17,17,17)\",\"borderwidth\":1,\"tickwidth\":0},\"ternary\":{\"aaxis\":{\"gridcolor\":\"#506784\",\"linecolor\":\"#506784\",\"ticks\":\"\"},\"baxis\":{\"gridcolor\":\"#506784\",\"linecolor\":\"#506784\",\"ticks\":\"\"},\"bgcolor\":\"rgb(17,17,17)\",\"caxis\":{\"gridcolor\":\"#506784\",\"linecolor\":\"#506784\",\"ticks\":\"\"}},\"title\":{\"x\":0.05},\"updatemenudefaults\":{\"bgcolor\":\"#506784\",\"borderwidth\":0},\"xaxis\":{\"automargin\":true,\"gridcolor\":\"#283442\",\"linecolor\":\"#506784\",\"ticks\":\"\",\"title\":{\"standoff\":15},\"zerolinecolor\":\"#283442\",\"zerolinewidth\":2},\"yaxis\":{\"automargin\":true,\"gridcolor\":\"#283442\",\"linecolor\":\"#506784\",\"ticks\":\"\",\"title\":{\"standoff\":15},\"zerolinecolor\":\"#283442\",\"zerolinewidth\":2}}},\"title\":{\"text\":\"Тренировочные и тестовые данные\"},\"width\":1200,\"height\":600},                        {\"responsive\": true}                    ).then(function(){\n",
              "                            \n",
              "var gd = document.getElementById('3e668d52-4eac-4bed-92ed-2f21d0a78539');\n",
              "var x = new MutationObserver(function (mutations, observer) {{\n",
              "        var display = window.getComputedStyle(gd).display;\n",
              "        if (!display || display === 'none') {{\n",
              "            console.log([gd, 'removed!']);\n",
              "            Plotly.purge(gd);\n",
              "            observer.disconnect();\n",
              "        }}\n",
              "}});\n",
              "\n",
              "// Listen for the removal of the full notebook cells\n",
              "var notebookContainer = gd.closest('#notebook-container');\n",
              "if (notebookContainer) {{\n",
              "    x.observe(notebookContainer, {childList: true});\n",
              "}}\n",
              "\n",
              "// Listen for the clearing of the current output cell\n",
              "var outputEl = gd.closest('.output');\n",
              "if (outputEl) {{\n",
              "    x.observe(outputEl, {childList: true});\n",
              "}}\n",
              "\n",
              "                        })                };                            </script>        </div>\n",
              "</body>\n",
              "</html>"
            ]
          },
          "metadata": {}
        }
      ]
    },
    {
      "cell_type": "markdown",
      "source": [
        "Разброс значений предсказанных относительно истинных значений также велик."
      ],
      "metadata": {
        "id": "btAn9MhjNXqJ"
      }
    },
    {
      "cell_type": "markdown",
      "source": [
        "## ООП edition"
      ],
      "metadata": {
        "id": "uWwWKmcmggNa"
      }
    },
    {
      "cell_type": "markdown",
      "metadata": {
        "id": "jbP579qwbNaa"
      },
      "source": [
        "Теперь необходимо объеденить все части в один класс линейной регресии.\n",
        "\n",
        "Методы, в этом классе это функции, которые мы обсуждали с вами ранее"
      ]
    },
    {
      "cell_type": "code",
      "execution_count": null,
      "metadata": {
        "id": "OD-cB5BvbNaa"
      },
      "outputs": [],
      "source": [
        "class LinearRegression():\n",
        "    def __init__(self,\n",
        "                 learning_rate = 0.5,\n",
        "                 epochs = 100,\n",
        "                 weights = None,\n",
        "                 bias    = None,\n",
        "                 batch_size   = 1000,\n",
        "                 n_batches    = None,\n",
        "                 random_state = 42):\n",
        "        self.lr      = learning_rate\n",
        "        self.epochs  = epochs\n",
        "        self.weights = weights\n",
        "        self.bias    = bias\n",
        "        self.seed    = random_state\n",
        "        self.batch_size = batch_size\n",
        "        self.cost    = np.zeros(epochs)\n",
        "        self.n_batches = n_batches\n",
        "\n",
        "\n",
        "    #---------------------------------\n",
        "    def forward(self, X):\n",
        "        # умножаем признаки на веса\n",
        "        return np.dot(X, self.weights)\n",
        "\n",
        "    #---------------------------------\n",
        "    def loss(self,yhat, y):\n",
        "        # расчет функции потерь\n",
        "        return np.square(yhat - y).sum()/y.size\n",
        "\n",
        "    #---------------------------------\n",
        "    def grad_step(self,yhat, y, X):\n",
        "        # расчет градиента\n",
        "        return 2*np.dot(X.T, (yhat - y)) / y.size\n",
        "\n",
        "    #---------------------------------\n",
        "    def update(self):\n",
        "        # обновление весов\n",
        "        return self.weights - self.lr*self.grad\n",
        "\n",
        "    #---------------------------------\n",
        "    def init(self, weights_size):\n",
        "        # инициализируем веса\n",
        "        np.random.seed(self.seed)\n",
        "        return np.random.randn(weights_size)/np.sqrt(weights_size)\n",
        "\n",
        "    #---------------------------------\n",
        "    def predict(self, X):\n",
        "        # делем предсказание модели\n",
        "        yhat = self.forward(self.add_bias(X))\n",
        "        return yhat.squeeze()\n",
        "\n",
        "    #---------------------------------\n",
        "    def score(self, X, y):\n",
        "        # оценка по коэффициенту детерминации\n",
        "        yhat = self.predict(X)\n",
        "        return 1-np.sum(np.square(y-yhat))/np.sum(np.square(y-np.mean(y)))\n",
        "\n",
        "    #---------------------------------\n",
        "    def fit(self, X, y):\n",
        "        # обучение модели с учетом разбиения на батчи\n",
        "        np.random.seed(self.seed)\n",
        "\n",
        "        if self.weights is None: # если веса не заданы - задаем\n",
        "            self.weights = self.init(X.shape[1])\n",
        "\n",
        "        if self.bias is None: # если смещение не задано - задаем\n",
        "            self.bias    = self.init(1)\n",
        "\n",
        "        if self.weights.size == X.shape[1]: # если веса заданы, но не добавлено смещение - объединяем\n",
        "            self.weights = np.append(self.bias,self.weights)\n",
        "\n",
        "        self.grad    = np.zeros(self.weights.shape)\n",
        "        self.cost    = np.zeros(self.epochs)\n",
        "\n",
        "        if self.batch_size is None:   # проверка на согласование размерности батча и размерности данных\n",
        "            self.batch_size = y.size\n",
        "\n",
        "        if self.n_batches is None:\n",
        "            self.n_batches = y.size//self.batch_size\n",
        "\n",
        "        for i in range(self.epochs): #циклы обучения, как раньше\n",
        "            loss = 0\n",
        "            for cnt,(x_batch, y_batch) in enumerate(self.load_batch(X,y)):\n",
        "\n",
        "                yhat         = self.forward(x_batch)\n",
        "                self.grad    = self.grad_step(yhat,  y_batch, x_batch)\n",
        "                self.weights = self.update()\n",
        "                loss += self.loss(yhat,  y_batch)\n",
        "\n",
        "                if cnt>= self.n_batches:\n",
        "                    break\n",
        "            self.cost[i] = loss/self.n_batches\n",
        "\n",
        "        self.bias = self.weights[0]\n",
        "    #---------------------------------\n",
        "    def load_batch(self,X,y):\n",
        "        # загрузка батча\n",
        "        idxs = np.arange(y.size)\n",
        "        np.random.shuffle(idxs)\n",
        "\n",
        "        for i_batch in range(0,y.size,self.batch_size):\n",
        "            idx_batch = idxs[i_batch:i_batch+self.batch_size]\n",
        "            x_batch   = np.take(X, idx_batch,axis=0)\n",
        "            x_batch   = self.add_bias(x_batch) # тут мы всегда добавляем смещение\n",
        "            y_batch   = np.take(y, idx_batch)\n",
        "            yield  x_batch, y_batch\n",
        "\n",
        "    #---------------------------------\n",
        "    def add_bias(self, X):\n",
        "        # добавление смещения\n",
        "        return np.column_stack((np.ones(X.shape[0]), X))\n",
        "\n",
        "    #---------------------------------\n",
        "    def plot_cost(self, figsize = (12,6), title = 'Кривая обучения'):\n",
        "        # отрисовка сразу в методе\n",
        "        fig = go.Figure()\n",
        "            # рисуем с помощью библиотеки plotly\n",
        "        fig.add_trace(\n",
        "                go.Scatter(\n",
        "                y=self.cost,\n",
        "                mode='lines+markers',\n",
        "                name='Реальные данные',\n",
        "\n",
        "                )\n",
        "            )\n",
        "        fig.update_layout(\n",
        "                    title=title,\n",
        "                    width=1200,\n",
        "                    height=600,\n",
        "                template = \"plotly_dark\"\n",
        "                    )\n",
        "\n",
        "        fig.show()\n",
        "\n",
        "    #---------------------------------\n",
        "    def get_w_and_b(self):\n",
        "        # \"новый\" метод - который возвращает веса модели и смещение\n",
        "        return (self.weights[1:], self.bias)"
      ]
    },
    {
      "cell_type": "markdown",
      "source": [
        "# Полиномиальная Зависимость"
      ],
      "metadata": {
        "id": "EIgxJWcvWf_8"
      }
    },
    {
      "cell_type": "markdown",
      "source": [
        "Применяем описанные в начале блокнота функции для генерации полиномиальной зависимости вида\n",
        "\n",
        "`y = -2*(x/2 + 1/(x+5))^3+2*(x/2 + 1/(x+5))^2+1*(x/2 + 1/(x+5))+b`, где `х` изменяется в диапазоне от `0` до `1.25`, в `х` - `250` точек, \"мощность\" шума `0.05`\n",
        "\n",
        "для этого запускаем функцию `dataset` с нужными параметрами\n",
        "\n",
        "*   `a = [1,2,-2]` (на первое число умножится `х`, на второе число умножится `х^2` и т.д.)\n",
        "*  ` b = -1 `(это число добавится к `a*х`)\n",
        "*   `f = None` (чтобы не было никаких других зависимостей)\n",
        "*   `N = 250` (число точек)\n",
        "*   `x_max =1` (максимальное значение `х`)\n",
        "*   `noise_power = 0.05` (мощность шума)\n",
        "*   `seed = 42` (фиксированный сид случайных чисел)\n",
        "                       \n",
        "\n",
        "а потом визуализируем данные с помощью функции `vis_data`"
      ],
      "metadata": {
        "id": "8C7ZUQb09WF7"
      }
    },
    {
      "cell_type": "code",
      "source": [
        "y, y_true, x = dataset(a = [1,2,-2], b = -1,\n",
        "                       f = np.cos,  N = 250,\n",
        "                       x_max =1.25,\n",
        "                       noise_power = 0.05,\n",
        "                       seed = 42)\n",
        "vis_data_plotly(y, y_true,x, 'Полиномиальная зависимость')"
      ],
      "metadata": {
        "colab": {
          "base_uri": "https://localhost:8080/",
          "height": 617
        },
        "id": "UnbSf3bITcqs",
        "outputId": "64e979bc-341e-424f-dbe9-82507862c08e"
      },
      "execution_count": null,
      "outputs": [
        {
          "output_type": "display_data",
          "data": {
            "text/html": [
              "<html>\n",
              "<head><meta charset=\"utf-8\" /></head>\n",
              "<body>\n",
              "    <div>            <script src=\"https://cdnjs.cloudflare.com/ajax/libs/mathjax/2.7.5/MathJax.js?config=TeX-AMS-MML_SVG\"></script><script type=\"text/javascript\">if (window.MathJax && window.MathJax.Hub && window.MathJax.Hub.Config) {window.MathJax.Hub.Config({SVG: {font: \"STIX-Web\"}});}</script>                <script type=\"text/javascript\">window.PlotlyConfig = {MathJaxConfig: 'local'};</script>\n",
              "        <script charset=\"utf-8\" src=\"https://cdn.plot.ly/plotly-2.35.2.min.js\"></script>                <div id=\"6adbef78-3674-495c-adc9-0a3b57b280e9\" class=\"plotly-graph-div\" style=\"height:600px; width:1200px;\"></div>            <script type=\"text/javascript\">                                    window.PLOTLYENV=window.PLOTLYENV || {};                                    if (document.getElementById(\"6adbef78-3674-495c-adc9-0a3b57b280e9\")) {                    Plotly.newPlot(                        \"6adbef78-3674-495c-adc9-0a3b57b280e9\",                        [{\"marker\":{\"color\":\"Green\",\"size\":10},\"mode\":\"lines+markers\",\"name\":\"Реальные данные\",\"x\":[0.0063269798077733586,0.006902646404502999,0.00869016316398838,0.01149631452078706,0.019320770661084286,0.02073478615982019,0.02573061786975306,0.0303949580393173,0.031773908430118986,0.039286482108417814,0.042985651394022995,0.046108684193165994,0.050968926943454895,0.05653411113817258,0.058063015899997156,0.06434843906248669,0.07260451521024933,0.07944793785752954,0.0813144912315994,0.09255581466761295,0.09318830459971353,0.09622488728599124,0.10517495624381104,0.11061562756489937,0.11286221256801038,0.11637845975737401,0.1170934597851156,0.12209014250797984,0.12683942858254013,0.13486428374163056,0.13756490565959595,0.14184190155073634,0.14483632440641214,0.14949280742287713,0.1498317091671035,0.15254779355597353,0.17190118018249156,0.1743673258150523,0.1761552812184533,0.18111859011402887,0.1949931504202533,0.19502330055304565,0.20101006427187332,0.20152660906750552,0.2020358926182672,0.2131551546091144,0.2179580362562393,0.22138834925881118,0.22728120900887577,0.22925563731679227,0.2310680694069088,0.2331481379998178,0.2332125736075448,0.24405373474755562,0.2449785780239315,0.2483946019177155,0.24959222769794967,0.2654238883478452,0.27763476308841284,0.28033663682569976,0.28311971899742244,0.2849189531774271,0.2859977068645281,0.2965613593710001,0.2970469299904996,0.2994523633337155,0.3023153636255646,0.30256908938937555,0.30498705422385447,0.3116152864360937,0.3147278697817052,0.3224270346439445,0.32347497700002115,0.3315029596021568,0.33918628971736986,0.3483080802957643,0.35096545305106974,0.35116813710922595,0.3560506179718345,0.36218931614221006,0.3640364252475524,0.3651808106690227,0.37609788727096205,0.38030280369942215,0.38076721146671333,0.38872790214457775,0.3896388451117637,0.39294497634540837,0.39750434371482984,0.4009750812146698,0.40400366502594404,0.4064791525334338,0.40666291345408045,0.40674962269908466,0.4136225310658115,0.42201896425453495,0.4237872388108759,0.42633293881282314,0.4365119682658261,0.4459416583669866,0.4480821606803408,0.4545370029741175,0.45795230411711463,0.45964475382429193,0.4597289158990665,0.46269837531930547,0.4681751485592031,0.48341918287567176,0.48584661211185254,0.4913721558334505,0.5129786537945371,0.5217637539359737,0.5338847357828204,0.534426272948187,0.5352301853966429,0.5399312733026447,0.5501906171745017,0.570087480271295,0.5902686564524366,0.6118159503469538,0.6156471172735799,0.6172444954554884,0.6189711376390877,0.6215606323654819,0.6282963663814901,0.6283487790360769,0.6357133639558785,0.6384341282219572,0.6401163228741013,0.6427930480170145,0.6484882771792077,0.6500850264722635,0.6534160367274926,0.6559455395402973,0.6620632229450081,0.6697183550934481,0.6741778023945634,0.6783701039478106,0.6833878491790996,0.6859172367082327,0.6940010144993279,0.7015964969618703,0.7103857541693395,0.7211298557829489,0.7386161789853023,0.7405182110775531,0.7473749735138564,0.7483231052462957,0.751393764679011,0.7580363245744874,0.7594310648767979,0.761955417474871,0.7648161184029744,0.7791226585344474,0.7889232824965786,0.7903822882419743,0.791376821591585,0.7917546956380294,0.7919121384511184,0.7955130140797255,0.7969468391940164,0.8025395576928597,0.8064659880118124,0.8068403698839598,0.8120411238090184,0.8149515743782507,0.8220161153754292,0.8249800575427237,0.8281528554424775,0.8293772113850697,0.8401694342573482,0.8469554523028531,0.8552912831401961,0.8636721726280825,0.8648689971158665,0.8787736986189723,0.8835716798095214,0.8850907222450568,0.8902240266844198,0.8915559840287437,0.9030651440768817,0.9074445985877992,0.9102704357648245,0.9112589600512342,0.91200772292258,0.9149924272642563,0.9331142563975302,0.9444389231788108,0.9509813107711218,0.9520245191608969,0.9637089749432013,0.9640879333574321,0.9653059616208217,0.9689160292013932,0.9748444323220298,0.981469951741267,0.9935141294270605,1.0027462259425497,1.0045900961238932,1.009300193955078,1.0101504744555212,1.0104966851455763,1.0193267855685426,1.0215277502515199,1.0225184574031163,1.0359218864399118,1.0405533010005272,1.0441281194865475,1.0615292631177224,1.0662618193342002,1.0759132290704292,1.078879282344492,1.082720182218669,1.0893257377346472,1.0966741917262262,1.1088580303313966,1.1090159282204082,1.1150581939713917,1.1156987481124723,1.118534188034561,1.1201141249043665,1.1213878249407214,1.1215196974416584,1.1231927356588491,1.125522571454163,1.1344580924076162,1.1353323574583172,1.1366505025984777,1.1435804877755607,1.152342793778896,1.1558670228482035,1.1603982032346567,1.1621220654282163,1.1709124859209181,1.1743736769552364,1.1755732304411428,1.178637129890649,1.1861069215666666,1.188392883012395,1.1924107212532342,1.203059118677639,1.204524971361566,1.2070400413431992,1.208318523804587,1.2119807847056983,1.2123873152024929,1.214727603401201,1.216263193440557,1.232063067638251,1.2336086707506466],\"y\":[0.6988179681090129,0.6990123656276946,0.6996184071300374,0.700577107379063,0.7032963948361998,0.7037949111760005,0.7055731648457342,0.7072568062560933,0.7077587891137447,0.7105267059714299,0.7119096702957369,0.7130872499986236,0.7149376615178145,0.7170823198813424,0.7176762252422841,0.7201385121548678,0.7234215667553301,0.7261827547382161,0.7269418855220385,0.7315654689490337,0.7318281520436667,0.7330929024237564,0.7368541313778867,0.7391637111539858,0.7401222331517059,0.7416279343483706,0.7419349046023596,0.744087412076405,0.7461447150304419,0.7496444422389303,0.7508284453871308,0.7527095738582146,0.7540307856504517,0.7560918116215326,0.7562421098027315,0.7574480457663334,0.7661039716075098,0.7672137501999964,0.7680191407311348,0.7702581417813068,0.7765379166560002,0.7765515895799997,0.7792682409735271,0.7795027756531021,0.7797340319509154,0.7847863789977717,0.7869696214866689,0.788528832472375,0.791206543141978,0.7921033494718471,0.7929263585161241,0.7938706058136953,0.7938998509342108,0.798814450180559,0.7992330715530285,0.8007782641129866,0.801319584357625,0.808451320974832,0.8139141183274144,0.8151175224032812,0.8163548869352812,0.8171535960785832,0.817631995524126,0.8222967087468007,0.8225102123772877,0.8235666249336666,0.8248212283284154,0.8249322665796764,0.825989214075687,0.8288748081753721,0.8302236930903648,0.8335423993327002,0.833992082062631,0.8374201118295715,0.8406718748398064,0.8444933463943916,0.8455983115572704,0.8456824322331858,0.8477019747067105,0.8502220698852521,0.8509761055568135,0.8514422700168207,0.8558499071753279,0.8575280648176226,0.8577127257685164,0.8608566534687935,0.8612137952226189,0.8625053977314253,0.8642746623091186,0.8656120757185072,0.866772377822138,0.8677160713443254,0.8677859538784166,0.8678189204014706,0.8704151612950702,0.8735411264952753,0.8741929211267179,0.8751272417212338,0.8788149097280264,0.8821609663780047,0.8829109522813561,0.8851509014733139,0.8863227878197468,0.8869000820575679,0.8869287301463765,0.8879358864811516,0.8897748715928706,0.8947649230039164,0.8955418582957525,0.8972920918452725,0.9038889839361579,0.9064573364092294,0.9098915383854196,0.9100419956198782,0.9102648790376879,0.9115569787533385,0.914309770778204,0.9193854942576015,0.9241780811485648,0.9288997730989562,0.9296966618500743,0.9300251251694348,0.9303776594650541,0.9309014823411743,0.9322366328840976,0.9322468670203641,0.9336611226049788,0.9341716855532849,0.9344841451448024,0.9349762806754962,0.9360027726639613,0.9362855396252316,0.9368683517075617,0.9373045474083526,0.9383367805338613,0.9395832773944589,0.9402863588415361,0.9409318888559979,0.9416849076293656,0.9420564120931132,0.9432074957583689,0.9442389375582698,0.9453721627261321,0.946669926749437,0.9485774274810316,0.9487696856656248,0.949438047014026,0.9495274223423966,0.9498118060376374,0.950400500089482,0.9505195078638478,0.9507308427346245,0.9509640179515481,0.9520294176592218,0.9526622891628396,0.9527497494334102,0.952808362298754,0.9528304187518157,0.9528395739500571,0.9530433851017054,0.9531215629277299,0.9534102651709412,0.9535974798773389,0.9536146628074558,0.9538413089610827,0.9539583120219657,0.9542128407097608,0.954307147920961,0.9543998889214631,0.9544334003327665,0.9546736214366472,0.9547735056110909,0.9548414437326406,0.9548480825462159,0.95484392972238,0.9547007441908126,0.954610166327987,0.9545770169908459,0.954448927114517,0.954411611238859,0.954018009699614,0.9538341813493053,0.9537054162344596,0.9536584765820151,0.9536222648546242,0.953472261704142,0.9523625975382418,0.9514890553079844,0.9509184243806933,0.9508228586729105,0.9496642168141347,0.9496238767795594,0.9494930208613128,0.9490943761407247,0.9484041262077009,0.9475791018017364,0.9459290074767125,0.9445271629791372,0.9442324173654164,0.9434566231071356,0.9433130291698969,0.943254248127998,0.9416927028087291,0.9412844516048698,0.9410981614334529,0.9384193839619094,0.9374229766181912,0.9366281199963341,0.9324242388559034,0.931180585369296,0.9285040097735293,0.9276424925858718,0.9264988809913859,0.9244565279916921,0.9220687134690441,0.917828770491641,0.9177714442239355,0.9155305838241986,0.9152875737632352,0.9141991252625534,0.9135835257802959,0.9130824577741882,0.9130303342473811,0.9123650345862828,0.9114260523712764,0.9076869247025878,0.907309094506602,0.906735318319655,0.9036361322865805,0.8995130662885813,0.8977883159811035,0.8955132072570361,0.8946303797846976,0.8899769010363455,0.8880734305606117,0.8874041525619674,0.8856720060064422,0.8813098820581756,0.879934714525226,0.877471013917341,0.8706460041857699,0.8696720377130778,0.867981080886879,0.8671118262217825,0.8645852461436278,0.8643014126846096,0.862654238068007,0.8615611189871876,0.8497303179818513,0.8485142799948433],\"type\":\"scatter\"},{\"marker\":{\"color\":\"LightSkyBlue\",\"line\":{\"color\":\"Blue\",\"width\":3},\"size\":15},\"mode\":\"markers\",\"name\":\"Зашумленные данные\",\"opacity\":0.5,\"x\":[0.0063269798077733586,0.006902646404502999,0.00869016316398838,0.01149631452078706,0.019320770661084286,0.02073478615982019,0.02573061786975306,0.0303949580393173,0.031773908430118986,0.039286482108417814,0.042985651394022995,0.046108684193165994,0.050968926943454895,0.05653411113817258,0.058063015899997156,0.06434843906248669,0.07260451521024933,0.07944793785752954,0.0813144912315994,0.09255581466761295,0.09318830459971353,0.09622488728599124,0.10517495624381104,0.11061562756489937,0.11286221256801038,0.11637845975737401,0.1170934597851156,0.12209014250797984,0.12683942858254013,0.13486428374163056,0.13756490565959595,0.14184190155073634,0.14483632440641214,0.14949280742287713,0.1498317091671035,0.15254779355597353,0.17190118018249156,0.1743673258150523,0.1761552812184533,0.18111859011402887,0.1949931504202533,0.19502330055304565,0.20101006427187332,0.20152660906750552,0.2020358926182672,0.2131551546091144,0.2179580362562393,0.22138834925881118,0.22728120900887577,0.22925563731679227,0.2310680694069088,0.2331481379998178,0.2332125736075448,0.24405373474755562,0.2449785780239315,0.2483946019177155,0.24959222769794967,0.2654238883478452,0.27763476308841284,0.28033663682569976,0.28311971899742244,0.2849189531774271,0.2859977068645281,0.2965613593710001,0.2970469299904996,0.2994523633337155,0.3023153636255646,0.30256908938937555,0.30498705422385447,0.3116152864360937,0.3147278697817052,0.3224270346439445,0.32347497700002115,0.3315029596021568,0.33918628971736986,0.3483080802957643,0.35096545305106974,0.35116813710922595,0.3560506179718345,0.36218931614221006,0.3640364252475524,0.3651808106690227,0.37609788727096205,0.38030280369942215,0.38076721146671333,0.38872790214457775,0.3896388451117637,0.39294497634540837,0.39750434371482984,0.4009750812146698,0.40400366502594404,0.4064791525334338,0.40666291345408045,0.40674962269908466,0.4136225310658115,0.42201896425453495,0.4237872388108759,0.42633293881282314,0.4365119682658261,0.4459416583669866,0.4480821606803408,0.4545370029741175,0.45795230411711463,0.45964475382429193,0.4597289158990665,0.46269837531930547,0.4681751485592031,0.48341918287567176,0.48584661211185254,0.4913721558334505,0.5129786537945371,0.5217637539359737,0.5338847357828204,0.534426272948187,0.5352301853966429,0.5399312733026447,0.5501906171745017,0.570087480271295,0.5902686564524366,0.6118159503469538,0.6156471172735799,0.6172444954554884,0.6189711376390877,0.6215606323654819,0.6282963663814901,0.6283487790360769,0.6357133639558785,0.6384341282219572,0.6401163228741013,0.6427930480170145,0.6484882771792077,0.6500850264722635,0.6534160367274926,0.6559455395402973,0.6620632229450081,0.6697183550934481,0.6741778023945634,0.6783701039478106,0.6833878491790996,0.6859172367082327,0.6940010144993279,0.7015964969618703,0.7103857541693395,0.7211298557829489,0.7386161789853023,0.7405182110775531,0.7473749735138564,0.7483231052462957,0.751393764679011,0.7580363245744874,0.7594310648767979,0.761955417474871,0.7648161184029744,0.7791226585344474,0.7889232824965786,0.7903822882419743,0.791376821591585,0.7917546956380294,0.7919121384511184,0.7955130140797255,0.7969468391940164,0.8025395576928597,0.8064659880118124,0.8068403698839598,0.8120411238090184,0.8149515743782507,0.8220161153754292,0.8249800575427237,0.8281528554424775,0.8293772113850697,0.8401694342573482,0.8469554523028531,0.8552912831401961,0.8636721726280825,0.8648689971158665,0.8787736986189723,0.8835716798095214,0.8850907222450568,0.8902240266844198,0.8915559840287437,0.9030651440768817,0.9074445985877992,0.9102704357648245,0.9112589600512342,0.91200772292258,0.9149924272642563,0.9331142563975302,0.9444389231788108,0.9509813107711218,0.9520245191608969,0.9637089749432013,0.9640879333574321,0.9653059616208217,0.9689160292013932,0.9748444323220298,0.981469951741267,0.9935141294270605,1.0027462259425497,1.0045900961238932,1.009300193955078,1.0101504744555212,1.0104966851455763,1.0193267855685426,1.0215277502515199,1.0225184574031163,1.0359218864399118,1.0405533010005272,1.0441281194865475,1.0615292631177224,1.0662618193342002,1.0759132290704292,1.078879282344492,1.082720182218669,1.0893257377346472,1.0966741917262262,1.1088580303313966,1.1090159282204082,1.1150581939713917,1.1156987481124723,1.118534188034561,1.1201141249043665,1.1213878249407214,1.1215196974416584,1.1231927356588491,1.125522571454163,1.1344580924076162,1.1353323574583172,1.1366505025984777,1.1435804877755607,1.152342793778896,1.1558670228482035,1.1603982032346567,1.1621220654282163,1.1709124859209181,1.1743736769552364,1.1755732304411428,1.178637129890649,1.1861069215666666,1.188392883012395,1.1924107212532342,1.203059118677639,1.204524971361566,1.2070400413431992,1.208318523804587,1.2119807847056983,1.2123873152024929,1.214727603401201,1.216263193440557,1.232063067638251,1.2336086707506466],\"y\":[0.6564782822055926,0.6232700043934014,0.6772926595266864,0.7433970470952366,0.71400108204271,0.641507972240401,0.7142322111382933,0.7265226752425352,0.6635659173036881,0.7182129612687063,0.7148201062180369,0.6559387351070924,0.7328270295352286,0.7451215461997541,0.771828787401048,0.7728286147566129,0.6545380983574756,0.67929150274246,0.7526936488824715,0.7572547664946442,0.757580536358969,0.9257294769564924,0.765398656912545,0.7959419931630157,0.787822321326366,0.7741974969136605,0.7261714423703423,0.7820358731010684,0.7075034543035633,0.7378035119019299,0.7265602679956756,0.7568032808275307,0.8697637139841271,0.6627285519919452,0.7905551193214572,0.6768122522068508,0.742507378318038,0.8216612800483647,0.7712331416859078,0.7163709028848415,0.7407727311930018,0.8105314770267334,0.7427499093876703,0.7903257051322009,0.782012623946106,0.7522063616174809,0.8941668259529352,0.8202247835882756,0.6899494138090977,0.8014260652103186,0.7598370352777047,0.8364922725535064,0.7542738140125758,0.793077628107214,0.8244824355020514,0.8440660238214927,0.7413047640048361,0.7917262591827845,0.7901668527693666,0.7824510607745956,0.9046275989493361,0.837402681626631,0.7545877978073737,0.8681898060995396,0.9286180222279194,0.875189887961224,0.7488527300307147,0.8007205629363638,0.8893347715350182,0.793491334894433,0.8524146644976762,0.8722741020041671,0.7876455584837269,0.8344438440264815,0.6786085078363528,0.793273964327677,0.8329699039876124,0.7832932731349433,0.9293225399032923,0.7787150009872205,0.8289738812219642,0.8579792988811252,0.9279135716286337,0.7857349572586506,0.9158709133762644,0.8613683065197728,0.8121383626702213,0.8856105714445889,0.8742276470877921,0.8356012318605675,0.8702624820716389,0.8484503915012374,0.873461821140979,0.9009254541275229,0.9497160021023379,0.8116503515539328,0.9808445898595313,0.7775228517451087,0.8712256549762473,0.9115768267022335,0.8969605456681077,0.8540159254822842,0.8759166753018831,0.8622500353246262,0.857460492299166,0.9304159913322029,0.9076256458911229,0.8601194432408837,0.940521852067415,0.912657067889103,0.9445320898781059,0.9379387785054101,0.868441787839316,0.8820329436100297,0.9476295592938511,0.9420754920250117,0.9132646910799965,0.9252518634230407,0.988061325937986,0.8993212036571647,0.9570515309085762,0.9199154925477401,0.9194935993036931,0.9858403249405339,0.9735074503334992,0.972922348820396,0.9989350629626953,0.9352218776349228,0.9685817937095506,0.9194629428458234,0.9522110902883834,0.9297783869068474,0.9417181499571976,0.9670623986801983,0.8974257463721876,1.044202641178732,0.889985489766551,0.8802224582166113,0.999590451304369,0.98163954679126,0.9744134866109767,0.9756562130214839,0.9447598240837863,0.9018072081751454,0.9523676553907179,0.9149116000900193,0.9981940336849136,0.9421745532672897,0.9085369461980118,0.9343312080068323,0.971166080577629,0.9225446150944258,0.9098529981732265,0.9642137782338174,0.9649106177182757,0.9274025906648536,0.9292564470178378,0.9644329156196976,0.8804353568751909,0.8826701963828776,0.917199351865108,0.9427379075853488,0.9691428581572391,1.0273824736549333,0.9967242901211837,0.9459613855237943,0.9532620303146263,0.9041806796890706,0.9534742321218436,0.9400004683867595,0.9708095494535517,0.9134119584334747,0.9808087694446992,1.0314850281963448,0.9494059222995371,0.9747863302957597,0.9891173659135426,0.934515993396554,0.9656535512050378,0.9550412312779487,0.9589018146270556,0.915183692156532,0.9549309249474067,0.9785583911442876,1.0261794452443762,1.0014358030084023,1.0600217204138196,0.913121677163582,0.9945344562167272,0.9599899589598281,1.0591543634750182,0.9092089625118018,0.907506928752274,0.9191247438685236,0.8422093399922105,0.9212913507176984,0.9079723743990276,0.9520468523029476,0.9613202161542744,1.0372651650679299,0.9908342210791994,0.9144090653448778,0.8967719692413112,0.9658804101801951,0.8750865010824208,1.029992322254627,0.9963949826542555,0.9131693373910988,0.8467675124013595,0.9988742040775667,0.9227770175108985,0.9895333081845449,0.8467774980516676,0.8944877768440035,0.9223308984549532,0.9201778001798782,0.8952681706499733,0.9466730804415735,0.8619065522941055,0.9070801510114888,0.9195983073658909,0.9388043994771256,0.9486110781518255,0.8561329299943894,0.8347203438344952,0.9715707657975132,0.9239247951055816,0.8693109914918273,0.9811937310627066,0.9052967980032243,0.9567531751842948,0.8988891313275416,0.997667776028797,0.9777439431585058,0.875625223136658,0.9359827001096851,0.9179408034856996,0.9497414599347931,0.8316885414962207,0.911773586917263,0.9235672285282492,0.781735063391922,0.8088181552535902,0.7651502173337774,0.8511149044213998,0.9001785254744077,0.9377720906728084,0.8652658580081763,0.9311610952604159,0.7795092070840988],\"type\":\"scatter\"}],                        {\"template\":{\"data\":{\"barpolar\":[{\"marker\":{\"line\":{\"color\":\"rgb(17,17,17)\",\"width\":0.5},\"pattern\":{\"fillmode\":\"overlay\",\"size\":10,\"solidity\":0.2}},\"type\":\"barpolar\"}],\"bar\":[{\"error_x\":{\"color\":\"#f2f5fa\"},\"error_y\":{\"color\":\"#f2f5fa\"},\"marker\":{\"line\":{\"color\":\"rgb(17,17,17)\",\"width\":0.5},\"pattern\":{\"fillmode\":\"overlay\",\"size\":10,\"solidity\":0.2}},\"type\":\"bar\"}],\"carpet\":[{\"aaxis\":{\"endlinecolor\":\"#A2B1C6\",\"gridcolor\":\"#506784\",\"linecolor\":\"#506784\",\"minorgridcolor\":\"#506784\",\"startlinecolor\":\"#A2B1C6\"},\"baxis\":{\"endlinecolor\":\"#A2B1C6\",\"gridcolor\":\"#506784\",\"linecolor\":\"#506784\",\"minorgridcolor\":\"#506784\",\"startlinecolor\":\"#A2B1C6\"},\"type\":\"carpet\"}],\"choropleth\":[{\"colorbar\":{\"outlinewidth\":0,\"ticks\":\"\"},\"type\":\"choropleth\"}],\"contourcarpet\":[{\"colorbar\":{\"outlinewidth\":0,\"ticks\":\"\"},\"type\":\"contourcarpet\"}],\"contour\":[{\"colorbar\":{\"outlinewidth\":0,\"ticks\":\"\"},\"colorscale\":[[0.0,\"#0d0887\"],[0.1111111111111111,\"#46039f\"],[0.2222222222222222,\"#7201a8\"],[0.3333333333333333,\"#9c179e\"],[0.4444444444444444,\"#bd3786\"],[0.5555555555555556,\"#d8576b\"],[0.6666666666666666,\"#ed7953\"],[0.7777777777777778,\"#fb9f3a\"],[0.8888888888888888,\"#fdca26\"],[1.0,\"#f0f921\"]],\"type\":\"contour\"}],\"heatmapgl\":[{\"colorbar\":{\"outlinewidth\":0,\"ticks\":\"\"},\"colorscale\":[[0.0,\"#0d0887\"],[0.1111111111111111,\"#46039f\"],[0.2222222222222222,\"#7201a8\"],[0.3333333333333333,\"#9c179e\"],[0.4444444444444444,\"#bd3786\"],[0.5555555555555556,\"#d8576b\"],[0.6666666666666666,\"#ed7953\"],[0.7777777777777778,\"#fb9f3a\"],[0.8888888888888888,\"#fdca26\"],[1.0,\"#f0f921\"]],\"type\":\"heatmapgl\"}],\"heatmap\":[{\"colorbar\":{\"outlinewidth\":0,\"ticks\":\"\"},\"colorscale\":[[0.0,\"#0d0887\"],[0.1111111111111111,\"#46039f\"],[0.2222222222222222,\"#7201a8\"],[0.3333333333333333,\"#9c179e\"],[0.4444444444444444,\"#bd3786\"],[0.5555555555555556,\"#d8576b\"],[0.6666666666666666,\"#ed7953\"],[0.7777777777777778,\"#fb9f3a\"],[0.8888888888888888,\"#fdca26\"],[1.0,\"#f0f921\"]],\"type\":\"heatmap\"}],\"histogram2dcontour\":[{\"colorbar\":{\"outlinewidth\":0,\"ticks\":\"\"},\"colorscale\":[[0.0,\"#0d0887\"],[0.1111111111111111,\"#46039f\"],[0.2222222222222222,\"#7201a8\"],[0.3333333333333333,\"#9c179e\"],[0.4444444444444444,\"#bd3786\"],[0.5555555555555556,\"#d8576b\"],[0.6666666666666666,\"#ed7953\"],[0.7777777777777778,\"#fb9f3a\"],[0.8888888888888888,\"#fdca26\"],[1.0,\"#f0f921\"]],\"type\":\"histogram2dcontour\"}],\"histogram2d\":[{\"colorbar\":{\"outlinewidth\":0,\"ticks\":\"\"},\"colorscale\":[[0.0,\"#0d0887\"],[0.1111111111111111,\"#46039f\"],[0.2222222222222222,\"#7201a8\"],[0.3333333333333333,\"#9c179e\"],[0.4444444444444444,\"#bd3786\"],[0.5555555555555556,\"#d8576b\"],[0.6666666666666666,\"#ed7953\"],[0.7777777777777778,\"#fb9f3a\"],[0.8888888888888888,\"#fdca26\"],[1.0,\"#f0f921\"]],\"type\":\"histogram2d\"}],\"histogram\":[{\"marker\":{\"pattern\":{\"fillmode\":\"overlay\",\"size\":10,\"solidity\":0.2}},\"type\":\"histogram\"}],\"mesh3d\":[{\"colorbar\":{\"outlinewidth\":0,\"ticks\":\"\"},\"type\":\"mesh3d\"}],\"parcoords\":[{\"line\":{\"colorbar\":{\"outlinewidth\":0,\"ticks\":\"\"}},\"type\":\"parcoords\"}],\"pie\":[{\"automargin\":true,\"type\":\"pie\"}],\"scatter3d\":[{\"line\":{\"colorbar\":{\"outlinewidth\":0,\"ticks\":\"\"}},\"marker\":{\"colorbar\":{\"outlinewidth\":0,\"ticks\":\"\"}},\"type\":\"scatter3d\"}],\"scattercarpet\":[{\"marker\":{\"colorbar\":{\"outlinewidth\":0,\"ticks\":\"\"}},\"type\":\"scattercarpet\"}],\"scattergeo\":[{\"marker\":{\"colorbar\":{\"outlinewidth\":0,\"ticks\":\"\"}},\"type\":\"scattergeo\"}],\"scattergl\":[{\"marker\":{\"line\":{\"color\":\"#283442\"}},\"type\":\"scattergl\"}],\"scattermapbox\":[{\"marker\":{\"colorbar\":{\"outlinewidth\":0,\"ticks\":\"\"}},\"type\":\"scattermapbox\"}],\"scatterpolargl\":[{\"marker\":{\"colorbar\":{\"outlinewidth\":0,\"ticks\":\"\"}},\"type\":\"scatterpolargl\"}],\"scatterpolar\":[{\"marker\":{\"colorbar\":{\"outlinewidth\":0,\"ticks\":\"\"}},\"type\":\"scatterpolar\"}],\"scatter\":[{\"marker\":{\"line\":{\"color\":\"#283442\"}},\"type\":\"scatter\"}],\"scatterternary\":[{\"marker\":{\"colorbar\":{\"outlinewidth\":0,\"ticks\":\"\"}},\"type\":\"scatterternary\"}],\"surface\":[{\"colorbar\":{\"outlinewidth\":0,\"ticks\":\"\"},\"colorscale\":[[0.0,\"#0d0887\"],[0.1111111111111111,\"#46039f\"],[0.2222222222222222,\"#7201a8\"],[0.3333333333333333,\"#9c179e\"],[0.4444444444444444,\"#bd3786\"],[0.5555555555555556,\"#d8576b\"],[0.6666666666666666,\"#ed7953\"],[0.7777777777777778,\"#fb9f3a\"],[0.8888888888888888,\"#fdca26\"],[1.0,\"#f0f921\"]],\"type\":\"surface\"}],\"table\":[{\"cells\":{\"fill\":{\"color\":\"#506784\"},\"line\":{\"color\":\"rgb(17,17,17)\"}},\"header\":{\"fill\":{\"color\":\"#2a3f5f\"},\"line\":{\"color\":\"rgb(17,17,17)\"}},\"type\":\"table\"}]},\"layout\":{\"annotationdefaults\":{\"arrowcolor\":\"#f2f5fa\",\"arrowhead\":0,\"arrowwidth\":1},\"autotypenumbers\":\"strict\",\"coloraxis\":{\"colorbar\":{\"outlinewidth\":0,\"ticks\":\"\"}},\"colorscale\":{\"diverging\":[[0,\"#8e0152\"],[0.1,\"#c51b7d\"],[0.2,\"#de77ae\"],[0.3,\"#f1b6da\"],[0.4,\"#fde0ef\"],[0.5,\"#f7f7f7\"],[0.6,\"#e6f5d0\"],[0.7,\"#b8e186\"],[0.8,\"#7fbc41\"],[0.9,\"#4d9221\"],[1,\"#276419\"]],\"sequential\":[[0.0,\"#0d0887\"],[0.1111111111111111,\"#46039f\"],[0.2222222222222222,\"#7201a8\"],[0.3333333333333333,\"#9c179e\"],[0.4444444444444444,\"#bd3786\"],[0.5555555555555556,\"#d8576b\"],[0.6666666666666666,\"#ed7953\"],[0.7777777777777778,\"#fb9f3a\"],[0.8888888888888888,\"#fdca26\"],[1.0,\"#f0f921\"]],\"sequentialminus\":[[0.0,\"#0d0887\"],[0.1111111111111111,\"#46039f\"],[0.2222222222222222,\"#7201a8\"],[0.3333333333333333,\"#9c179e\"],[0.4444444444444444,\"#bd3786\"],[0.5555555555555556,\"#d8576b\"],[0.6666666666666666,\"#ed7953\"],[0.7777777777777778,\"#fb9f3a\"],[0.8888888888888888,\"#fdca26\"],[1.0,\"#f0f921\"]]},\"colorway\":[\"#636efa\",\"#EF553B\",\"#00cc96\",\"#ab63fa\",\"#FFA15A\",\"#19d3f3\",\"#FF6692\",\"#B6E880\",\"#FF97FF\",\"#FECB52\"],\"font\":{\"color\":\"#f2f5fa\"},\"geo\":{\"bgcolor\":\"rgb(17,17,17)\",\"lakecolor\":\"rgb(17,17,17)\",\"landcolor\":\"rgb(17,17,17)\",\"showlakes\":true,\"showland\":true,\"subunitcolor\":\"#506784\"},\"hoverlabel\":{\"align\":\"left\"},\"hovermode\":\"closest\",\"mapbox\":{\"style\":\"dark\"},\"paper_bgcolor\":\"rgb(17,17,17)\",\"plot_bgcolor\":\"rgb(17,17,17)\",\"polar\":{\"angularaxis\":{\"gridcolor\":\"#506784\",\"linecolor\":\"#506784\",\"ticks\":\"\"},\"bgcolor\":\"rgb(17,17,17)\",\"radialaxis\":{\"gridcolor\":\"#506784\",\"linecolor\":\"#506784\",\"ticks\":\"\"}},\"scene\":{\"xaxis\":{\"backgroundcolor\":\"rgb(17,17,17)\",\"gridcolor\":\"#506784\",\"gridwidth\":2,\"linecolor\":\"#506784\",\"showbackground\":true,\"ticks\":\"\",\"zerolinecolor\":\"#C8D4E3\"},\"yaxis\":{\"backgroundcolor\":\"rgb(17,17,17)\",\"gridcolor\":\"#506784\",\"gridwidth\":2,\"linecolor\":\"#506784\",\"showbackground\":true,\"ticks\":\"\",\"zerolinecolor\":\"#C8D4E3\"},\"zaxis\":{\"backgroundcolor\":\"rgb(17,17,17)\",\"gridcolor\":\"#506784\",\"gridwidth\":2,\"linecolor\":\"#506784\",\"showbackground\":true,\"ticks\":\"\",\"zerolinecolor\":\"#C8D4E3\"}},\"shapedefaults\":{\"line\":{\"color\":\"#f2f5fa\"}},\"sliderdefaults\":{\"bgcolor\":\"#C8D4E3\",\"bordercolor\":\"rgb(17,17,17)\",\"borderwidth\":1,\"tickwidth\":0},\"ternary\":{\"aaxis\":{\"gridcolor\":\"#506784\",\"linecolor\":\"#506784\",\"ticks\":\"\"},\"baxis\":{\"gridcolor\":\"#506784\",\"linecolor\":\"#506784\",\"ticks\":\"\"},\"bgcolor\":\"rgb(17,17,17)\",\"caxis\":{\"gridcolor\":\"#506784\",\"linecolor\":\"#506784\",\"ticks\":\"\"}},\"title\":{\"x\":0.05},\"updatemenudefaults\":{\"bgcolor\":\"#506784\",\"borderwidth\":0},\"xaxis\":{\"automargin\":true,\"gridcolor\":\"#283442\",\"linecolor\":\"#506784\",\"ticks\":\"\",\"title\":{\"standoff\":15},\"zerolinecolor\":\"#283442\",\"zerolinewidth\":2},\"yaxis\":{\"automargin\":true,\"gridcolor\":\"#283442\",\"linecolor\":\"#506784\",\"ticks\":\"\",\"title\":{\"standoff\":15},\"zerolinecolor\":\"#283442\",\"zerolinewidth\":2}}},\"title\":{\"text\":\"Полиномиальная зависимость\"},\"width\":1200,\"height\":600},                        {\"responsive\": true}                    ).then(function(){\n",
              "                            \n",
              "var gd = document.getElementById('6adbef78-3674-495c-adc9-0a3b57b280e9');\n",
              "var x = new MutationObserver(function (mutations, observer) {{\n",
              "        var display = window.getComputedStyle(gd).display;\n",
              "        if (!display || display === 'none') {{\n",
              "            console.log([gd, 'removed!']);\n",
              "            Plotly.purge(gd);\n",
              "            observer.disconnect();\n",
              "        }}\n",
              "}});\n",
              "\n",
              "// Listen for the removal of the full notebook cells\n",
              "var notebookContainer = gd.closest('#notebook-container');\n",
              "if (notebookContainer) {{\n",
              "    x.observe(notebookContainer, {childList: true});\n",
              "}}\n",
              "\n",
              "// Listen for the clearing of the current output cell\n",
              "var outputEl = gd.closest('.output');\n",
              "if (outputEl) {{\n",
              "    x.observe(outputEl, {childList: true});\n",
              "}}\n",
              "\n",
              "                        })                };                            </script>        </div>\n",
              "</body>\n",
              "</html>"
            ]
          },
          "metadata": {}
        }
      ]
    },
    {
      "cell_type": "markdown",
      "source": [
        "Производим разбиение данных на тренировочную и валидационную"
      ],
      "metadata": {
        "id": "ZJNpyzxd-G9T"
      }
    },
    {
      "cell_type": "code",
      "source": [
        "x_train, x_test, y_train, y_test = train_test_split(x, y,  test_size=0.3, )"
      ],
      "metadata": {
        "id": "sgXlhNTpWyuk"
      },
      "execution_count": null,
      "outputs": []
    },
    {
      "cell_type": "markdown",
      "source": [
        "Используем написанный ранее класс для этих данных"
      ],
      "metadata": {
        "id": "LuBpysKq-L-C"
      }
    },
    {
      "cell_type": "code",
      "source": [
        "# Создаем экземпляр класса\n",
        "regr_poly_lin = LinearRegression(learning_rate=0.1,\n",
        "                        epochs=10,batch_size=10,\n",
        "                        n_batches=None)\n",
        "# Применяем метод fit\n",
        "regr_poly_lin.fit(x_train, y_train)\n",
        "\n",
        "print(f'Коэффициент детерминации на тренировочных данных = {regr_poly_lin.score(x_train, y_train):.2f}')\n",
        "regr_poly_lin.plot_cost()"
      ],
      "metadata": {
        "id": "AI-wIA__W-KA",
        "colab": {
          "base_uri": "https://localhost:8080/",
          "height": 634
        },
        "outputId": "022d6f39-bf98-45bd-c13b-f83e577585c9"
      },
      "execution_count": null,
      "outputs": [
        {
          "output_type": "stream",
          "name": "stdout",
          "text": [
            "Коэффициент детерминации на тренировочных данных = 0.31\n"
          ]
        },
        {
          "output_type": "display_data",
          "data": {
            "text/html": [
              "<html>\n",
              "<head><meta charset=\"utf-8\" /></head>\n",
              "<body>\n",
              "    <div>            <script src=\"https://cdnjs.cloudflare.com/ajax/libs/mathjax/2.7.5/MathJax.js?config=TeX-AMS-MML_SVG\"></script><script type=\"text/javascript\">if (window.MathJax && window.MathJax.Hub && window.MathJax.Hub.Config) {window.MathJax.Hub.Config({SVG: {font: \"STIX-Web\"}});}</script>                <script type=\"text/javascript\">window.PlotlyConfig = {MathJaxConfig: 'local'};</script>\n",
              "        <script charset=\"utf-8\" src=\"https://cdn.plot.ly/plotly-2.35.2.min.js\"></script>                <div id=\"7b32a7ca-6a5d-4785-8236-678814083e5a\" class=\"plotly-graph-div\" style=\"height:600px; width:1200px;\"></div>            <script type=\"text/javascript\">                                    window.PLOTLYENV=window.PLOTLYENV || {};                                    if (document.getElementById(\"7b32a7ca-6a5d-4785-8236-678814083e5a\")) {                    Plotly.newPlot(                        \"7b32a7ca-6a5d-4785-8236-678814083e5a\",                        [{\"mode\":\"lines+markers\",\"name\":\"Реальные данные\",\"y\":[0.018890144500079704,0.011869775669579913,0.008743866855373943,0.0072244682393904835,0.0063318078976622,0.0059118157310773115,0.005439710712437881,0.0054547688818612295,0.005605166921235121,0.005628631732747605],\"type\":\"scatter\"}],                        {\"template\":{\"data\":{\"barpolar\":[{\"marker\":{\"line\":{\"color\":\"rgb(17,17,17)\",\"width\":0.5},\"pattern\":{\"fillmode\":\"overlay\",\"size\":10,\"solidity\":0.2}},\"type\":\"barpolar\"}],\"bar\":[{\"error_x\":{\"color\":\"#f2f5fa\"},\"error_y\":{\"color\":\"#f2f5fa\"},\"marker\":{\"line\":{\"color\":\"rgb(17,17,17)\",\"width\":0.5},\"pattern\":{\"fillmode\":\"overlay\",\"size\":10,\"solidity\":0.2}},\"type\":\"bar\"}],\"carpet\":[{\"aaxis\":{\"endlinecolor\":\"#A2B1C6\",\"gridcolor\":\"#506784\",\"linecolor\":\"#506784\",\"minorgridcolor\":\"#506784\",\"startlinecolor\":\"#A2B1C6\"},\"baxis\":{\"endlinecolor\":\"#A2B1C6\",\"gridcolor\":\"#506784\",\"linecolor\":\"#506784\",\"minorgridcolor\":\"#506784\",\"startlinecolor\":\"#A2B1C6\"},\"type\":\"carpet\"}],\"choropleth\":[{\"colorbar\":{\"outlinewidth\":0,\"ticks\":\"\"},\"type\":\"choropleth\"}],\"contourcarpet\":[{\"colorbar\":{\"outlinewidth\":0,\"ticks\":\"\"},\"type\":\"contourcarpet\"}],\"contour\":[{\"colorbar\":{\"outlinewidth\":0,\"ticks\":\"\"},\"colorscale\":[[0.0,\"#0d0887\"],[0.1111111111111111,\"#46039f\"],[0.2222222222222222,\"#7201a8\"],[0.3333333333333333,\"#9c179e\"],[0.4444444444444444,\"#bd3786\"],[0.5555555555555556,\"#d8576b\"],[0.6666666666666666,\"#ed7953\"],[0.7777777777777778,\"#fb9f3a\"],[0.8888888888888888,\"#fdca26\"],[1.0,\"#f0f921\"]],\"type\":\"contour\"}],\"heatmapgl\":[{\"colorbar\":{\"outlinewidth\":0,\"ticks\":\"\"},\"colorscale\":[[0.0,\"#0d0887\"],[0.1111111111111111,\"#46039f\"],[0.2222222222222222,\"#7201a8\"],[0.3333333333333333,\"#9c179e\"],[0.4444444444444444,\"#bd3786\"],[0.5555555555555556,\"#d8576b\"],[0.6666666666666666,\"#ed7953\"],[0.7777777777777778,\"#fb9f3a\"],[0.8888888888888888,\"#fdca26\"],[1.0,\"#f0f921\"]],\"type\":\"heatmapgl\"}],\"heatmap\":[{\"colorbar\":{\"outlinewidth\":0,\"ticks\":\"\"},\"colorscale\":[[0.0,\"#0d0887\"],[0.1111111111111111,\"#46039f\"],[0.2222222222222222,\"#7201a8\"],[0.3333333333333333,\"#9c179e\"],[0.4444444444444444,\"#bd3786\"],[0.5555555555555556,\"#d8576b\"],[0.6666666666666666,\"#ed7953\"],[0.7777777777777778,\"#fb9f3a\"],[0.8888888888888888,\"#fdca26\"],[1.0,\"#f0f921\"]],\"type\":\"heatmap\"}],\"histogram2dcontour\":[{\"colorbar\":{\"outlinewidth\":0,\"ticks\":\"\"},\"colorscale\":[[0.0,\"#0d0887\"],[0.1111111111111111,\"#46039f\"],[0.2222222222222222,\"#7201a8\"],[0.3333333333333333,\"#9c179e\"],[0.4444444444444444,\"#bd3786\"],[0.5555555555555556,\"#d8576b\"],[0.6666666666666666,\"#ed7953\"],[0.7777777777777778,\"#fb9f3a\"],[0.8888888888888888,\"#fdca26\"],[1.0,\"#f0f921\"]],\"type\":\"histogram2dcontour\"}],\"histogram2d\":[{\"colorbar\":{\"outlinewidth\":0,\"ticks\":\"\"},\"colorscale\":[[0.0,\"#0d0887\"],[0.1111111111111111,\"#46039f\"],[0.2222222222222222,\"#7201a8\"],[0.3333333333333333,\"#9c179e\"],[0.4444444444444444,\"#bd3786\"],[0.5555555555555556,\"#d8576b\"],[0.6666666666666666,\"#ed7953\"],[0.7777777777777778,\"#fb9f3a\"],[0.8888888888888888,\"#fdca26\"],[1.0,\"#f0f921\"]],\"type\":\"histogram2d\"}],\"histogram\":[{\"marker\":{\"pattern\":{\"fillmode\":\"overlay\",\"size\":10,\"solidity\":0.2}},\"type\":\"histogram\"}],\"mesh3d\":[{\"colorbar\":{\"outlinewidth\":0,\"ticks\":\"\"},\"type\":\"mesh3d\"}],\"parcoords\":[{\"line\":{\"colorbar\":{\"outlinewidth\":0,\"ticks\":\"\"}},\"type\":\"parcoords\"}],\"pie\":[{\"automargin\":true,\"type\":\"pie\"}],\"scatter3d\":[{\"line\":{\"colorbar\":{\"outlinewidth\":0,\"ticks\":\"\"}},\"marker\":{\"colorbar\":{\"outlinewidth\":0,\"ticks\":\"\"}},\"type\":\"scatter3d\"}],\"scattercarpet\":[{\"marker\":{\"colorbar\":{\"outlinewidth\":0,\"ticks\":\"\"}},\"type\":\"scattercarpet\"}],\"scattergeo\":[{\"marker\":{\"colorbar\":{\"outlinewidth\":0,\"ticks\":\"\"}},\"type\":\"scattergeo\"}],\"scattergl\":[{\"marker\":{\"line\":{\"color\":\"#283442\"}},\"type\":\"scattergl\"}],\"scattermapbox\":[{\"marker\":{\"colorbar\":{\"outlinewidth\":0,\"ticks\":\"\"}},\"type\":\"scattermapbox\"}],\"scatterpolargl\":[{\"marker\":{\"colorbar\":{\"outlinewidth\":0,\"ticks\":\"\"}},\"type\":\"scatterpolargl\"}],\"scatterpolar\":[{\"marker\":{\"colorbar\":{\"outlinewidth\":0,\"ticks\":\"\"}},\"type\":\"scatterpolar\"}],\"scatter\":[{\"marker\":{\"line\":{\"color\":\"#283442\"}},\"type\":\"scatter\"}],\"scatterternary\":[{\"marker\":{\"colorbar\":{\"outlinewidth\":0,\"ticks\":\"\"}},\"type\":\"scatterternary\"}],\"surface\":[{\"colorbar\":{\"outlinewidth\":0,\"ticks\":\"\"},\"colorscale\":[[0.0,\"#0d0887\"],[0.1111111111111111,\"#46039f\"],[0.2222222222222222,\"#7201a8\"],[0.3333333333333333,\"#9c179e\"],[0.4444444444444444,\"#bd3786\"],[0.5555555555555556,\"#d8576b\"],[0.6666666666666666,\"#ed7953\"],[0.7777777777777778,\"#fb9f3a\"],[0.8888888888888888,\"#fdca26\"],[1.0,\"#f0f921\"]],\"type\":\"surface\"}],\"table\":[{\"cells\":{\"fill\":{\"color\":\"#506784\"},\"line\":{\"color\":\"rgb(17,17,17)\"}},\"header\":{\"fill\":{\"color\":\"#2a3f5f\"},\"line\":{\"color\":\"rgb(17,17,17)\"}},\"type\":\"table\"}]},\"layout\":{\"annotationdefaults\":{\"arrowcolor\":\"#f2f5fa\",\"arrowhead\":0,\"arrowwidth\":1},\"autotypenumbers\":\"strict\",\"coloraxis\":{\"colorbar\":{\"outlinewidth\":0,\"ticks\":\"\"}},\"colorscale\":{\"diverging\":[[0,\"#8e0152\"],[0.1,\"#c51b7d\"],[0.2,\"#de77ae\"],[0.3,\"#f1b6da\"],[0.4,\"#fde0ef\"],[0.5,\"#f7f7f7\"],[0.6,\"#e6f5d0\"],[0.7,\"#b8e186\"],[0.8,\"#7fbc41\"],[0.9,\"#4d9221\"],[1,\"#276419\"]],\"sequential\":[[0.0,\"#0d0887\"],[0.1111111111111111,\"#46039f\"],[0.2222222222222222,\"#7201a8\"],[0.3333333333333333,\"#9c179e\"],[0.4444444444444444,\"#bd3786\"],[0.5555555555555556,\"#d8576b\"],[0.6666666666666666,\"#ed7953\"],[0.7777777777777778,\"#fb9f3a\"],[0.8888888888888888,\"#fdca26\"],[1.0,\"#f0f921\"]],\"sequentialminus\":[[0.0,\"#0d0887\"],[0.1111111111111111,\"#46039f\"],[0.2222222222222222,\"#7201a8\"],[0.3333333333333333,\"#9c179e\"],[0.4444444444444444,\"#bd3786\"],[0.5555555555555556,\"#d8576b\"],[0.6666666666666666,\"#ed7953\"],[0.7777777777777778,\"#fb9f3a\"],[0.8888888888888888,\"#fdca26\"],[1.0,\"#f0f921\"]]},\"colorway\":[\"#636efa\",\"#EF553B\",\"#00cc96\",\"#ab63fa\",\"#FFA15A\",\"#19d3f3\",\"#FF6692\",\"#B6E880\",\"#FF97FF\",\"#FECB52\"],\"font\":{\"color\":\"#f2f5fa\"},\"geo\":{\"bgcolor\":\"rgb(17,17,17)\",\"lakecolor\":\"rgb(17,17,17)\",\"landcolor\":\"rgb(17,17,17)\",\"showlakes\":true,\"showland\":true,\"subunitcolor\":\"#506784\"},\"hoverlabel\":{\"align\":\"left\"},\"hovermode\":\"closest\",\"mapbox\":{\"style\":\"dark\"},\"paper_bgcolor\":\"rgb(17,17,17)\",\"plot_bgcolor\":\"rgb(17,17,17)\",\"polar\":{\"angularaxis\":{\"gridcolor\":\"#506784\",\"linecolor\":\"#506784\",\"ticks\":\"\"},\"bgcolor\":\"rgb(17,17,17)\",\"radialaxis\":{\"gridcolor\":\"#506784\",\"linecolor\":\"#506784\",\"ticks\":\"\"}},\"scene\":{\"xaxis\":{\"backgroundcolor\":\"rgb(17,17,17)\",\"gridcolor\":\"#506784\",\"gridwidth\":2,\"linecolor\":\"#506784\",\"showbackground\":true,\"ticks\":\"\",\"zerolinecolor\":\"#C8D4E3\"},\"yaxis\":{\"backgroundcolor\":\"rgb(17,17,17)\",\"gridcolor\":\"#506784\",\"gridwidth\":2,\"linecolor\":\"#506784\",\"showbackground\":true,\"ticks\":\"\",\"zerolinecolor\":\"#C8D4E3\"},\"zaxis\":{\"backgroundcolor\":\"rgb(17,17,17)\",\"gridcolor\":\"#506784\",\"gridwidth\":2,\"linecolor\":\"#506784\",\"showbackground\":true,\"ticks\":\"\",\"zerolinecolor\":\"#C8D4E3\"}},\"shapedefaults\":{\"line\":{\"color\":\"#f2f5fa\"}},\"sliderdefaults\":{\"bgcolor\":\"#C8D4E3\",\"bordercolor\":\"rgb(17,17,17)\",\"borderwidth\":1,\"tickwidth\":0},\"ternary\":{\"aaxis\":{\"gridcolor\":\"#506784\",\"linecolor\":\"#506784\",\"ticks\":\"\"},\"baxis\":{\"gridcolor\":\"#506784\",\"linecolor\":\"#506784\",\"ticks\":\"\"},\"bgcolor\":\"rgb(17,17,17)\",\"caxis\":{\"gridcolor\":\"#506784\",\"linecolor\":\"#506784\",\"ticks\":\"\"}},\"title\":{\"x\":0.05},\"updatemenudefaults\":{\"bgcolor\":\"#506784\",\"borderwidth\":0},\"xaxis\":{\"automargin\":true,\"gridcolor\":\"#283442\",\"linecolor\":\"#506784\",\"ticks\":\"\",\"title\":{\"standoff\":15},\"zerolinecolor\":\"#283442\",\"zerolinewidth\":2},\"yaxis\":{\"automargin\":true,\"gridcolor\":\"#283442\",\"linecolor\":\"#506784\",\"ticks\":\"\",\"title\":{\"standoff\":15},\"zerolinecolor\":\"#283442\",\"zerolinewidth\":2}}},\"title\":{\"text\":\"Кривая обучения\"},\"width\":1200,\"height\":600},                        {\"responsive\": true}                    ).then(function(){\n",
              "                            \n",
              "var gd = document.getElementById('7b32a7ca-6a5d-4785-8236-678814083e5a');\n",
              "var x = new MutationObserver(function (mutations, observer) {{\n",
              "        var display = window.getComputedStyle(gd).display;\n",
              "        if (!display || display === 'none') {{\n",
              "            console.log([gd, 'removed!']);\n",
              "            Plotly.purge(gd);\n",
              "            observer.disconnect();\n",
              "        }}\n",
              "}});\n",
              "\n",
              "// Listen for the removal of the full notebook cells\n",
              "var notebookContainer = gd.closest('#notebook-container');\n",
              "if (notebookContainer) {{\n",
              "    x.observe(notebookContainer, {childList: true});\n",
              "}}\n",
              "\n",
              "// Listen for the clearing of the current output cell\n",
              "var outputEl = gd.closest('.output');\n",
              "if (outputEl) {{\n",
              "    x.observe(outputEl, {childList: true});\n",
              "}}\n",
              "\n",
              "                        })                };                            </script>        </div>\n",
              "</body>\n",
              "</html>"
            ]
          },
          "metadata": {}
        }
      ]
    },
    {
      "cell_type": "markdown",
      "source": [
        "После 6-й эпохи улучшения практически отсутствуют."
      ],
      "metadata": {
        "id": "-xGOowRiWvGn"
      }
    },
    {
      "cell_type": "code",
      "source": [
        "def plot_model_class(x_train, y_train, x_test, x, y, model):\n",
        "    \"\"\"Отрисовка модели которая реализована через классы.\n",
        "    Входные переменные:\n",
        "    ===========\n",
        "    x_train: признаки на которых тренировались\n",
        "    y_train: тренировочные целевые значения\n",
        "    x_test: тестовые признаки\n",
        "    x: полные признаки\n",
        "    y: реальные целевые значения (без шума)\n",
        "    model: обученная модель\n",
        "    \"\"\"\n",
        "\n",
        "    fig = go.Figure()\n",
        "    # рисуем с помощью библиотеки plotly\n",
        "    fig.add_trace(\n",
        "        go.Scatter(\n",
        "        x=x_test[:,0],\n",
        "        y=model.predict(x_test, ),\n",
        "        mode='markers',\n",
        "        name='Предсказание на x_test',\n",
        "        marker=dict(size = 5,\n",
        "                    color='Blue')\n",
        "        )\n",
        "    )\n",
        "    fig.add_trace(\n",
        "        go.Scatter(\n",
        "        x=x_train[:,0],\n",
        "        y=model.predict(x_train, ),\n",
        "        mode='markers',\n",
        "        name='Предсказание на x_train',\n",
        "        marker=dict(size = 10,\n",
        "                    color='LightSkyBlue',\n",
        "                    ),\n",
        "\n",
        "        )\n",
        "    )\n",
        "\n",
        "    fig.add_trace(\n",
        "        go.Scatter(\n",
        "        x=x_train[:,0],\n",
        "        y=y_train,\n",
        "        mode='markers',\n",
        "        name='Тренировочные данные',\n",
        "        marker=dict(size = 5,\n",
        "                    color='Red')\n",
        "        )\n",
        "    )\n",
        "\n",
        "    fig.add_trace(\n",
        "        go.Scatter(\n",
        "        x=x[:,0],\n",
        "        y=y[:,0],\n",
        "        mode='lines+markers',\n",
        "        name='Истинные значения',\n",
        "        opacity = 0.7,\n",
        "        marker=dict(size = 10,\n",
        "                    color='green',),\n",
        "\n",
        "        )\n",
        "    )\n",
        "\n",
        "    fig.update_layout(\n",
        "            title='Предсказание модели',\n",
        "            width=1200,\n",
        "            height=600,\n",
        "        template = \"plotly_dark\"\n",
        "            )\n",
        "\n",
        "    fig.show()"
      ],
      "metadata": {
        "id": "8c4nDPfaF2DQ"
      },
      "execution_count": null,
      "outputs": []
    },
    {
      "cell_type": "markdown",
      "source": [
        "Пытаемся визуализировать"
      ],
      "metadata": {
        "id": "hduxeNq0-1TO"
      }
    },
    {
      "cell_type": "code",
      "source": [
        "plot_model_class(x_train, y_train, x_test, x, y_true, regr_poly_lin);"
      ],
      "metadata": {
        "colab": {
          "base_uri": "https://localhost:8080/",
          "height": 617
        },
        "id": "6kgsEj9lXNFR",
        "outputId": "55e1bf7e-f3a7-4aa3-f35c-21688945e408"
      },
      "execution_count": null,
      "outputs": [
        {
          "output_type": "display_data",
          "data": {
            "text/html": [
              "<html>\n",
              "<head><meta charset=\"utf-8\" /></head>\n",
              "<body>\n",
              "    <div>            <script src=\"https://cdnjs.cloudflare.com/ajax/libs/mathjax/2.7.5/MathJax.js?config=TeX-AMS-MML_SVG\"></script><script type=\"text/javascript\">if (window.MathJax && window.MathJax.Hub && window.MathJax.Hub.Config) {window.MathJax.Hub.Config({SVG: {font: \"STIX-Web\"}});}</script>                <script type=\"text/javascript\">window.PlotlyConfig = {MathJaxConfig: 'local'};</script>\n",
              "        <script charset=\"utf-8\" src=\"https://cdn.plot.ly/plotly-2.35.2.min.js\"></script>                <div id=\"1e1b8cef-8b5f-4826-b3cb-1729b080dfb7\" class=\"plotly-graph-div\" style=\"height:600px; width:1200px;\"></div>            <script type=\"text/javascript\">                                    window.PLOTLYENV=window.PLOTLYENV || {};                                    if (document.getElementById(\"1e1b8cef-8b5f-4826-b3cb-1729b080dfb7\")) {                    Plotly.newPlot(                        \"1e1b8cef-8b5f-4826-b3cb-1729b080dfb7\",                        [{\"marker\":{\"color\":\"Blue\",\"size\":5},\"mode\":\"markers\",\"name\":\"Предсказание на x_test\",\"x\":[1.1621220654282163,0.22925563731679227,0.8068403698839598,0.3640364252475524,0.1498317091671035,1.0405533010005272,0.0303949580393173,0.8469554523028531,0.5129786537945371,0.4064791525334338,0.38030280369942215,1.1231927356588491,1.1435804877755607,0.4009750812146698,0.031773908430118986,0.05653411113817258,0.28033663682569976,1.1088580303313966,0.6500850264722635,0.07944793785752954,0.8220161153754292,0.32347497700002115,1.1201141249043665,0.6620632229450081,1.0225184574031163,1.1558670228482035,0.2965613593710001,0.2449785780239315,0.48341918287567176,0.2310680694069088,1.1924107212532342,0.8648689971158665,1.0615292631177224,0.9520245191608969,1.214727603401201,1.0441281194865475,1.1213878249407214,0.8293772113850697,0.27763476308841284,0.22728120900887577,0.39750434371482984,0.09622488728599124,0.2654238883478452,1.0215277502515199,0.7969468391940164,1.2070400413431992,0.9444389231788108,0.9640879333574321,0.6427930480170145,0.1743673258150523,0.7917546956380294,1.1755732304411428,0.006902646404502999,0.2332125736075448,0.7580363245744874,0.6484882771792077,0.761955417474871,0.45964475382429193,0.4459416583669866,0.5501906171745017,0.39294497634540837,1.0193267855685426,0.33918628971736986,1.0966741917262262,1.0759132290704292,0.6172444954554884,1.2336086707506466,0.09318830459971353,0.9509813107711218,0.3224270346439445,0.4681751485592031,0.058063015899997156,0.40666291345408045,0.8915559840287437,0.45795230411711463],\"y\":[0.9363917417524381,0.7770112310831523,0.8756917568875846,0.8000385693616903,0.7634416289982264,0.9156216816751932,0.7430358240364541,0.8825454308207408,0.8254853940417232,0.8072899221225736,0.8028176850274212,0.9297406540171705,0.9332239076168726,0.8063495498772986,0.7432714181267233,0.7475017062290338,0.785738435259327,0.927291565287492,0.8489100591758612,0.7514165404366621,0.8782845375830097,0.7931086336920521,0.9292146724410142,0.8509565376568029,0.9125404232058373,0.9353230658406264,0.7885104340008537,0.7796975002462521,0.8204351495177559,0.7773208856525218,0.9415665677376015,0.885605965356189,0.9192054311309286,0.9004965125905954,0.945379413785122,0.9162324404919783,0.9294322844764743,0.8795421830569469,0.7852768193162123,0.7766738994111007,0.8057565733284013,0.7542828873077724,0.7831905876830186,0.9123711605901113,0.8740014441845348,0.9440659914883345,0.899200511228639,0.9025575505453551,0.8476642224569432,0.7676335465044151,0.8731143648916324,0.938689877352834,0.739022155506503,0.7776872748421529,0.8673535710232932,0.8486372540774364,0.8680231492276328,0.8163732811420756,0.8140321031492553,0.8318430692112675,0.8049776040378691,0.9119951251100392,0.7957929162095883,0.9252099527861873,0.9216629360532926,0.8432992445443381,0.9486052498378011,0.7537640862397478,0.9003182801224879,0.792929592424374,0.8178307016559783,0.7477629200688303,0.8073213177313028,0.8901654451211644,0.8160841255990274],\"type\":\"scatter\"},{\"marker\":{\"color\":\"LightSkyBlue\",\"size\":10},\"mode\":\"markers\",\"name\":\"Предсказание на x_train\",\"x\":[0.7103857541693395,0.02573061786975306,0.42633293881282314,0.28311971899742244,0.5338847357828204,0.9074445985877992,1.0027462259425497,0.91200772292258,0.039286482108417814,0.4597289158990665,1.0101504744555212,1.1090159282204082,1.178637129890649,1.203059118677639,0.30256908938937555,1.125522571454163,0.9748444323220298,0.06434843906248669,0.8850907222450568,0.11286221256801038,1.216263193440557,0.09255581466761295,0.5352301853966429,0.30498705422385447,0.8835716798095214,0.2131551546091144,0.2483946019177155,0.042985651394022995,0.13756490565959595,0.6156471172735799,1.0104966851455763,0.14949280742287713,0.7015964969618703,1.118534188034561,0.11637845975737401,0.5217637539359737,0.0813144912315994,0.9935141294270605,0.9030651440768817,0.7955130140797255,0.5902686564524366,0.4237872388108759,0.48584661211185254,0.9149924272642563,1.1215196974416584,0.07260451521024933,0.7473749735138564,0.3116152864360937,0.8636721726280825,0.1761552812184533,0.6534160367274926,1.1344580924076162,1.188392883012395,0.6118159503469538,0.6741778023945634,0.3023153636255646,1.1150581939713917,0.7889232824965786,0.8281528554424775,1.152342793778896,1.1709124859209181,0.791376821591585,0.570087480271295,0.38076721146671333,0.6283487790360769,0.8249800575427237,1.2123873152024929,0.4913721558334505,0.8552912831401961,1.1743736769552364,0.3315029596021568,0.7919121384511184,0.5399312733026447,0.3483080802957643,1.1861069215666666,0.37609788727096205,0.13486428374163056,0.6357133639558785,0.36218931614221006,0.3896388451117637,0.02073478615982019,0.24959222769794967,0.9331142563975302,1.1603982032346567,0.8401694342573482,0.2994523633337155,0.6940010144993279,0.6282963663814901,1.0893257377346472,0.751393764679011,0.14184190155073634,0.050968926943454895,0.15254779355597353,0.12683942858254013,0.20101006427187332,1.1156987481124723,0.10517495624381104,0.40674962269908466,1.082720182218669,0.4545370029741175,0.2331481379998178,0.42201896425453495,0.7211298557829489,1.009300193955078,0.35096545305106974,0.19502330055304565,0.534426272948187,0.7648161184029744,0.3560506179718345,0.7483231052462957,0.1170934597851156,1.204524971361566,0.8120411238090184,1.208318523804587,0.6783701039478106,0.0063269798077733586,0.00869016316398838,0.35116813710922595,0.2179580362562393,0.4480821606803408,0.6384341282219572,0.7594310648767979,1.232063067638251,0.40400366502594404,0.38872790214457775,0.8787736986189723,0.981469951741267,0.4365119682658261,0.17190118018249156,0.2849189531774271,0.8064659880118124,0.6859172367082327,0.046108684193165994,1.2119807847056983,1.0045900961238932,0.12209014250797984,0.7903822882419743,0.019320770661084286,0.6189711376390877,0.14483632440641214,0.7386161789853023,0.8902240266844198,0.6833878491790996,0.2859977068645281,0.6697183550934481,0.6401163228741013,1.1353323574583172,1.0359218864399118,0.3147278697817052,0.9653059616208217,0.2970469299904996,0.2020358926182672,0.8149515743782507,0.1949931504202533,0.6215606323654819,0.7791226585344474,0.11061562756489937,1.078879282344492,0.9112589600512342,0.3651808106690227,0.18111859011402887,1.0662618193342002,0.22138834925881118,0.4136225310658115,0.9637089749432013,0.8025395576928597,0.20152660906750552,0.7405182110775531,0.9102704357648245,0.01149631452078706,0.46269837531930547,0.24405373474755562,0.6559455395402973,1.1366505025984777,0.9689160292013932],\"y\":[0.8592124566943852,0.7422389201113494,0.8106819474978826,0.7862139256879639,0.8290572044563527,0.8928800197118444,0.9091623314959274,0.8936596308810416,0.7445549436060482,0.8163876602579407,0.9104273495880768,0.9273185421894642,0.9392133454980971,0.9433858496499616,0.7895368564869008,0.930138707165663,0.9043953016384693,0.7488367865123234,0.8890608531949861,0.7571253793513412,0.9456417698066018,0.7536560251440393,0.8292870749287684,0.7899499665083213,0.8888013243366113,0.7742604587553639,0.7802811289590486,0.7451869477944565,0.7613458419183287,0.8430263320000633,0.9104864997889173,0.7633837275329858,0.8577108094489525,0.9289447397501738,0.7577261312444228,0.8269863310511701,0.7517354416437223,0.9075850250211241,0.8921317885874636,0.873756474731203,0.8386904143126157,0.810247013884565,0.8208498765350625,0.8941695685182405,0.9294548149330426,0.7502473396128556,0.865532075978276,0.7910824019813825,0.8854014875313939,0.7679390192244752,0.8494791632828637,0.9316653436162218,0.9408801188620557,0.8423717759748656,0.8530263172104767,0.7894935073636098,0.928350865115846,0.872630617102237,0.8793330014747922,0.9347209502409484,0.9378935877455037,0.8730498049968007,0.8352424542738255,0.8028970292345651,0.8451964147440137,0.8787909279964519,0.9449795748403563,0.8217939173468394,0.8839696100340481,0.9384849332778865,0.7944802169415028,0.8731412640437459,0.8300902572157296,0.7973513768817619,0.9404895616594259,0.8020992737870827,0.7608844398489226,0.8464546562993043,0.7997229902138081,0.8044127505192098,0.7413853807565686,0.7804857436849004,0.8972656884926402,0.936097219376615,0.8813860375904654,0.7890043629000396,0.8564131189788277,0.8451874600261657,0.9239544672048499,0.8662186876612286,0.7620765679566109,0.7465508928304656,0.7639056728354512,0.7595133909240597,0.7721854664073244,0.9284603039840915,0.755812009289266,0.8073361320319702,0.922825906052186,0.8155006203684209,0.7776762659991339,0.8099449036431624,0.8610480896963428,0.9102820789080641,0.7978053898186801,0.7711626260198803,0.8291497262444261,0.8685119008442134,0.7986741917794815,0.8656940645707949,0.7578482892148631,0.943636291023228,0.8765803072646405,0.9442844206025542,0.8537425731955794,0.7389238026947851,0.7393275532841178,0.7978400184511617,0.7750810325337049,0.814397808615237,0.8469194996949619,0.8675918628247072,0.948341183079772,0.8068669843351156,0.8042571156384535,0.8879815878027546,0.9055272736300277,0.8124210377507302,0.7672122047791071,0.7865213253904093,0.875627793631785,0.8550320031045109,0.7457205188903443,0.9449101189823372,0.9094773572726673,0.75870197396546,0.8728798886739897,0.7411437957820304,0.8435942418822983,0.7625881660048583,0.864035633290726,0.8899378798070627,0.8545998564820948,0.7867056307832881,0.8522644192937585,0.847206903158764,0.9318147120638817,0.9148304031003103,0.791614187784982,0.9027656510416091,0.7885933938876818,0.772360729489777,0.8770775586224164,0.771157474860597,0.8440366578374995,0.8709561775416619,0.7567415496258116,0.922169687149963,0.893531704518586,0.8002340879561859,0.7687870020466115,0.9200139897882278,0.7756671025450486,0.8085103704998393,0.90249280538596,0.8749569618272693,0.772273718241489,0.8643605960474906,0.8933628148460356,0.7398069850899844,0.8168949932957129,0.7795394904934771,0.8499113296015299,0.9320399175587352,0.9033824321768323],\"type\":\"scatter\"},{\"marker\":{\"color\":\"Red\",\"size\":5},\"mode\":\"markers\",\"name\":\"Тренировочные данные\",\"x\":[0.7103857541693395,0.02573061786975306,0.42633293881282314,0.28311971899742244,0.5338847357828204,0.9074445985877992,1.0027462259425497,0.91200772292258,0.039286482108417814,0.4597289158990665,1.0101504744555212,1.1090159282204082,1.178637129890649,1.203059118677639,0.30256908938937555,1.125522571454163,0.9748444323220298,0.06434843906248669,0.8850907222450568,0.11286221256801038,1.216263193440557,0.09255581466761295,0.5352301853966429,0.30498705422385447,0.8835716798095214,0.2131551546091144,0.2483946019177155,0.042985651394022995,0.13756490565959595,0.6156471172735799,1.0104966851455763,0.14949280742287713,0.7015964969618703,1.118534188034561,0.11637845975737401,0.5217637539359737,0.0813144912315994,0.9935141294270605,0.9030651440768817,0.7955130140797255,0.5902686564524366,0.4237872388108759,0.48584661211185254,0.9149924272642563,1.1215196974416584,0.07260451521024933,0.7473749735138564,0.3116152864360937,0.8636721726280825,0.1761552812184533,0.6534160367274926,1.1344580924076162,1.188392883012395,0.6118159503469538,0.6741778023945634,0.3023153636255646,1.1150581939713917,0.7889232824965786,0.8281528554424775,1.152342793778896,1.1709124859209181,0.791376821591585,0.570087480271295,0.38076721146671333,0.6283487790360769,0.8249800575427237,1.2123873152024929,0.4913721558334505,0.8552912831401961,1.1743736769552364,0.3315029596021568,0.7919121384511184,0.5399312733026447,0.3483080802957643,1.1861069215666666,0.37609788727096205,0.13486428374163056,0.6357133639558785,0.36218931614221006,0.3896388451117637,0.02073478615982019,0.24959222769794967,0.9331142563975302,1.1603982032346567,0.8401694342573482,0.2994523633337155,0.6940010144993279,0.6282963663814901,1.0893257377346472,0.751393764679011,0.14184190155073634,0.050968926943454895,0.15254779355597353,0.12683942858254013,0.20101006427187332,1.1156987481124723,0.10517495624381104,0.40674962269908466,1.082720182218669,0.4545370029741175,0.2331481379998178,0.42201896425453495,0.7211298557829489,1.009300193955078,0.35096545305106974,0.19502330055304565,0.534426272948187,0.7648161184029744,0.3560506179718345,0.7483231052462957,0.1170934597851156,1.204524971361566,0.8120411238090184,1.208318523804587,0.6783701039478106,0.0063269798077733586,0.00869016316398838,0.35116813710922595,0.2179580362562393,0.4480821606803408,0.6384341282219572,0.7594310648767979,1.232063067638251,0.40400366502594404,0.38872790214457775,0.8787736986189723,0.981469951741267,0.4365119682658261,0.17190118018249156,0.2849189531774271,0.8064659880118124,0.6859172367082327,0.046108684193165994,1.2119807847056983,1.0045900961238932,0.12209014250797984,0.7903822882419743,0.019320770661084286,0.6189711376390877,0.14483632440641214,0.7386161789853023,0.8902240266844198,0.6833878491790996,0.2859977068645281,0.6697183550934481,0.6401163228741013,1.1353323574583172,1.0359218864399118,0.3147278697817052,0.9653059616208217,0.2970469299904996,0.2020358926182672,0.8149515743782507,0.1949931504202533,0.6215606323654819,0.7791226585344474,0.11061562756489937,1.078879282344492,0.9112589600512342,0.3651808106690227,0.18111859011402887,1.0662618193342002,0.22138834925881118,0.4136225310658115,0.9637089749432013,0.8025395576928597,0.20152660906750552,0.7405182110775531,0.9102704357648245,0.01149631452078706,0.46269837531930547,0.24405373474755562,0.6559455395402973,1.1366505025984777,0.9689160292013932],\"y\":[0.9447598240837863,0.7142322111382933,0.7775228517451087,0.9046275989493361,0.868441787839316,0.915183692156532,0.9520468523029476,1.0261794452443762,0.7182129612687063,0.857460492299166,0.9908342210791994,0.8952681706499733,0.9179408034856996,0.9235672285282492,0.8007205629363638,0.8347203438344952,0.8422093399922105,0.7728286147566129,0.934515993396554,0.787822321326366,0.8652658580081763,0.7572547664946442,0.9476295592938511,0.8893347715350182,0.9891173659135426,0.7522063616174809,0.8440660238214927,0.7148201062180369,0.7265602679956756,0.9570515309085762,0.9144090653448778,0.6627285519919452,0.9756562130214839,0.9070801510114888,0.7741974969136605,0.9379387785054101,0.7526936488824715,0.9079723743990276,0.9589018146270556,0.8826701963828776,0.988061325937986,0.9808445898595313,0.940521852067415,1.0014358030084023,0.9486110781518255,0.6545380983574756,0.9981940336849136,0.793491334894433,1.0314850281963448,0.7712331416859078,0.9417181499571976,0.9715707657975132,0.8316885414962207,0.8993212036571647,0.889985489766551,0.7488527300307147,0.9466730804415735,0.9649106177182757,0.9534742321218436,0.9052967980032243,0.9777439431585058,0.9292564470178378,0.9252518634230407,0.9158709133762644,0.972922348820396,0.9041806796890706,0.9001785254744077,0.912657067889103,0.9808087694446992,0.875625223136658,0.8344438440264815,0.8804353568751909,0.9420754920250117,0.793273964327677,0.9497414599347931,0.9279135716286337,0.7378035119019299,0.9989350629626953,0.7787150009872205,0.8121383626702213,0.641507972240401,0.7413047640048361,1.0600217204138196,0.8988891313275416,0.9708095494535517,0.875189887961224,0.9744134866109767,0.9735074503334992,0.8944877768440035,0.9085369461980118,0.7568032808275307,0.7328270295352286,0.6768122522068508,0.7075034543035633,0.7427499093876703,0.8619065522941055,0.765398656912545,0.9009254541275229,0.8467774980516676,0.8540159254822842,0.8364922725535064,0.8116503515539328,0.9018072081751454,1.0372651650679299,0.8329699039876124,0.8105314770267334,0.8820329436100297,0.9098529981732265,0.9293225399032923,0.9421745532672897,0.7261714423703423,0.781735063391922,0.9967242901211837,0.7651502173337774,0.8802224582166113,0.6564782822055926,0.6772926595266864,0.7832932731349433,0.8941668259529352,0.8969605456681077,0.9352218776349228,0.971166080577629,0.9311610952604159,0.8702624820716389,0.8613683065197728,0.9747863302957597,0.9212913507176984,0.8712256549762473,0.742507378318038,0.837402681626631,0.9691428581572391,0.98163954679126,0.6559387351070924,0.8511149044213998,0.9613202161542744,0.7820358731010684,0.9274025906648536,0.71400108204271,0.9194935993036931,0.8697637139841271,0.9523676553907179,0.9656535512050378,0.999590451304369,0.7545877978073737,1.044202641178732,0.9685817937095506,0.9239247951055816,1.029992322254627,0.8524146644976762,0.907506928752274,0.9286180222279194,0.782012623946106,0.9459613855237943,0.7407727311930018,0.9858403249405339,0.9642137782338174,0.7959419931630157,0.9895333081845449,0.9785583911442876,0.8579792988811252,0.7163709028848415,0.9988742040775667,0.8202247835882756,0.9497160021023379,1.0591543634750182,0.9427379075853488,0.7903257051322009,0.9149116000900193,0.9549309249474067,0.7433970470952366,0.9304159913322029,0.793077628107214,0.9670623986801983,0.8693109914918273,0.9191247438685236],\"type\":\"scatter\"},{\"marker\":{\"color\":\"green\",\"size\":10},\"mode\":\"lines+markers\",\"name\":\"Истинные значения\",\"opacity\":0.7,\"x\":[0.0063269798077733586,0.006902646404502999,0.00869016316398838,0.01149631452078706,0.019320770661084286,0.02073478615982019,0.02573061786975306,0.0303949580393173,0.031773908430118986,0.039286482108417814,0.042985651394022995,0.046108684193165994,0.050968926943454895,0.05653411113817258,0.058063015899997156,0.06434843906248669,0.07260451521024933,0.07944793785752954,0.0813144912315994,0.09255581466761295,0.09318830459971353,0.09622488728599124,0.10517495624381104,0.11061562756489937,0.11286221256801038,0.11637845975737401,0.1170934597851156,0.12209014250797984,0.12683942858254013,0.13486428374163056,0.13756490565959595,0.14184190155073634,0.14483632440641214,0.14949280742287713,0.1498317091671035,0.15254779355597353,0.17190118018249156,0.1743673258150523,0.1761552812184533,0.18111859011402887,0.1949931504202533,0.19502330055304565,0.20101006427187332,0.20152660906750552,0.2020358926182672,0.2131551546091144,0.2179580362562393,0.22138834925881118,0.22728120900887577,0.22925563731679227,0.2310680694069088,0.2331481379998178,0.2332125736075448,0.24405373474755562,0.2449785780239315,0.2483946019177155,0.24959222769794967,0.2654238883478452,0.27763476308841284,0.28033663682569976,0.28311971899742244,0.2849189531774271,0.2859977068645281,0.2965613593710001,0.2970469299904996,0.2994523633337155,0.3023153636255646,0.30256908938937555,0.30498705422385447,0.3116152864360937,0.3147278697817052,0.3224270346439445,0.32347497700002115,0.3315029596021568,0.33918628971736986,0.3483080802957643,0.35096545305106974,0.35116813710922595,0.3560506179718345,0.36218931614221006,0.3640364252475524,0.3651808106690227,0.37609788727096205,0.38030280369942215,0.38076721146671333,0.38872790214457775,0.3896388451117637,0.39294497634540837,0.39750434371482984,0.4009750812146698,0.40400366502594404,0.4064791525334338,0.40666291345408045,0.40674962269908466,0.4136225310658115,0.42201896425453495,0.4237872388108759,0.42633293881282314,0.4365119682658261,0.4459416583669866,0.4480821606803408,0.4545370029741175,0.45795230411711463,0.45964475382429193,0.4597289158990665,0.46269837531930547,0.4681751485592031,0.48341918287567176,0.48584661211185254,0.4913721558334505,0.5129786537945371,0.5217637539359737,0.5338847357828204,0.534426272948187,0.5352301853966429,0.5399312733026447,0.5501906171745017,0.570087480271295,0.5902686564524366,0.6118159503469538,0.6156471172735799,0.6172444954554884,0.6189711376390877,0.6215606323654819,0.6282963663814901,0.6283487790360769,0.6357133639558785,0.6384341282219572,0.6401163228741013,0.6427930480170145,0.6484882771792077,0.6500850264722635,0.6534160367274926,0.6559455395402973,0.6620632229450081,0.6697183550934481,0.6741778023945634,0.6783701039478106,0.6833878491790996,0.6859172367082327,0.6940010144993279,0.7015964969618703,0.7103857541693395,0.7211298557829489,0.7386161789853023,0.7405182110775531,0.7473749735138564,0.7483231052462957,0.751393764679011,0.7580363245744874,0.7594310648767979,0.761955417474871,0.7648161184029744,0.7791226585344474,0.7889232824965786,0.7903822882419743,0.791376821591585,0.7917546956380294,0.7919121384511184,0.7955130140797255,0.7969468391940164,0.8025395576928597,0.8064659880118124,0.8068403698839598,0.8120411238090184,0.8149515743782507,0.8220161153754292,0.8249800575427237,0.8281528554424775,0.8293772113850697,0.8401694342573482,0.8469554523028531,0.8552912831401961,0.8636721726280825,0.8648689971158665,0.8787736986189723,0.8835716798095214,0.8850907222450568,0.8902240266844198,0.8915559840287437,0.9030651440768817,0.9074445985877992,0.9102704357648245,0.9112589600512342,0.91200772292258,0.9149924272642563,0.9331142563975302,0.9444389231788108,0.9509813107711218,0.9520245191608969,0.9637089749432013,0.9640879333574321,0.9653059616208217,0.9689160292013932,0.9748444323220298,0.981469951741267,0.9935141294270605,1.0027462259425497,1.0045900961238932,1.009300193955078,1.0101504744555212,1.0104966851455763,1.0193267855685426,1.0215277502515199,1.0225184574031163,1.0359218864399118,1.0405533010005272,1.0441281194865475,1.0615292631177224,1.0662618193342002,1.0759132290704292,1.078879282344492,1.082720182218669,1.0893257377346472,1.0966741917262262,1.1088580303313966,1.1090159282204082,1.1150581939713917,1.1156987481124723,1.118534188034561,1.1201141249043665,1.1213878249407214,1.1215196974416584,1.1231927356588491,1.125522571454163,1.1344580924076162,1.1353323574583172,1.1366505025984777,1.1435804877755607,1.152342793778896,1.1558670228482035,1.1603982032346567,1.1621220654282163,1.1709124859209181,1.1743736769552364,1.1755732304411428,1.178637129890649,1.1861069215666666,1.188392883012395,1.1924107212532342,1.203059118677639,1.204524971361566,1.2070400413431992,1.208318523804587,1.2119807847056983,1.2123873152024929,1.214727603401201,1.216263193440557,1.232063067638251,1.2336086707506466],\"y\":[0.6988179681090129,0.6990123656276946,0.6996184071300374,0.700577107379063,0.7032963948361998,0.7037949111760005,0.7055731648457342,0.7072568062560933,0.7077587891137447,0.7105267059714299,0.7119096702957369,0.7130872499986236,0.7149376615178145,0.7170823198813424,0.7176762252422841,0.7201385121548678,0.7234215667553301,0.7261827547382161,0.7269418855220385,0.7315654689490337,0.7318281520436667,0.7330929024237564,0.7368541313778867,0.7391637111539858,0.7401222331517059,0.7416279343483706,0.7419349046023596,0.744087412076405,0.7461447150304419,0.7496444422389303,0.7508284453871308,0.7527095738582146,0.7540307856504517,0.7560918116215326,0.7562421098027315,0.7574480457663334,0.7661039716075098,0.7672137501999964,0.7680191407311348,0.7702581417813068,0.7765379166560002,0.7765515895799997,0.7792682409735271,0.7795027756531021,0.7797340319509154,0.7847863789977717,0.7869696214866689,0.788528832472375,0.791206543141978,0.7921033494718471,0.7929263585161241,0.7938706058136953,0.7938998509342108,0.798814450180559,0.7992330715530285,0.8007782641129866,0.801319584357625,0.808451320974832,0.8139141183274144,0.8151175224032812,0.8163548869352812,0.8171535960785832,0.817631995524126,0.8222967087468007,0.8225102123772877,0.8235666249336666,0.8248212283284154,0.8249322665796764,0.825989214075687,0.8288748081753721,0.8302236930903648,0.8335423993327002,0.833992082062631,0.8374201118295715,0.8406718748398064,0.8444933463943916,0.8455983115572704,0.8456824322331858,0.8477019747067105,0.8502220698852521,0.8509761055568135,0.8514422700168207,0.8558499071753279,0.8575280648176226,0.8577127257685164,0.8608566534687935,0.8612137952226189,0.8625053977314253,0.8642746623091186,0.8656120757185072,0.866772377822138,0.8677160713443254,0.8677859538784166,0.8678189204014706,0.8704151612950702,0.8735411264952753,0.8741929211267179,0.8751272417212338,0.8788149097280264,0.8821609663780047,0.8829109522813561,0.8851509014733139,0.8863227878197468,0.8869000820575679,0.8869287301463765,0.8879358864811516,0.8897748715928706,0.8947649230039164,0.8955418582957525,0.8972920918452725,0.9038889839361579,0.9064573364092294,0.9098915383854196,0.9100419956198782,0.9102648790376879,0.9115569787533385,0.914309770778204,0.9193854942576015,0.9241780811485648,0.9288997730989562,0.9296966618500743,0.9300251251694348,0.9303776594650541,0.9309014823411743,0.9322366328840976,0.9322468670203641,0.9336611226049788,0.9341716855532849,0.9344841451448024,0.9349762806754962,0.9360027726639613,0.9362855396252316,0.9368683517075617,0.9373045474083526,0.9383367805338613,0.9395832773944589,0.9402863588415361,0.9409318888559979,0.9416849076293656,0.9420564120931132,0.9432074957583689,0.9442389375582698,0.9453721627261321,0.946669926749437,0.9485774274810316,0.9487696856656248,0.949438047014026,0.9495274223423966,0.9498118060376374,0.950400500089482,0.9505195078638478,0.9507308427346245,0.9509640179515481,0.9520294176592218,0.9526622891628396,0.9527497494334102,0.952808362298754,0.9528304187518157,0.9528395739500571,0.9530433851017054,0.9531215629277299,0.9534102651709412,0.9535974798773389,0.9536146628074558,0.9538413089610827,0.9539583120219657,0.9542128407097608,0.954307147920961,0.9543998889214631,0.9544334003327665,0.9546736214366472,0.9547735056110909,0.9548414437326406,0.9548480825462159,0.95484392972238,0.9547007441908126,0.954610166327987,0.9545770169908459,0.954448927114517,0.954411611238859,0.954018009699614,0.9538341813493053,0.9537054162344596,0.9536584765820151,0.9536222648546242,0.953472261704142,0.9523625975382418,0.9514890553079844,0.9509184243806933,0.9508228586729105,0.9496642168141347,0.9496238767795594,0.9494930208613128,0.9490943761407247,0.9484041262077009,0.9475791018017364,0.9459290074767125,0.9445271629791372,0.9442324173654164,0.9434566231071356,0.9433130291698969,0.943254248127998,0.9416927028087291,0.9412844516048698,0.9410981614334529,0.9384193839619094,0.9374229766181912,0.9366281199963341,0.9324242388559034,0.931180585369296,0.9285040097735293,0.9276424925858718,0.9264988809913859,0.9244565279916921,0.9220687134690441,0.917828770491641,0.9177714442239355,0.9155305838241986,0.9152875737632352,0.9141991252625534,0.9135835257802959,0.9130824577741882,0.9130303342473811,0.9123650345862828,0.9114260523712764,0.9076869247025878,0.907309094506602,0.906735318319655,0.9036361322865805,0.8995130662885813,0.8977883159811035,0.8955132072570361,0.8946303797846976,0.8899769010363455,0.8880734305606117,0.8874041525619674,0.8856720060064422,0.8813098820581756,0.879934714525226,0.877471013917341,0.8706460041857699,0.8696720377130778,0.867981080886879,0.8671118262217825,0.8645852461436278,0.8643014126846096,0.862654238068007,0.8615611189871876,0.8497303179818513,0.8485142799948433],\"type\":\"scatter\"}],                        {\"template\":{\"data\":{\"barpolar\":[{\"marker\":{\"line\":{\"color\":\"rgb(17,17,17)\",\"width\":0.5},\"pattern\":{\"fillmode\":\"overlay\",\"size\":10,\"solidity\":0.2}},\"type\":\"barpolar\"}],\"bar\":[{\"error_x\":{\"color\":\"#f2f5fa\"},\"error_y\":{\"color\":\"#f2f5fa\"},\"marker\":{\"line\":{\"color\":\"rgb(17,17,17)\",\"width\":0.5},\"pattern\":{\"fillmode\":\"overlay\",\"size\":10,\"solidity\":0.2}},\"type\":\"bar\"}],\"carpet\":[{\"aaxis\":{\"endlinecolor\":\"#A2B1C6\",\"gridcolor\":\"#506784\",\"linecolor\":\"#506784\",\"minorgridcolor\":\"#506784\",\"startlinecolor\":\"#A2B1C6\"},\"baxis\":{\"endlinecolor\":\"#A2B1C6\",\"gridcolor\":\"#506784\",\"linecolor\":\"#506784\",\"minorgridcolor\":\"#506784\",\"startlinecolor\":\"#A2B1C6\"},\"type\":\"carpet\"}],\"choropleth\":[{\"colorbar\":{\"outlinewidth\":0,\"ticks\":\"\"},\"type\":\"choropleth\"}],\"contourcarpet\":[{\"colorbar\":{\"outlinewidth\":0,\"ticks\":\"\"},\"type\":\"contourcarpet\"}],\"contour\":[{\"colorbar\":{\"outlinewidth\":0,\"ticks\":\"\"},\"colorscale\":[[0.0,\"#0d0887\"],[0.1111111111111111,\"#46039f\"],[0.2222222222222222,\"#7201a8\"],[0.3333333333333333,\"#9c179e\"],[0.4444444444444444,\"#bd3786\"],[0.5555555555555556,\"#d8576b\"],[0.6666666666666666,\"#ed7953\"],[0.7777777777777778,\"#fb9f3a\"],[0.8888888888888888,\"#fdca26\"],[1.0,\"#f0f921\"]],\"type\":\"contour\"}],\"heatmapgl\":[{\"colorbar\":{\"outlinewidth\":0,\"ticks\":\"\"},\"colorscale\":[[0.0,\"#0d0887\"],[0.1111111111111111,\"#46039f\"],[0.2222222222222222,\"#7201a8\"],[0.3333333333333333,\"#9c179e\"],[0.4444444444444444,\"#bd3786\"],[0.5555555555555556,\"#d8576b\"],[0.6666666666666666,\"#ed7953\"],[0.7777777777777778,\"#fb9f3a\"],[0.8888888888888888,\"#fdca26\"],[1.0,\"#f0f921\"]],\"type\":\"heatmapgl\"}],\"heatmap\":[{\"colorbar\":{\"outlinewidth\":0,\"ticks\":\"\"},\"colorscale\":[[0.0,\"#0d0887\"],[0.1111111111111111,\"#46039f\"],[0.2222222222222222,\"#7201a8\"],[0.3333333333333333,\"#9c179e\"],[0.4444444444444444,\"#bd3786\"],[0.5555555555555556,\"#d8576b\"],[0.6666666666666666,\"#ed7953\"],[0.7777777777777778,\"#fb9f3a\"],[0.8888888888888888,\"#fdca26\"],[1.0,\"#f0f921\"]],\"type\":\"heatmap\"}],\"histogram2dcontour\":[{\"colorbar\":{\"outlinewidth\":0,\"ticks\":\"\"},\"colorscale\":[[0.0,\"#0d0887\"],[0.1111111111111111,\"#46039f\"],[0.2222222222222222,\"#7201a8\"],[0.3333333333333333,\"#9c179e\"],[0.4444444444444444,\"#bd3786\"],[0.5555555555555556,\"#d8576b\"],[0.6666666666666666,\"#ed7953\"],[0.7777777777777778,\"#fb9f3a\"],[0.8888888888888888,\"#fdca26\"],[1.0,\"#f0f921\"]],\"type\":\"histogram2dcontour\"}],\"histogram2d\":[{\"colorbar\":{\"outlinewidth\":0,\"ticks\":\"\"},\"colorscale\":[[0.0,\"#0d0887\"],[0.1111111111111111,\"#46039f\"],[0.2222222222222222,\"#7201a8\"],[0.3333333333333333,\"#9c179e\"],[0.4444444444444444,\"#bd3786\"],[0.5555555555555556,\"#d8576b\"],[0.6666666666666666,\"#ed7953\"],[0.7777777777777778,\"#fb9f3a\"],[0.8888888888888888,\"#fdca26\"],[1.0,\"#f0f921\"]],\"type\":\"histogram2d\"}],\"histogram\":[{\"marker\":{\"pattern\":{\"fillmode\":\"overlay\",\"size\":10,\"solidity\":0.2}},\"type\":\"histogram\"}],\"mesh3d\":[{\"colorbar\":{\"outlinewidth\":0,\"ticks\":\"\"},\"type\":\"mesh3d\"}],\"parcoords\":[{\"line\":{\"colorbar\":{\"outlinewidth\":0,\"ticks\":\"\"}},\"type\":\"parcoords\"}],\"pie\":[{\"automargin\":true,\"type\":\"pie\"}],\"scatter3d\":[{\"line\":{\"colorbar\":{\"outlinewidth\":0,\"ticks\":\"\"}},\"marker\":{\"colorbar\":{\"outlinewidth\":0,\"ticks\":\"\"}},\"type\":\"scatter3d\"}],\"scattercarpet\":[{\"marker\":{\"colorbar\":{\"outlinewidth\":0,\"ticks\":\"\"}},\"type\":\"scattercarpet\"}],\"scattergeo\":[{\"marker\":{\"colorbar\":{\"outlinewidth\":0,\"ticks\":\"\"}},\"type\":\"scattergeo\"}],\"scattergl\":[{\"marker\":{\"line\":{\"color\":\"#283442\"}},\"type\":\"scattergl\"}],\"scattermapbox\":[{\"marker\":{\"colorbar\":{\"outlinewidth\":0,\"ticks\":\"\"}},\"type\":\"scattermapbox\"}],\"scatterpolargl\":[{\"marker\":{\"colorbar\":{\"outlinewidth\":0,\"ticks\":\"\"}},\"type\":\"scatterpolargl\"}],\"scatterpolar\":[{\"marker\":{\"colorbar\":{\"outlinewidth\":0,\"ticks\":\"\"}},\"type\":\"scatterpolar\"}],\"scatter\":[{\"marker\":{\"line\":{\"color\":\"#283442\"}},\"type\":\"scatter\"}],\"scatterternary\":[{\"marker\":{\"colorbar\":{\"outlinewidth\":0,\"ticks\":\"\"}},\"type\":\"scatterternary\"}],\"surface\":[{\"colorbar\":{\"outlinewidth\":0,\"ticks\":\"\"},\"colorscale\":[[0.0,\"#0d0887\"],[0.1111111111111111,\"#46039f\"],[0.2222222222222222,\"#7201a8\"],[0.3333333333333333,\"#9c179e\"],[0.4444444444444444,\"#bd3786\"],[0.5555555555555556,\"#d8576b\"],[0.6666666666666666,\"#ed7953\"],[0.7777777777777778,\"#fb9f3a\"],[0.8888888888888888,\"#fdca26\"],[1.0,\"#f0f921\"]],\"type\":\"surface\"}],\"table\":[{\"cells\":{\"fill\":{\"color\":\"#506784\"},\"line\":{\"color\":\"rgb(17,17,17)\"}},\"header\":{\"fill\":{\"color\":\"#2a3f5f\"},\"line\":{\"color\":\"rgb(17,17,17)\"}},\"type\":\"table\"}]},\"layout\":{\"annotationdefaults\":{\"arrowcolor\":\"#f2f5fa\",\"arrowhead\":0,\"arrowwidth\":1},\"autotypenumbers\":\"strict\",\"coloraxis\":{\"colorbar\":{\"outlinewidth\":0,\"ticks\":\"\"}},\"colorscale\":{\"diverging\":[[0,\"#8e0152\"],[0.1,\"#c51b7d\"],[0.2,\"#de77ae\"],[0.3,\"#f1b6da\"],[0.4,\"#fde0ef\"],[0.5,\"#f7f7f7\"],[0.6,\"#e6f5d0\"],[0.7,\"#b8e186\"],[0.8,\"#7fbc41\"],[0.9,\"#4d9221\"],[1,\"#276419\"]],\"sequential\":[[0.0,\"#0d0887\"],[0.1111111111111111,\"#46039f\"],[0.2222222222222222,\"#7201a8\"],[0.3333333333333333,\"#9c179e\"],[0.4444444444444444,\"#bd3786\"],[0.5555555555555556,\"#d8576b\"],[0.6666666666666666,\"#ed7953\"],[0.7777777777777778,\"#fb9f3a\"],[0.8888888888888888,\"#fdca26\"],[1.0,\"#f0f921\"]],\"sequentialminus\":[[0.0,\"#0d0887\"],[0.1111111111111111,\"#46039f\"],[0.2222222222222222,\"#7201a8\"],[0.3333333333333333,\"#9c179e\"],[0.4444444444444444,\"#bd3786\"],[0.5555555555555556,\"#d8576b\"],[0.6666666666666666,\"#ed7953\"],[0.7777777777777778,\"#fb9f3a\"],[0.8888888888888888,\"#fdca26\"],[1.0,\"#f0f921\"]]},\"colorway\":[\"#636efa\",\"#EF553B\",\"#00cc96\",\"#ab63fa\",\"#FFA15A\",\"#19d3f3\",\"#FF6692\",\"#B6E880\",\"#FF97FF\",\"#FECB52\"],\"font\":{\"color\":\"#f2f5fa\"},\"geo\":{\"bgcolor\":\"rgb(17,17,17)\",\"lakecolor\":\"rgb(17,17,17)\",\"landcolor\":\"rgb(17,17,17)\",\"showlakes\":true,\"showland\":true,\"subunitcolor\":\"#506784\"},\"hoverlabel\":{\"align\":\"left\"},\"hovermode\":\"closest\",\"mapbox\":{\"style\":\"dark\"},\"paper_bgcolor\":\"rgb(17,17,17)\",\"plot_bgcolor\":\"rgb(17,17,17)\",\"polar\":{\"angularaxis\":{\"gridcolor\":\"#506784\",\"linecolor\":\"#506784\",\"ticks\":\"\"},\"bgcolor\":\"rgb(17,17,17)\",\"radialaxis\":{\"gridcolor\":\"#506784\",\"linecolor\":\"#506784\",\"ticks\":\"\"}},\"scene\":{\"xaxis\":{\"backgroundcolor\":\"rgb(17,17,17)\",\"gridcolor\":\"#506784\",\"gridwidth\":2,\"linecolor\":\"#506784\",\"showbackground\":true,\"ticks\":\"\",\"zerolinecolor\":\"#C8D4E3\"},\"yaxis\":{\"backgroundcolor\":\"rgb(17,17,17)\",\"gridcolor\":\"#506784\",\"gridwidth\":2,\"linecolor\":\"#506784\",\"showbackground\":true,\"ticks\":\"\",\"zerolinecolor\":\"#C8D4E3\"},\"zaxis\":{\"backgroundcolor\":\"rgb(17,17,17)\",\"gridcolor\":\"#506784\",\"gridwidth\":2,\"linecolor\":\"#506784\",\"showbackground\":true,\"ticks\":\"\",\"zerolinecolor\":\"#C8D4E3\"}},\"shapedefaults\":{\"line\":{\"color\":\"#f2f5fa\"}},\"sliderdefaults\":{\"bgcolor\":\"#C8D4E3\",\"bordercolor\":\"rgb(17,17,17)\",\"borderwidth\":1,\"tickwidth\":0},\"ternary\":{\"aaxis\":{\"gridcolor\":\"#506784\",\"linecolor\":\"#506784\",\"ticks\":\"\"},\"baxis\":{\"gridcolor\":\"#506784\",\"linecolor\":\"#506784\",\"ticks\":\"\"},\"bgcolor\":\"rgb(17,17,17)\",\"caxis\":{\"gridcolor\":\"#506784\",\"linecolor\":\"#506784\",\"ticks\":\"\"}},\"title\":{\"x\":0.05},\"updatemenudefaults\":{\"bgcolor\":\"#506784\",\"borderwidth\":0},\"xaxis\":{\"automargin\":true,\"gridcolor\":\"#283442\",\"linecolor\":\"#506784\",\"ticks\":\"\",\"title\":{\"standoff\":15},\"zerolinecolor\":\"#283442\",\"zerolinewidth\":2},\"yaxis\":{\"automargin\":true,\"gridcolor\":\"#283442\",\"linecolor\":\"#506784\",\"ticks\":\"\",\"title\":{\"standoff\":15},\"zerolinecolor\":\"#283442\",\"zerolinewidth\":2}}},\"title\":{\"text\":\"Предсказание модели\"},\"width\":1200,\"height\":600},                        {\"responsive\": true}                    ).then(function(){\n",
              "                            \n",
              "var gd = document.getElementById('1e1b8cef-8b5f-4826-b3cb-1729b080dfb7');\n",
              "var x = new MutationObserver(function (mutations, observer) {{\n",
              "        var display = window.getComputedStyle(gd).display;\n",
              "        if (!display || display === 'none') {{\n",
              "            console.log([gd, 'removed!']);\n",
              "            Plotly.purge(gd);\n",
              "            observer.disconnect();\n",
              "        }}\n",
              "}});\n",
              "\n",
              "// Listen for the removal of the full notebook cells\n",
              "var notebookContainer = gd.closest('#notebook-container');\n",
              "if (notebookContainer) {{\n",
              "    x.observe(notebookContainer, {childList: true});\n",
              "}}\n",
              "\n",
              "// Listen for the clearing of the current output cell\n",
              "var outputEl = gd.closest('.output');\n",
              "if (outputEl) {{\n",
              "    x.observe(outputEl, {childList: true});\n",
              "}}\n",
              "\n",
              "                        })                };                            </script>        </div>\n",
              "</body>\n",
              "</html>"
            ]
          },
          "metadata": {}
        }
      ]
    },
    {
      "cell_type": "markdown",
      "source": [
        "Предсказанные значения лежат значительно ниже истинных значений, такой вариант хуже предыдущего."
      ],
      "metadata": {
        "id": "GVWcgv81-4JH"
      }
    },
    {
      "cell_type": "markdown",
      "source": [
        "## Полиномиальные данные"
      ],
      "metadata": {
        "id": "NVHxR2MmgsNb"
      }
    },
    {
      "cell_type": "markdown",
      "metadata": {
        "id": "2oqLqaTJbNad"
      },
      "source": [
        "Теперь попробуем реализовать полиномиальную регрессию.\n",
        "Как известно члены полиномов различных целых степеней можно считать независимыми функциями. Поэтому\n",
        "регрессия может быть представлена как многопеременная линейная регрессия.\n",
        "\n",
        "Для реализации используется функция `to_polynom`, создающая полином из входных данных `x`. На выходе функуции будет массив, имеющий число столбцов, равное степени искомого полинома."
      ]
    },
    {
      "cell_type": "code",
      "execution_count": null,
      "metadata": {
        "id": "GA-Kro-BbNae"
      },
      "outputs": [],
      "source": [
        "def to_polynom(x, order = 1, add_bias = False):\n",
        "    \"\"\"Генерация полиномиальных признаков .\n",
        "    Входные переменные:\n",
        "    ===========\n",
        "    x: признаки\n",
        "    order: порядок полинома\n",
        "    add_bias: добавляем ли константу (так вроде делает и scikit-learn)\n",
        "    \"\"\"\n",
        "    order_range = range( 0 if add_bias else 1, order+1,1)\n",
        "    x = np.atleast_1d(x)[:]\n",
        "    out = np.array([])\n",
        "    for i in order_range:\n",
        "        out = np.append(out, np.power(x,i))# складываем в выходную переменную все степени от 0/1 до order\n",
        "    return out.reshape(-1, x.size).T"
      ]
    },
    {
      "cell_type": "markdown",
      "source": [
        "Сделаем полиномы до 3 степени"
      ],
      "metadata": {
        "id": "WJmh3x_dAYj7"
      }
    },
    {
      "cell_type": "code",
      "source": [
        "x_ = to_polynom(x, order = 3)\n",
        "x_train, x_test, y_train, y_test = train_test_split(x_, y,  test_size=0.3, )"
      ],
      "metadata": {
        "id": "rW_M7hPZYXuL"
      },
      "execution_count": null,
      "outputs": []
    },
    {
      "cell_type": "markdown",
      "source": [
        "Создадим новую модель"
      ],
      "metadata": {
        "id": "NyR0JweqAdPJ"
      }
    },
    {
      "cell_type": "code",
      "source": [
        "regr_poly = LinearRegression(learning_rate=0.1,\n",
        "                        epochs=100,batch_size=10,\n",
        "                        n_batches=None)"
      ],
      "metadata": {
        "id": "5ZoDtZiEYRyY"
      },
      "execution_count": null,
      "outputs": []
    },
    {
      "cell_type": "markdown",
      "source": [
        "Обучим её методом `.fit`"
      ],
      "metadata": {
        "id": "r9RSn4bDAgG8"
      }
    },
    {
      "cell_type": "code",
      "source": [
        "regr_poly.fit(x_train, y_train)\n",
        "\n",
        "print(f'Коэффициент детерминации на тренировочных данных = {regr_poly.score(x_train, y_train):.2f}')\n",
        "regr_poly.plot_cost()"
      ],
      "metadata": {
        "id": "bVNSVZ9gY5lg",
        "colab": {
          "base_uri": "https://localhost:8080/",
          "height": 634
        },
        "outputId": "06c1ee3b-a57b-4973-81b8-00a5631e9a9a"
      },
      "execution_count": null,
      "outputs": [
        {
          "output_type": "stream",
          "name": "stdout",
          "text": [
            "Коэффициент детерминации на тренировочных данных = 0.74\n"
          ]
        },
        {
          "output_type": "display_data",
          "data": {
            "text/html": [
              "<html>\n",
              "<head><meta charset=\"utf-8\" /></head>\n",
              "<body>\n",
              "    <div>            <script src=\"https://cdnjs.cloudflare.com/ajax/libs/mathjax/2.7.5/MathJax.js?config=TeX-AMS-MML_SVG\"></script><script type=\"text/javascript\">if (window.MathJax && window.MathJax.Hub && window.MathJax.Hub.Config) {window.MathJax.Hub.Config({SVG: {font: \"STIX-Web\"}});}</script>                <script type=\"text/javascript\">window.PlotlyConfig = {MathJaxConfig: 'local'};</script>\n",
              "        <script charset=\"utf-8\" src=\"https://cdn.plot.ly/plotly-2.35.2.min.js\"></script>                <div id=\"9d67d63b-8290-43d8-bd60-22b8a2a71062\" class=\"plotly-graph-div\" style=\"height:600px; width:1200px;\"></div>            <script type=\"text/javascript\">                                    window.PLOTLYENV=window.PLOTLYENV || {};                                    if (document.getElementById(\"9d67d63b-8290-43d8-bd60-22b8a2a71062\")) {                    Plotly.newPlot(                        \"9d67d63b-8290-43d8-bd60-22b8a2a71062\",                        [{\"mode\":\"lines+markers\",\"name\":\"Реальные данные\",\"y\":[0.031107057176095958,0.008263948546076618,0.005795511419968612,0.005299786925662582,0.0050279298161393215,0.004783265518564771,0.004305543576627019,0.004114619939082315,0.004290820323858076,0.004059093981016488,0.003924499518838869,0.0036395514755852873,0.0036089119071047527,0.0036050027308289715,0.0034123266409959298,0.0032347897454809657,0.0032405469748322917,0.003210388814251425,0.003218689759062955,0.003128184175276603,0.0030115725588351233,0.00298087473499861,0.002898558147760537,0.0029247566164295534,0.002901205224388192,0.0028836713078950155,0.0027906786396812468,0.0028394127064641016,0.002716047264390072,0.002749146771023873,0.0028787292795536532,0.002934427327346942,0.002895998594792176,0.0028366131388897118,0.0027478674850907967,0.0028396570532713476,0.0028510918778879213,0.0027674134254304338,0.002711056117778887,0.0027536033993859504,0.0027649846210572727,0.002610495572445879,0.0025888727339703384,0.002687292687551941,0.002825155050106873,0.0026705257074340905,0.0027176004037900085,0.002620214125355244,0.0027305411951189834,0.0026555163164466585,0.0026716629395736173,0.0027797679084409243,0.0026120431973600806,0.0026171747663639696,0.00265174138167794,0.002718618572962561,0.002714475188467485,0.002621747070969422,0.002666307792197315,0.002628596072612207,0.0026400623680358556,0.002624335482795476,0.0027456968237724124,0.002718989698197542,0.0027279893049785343,0.0028156101997725415,0.002555261105635748,0.0026312623287415133,0.002559797250068533,0.0026146817341777,0.0027234586046960842,0.002686129640383594,0.002641261104713355,0.0026246906044977616,0.0025877891895052024,0.0026603983136779053,0.002658844010947013,0.002544834108286131,0.002622887589277642,0.0026283791077426114,0.0026636188326060015,0.0026616572953011126,0.002673220806145369,0.002887586237934932,0.002686241519934785,0.002690396102259979,0.0026680876300533072,0.0025755533979915928,0.0026625924318939564,0.002710432950766799,0.002668285717738672,0.0026704194228246813,0.0026299590877610526,0.0026987843466919044,0.002552456160277739,0.002624932807254732,0.002642445796143636,0.002671833620070499,0.00265248548681228,0.0027504036967733766],\"type\":\"scatter\"}],                        {\"template\":{\"data\":{\"barpolar\":[{\"marker\":{\"line\":{\"color\":\"rgb(17,17,17)\",\"width\":0.5},\"pattern\":{\"fillmode\":\"overlay\",\"size\":10,\"solidity\":0.2}},\"type\":\"barpolar\"}],\"bar\":[{\"error_x\":{\"color\":\"#f2f5fa\"},\"error_y\":{\"color\":\"#f2f5fa\"},\"marker\":{\"line\":{\"color\":\"rgb(17,17,17)\",\"width\":0.5},\"pattern\":{\"fillmode\":\"overlay\",\"size\":10,\"solidity\":0.2}},\"type\":\"bar\"}],\"carpet\":[{\"aaxis\":{\"endlinecolor\":\"#A2B1C6\",\"gridcolor\":\"#506784\",\"linecolor\":\"#506784\",\"minorgridcolor\":\"#506784\",\"startlinecolor\":\"#A2B1C6\"},\"baxis\":{\"endlinecolor\":\"#A2B1C6\",\"gridcolor\":\"#506784\",\"linecolor\":\"#506784\",\"minorgridcolor\":\"#506784\",\"startlinecolor\":\"#A2B1C6\"},\"type\":\"carpet\"}],\"choropleth\":[{\"colorbar\":{\"outlinewidth\":0,\"ticks\":\"\"},\"type\":\"choropleth\"}],\"contourcarpet\":[{\"colorbar\":{\"outlinewidth\":0,\"ticks\":\"\"},\"type\":\"contourcarpet\"}],\"contour\":[{\"colorbar\":{\"outlinewidth\":0,\"ticks\":\"\"},\"colorscale\":[[0.0,\"#0d0887\"],[0.1111111111111111,\"#46039f\"],[0.2222222222222222,\"#7201a8\"],[0.3333333333333333,\"#9c179e\"],[0.4444444444444444,\"#bd3786\"],[0.5555555555555556,\"#d8576b\"],[0.6666666666666666,\"#ed7953\"],[0.7777777777777778,\"#fb9f3a\"],[0.8888888888888888,\"#fdca26\"],[1.0,\"#f0f921\"]],\"type\":\"contour\"}],\"heatmapgl\":[{\"colorbar\":{\"outlinewidth\":0,\"ticks\":\"\"},\"colorscale\":[[0.0,\"#0d0887\"],[0.1111111111111111,\"#46039f\"],[0.2222222222222222,\"#7201a8\"],[0.3333333333333333,\"#9c179e\"],[0.4444444444444444,\"#bd3786\"],[0.5555555555555556,\"#d8576b\"],[0.6666666666666666,\"#ed7953\"],[0.7777777777777778,\"#fb9f3a\"],[0.8888888888888888,\"#fdca26\"],[1.0,\"#f0f921\"]],\"type\":\"heatmapgl\"}],\"heatmap\":[{\"colorbar\":{\"outlinewidth\":0,\"ticks\":\"\"},\"colorscale\":[[0.0,\"#0d0887\"],[0.1111111111111111,\"#46039f\"],[0.2222222222222222,\"#7201a8\"],[0.3333333333333333,\"#9c179e\"],[0.4444444444444444,\"#bd3786\"],[0.5555555555555556,\"#d8576b\"],[0.6666666666666666,\"#ed7953\"],[0.7777777777777778,\"#fb9f3a\"],[0.8888888888888888,\"#fdca26\"],[1.0,\"#f0f921\"]],\"type\":\"heatmap\"}],\"histogram2dcontour\":[{\"colorbar\":{\"outlinewidth\":0,\"ticks\":\"\"},\"colorscale\":[[0.0,\"#0d0887\"],[0.1111111111111111,\"#46039f\"],[0.2222222222222222,\"#7201a8\"],[0.3333333333333333,\"#9c179e\"],[0.4444444444444444,\"#bd3786\"],[0.5555555555555556,\"#d8576b\"],[0.6666666666666666,\"#ed7953\"],[0.7777777777777778,\"#fb9f3a\"],[0.8888888888888888,\"#fdca26\"],[1.0,\"#f0f921\"]],\"type\":\"histogram2dcontour\"}],\"histogram2d\":[{\"colorbar\":{\"outlinewidth\":0,\"ticks\":\"\"},\"colorscale\":[[0.0,\"#0d0887\"],[0.1111111111111111,\"#46039f\"],[0.2222222222222222,\"#7201a8\"],[0.3333333333333333,\"#9c179e\"],[0.4444444444444444,\"#bd3786\"],[0.5555555555555556,\"#d8576b\"],[0.6666666666666666,\"#ed7953\"],[0.7777777777777778,\"#fb9f3a\"],[0.8888888888888888,\"#fdca26\"],[1.0,\"#f0f921\"]],\"type\":\"histogram2d\"}],\"histogram\":[{\"marker\":{\"pattern\":{\"fillmode\":\"overlay\",\"size\":10,\"solidity\":0.2}},\"type\":\"histogram\"}],\"mesh3d\":[{\"colorbar\":{\"outlinewidth\":0,\"ticks\":\"\"},\"type\":\"mesh3d\"}],\"parcoords\":[{\"line\":{\"colorbar\":{\"outlinewidth\":0,\"ticks\":\"\"}},\"type\":\"parcoords\"}],\"pie\":[{\"automargin\":true,\"type\":\"pie\"}],\"scatter3d\":[{\"line\":{\"colorbar\":{\"outlinewidth\":0,\"ticks\":\"\"}},\"marker\":{\"colorbar\":{\"outlinewidth\":0,\"ticks\":\"\"}},\"type\":\"scatter3d\"}],\"scattercarpet\":[{\"marker\":{\"colorbar\":{\"outlinewidth\":0,\"ticks\":\"\"}},\"type\":\"scattercarpet\"}],\"scattergeo\":[{\"marker\":{\"colorbar\":{\"outlinewidth\":0,\"ticks\":\"\"}},\"type\":\"scattergeo\"}],\"scattergl\":[{\"marker\":{\"line\":{\"color\":\"#283442\"}},\"type\":\"scattergl\"}],\"scattermapbox\":[{\"marker\":{\"colorbar\":{\"outlinewidth\":0,\"ticks\":\"\"}},\"type\":\"scattermapbox\"}],\"scatterpolargl\":[{\"marker\":{\"colorbar\":{\"outlinewidth\":0,\"ticks\":\"\"}},\"type\":\"scatterpolargl\"}],\"scatterpolar\":[{\"marker\":{\"colorbar\":{\"outlinewidth\":0,\"ticks\":\"\"}},\"type\":\"scatterpolar\"}],\"scatter\":[{\"marker\":{\"line\":{\"color\":\"#283442\"}},\"type\":\"scatter\"}],\"scatterternary\":[{\"marker\":{\"colorbar\":{\"outlinewidth\":0,\"ticks\":\"\"}},\"type\":\"scatterternary\"}],\"surface\":[{\"colorbar\":{\"outlinewidth\":0,\"ticks\":\"\"},\"colorscale\":[[0.0,\"#0d0887\"],[0.1111111111111111,\"#46039f\"],[0.2222222222222222,\"#7201a8\"],[0.3333333333333333,\"#9c179e\"],[0.4444444444444444,\"#bd3786\"],[0.5555555555555556,\"#d8576b\"],[0.6666666666666666,\"#ed7953\"],[0.7777777777777778,\"#fb9f3a\"],[0.8888888888888888,\"#fdca26\"],[1.0,\"#f0f921\"]],\"type\":\"surface\"}],\"table\":[{\"cells\":{\"fill\":{\"color\":\"#506784\"},\"line\":{\"color\":\"rgb(17,17,17)\"}},\"header\":{\"fill\":{\"color\":\"#2a3f5f\"},\"line\":{\"color\":\"rgb(17,17,17)\"}},\"type\":\"table\"}]},\"layout\":{\"annotationdefaults\":{\"arrowcolor\":\"#f2f5fa\",\"arrowhead\":0,\"arrowwidth\":1},\"autotypenumbers\":\"strict\",\"coloraxis\":{\"colorbar\":{\"outlinewidth\":0,\"ticks\":\"\"}},\"colorscale\":{\"diverging\":[[0,\"#8e0152\"],[0.1,\"#c51b7d\"],[0.2,\"#de77ae\"],[0.3,\"#f1b6da\"],[0.4,\"#fde0ef\"],[0.5,\"#f7f7f7\"],[0.6,\"#e6f5d0\"],[0.7,\"#b8e186\"],[0.8,\"#7fbc41\"],[0.9,\"#4d9221\"],[1,\"#276419\"]],\"sequential\":[[0.0,\"#0d0887\"],[0.1111111111111111,\"#46039f\"],[0.2222222222222222,\"#7201a8\"],[0.3333333333333333,\"#9c179e\"],[0.4444444444444444,\"#bd3786\"],[0.5555555555555556,\"#d8576b\"],[0.6666666666666666,\"#ed7953\"],[0.7777777777777778,\"#fb9f3a\"],[0.8888888888888888,\"#fdca26\"],[1.0,\"#f0f921\"]],\"sequentialminus\":[[0.0,\"#0d0887\"],[0.1111111111111111,\"#46039f\"],[0.2222222222222222,\"#7201a8\"],[0.3333333333333333,\"#9c179e\"],[0.4444444444444444,\"#bd3786\"],[0.5555555555555556,\"#d8576b\"],[0.6666666666666666,\"#ed7953\"],[0.7777777777777778,\"#fb9f3a\"],[0.8888888888888888,\"#fdca26\"],[1.0,\"#f0f921\"]]},\"colorway\":[\"#636efa\",\"#EF553B\",\"#00cc96\",\"#ab63fa\",\"#FFA15A\",\"#19d3f3\",\"#FF6692\",\"#B6E880\",\"#FF97FF\",\"#FECB52\"],\"font\":{\"color\":\"#f2f5fa\"},\"geo\":{\"bgcolor\":\"rgb(17,17,17)\",\"lakecolor\":\"rgb(17,17,17)\",\"landcolor\":\"rgb(17,17,17)\",\"showlakes\":true,\"showland\":true,\"subunitcolor\":\"#506784\"},\"hoverlabel\":{\"align\":\"left\"},\"hovermode\":\"closest\",\"mapbox\":{\"style\":\"dark\"},\"paper_bgcolor\":\"rgb(17,17,17)\",\"plot_bgcolor\":\"rgb(17,17,17)\",\"polar\":{\"angularaxis\":{\"gridcolor\":\"#506784\",\"linecolor\":\"#506784\",\"ticks\":\"\"},\"bgcolor\":\"rgb(17,17,17)\",\"radialaxis\":{\"gridcolor\":\"#506784\",\"linecolor\":\"#506784\",\"ticks\":\"\"}},\"scene\":{\"xaxis\":{\"backgroundcolor\":\"rgb(17,17,17)\",\"gridcolor\":\"#506784\",\"gridwidth\":2,\"linecolor\":\"#506784\",\"showbackground\":true,\"ticks\":\"\",\"zerolinecolor\":\"#C8D4E3\"},\"yaxis\":{\"backgroundcolor\":\"rgb(17,17,17)\",\"gridcolor\":\"#506784\",\"gridwidth\":2,\"linecolor\":\"#506784\",\"showbackground\":true,\"ticks\":\"\",\"zerolinecolor\":\"#C8D4E3\"},\"zaxis\":{\"backgroundcolor\":\"rgb(17,17,17)\",\"gridcolor\":\"#506784\",\"gridwidth\":2,\"linecolor\":\"#506784\",\"showbackground\":true,\"ticks\":\"\",\"zerolinecolor\":\"#C8D4E3\"}},\"shapedefaults\":{\"line\":{\"color\":\"#f2f5fa\"}},\"sliderdefaults\":{\"bgcolor\":\"#C8D4E3\",\"bordercolor\":\"rgb(17,17,17)\",\"borderwidth\":1,\"tickwidth\":0},\"ternary\":{\"aaxis\":{\"gridcolor\":\"#506784\",\"linecolor\":\"#506784\",\"ticks\":\"\"},\"baxis\":{\"gridcolor\":\"#506784\",\"linecolor\":\"#506784\",\"ticks\":\"\"},\"bgcolor\":\"rgb(17,17,17)\",\"caxis\":{\"gridcolor\":\"#506784\",\"linecolor\":\"#506784\",\"ticks\":\"\"}},\"title\":{\"x\":0.05},\"updatemenudefaults\":{\"bgcolor\":\"#506784\",\"borderwidth\":0},\"xaxis\":{\"automargin\":true,\"gridcolor\":\"#283442\",\"linecolor\":\"#506784\",\"ticks\":\"\",\"title\":{\"standoff\":15},\"zerolinecolor\":\"#283442\",\"zerolinewidth\":2},\"yaxis\":{\"automargin\":true,\"gridcolor\":\"#283442\",\"linecolor\":\"#506784\",\"ticks\":\"\",\"title\":{\"standoff\":15},\"zerolinecolor\":\"#283442\",\"zerolinewidth\":2}}},\"title\":{\"text\":\"Кривая обучения\"},\"width\":1200,\"height\":600},                        {\"responsive\": true}                    ).then(function(){\n",
              "                            \n",
              "var gd = document.getElementById('9d67d63b-8290-43d8-bd60-22b8a2a71062');\n",
              "var x = new MutationObserver(function (mutations, observer) {{\n",
              "        var display = window.getComputedStyle(gd).display;\n",
              "        if (!display || display === 'none') {{\n",
              "            console.log([gd, 'removed!']);\n",
              "            Plotly.purge(gd);\n",
              "            observer.disconnect();\n",
              "        }}\n",
              "}});\n",
              "\n",
              "// Listen for the removal of the full notebook cells\n",
              "var notebookContainer = gd.closest('#notebook-container');\n",
              "if (notebookContainer) {{\n",
              "    x.observe(notebookContainer, {childList: true});\n",
              "}}\n",
              "\n",
              "// Listen for the clearing of the current output cell\n",
              "var outputEl = gd.closest('.output');\n",
              "if (outputEl) {{\n",
              "    x.observe(outputEl, {childList: true});\n",
              "}}\n",
              "\n",
              "                        })                };                            </script>        </div>\n",
              "</body>\n",
              "</html>"
            ]
          },
          "metadata": {}
        }
      ]
    },
    {
      "cell_type": "markdown",
      "source": [
        "Ошибка значительно уменьшается на ранних этапах, а затем достигает устойчивого минимума. Дальнейшее обучение после 60-й эпохи почти не улучшит результат"
      ],
      "metadata": {
        "id": "5izhv1SjXQAG"
      }
    },
    {
      "cell_type": "markdown",
      "source": [
        "Визуализация результата"
      ],
      "metadata": {
        "id": "o4WpzIiPAkC2"
      }
    },
    {
      "cell_type": "code",
      "source": [
        "plot_model_class(x_train, y_train, x_test, x, y_true, regr_poly);"
      ],
      "metadata": {
        "colab": {
          "base_uri": "https://localhost:8080/",
          "height": 617
        },
        "id": "XEHWvk3PYhHc",
        "outputId": "78463c1c-7d73-4dd6-85ca-66b872e682d3"
      },
      "execution_count": null,
      "outputs": [
        {
          "output_type": "display_data",
          "data": {
            "text/html": [
              "<html>\n",
              "<head><meta charset=\"utf-8\" /></head>\n",
              "<body>\n",
              "    <div>            <script src=\"https://cdnjs.cloudflare.com/ajax/libs/mathjax/2.7.5/MathJax.js?config=TeX-AMS-MML_SVG\"></script><script type=\"text/javascript\">if (window.MathJax && window.MathJax.Hub && window.MathJax.Hub.Config) {window.MathJax.Hub.Config({SVG: {font: \"STIX-Web\"}});}</script>                <script type=\"text/javascript\">window.PlotlyConfig = {MathJaxConfig: 'local'};</script>\n",
              "        <script charset=\"utf-8\" src=\"https://cdn.plot.ly/plotly-2.35.2.min.js\"></script>                <div id=\"114b2c28-0eaf-499e-a992-3dae6e747393\" class=\"plotly-graph-div\" style=\"height:600px; width:1200px;\"></div>            <script type=\"text/javascript\">                                    window.PLOTLYENV=window.PLOTLYENV || {};                                    if (document.getElementById(\"114b2c28-0eaf-499e-a992-3dae6e747393\")) {                    Plotly.newPlot(                        \"114b2c28-0eaf-499e-a992-3dae6e747393\",                        [{\"marker\":{\"color\":\"Blue\",\"size\":5},\"mode\":\"markers\",\"name\":\"Предсказание на x_test\",\"x\":[1.1621220654282163,0.22925563731679227,0.8068403698839598,0.3640364252475524,0.1498317091671035,1.0405533010005272,0.0303949580393173,0.8469554523028531,0.5129786537945371,0.4064791525334338,0.38030280369942215,1.1231927356588491,1.1435804877755607,0.4009750812146698,0.031773908430118986,0.05653411113817258,0.28033663682569976,1.1088580303313966,0.6500850264722635,0.07944793785752954,0.8220161153754292,0.32347497700002115,1.1201141249043665,0.6620632229450081,1.0225184574031163,1.1558670228482035,0.2965613593710001,0.2449785780239315,0.48341918287567176,0.2310680694069088,1.1924107212532342,0.8648689971158665,1.0615292631177224,0.9520245191608969,1.214727603401201,1.0441281194865475,1.1213878249407214,0.8293772113850697,0.27763476308841284,0.22728120900887577,0.39750434371482984,0.09622488728599124,0.2654238883478452,1.0215277502515199,0.7969468391940164,1.2070400413431992,0.9444389231788108,0.9640879333574321,0.6427930480170145,0.1743673258150523,0.7917546956380294,1.1755732304411428,0.006902646404502999,0.2332125736075448,0.7580363245744874,0.6484882771792077,0.761955417474871,0.45964475382429193,0.4459416583669866,0.5501906171745017,0.39294497634540837,1.0193267855685426,0.33918628971736986,1.0966741917262262,1.0759132290704292,0.6172444954554884,1.2336086707506466,0.09318830459971353,0.9509813107711218,0.3224270346439445,0.4681751485592031,0.058063015899997156,0.40666291345408045,0.8915559840287437,0.45795230411711463],\"y\":[0.8969000396877881,0.8029018017296796,0.9617402553884612,0.8625211579168909,0.7629158518748593,0.936271098131022,0.6971271980905843,0.9617207213702876,0.9141859164207753,0.8788774508695966,0.8689357284798637,0.9115968944476502,0.9041509650857955,0.876826607913857,0.6979210072935282,0.7120468623885375,0.8267954721203228,0.9165054203715164,0.9462218335632794,0.7248963383896995,0.9619332943405536,0.8457628600460921,0.9126737132268077,0.948238768746474,0.9405124922443884,0.8993975361853229,0.8340635293270273,0.8104158603472242,0.9052462302571216,0.8037750283278846,0.8840588454925109,0.9611552282798606,0.9308298213181538,0.9533116515014062,0.8737946600596079,0.9353825935015219,0.912229711307007,0.9619394865056566,0.8255697443988838,0.8019484512234246,0.875522480427635,0.7341624227739265,0.8199761702094679,0.9407338848580458,0.961484809805784,0.8774080028139588,0.9543382590596862,0.9515406470416852,0.9449298873350711,0.7756164659067116,0.9613101581722671,0.8913508832466268,0.6834924189952731,0.8048058852941934,0.9595050292033468,0.9459430623002347,0.9597739848374741,0.8975669425523498,0.8929474866023199,0.9244496587966812,0.8737965423237893,0.9412214307815137,0.8523811072725166,0.9204674829647989,0.9267788394594012,0.9400259522787168,0.8645710086738425,0.732494399034229,0.9534568076032386,0.8453158145673371,0.9003716585577674,0.7129110281763309,0.8789455534803448,0.9596610422029874,0.8970039771439355],\"type\":\"scatter\"},{\"marker\":{\"color\":\"LightSkyBlue\",\"size\":10},\"mode\":\"markers\",\"name\":\"Предсказание на x_train\",\"x\":[0.7103857541693395,0.02573061786975306,0.42633293881282314,0.28311971899742244,0.5338847357828204,0.9074445985877992,1.0027462259425497,0.91200772292258,0.039286482108417814,0.4597289158990665,1.0101504744555212,1.1090159282204082,1.178637129890649,1.203059118677639,0.30256908938937555,1.125522571454163,0.9748444323220298,0.06434843906248669,0.8850907222450568,0.11286221256801038,1.216263193440557,0.09255581466761295,0.5352301853966429,0.30498705422385447,0.8835716798095214,0.2131551546091144,0.2483946019177155,0.042985651394022995,0.13756490565959595,0.6156471172735799,1.0104966851455763,0.14949280742287713,0.7015964969618703,1.118534188034561,0.11637845975737401,0.5217637539359737,0.0813144912315994,0.9935141294270605,0.9030651440768817,0.7955130140797255,0.5902686564524366,0.4237872388108759,0.48584661211185254,0.9149924272642563,1.1215196974416584,0.07260451521024933,0.7473749735138564,0.3116152864360937,0.8636721726280825,0.1761552812184533,0.6534160367274926,1.1344580924076162,1.188392883012395,0.6118159503469538,0.6741778023945634,0.3023153636255646,1.1150581939713917,0.7889232824965786,0.8281528554424775,1.152342793778896,1.1709124859209181,0.791376821591585,0.570087480271295,0.38076721146671333,0.6283487790360769,0.8249800575427237,1.2123873152024929,0.4913721558334505,0.8552912831401961,1.1743736769552364,0.3315029596021568,0.7919121384511184,0.5399312733026447,0.3483080802957643,1.1861069215666666,0.37609788727096205,0.13486428374163056,0.6357133639558785,0.36218931614221006,0.3896388451117637,0.02073478615982019,0.24959222769794967,0.9331142563975302,1.1603982032346567,0.8401694342573482,0.2994523633337155,0.6940010144993279,0.6282963663814901,1.0893257377346472,0.751393764679011,0.14184190155073634,0.050968926943454895,0.15254779355597353,0.12683942858254013,0.20101006427187332,1.1156987481124723,0.10517495624381104,0.40674962269908466,1.082720182218669,0.4545370029741175,0.2331481379998178,0.42201896425453495,0.7211298557829489,1.009300193955078,0.35096545305106974,0.19502330055304565,0.534426272948187,0.7648161184029744,0.3560506179718345,0.7483231052462957,0.1170934597851156,1.204524971361566,0.8120411238090184,1.208318523804587,0.6783701039478106,0.0063269798077733586,0.00869016316398838,0.35116813710922595,0.2179580362562393,0.4480821606803408,0.6384341282219572,0.7594310648767979,1.232063067638251,0.40400366502594404,0.38872790214457775,0.8787736986189723,0.981469951741267,0.4365119682658261,0.17190118018249156,0.2849189531774271,0.8064659880118124,0.6859172367082327,0.046108684193165994,1.2119807847056983,1.0045900961238932,0.12209014250797984,0.7903822882419743,0.019320770661084286,0.6189711376390877,0.14483632440641214,0.7386161789853023,0.8902240266844198,0.6833878491790996,0.2859977068645281,0.6697183550934481,0.6401163228741013,1.1353323574583172,1.0359218864399118,0.3147278697817052,0.9653059616208217,0.2970469299904996,0.2020358926182672,0.8149515743782507,0.1949931504202533,0.6215606323654819,0.7791226585344474,0.11061562756489937,1.078879282344492,0.9112589600512342,0.3651808106690227,0.18111859011402887,1.0662618193342002,0.22138834925881118,0.4136225310658115,0.9637089749432013,0.8025395576928597,0.20152660906750552,0.7405182110775531,0.9102704357648245,0.01149631452078706,0.46269837531930547,0.24405373474755562,0.6559455395402973,1.1366505025984777,0.9689160292013932],\"y\":[0.9550186184996098,0.694436678036854,0.8860966163003549,0.8280534751799424,0.9200904877192067,0.9583952746641993,0.9447044246434889,0.9579792365993768,0.7022326974721095,0.8975948816497523,0.9431903631574685,0.9164528111073732,0.8900526791209875,0.8792470094223733,0.8367140929553728,0.9107737182631059,0.949817150276995,0.7164535633375329,0.9600953178738567,0.7432284337278232,0.8730630739036687,0.7321464551751794,0.920458405363864,0.837774605879355,0.9601906146428241,0.7950651752557096,0.8120299304490047,0.7043476083249572,0.7564551887726657,0.9397000480166515,0.943117939926543,0.7627383382109689,0.9539497759602766,0.9132215172237012,0.7451284643943008,0.9167098909813589,0.7259332871016141,0.9464994282152023,0.9587724645874887,0.9614393634120746,0.9342226705582127,0.8851867169585421,0.9060060107933136,0.9576943575911032,0.9121836202333049,0.7210818101517948,0.9586956205718913,0.8406631375432851,0.9612038858607374,0.7765301675535655,0.9467959034958755,0.9075504396414935,0.8858340287203051,0.9389092329224283,0.9501442440690103,0.8366026001961427,0.9144152498719367,0.9612031997032072,0.9619424395005263,0.9007815967807363,0.8933012937573432,0.9612963611532768,0.9294708195371142,0.8691162305161655,0.9422290272433158,0.9619426905107984,0.87490332389653,0.9077185132113195,0.9615008845263819,0.8918556782814611,0.8491643537908694,0.9613158633225161,0.921732353991314,0.8561504033794314,0.8868341765585485,0.8672947056559452,0.7550231265560721,0.9436295221039944,0.8617815002361777,0.8725359934626091,0.6915457107355538,0.8125942320898046,0.9557468082332519,0.8975935794502838,0.9618443789068468,0.8353417856585219,0.9529666898523877,0.9422188862412999,0.9227645408560528,0.9590140394137627,0.758716027118925,0.7088932678514194,0.764336485946982,0.7507473958242663,0.7890607277551264,0.9141964550415757,0.7390549610310733,0.8789776800436552,0.9247702581705026,0.8958614101644952,0.8047749486555049,0.8845519445573214,0.956224185609707,0.9433676136546758,0.8572382470838055,0.7860719970979158,0.9202387498539817,0.9599605574802184,0.8593069866704925,0.9587721913156813,0.745514126257099,0.8785723959887388,0.961833627653992,0.8768127574849537,0.9507718840138718,0.6831557199879659,0.6845371360040615,0.8573210289902438,0.7974177393478343,0.8936782631441686,0.9441346061146989,0.959602513097497,0.8653447961545346,0.8779577063457451,0.8721873448738026,0.9604748306589954,0.9486873465699236,0.8896879902612544,0.7743535212571622,0.8288642869827865,0.9617324433977676,0.951860327876403,0.706128895755808,0.875095134926483,0.944333592448654,0.7482026909780232,0.9612593454074345,0.6907257340682075,0.9403756950552824,0.760293659404606,0.9579461340135302,0.9597543156623439,0.951501495912972,0.8293494852728818,0.9494586443362056,0.9444435536308073,0.9072294154461078,0.9373986324105679,0.84201012324495,0.9513523387464544,0.8342785820882039,0.7895709399103068,0.9618735187047176,0.7860568975945947,0.9408952694191618,0.9607694377933038,0.7420115174000529,0.9259108792955733,0.9580491193980796,0.8629782717105101,0.77905801516701,0.9295258594408757,0.7990902912178437,0.8815072461209678,0.9515988782631503,0.9616417130267264,0.7893177094876556,0.9581153382821035,0.9581404075069198,0.6861748197127141,0.8985772428931222,0.8099777301877308,0.9472250695628543,0.9067434918772539,0.9507839503580245],\"type\":\"scatter\"},{\"marker\":{\"color\":\"Red\",\"size\":5},\"mode\":\"markers\",\"name\":\"Тренировочные данные\",\"x\":[0.7103857541693395,0.02573061786975306,0.42633293881282314,0.28311971899742244,0.5338847357828204,0.9074445985877992,1.0027462259425497,0.91200772292258,0.039286482108417814,0.4597289158990665,1.0101504744555212,1.1090159282204082,1.178637129890649,1.203059118677639,0.30256908938937555,1.125522571454163,0.9748444323220298,0.06434843906248669,0.8850907222450568,0.11286221256801038,1.216263193440557,0.09255581466761295,0.5352301853966429,0.30498705422385447,0.8835716798095214,0.2131551546091144,0.2483946019177155,0.042985651394022995,0.13756490565959595,0.6156471172735799,1.0104966851455763,0.14949280742287713,0.7015964969618703,1.118534188034561,0.11637845975737401,0.5217637539359737,0.0813144912315994,0.9935141294270605,0.9030651440768817,0.7955130140797255,0.5902686564524366,0.4237872388108759,0.48584661211185254,0.9149924272642563,1.1215196974416584,0.07260451521024933,0.7473749735138564,0.3116152864360937,0.8636721726280825,0.1761552812184533,0.6534160367274926,1.1344580924076162,1.188392883012395,0.6118159503469538,0.6741778023945634,0.3023153636255646,1.1150581939713917,0.7889232824965786,0.8281528554424775,1.152342793778896,1.1709124859209181,0.791376821591585,0.570087480271295,0.38076721146671333,0.6283487790360769,0.8249800575427237,1.2123873152024929,0.4913721558334505,0.8552912831401961,1.1743736769552364,0.3315029596021568,0.7919121384511184,0.5399312733026447,0.3483080802957643,1.1861069215666666,0.37609788727096205,0.13486428374163056,0.6357133639558785,0.36218931614221006,0.3896388451117637,0.02073478615982019,0.24959222769794967,0.9331142563975302,1.1603982032346567,0.8401694342573482,0.2994523633337155,0.6940010144993279,0.6282963663814901,1.0893257377346472,0.751393764679011,0.14184190155073634,0.050968926943454895,0.15254779355597353,0.12683942858254013,0.20101006427187332,1.1156987481124723,0.10517495624381104,0.40674962269908466,1.082720182218669,0.4545370029741175,0.2331481379998178,0.42201896425453495,0.7211298557829489,1.009300193955078,0.35096545305106974,0.19502330055304565,0.534426272948187,0.7648161184029744,0.3560506179718345,0.7483231052462957,0.1170934597851156,1.204524971361566,0.8120411238090184,1.208318523804587,0.6783701039478106,0.0063269798077733586,0.00869016316398838,0.35116813710922595,0.2179580362562393,0.4480821606803408,0.6384341282219572,0.7594310648767979,1.232063067638251,0.40400366502594404,0.38872790214457775,0.8787736986189723,0.981469951741267,0.4365119682658261,0.17190118018249156,0.2849189531774271,0.8064659880118124,0.6859172367082327,0.046108684193165994,1.2119807847056983,1.0045900961238932,0.12209014250797984,0.7903822882419743,0.019320770661084286,0.6189711376390877,0.14483632440641214,0.7386161789853023,0.8902240266844198,0.6833878491790996,0.2859977068645281,0.6697183550934481,0.6401163228741013,1.1353323574583172,1.0359218864399118,0.3147278697817052,0.9653059616208217,0.2970469299904996,0.2020358926182672,0.8149515743782507,0.1949931504202533,0.6215606323654819,0.7791226585344474,0.11061562756489937,1.078879282344492,0.9112589600512342,0.3651808106690227,0.18111859011402887,1.0662618193342002,0.22138834925881118,0.4136225310658115,0.9637089749432013,0.8025395576928597,0.20152660906750552,0.7405182110775531,0.9102704357648245,0.01149631452078706,0.46269837531930547,0.24405373474755562,0.6559455395402973,1.1366505025984777,0.9689160292013932],\"y\":[0.9447598240837863,0.7142322111382933,0.7775228517451087,0.9046275989493361,0.868441787839316,0.915183692156532,0.9520468523029476,1.0261794452443762,0.7182129612687063,0.857460492299166,0.9908342210791994,0.8952681706499733,0.9179408034856996,0.9235672285282492,0.8007205629363638,0.8347203438344952,0.8422093399922105,0.7728286147566129,0.934515993396554,0.787822321326366,0.8652658580081763,0.7572547664946442,0.9476295592938511,0.8893347715350182,0.9891173659135426,0.7522063616174809,0.8440660238214927,0.7148201062180369,0.7265602679956756,0.9570515309085762,0.9144090653448778,0.6627285519919452,0.9756562130214839,0.9070801510114888,0.7741974969136605,0.9379387785054101,0.7526936488824715,0.9079723743990276,0.9589018146270556,0.8826701963828776,0.988061325937986,0.9808445898595313,0.940521852067415,1.0014358030084023,0.9486110781518255,0.6545380983574756,0.9981940336849136,0.793491334894433,1.0314850281963448,0.7712331416859078,0.9417181499571976,0.9715707657975132,0.8316885414962207,0.8993212036571647,0.889985489766551,0.7488527300307147,0.9466730804415735,0.9649106177182757,0.9534742321218436,0.9052967980032243,0.9777439431585058,0.9292564470178378,0.9252518634230407,0.9158709133762644,0.972922348820396,0.9041806796890706,0.9001785254744077,0.912657067889103,0.9808087694446992,0.875625223136658,0.8344438440264815,0.8804353568751909,0.9420754920250117,0.793273964327677,0.9497414599347931,0.9279135716286337,0.7378035119019299,0.9989350629626953,0.7787150009872205,0.8121383626702213,0.641507972240401,0.7413047640048361,1.0600217204138196,0.8988891313275416,0.9708095494535517,0.875189887961224,0.9744134866109767,0.9735074503334992,0.8944877768440035,0.9085369461980118,0.7568032808275307,0.7328270295352286,0.6768122522068508,0.7075034543035633,0.7427499093876703,0.8619065522941055,0.765398656912545,0.9009254541275229,0.8467774980516676,0.8540159254822842,0.8364922725535064,0.8116503515539328,0.9018072081751454,1.0372651650679299,0.8329699039876124,0.8105314770267334,0.8820329436100297,0.9098529981732265,0.9293225399032923,0.9421745532672897,0.7261714423703423,0.781735063391922,0.9967242901211837,0.7651502173337774,0.8802224582166113,0.6564782822055926,0.6772926595266864,0.7832932731349433,0.8941668259529352,0.8969605456681077,0.9352218776349228,0.971166080577629,0.9311610952604159,0.8702624820716389,0.8613683065197728,0.9747863302957597,0.9212913507176984,0.8712256549762473,0.742507378318038,0.837402681626631,0.9691428581572391,0.98163954679126,0.6559387351070924,0.8511149044213998,0.9613202161542744,0.7820358731010684,0.9274025906648536,0.71400108204271,0.9194935993036931,0.8697637139841271,0.9523676553907179,0.9656535512050378,0.999590451304369,0.7545877978073737,1.044202641178732,0.9685817937095506,0.9239247951055816,1.029992322254627,0.8524146644976762,0.907506928752274,0.9286180222279194,0.782012623946106,0.9459613855237943,0.7407727311930018,0.9858403249405339,0.9642137782338174,0.7959419931630157,0.9895333081845449,0.9785583911442876,0.8579792988811252,0.7163709028848415,0.9988742040775667,0.8202247835882756,0.9497160021023379,1.0591543634750182,0.9427379075853488,0.7903257051322009,0.9149116000900193,0.9549309249474067,0.7433970470952366,0.9304159913322029,0.793077628107214,0.9670623986801983,0.8693109914918273,0.9191247438685236],\"type\":\"scatter\"},{\"marker\":{\"color\":\"green\",\"size\":10},\"mode\":\"lines+markers\",\"name\":\"Истинные значения\",\"opacity\":0.7,\"x\":[0.0063269798077733586,0.006902646404502999,0.00869016316398838,0.01149631452078706,0.019320770661084286,0.02073478615982019,0.02573061786975306,0.0303949580393173,0.031773908430118986,0.039286482108417814,0.042985651394022995,0.046108684193165994,0.050968926943454895,0.05653411113817258,0.058063015899997156,0.06434843906248669,0.07260451521024933,0.07944793785752954,0.0813144912315994,0.09255581466761295,0.09318830459971353,0.09622488728599124,0.10517495624381104,0.11061562756489937,0.11286221256801038,0.11637845975737401,0.1170934597851156,0.12209014250797984,0.12683942858254013,0.13486428374163056,0.13756490565959595,0.14184190155073634,0.14483632440641214,0.14949280742287713,0.1498317091671035,0.15254779355597353,0.17190118018249156,0.1743673258150523,0.1761552812184533,0.18111859011402887,0.1949931504202533,0.19502330055304565,0.20101006427187332,0.20152660906750552,0.2020358926182672,0.2131551546091144,0.2179580362562393,0.22138834925881118,0.22728120900887577,0.22925563731679227,0.2310680694069088,0.2331481379998178,0.2332125736075448,0.24405373474755562,0.2449785780239315,0.2483946019177155,0.24959222769794967,0.2654238883478452,0.27763476308841284,0.28033663682569976,0.28311971899742244,0.2849189531774271,0.2859977068645281,0.2965613593710001,0.2970469299904996,0.2994523633337155,0.3023153636255646,0.30256908938937555,0.30498705422385447,0.3116152864360937,0.3147278697817052,0.3224270346439445,0.32347497700002115,0.3315029596021568,0.33918628971736986,0.3483080802957643,0.35096545305106974,0.35116813710922595,0.3560506179718345,0.36218931614221006,0.3640364252475524,0.3651808106690227,0.37609788727096205,0.38030280369942215,0.38076721146671333,0.38872790214457775,0.3896388451117637,0.39294497634540837,0.39750434371482984,0.4009750812146698,0.40400366502594404,0.4064791525334338,0.40666291345408045,0.40674962269908466,0.4136225310658115,0.42201896425453495,0.4237872388108759,0.42633293881282314,0.4365119682658261,0.4459416583669866,0.4480821606803408,0.4545370029741175,0.45795230411711463,0.45964475382429193,0.4597289158990665,0.46269837531930547,0.4681751485592031,0.48341918287567176,0.48584661211185254,0.4913721558334505,0.5129786537945371,0.5217637539359737,0.5338847357828204,0.534426272948187,0.5352301853966429,0.5399312733026447,0.5501906171745017,0.570087480271295,0.5902686564524366,0.6118159503469538,0.6156471172735799,0.6172444954554884,0.6189711376390877,0.6215606323654819,0.6282963663814901,0.6283487790360769,0.6357133639558785,0.6384341282219572,0.6401163228741013,0.6427930480170145,0.6484882771792077,0.6500850264722635,0.6534160367274926,0.6559455395402973,0.6620632229450081,0.6697183550934481,0.6741778023945634,0.6783701039478106,0.6833878491790996,0.6859172367082327,0.6940010144993279,0.7015964969618703,0.7103857541693395,0.7211298557829489,0.7386161789853023,0.7405182110775531,0.7473749735138564,0.7483231052462957,0.751393764679011,0.7580363245744874,0.7594310648767979,0.761955417474871,0.7648161184029744,0.7791226585344474,0.7889232824965786,0.7903822882419743,0.791376821591585,0.7917546956380294,0.7919121384511184,0.7955130140797255,0.7969468391940164,0.8025395576928597,0.8064659880118124,0.8068403698839598,0.8120411238090184,0.8149515743782507,0.8220161153754292,0.8249800575427237,0.8281528554424775,0.8293772113850697,0.8401694342573482,0.8469554523028531,0.8552912831401961,0.8636721726280825,0.8648689971158665,0.8787736986189723,0.8835716798095214,0.8850907222450568,0.8902240266844198,0.8915559840287437,0.9030651440768817,0.9074445985877992,0.9102704357648245,0.9112589600512342,0.91200772292258,0.9149924272642563,0.9331142563975302,0.9444389231788108,0.9509813107711218,0.9520245191608969,0.9637089749432013,0.9640879333574321,0.9653059616208217,0.9689160292013932,0.9748444323220298,0.981469951741267,0.9935141294270605,1.0027462259425497,1.0045900961238932,1.009300193955078,1.0101504744555212,1.0104966851455763,1.0193267855685426,1.0215277502515199,1.0225184574031163,1.0359218864399118,1.0405533010005272,1.0441281194865475,1.0615292631177224,1.0662618193342002,1.0759132290704292,1.078879282344492,1.082720182218669,1.0893257377346472,1.0966741917262262,1.1088580303313966,1.1090159282204082,1.1150581939713917,1.1156987481124723,1.118534188034561,1.1201141249043665,1.1213878249407214,1.1215196974416584,1.1231927356588491,1.125522571454163,1.1344580924076162,1.1353323574583172,1.1366505025984777,1.1435804877755607,1.152342793778896,1.1558670228482035,1.1603982032346567,1.1621220654282163,1.1709124859209181,1.1743736769552364,1.1755732304411428,1.178637129890649,1.1861069215666666,1.188392883012395,1.1924107212532342,1.203059118677639,1.204524971361566,1.2070400413431992,1.208318523804587,1.2119807847056983,1.2123873152024929,1.214727603401201,1.216263193440557,1.232063067638251,1.2336086707506466],\"y\":[0.6988179681090129,0.6990123656276946,0.6996184071300374,0.700577107379063,0.7032963948361998,0.7037949111760005,0.7055731648457342,0.7072568062560933,0.7077587891137447,0.7105267059714299,0.7119096702957369,0.7130872499986236,0.7149376615178145,0.7170823198813424,0.7176762252422841,0.7201385121548678,0.7234215667553301,0.7261827547382161,0.7269418855220385,0.7315654689490337,0.7318281520436667,0.7330929024237564,0.7368541313778867,0.7391637111539858,0.7401222331517059,0.7416279343483706,0.7419349046023596,0.744087412076405,0.7461447150304419,0.7496444422389303,0.7508284453871308,0.7527095738582146,0.7540307856504517,0.7560918116215326,0.7562421098027315,0.7574480457663334,0.7661039716075098,0.7672137501999964,0.7680191407311348,0.7702581417813068,0.7765379166560002,0.7765515895799997,0.7792682409735271,0.7795027756531021,0.7797340319509154,0.7847863789977717,0.7869696214866689,0.788528832472375,0.791206543141978,0.7921033494718471,0.7929263585161241,0.7938706058136953,0.7938998509342108,0.798814450180559,0.7992330715530285,0.8007782641129866,0.801319584357625,0.808451320974832,0.8139141183274144,0.8151175224032812,0.8163548869352812,0.8171535960785832,0.817631995524126,0.8222967087468007,0.8225102123772877,0.8235666249336666,0.8248212283284154,0.8249322665796764,0.825989214075687,0.8288748081753721,0.8302236930903648,0.8335423993327002,0.833992082062631,0.8374201118295715,0.8406718748398064,0.8444933463943916,0.8455983115572704,0.8456824322331858,0.8477019747067105,0.8502220698852521,0.8509761055568135,0.8514422700168207,0.8558499071753279,0.8575280648176226,0.8577127257685164,0.8608566534687935,0.8612137952226189,0.8625053977314253,0.8642746623091186,0.8656120757185072,0.866772377822138,0.8677160713443254,0.8677859538784166,0.8678189204014706,0.8704151612950702,0.8735411264952753,0.8741929211267179,0.8751272417212338,0.8788149097280264,0.8821609663780047,0.8829109522813561,0.8851509014733139,0.8863227878197468,0.8869000820575679,0.8869287301463765,0.8879358864811516,0.8897748715928706,0.8947649230039164,0.8955418582957525,0.8972920918452725,0.9038889839361579,0.9064573364092294,0.9098915383854196,0.9100419956198782,0.9102648790376879,0.9115569787533385,0.914309770778204,0.9193854942576015,0.9241780811485648,0.9288997730989562,0.9296966618500743,0.9300251251694348,0.9303776594650541,0.9309014823411743,0.9322366328840976,0.9322468670203641,0.9336611226049788,0.9341716855532849,0.9344841451448024,0.9349762806754962,0.9360027726639613,0.9362855396252316,0.9368683517075617,0.9373045474083526,0.9383367805338613,0.9395832773944589,0.9402863588415361,0.9409318888559979,0.9416849076293656,0.9420564120931132,0.9432074957583689,0.9442389375582698,0.9453721627261321,0.946669926749437,0.9485774274810316,0.9487696856656248,0.949438047014026,0.9495274223423966,0.9498118060376374,0.950400500089482,0.9505195078638478,0.9507308427346245,0.9509640179515481,0.9520294176592218,0.9526622891628396,0.9527497494334102,0.952808362298754,0.9528304187518157,0.9528395739500571,0.9530433851017054,0.9531215629277299,0.9534102651709412,0.9535974798773389,0.9536146628074558,0.9538413089610827,0.9539583120219657,0.9542128407097608,0.954307147920961,0.9543998889214631,0.9544334003327665,0.9546736214366472,0.9547735056110909,0.9548414437326406,0.9548480825462159,0.95484392972238,0.9547007441908126,0.954610166327987,0.9545770169908459,0.954448927114517,0.954411611238859,0.954018009699614,0.9538341813493053,0.9537054162344596,0.9536584765820151,0.9536222648546242,0.953472261704142,0.9523625975382418,0.9514890553079844,0.9509184243806933,0.9508228586729105,0.9496642168141347,0.9496238767795594,0.9494930208613128,0.9490943761407247,0.9484041262077009,0.9475791018017364,0.9459290074767125,0.9445271629791372,0.9442324173654164,0.9434566231071356,0.9433130291698969,0.943254248127998,0.9416927028087291,0.9412844516048698,0.9410981614334529,0.9384193839619094,0.9374229766181912,0.9366281199963341,0.9324242388559034,0.931180585369296,0.9285040097735293,0.9276424925858718,0.9264988809913859,0.9244565279916921,0.9220687134690441,0.917828770491641,0.9177714442239355,0.9155305838241986,0.9152875737632352,0.9141991252625534,0.9135835257802959,0.9130824577741882,0.9130303342473811,0.9123650345862828,0.9114260523712764,0.9076869247025878,0.907309094506602,0.906735318319655,0.9036361322865805,0.8995130662885813,0.8977883159811035,0.8955132072570361,0.8946303797846976,0.8899769010363455,0.8880734305606117,0.8874041525619674,0.8856720060064422,0.8813098820581756,0.879934714525226,0.877471013917341,0.8706460041857699,0.8696720377130778,0.867981080886879,0.8671118262217825,0.8645852461436278,0.8643014126846096,0.862654238068007,0.8615611189871876,0.8497303179818513,0.8485142799948433],\"type\":\"scatter\"}],                        {\"template\":{\"data\":{\"barpolar\":[{\"marker\":{\"line\":{\"color\":\"rgb(17,17,17)\",\"width\":0.5},\"pattern\":{\"fillmode\":\"overlay\",\"size\":10,\"solidity\":0.2}},\"type\":\"barpolar\"}],\"bar\":[{\"error_x\":{\"color\":\"#f2f5fa\"},\"error_y\":{\"color\":\"#f2f5fa\"},\"marker\":{\"line\":{\"color\":\"rgb(17,17,17)\",\"width\":0.5},\"pattern\":{\"fillmode\":\"overlay\",\"size\":10,\"solidity\":0.2}},\"type\":\"bar\"}],\"carpet\":[{\"aaxis\":{\"endlinecolor\":\"#A2B1C6\",\"gridcolor\":\"#506784\",\"linecolor\":\"#506784\",\"minorgridcolor\":\"#506784\",\"startlinecolor\":\"#A2B1C6\"},\"baxis\":{\"endlinecolor\":\"#A2B1C6\",\"gridcolor\":\"#506784\",\"linecolor\":\"#506784\",\"minorgridcolor\":\"#506784\",\"startlinecolor\":\"#A2B1C6\"},\"type\":\"carpet\"}],\"choropleth\":[{\"colorbar\":{\"outlinewidth\":0,\"ticks\":\"\"},\"type\":\"choropleth\"}],\"contourcarpet\":[{\"colorbar\":{\"outlinewidth\":0,\"ticks\":\"\"},\"type\":\"contourcarpet\"}],\"contour\":[{\"colorbar\":{\"outlinewidth\":0,\"ticks\":\"\"},\"colorscale\":[[0.0,\"#0d0887\"],[0.1111111111111111,\"#46039f\"],[0.2222222222222222,\"#7201a8\"],[0.3333333333333333,\"#9c179e\"],[0.4444444444444444,\"#bd3786\"],[0.5555555555555556,\"#d8576b\"],[0.6666666666666666,\"#ed7953\"],[0.7777777777777778,\"#fb9f3a\"],[0.8888888888888888,\"#fdca26\"],[1.0,\"#f0f921\"]],\"type\":\"contour\"}],\"heatmapgl\":[{\"colorbar\":{\"outlinewidth\":0,\"ticks\":\"\"},\"colorscale\":[[0.0,\"#0d0887\"],[0.1111111111111111,\"#46039f\"],[0.2222222222222222,\"#7201a8\"],[0.3333333333333333,\"#9c179e\"],[0.4444444444444444,\"#bd3786\"],[0.5555555555555556,\"#d8576b\"],[0.6666666666666666,\"#ed7953\"],[0.7777777777777778,\"#fb9f3a\"],[0.8888888888888888,\"#fdca26\"],[1.0,\"#f0f921\"]],\"type\":\"heatmapgl\"}],\"heatmap\":[{\"colorbar\":{\"outlinewidth\":0,\"ticks\":\"\"},\"colorscale\":[[0.0,\"#0d0887\"],[0.1111111111111111,\"#46039f\"],[0.2222222222222222,\"#7201a8\"],[0.3333333333333333,\"#9c179e\"],[0.4444444444444444,\"#bd3786\"],[0.5555555555555556,\"#d8576b\"],[0.6666666666666666,\"#ed7953\"],[0.7777777777777778,\"#fb9f3a\"],[0.8888888888888888,\"#fdca26\"],[1.0,\"#f0f921\"]],\"type\":\"heatmap\"}],\"histogram2dcontour\":[{\"colorbar\":{\"outlinewidth\":0,\"ticks\":\"\"},\"colorscale\":[[0.0,\"#0d0887\"],[0.1111111111111111,\"#46039f\"],[0.2222222222222222,\"#7201a8\"],[0.3333333333333333,\"#9c179e\"],[0.4444444444444444,\"#bd3786\"],[0.5555555555555556,\"#d8576b\"],[0.6666666666666666,\"#ed7953\"],[0.7777777777777778,\"#fb9f3a\"],[0.8888888888888888,\"#fdca26\"],[1.0,\"#f0f921\"]],\"type\":\"histogram2dcontour\"}],\"histogram2d\":[{\"colorbar\":{\"outlinewidth\":0,\"ticks\":\"\"},\"colorscale\":[[0.0,\"#0d0887\"],[0.1111111111111111,\"#46039f\"],[0.2222222222222222,\"#7201a8\"],[0.3333333333333333,\"#9c179e\"],[0.4444444444444444,\"#bd3786\"],[0.5555555555555556,\"#d8576b\"],[0.6666666666666666,\"#ed7953\"],[0.7777777777777778,\"#fb9f3a\"],[0.8888888888888888,\"#fdca26\"],[1.0,\"#f0f921\"]],\"type\":\"histogram2d\"}],\"histogram\":[{\"marker\":{\"pattern\":{\"fillmode\":\"overlay\",\"size\":10,\"solidity\":0.2}},\"type\":\"histogram\"}],\"mesh3d\":[{\"colorbar\":{\"outlinewidth\":0,\"ticks\":\"\"},\"type\":\"mesh3d\"}],\"parcoords\":[{\"line\":{\"colorbar\":{\"outlinewidth\":0,\"ticks\":\"\"}},\"type\":\"parcoords\"}],\"pie\":[{\"automargin\":true,\"type\":\"pie\"}],\"scatter3d\":[{\"line\":{\"colorbar\":{\"outlinewidth\":0,\"ticks\":\"\"}},\"marker\":{\"colorbar\":{\"outlinewidth\":0,\"ticks\":\"\"}},\"type\":\"scatter3d\"}],\"scattercarpet\":[{\"marker\":{\"colorbar\":{\"outlinewidth\":0,\"ticks\":\"\"}},\"type\":\"scattercarpet\"}],\"scattergeo\":[{\"marker\":{\"colorbar\":{\"outlinewidth\":0,\"ticks\":\"\"}},\"type\":\"scattergeo\"}],\"scattergl\":[{\"marker\":{\"line\":{\"color\":\"#283442\"}},\"type\":\"scattergl\"}],\"scattermapbox\":[{\"marker\":{\"colorbar\":{\"outlinewidth\":0,\"ticks\":\"\"}},\"type\":\"scattermapbox\"}],\"scatterpolargl\":[{\"marker\":{\"colorbar\":{\"outlinewidth\":0,\"ticks\":\"\"}},\"type\":\"scatterpolargl\"}],\"scatterpolar\":[{\"marker\":{\"colorbar\":{\"outlinewidth\":0,\"ticks\":\"\"}},\"type\":\"scatterpolar\"}],\"scatter\":[{\"marker\":{\"line\":{\"color\":\"#283442\"}},\"type\":\"scatter\"}],\"scatterternary\":[{\"marker\":{\"colorbar\":{\"outlinewidth\":0,\"ticks\":\"\"}},\"type\":\"scatterternary\"}],\"surface\":[{\"colorbar\":{\"outlinewidth\":0,\"ticks\":\"\"},\"colorscale\":[[0.0,\"#0d0887\"],[0.1111111111111111,\"#46039f\"],[0.2222222222222222,\"#7201a8\"],[0.3333333333333333,\"#9c179e\"],[0.4444444444444444,\"#bd3786\"],[0.5555555555555556,\"#d8576b\"],[0.6666666666666666,\"#ed7953\"],[0.7777777777777778,\"#fb9f3a\"],[0.8888888888888888,\"#fdca26\"],[1.0,\"#f0f921\"]],\"type\":\"surface\"}],\"table\":[{\"cells\":{\"fill\":{\"color\":\"#506784\"},\"line\":{\"color\":\"rgb(17,17,17)\"}},\"header\":{\"fill\":{\"color\":\"#2a3f5f\"},\"line\":{\"color\":\"rgb(17,17,17)\"}},\"type\":\"table\"}]},\"layout\":{\"annotationdefaults\":{\"arrowcolor\":\"#f2f5fa\",\"arrowhead\":0,\"arrowwidth\":1},\"autotypenumbers\":\"strict\",\"coloraxis\":{\"colorbar\":{\"outlinewidth\":0,\"ticks\":\"\"}},\"colorscale\":{\"diverging\":[[0,\"#8e0152\"],[0.1,\"#c51b7d\"],[0.2,\"#de77ae\"],[0.3,\"#f1b6da\"],[0.4,\"#fde0ef\"],[0.5,\"#f7f7f7\"],[0.6,\"#e6f5d0\"],[0.7,\"#b8e186\"],[0.8,\"#7fbc41\"],[0.9,\"#4d9221\"],[1,\"#276419\"]],\"sequential\":[[0.0,\"#0d0887\"],[0.1111111111111111,\"#46039f\"],[0.2222222222222222,\"#7201a8\"],[0.3333333333333333,\"#9c179e\"],[0.4444444444444444,\"#bd3786\"],[0.5555555555555556,\"#d8576b\"],[0.6666666666666666,\"#ed7953\"],[0.7777777777777778,\"#fb9f3a\"],[0.8888888888888888,\"#fdca26\"],[1.0,\"#f0f921\"]],\"sequentialminus\":[[0.0,\"#0d0887\"],[0.1111111111111111,\"#46039f\"],[0.2222222222222222,\"#7201a8\"],[0.3333333333333333,\"#9c179e\"],[0.4444444444444444,\"#bd3786\"],[0.5555555555555556,\"#d8576b\"],[0.6666666666666666,\"#ed7953\"],[0.7777777777777778,\"#fb9f3a\"],[0.8888888888888888,\"#fdca26\"],[1.0,\"#f0f921\"]]},\"colorway\":[\"#636efa\",\"#EF553B\",\"#00cc96\",\"#ab63fa\",\"#FFA15A\",\"#19d3f3\",\"#FF6692\",\"#B6E880\",\"#FF97FF\",\"#FECB52\"],\"font\":{\"color\":\"#f2f5fa\"},\"geo\":{\"bgcolor\":\"rgb(17,17,17)\",\"lakecolor\":\"rgb(17,17,17)\",\"landcolor\":\"rgb(17,17,17)\",\"showlakes\":true,\"showland\":true,\"subunitcolor\":\"#506784\"},\"hoverlabel\":{\"align\":\"left\"},\"hovermode\":\"closest\",\"mapbox\":{\"style\":\"dark\"},\"paper_bgcolor\":\"rgb(17,17,17)\",\"plot_bgcolor\":\"rgb(17,17,17)\",\"polar\":{\"angularaxis\":{\"gridcolor\":\"#506784\",\"linecolor\":\"#506784\",\"ticks\":\"\"},\"bgcolor\":\"rgb(17,17,17)\",\"radialaxis\":{\"gridcolor\":\"#506784\",\"linecolor\":\"#506784\",\"ticks\":\"\"}},\"scene\":{\"xaxis\":{\"backgroundcolor\":\"rgb(17,17,17)\",\"gridcolor\":\"#506784\",\"gridwidth\":2,\"linecolor\":\"#506784\",\"showbackground\":true,\"ticks\":\"\",\"zerolinecolor\":\"#C8D4E3\"},\"yaxis\":{\"backgroundcolor\":\"rgb(17,17,17)\",\"gridcolor\":\"#506784\",\"gridwidth\":2,\"linecolor\":\"#506784\",\"showbackground\":true,\"ticks\":\"\",\"zerolinecolor\":\"#C8D4E3\"},\"zaxis\":{\"backgroundcolor\":\"rgb(17,17,17)\",\"gridcolor\":\"#506784\",\"gridwidth\":2,\"linecolor\":\"#506784\",\"showbackground\":true,\"ticks\":\"\",\"zerolinecolor\":\"#C8D4E3\"}},\"shapedefaults\":{\"line\":{\"color\":\"#f2f5fa\"}},\"sliderdefaults\":{\"bgcolor\":\"#C8D4E3\",\"bordercolor\":\"rgb(17,17,17)\",\"borderwidth\":1,\"tickwidth\":0},\"ternary\":{\"aaxis\":{\"gridcolor\":\"#506784\",\"linecolor\":\"#506784\",\"ticks\":\"\"},\"baxis\":{\"gridcolor\":\"#506784\",\"linecolor\":\"#506784\",\"ticks\":\"\"},\"bgcolor\":\"rgb(17,17,17)\",\"caxis\":{\"gridcolor\":\"#506784\",\"linecolor\":\"#506784\",\"ticks\":\"\"}},\"title\":{\"x\":0.05},\"updatemenudefaults\":{\"bgcolor\":\"#506784\",\"borderwidth\":0},\"xaxis\":{\"automargin\":true,\"gridcolor\":\"#283442\",\"linecolor\":\"#506784\",\"ticks\":\"\",\"title\":{\"standoff\":15},\"zerolinecolor\":\"#283442\",\"zerolinewidth\":2},\"yaxis\":{\"automargin\":true,\"gridcolor\":\"#283442\",\"linecolor\":\"#506784\",\"ticks\":\"\",\"title\":{\"standoff\":15},\"zerolinecolor\":\"#283442\",\"zerolinewidth\":2}}},\"title\":{\"text\":\"Предсказание модели\"},\"width\":1200,\"height\":600},                        {\"responsive\": true}                    ).then(function(){\n",
              "                            \n",
              "var gd = document.getElementById('114b2c28-0eaf-499e-a992-3dae6e747393');\n",
              "var x = new MutationObserver(function (mutations, observer) {{\n",
              "        var display = window.getComputedStyle(gd).display;\n",
              "        if (!display || display === 'none') {{\n",
              "            console.log([gd, 'removed!']);\n",
              "            Plotly.purge(gd);\n",
              "            observer.disconnect();\n",
              "        }}\n",
              "}});\n",
              "\n",
              "// Listen for the removal of the full notebook cells\n",
              "var notebookContainer = gd.closest('#notebook-container');\n",
              "if (notebookContainer) {{\n",
              "    x.observe(notebookContainer, {childList: true});\n",
              "}}\n",
              "\n",
              "// Listen for the clearing of the current output cell\n",
              "var outputEl = gd.closest('.output');\n",
              "if (outputEl) {{\n",
              "    x.observe(outputEl, {childList: true});\n",
              "}}\n",
              "\n",
              "                        })                };                            </script>        </div>\n",
              "</body>\n",
              "</html>"
            ]
          },
          "metadata": {}
        }
      ]
    },
    {
      "cell_type": "markdown",
      "source": [
        "Теперь предсказание выглядит \"вменяемо\". Распределение предсказанных значений с истинными совпадает в большей степени в сравнении с графиками, полученными в предыдущих случаях."
      ],
      "metadata": {
        "id": "_ruFaDv8AnQ8"
      }
    },
    {
      "cell_type": "markdown",
      "source": [
        "Весовые функции\n",
        "\n",
        "1) В виде цифр"
      ],
      "metadata": {
        "id": "E9gg2MSjD3Qe"
      }
    },
    {
      "cell_type": "code",
      "execution_count": null,
      "metadata": {
        "colab": {
          "base_uri": "https://localhost:8080/"
        },
        "outputId": "5dceb4f8-d26b-4d44-a29b-d857926eaa88",
        "id": "SbpGgV4KD3Qf"
      },
      "outputs": [
        {
          "output_type": "stream",
          "name": "stdout",
          "text": [
            "[ 0.58729183 -0.18049483 -0.14099508] 0.6794471974595983\n"
          ]
        }
      ],
      "source": [
        "w, b = regr_poly.get_w_and_b()\n",
        "print(w,b)"
      ]
    },
    {
      "cell_type": "markdown",
      "source": [
        "2) В виде графика\n"
      ],
      "metadata": {
        "id": "ZNB9Y3ucD3Qg"
      }
    },
    {
      "cell_type": "code",
      "source": [
        "vis_weigths(np.hstack([b,w]))"
      ],
      "metadata": {
        "colab": {
          "base_uri": "https://localhost:8080/",
          "height": 617
        },
        "outputId": "f31edd71-2904-4181-b83e-6c8065c559d8",
        "id": "ZsSIK5XGD3Qg"
      },
      "execution_count": null,
      "outputs": [
        {
          "output_type": "display_data",
          "data": {
            "text/html": [
              "<html>\n",
              "<head><meta charset=\"utf-8\" /></head>\n",
              "<body>\n",
              "    <div>            <script src=\"https://cdnjs.cloudflare.com/ajax/libs/mathjax/2.7.5/MathJax.js?config=TeX-AMS-MML_SVG\"></script><script type=\"text/javascript\">if (window.MathJax && window.MathJax.Hub && window.MathJax.Hub.Config) {window.MathJax.Hub.Config({SVG: {font: \"STIX-Web\"}});}</script>                <script type=\"text/javascript\">window.PlotlyConfig = {MathJaxConfig: 'local'};</script>\n",
              "        <script charset=\"utf-8\" src=\"https://cdn.plot.ly/plotly-2.35.2.min.js\"></script>                <div id=\"cf4acf47-cde4-45b0-b57d-78f5e6319f32\" class=\"plotly-graph-div\" style=\"height:600px; width:1200px;\"></div>            <script type=\"text/javascript\">                                    window.PLOTLYENV=window.PLOTLYENV || {};                                    if (document.getElementById(\"cf4acf47-cde4-45b0-b57d-78f5e6319f32\")) {                    Plotly.newPlot(                        \"cf4acf47-cde4-45b0-b57d-78f5e6319f32\",                        [{\"marker\":{\"color\":\"red\"},\"name\":\"отрицательные веса\",\"x\":[2,3],\"y\":[-0.18049483203421302,-0.14099508333100194],\"type\":\"bar\"},{\"marker\":{\"color\":\"blue\"},\"name\":\"положительные веса\",\"x\":[0,1],\"y\":[0.6794471974595983,0.5872918329492071],\"type\":\"bar\"}],                        {\"template\":{\"data\":{\"barpolar\":[{\"marker\":{\"line\":{\"color\":\"rgb(17,17,17)\",\"width\":0.5},\"pattern\":{\"fillmode\":\"overlay\",\"size\":10,\"solidity\":0.2}},\"type\":\"barpolar\"}],\"bar\":[{\"error_x\":{\"color\":\"#f2f5fa\"},\"error_y\":{\"color\":\"#f2f5fa\"},\"marker\":{\"line\":{\"color\":\"rgb(17,17,17)\",\"width\":0.5},\"pattern\":{\"fillmode\":\"overlay\",\"size\":10,\"solidity\":0.2}},\"type\":\"bar\"}],\"carpet\":[{\"aaxis\":{\"endlinecolor\":\"#A2B1C6\",\"gridcolor\":\"#506784\",\"linecolor\":\"#506784\",\"minorgridcolor\":\"#506784\",\"startlinecolor\":\"#A2B1C6\"},\"baxis\":{\"endlinecolor\":\"#A2B1C6\",\"gridcolor\":\"#506784\",\"linecolor\":\"#506784\",\"minorgridcolor\":\"#506784\",\"startlinecolor\":\"#A2B1C6\"},\"type\":\"carpet\"}],\"choropleth\":[{\"colorbar\":{\"outlinewidth\":0,\"ticks\":\"\"},\"type\":\"choropleth\"}],\"contourcarpet\":[{\"colorbar\":{\"outlinewidth\":0,\"ticks\":\"\"},\"type\":\"contourcarpet\"}],\"contour\":[{\"colorbar\":{\"outlinewidth\":0,\"ticks\":\"\"},\"colorscale\":[[0.0,\"#0d0887\"],[0.1111111111111111,\"#46039f\"],[0.2222222222222222,\"#7201a8\"],[0.3333333333333333,\"#9c179e\"],[0.4444444444444444,\"#bd3786\"],[0.5555555555555556,\"#d8576b\"],[0.6666666666666666,\"#ed7953\"],[0.7777777777777778,\"#fb9f3a\"],[0.8888888888888888,\"#fdca26\"],[1.0,\"#f0f921\"]],\"type\":\"contour\"}],\"heatmapgl\":[{\"colorbar\":{\"outlinewidth\":0,\"ticks\":\"\"},\"colorscale\":[[0.0,\"#0d0887\"],[0.1111111111111111,\"#46039f\"],[0.2222222222222222,\"#7201a8\"],[0.3333333333333333,\"#9c179e\"],[0.4444444444444444,\"#bd3786\"],[0.5555555555555556,\"#d8576b\"],[0.6666666666666666,\"#ed7953\"],[0.7777777777777778,\"#fb9f3a\"],[0.8888888888888888,\"#fdca26\"],[1.0,\"#f0f921\"]],\"type\":\"heatmapgl\"}],\"heatmap\":[{\"colorbar\":{\"outlinewidth\":0,\"ticks\":\"\"},\"colorscale\":[[0.0,\"#0d0887\"],[0.1111111111111111,\"#46039f\"],[0.2222222222222222,\"#7201a8\"],[0.3333333333333333,\"#9c179e\"],[0.4444444444444444,\"#bd3786\"],[0.5555555555555556,\"#d8576b\"],[0.6666666666666666,\"#ed7953\"],[0.7777777777777778,\"#fb9f3a\"],[0.8888888888888888,\"#fdca26\"],[1.0,\"#f0f921\"]],\"type\":\"heatmap\"}],\"histogram2dcontour\":[{\"colorbar\":{\"outlinewidth\":0,\"ticks\":\"\"},\"colorscale\":[[0.0,\"#0d0887\"],[0.1111111111111111,\"#46039f\"],[0.2222222222222222,\"#7201a8\"],[0.3333333333333333,\"#9c179e\"],[0.4444444444444444,\"#bd3786\"],[0.5555555555555556,\"#d8576b\"],[0.6666666666666666,\"#ed7953\"],[0.7777777777777778,\"#fb9f3a\"],[0.8888888888888888,\"#fdca26\"],[1.0,\"#f0f921\"]],\"type\":\"histogram2dcontour\"}],\"histogram2d\":[{\"colorbar\":{\"outlinewidth\":0,\"ticks\":\"\"},\"colorscale\":[[0.0,\"#0d0887\"],[0.1111111111111111,\"#46039f\"],[0.2222222222222222,\"#7201a8\"],[0.3333333333333333,\"#9c179e\"],[0.4444444444444444,\"#bd3786\"],[0.5555555555555556,\"#d8576b\"],[0.6666666666666666,\"#ed7953\"],[0.7777777777777778,\"#fb9f3a\"],[0.8888888888888888,\"#fdca26\"],[1.0,\"#f0f921\"]],\"type\":\"histogram2d\"}],\"histogram\":[{\"marker\":{\"pattern\":{\"fillmode\":\"overlay\",\"size\":10,\"solidity\":0.2}},\"type\":\"histogram\"}],\"mesh3d\":[{\"colorbar\":{\"outlinewidth\":0,\"ticks\":\"\"},\"type\":\"mesh3d\"}],\"parcoords\":[{\"line\":{\"colorbar\":{\"outlinewidth\":0,\"ticks\":\"\"}},\"type\":\"parcoords\"}],\"pie\":[{\"automargin\":true,\"type\":\"pie\"}],\"scatter3d\":[{\"line\":{\"colorbar\":{\"outlinewidth\":0,\"ticks\":\"\"}},\"marker\":{\"colorbar\":{\"outlinewidth\":0,\"ticks\":\"\"}},\"type\":\"scatter3d\"}],\"scattercarpet\":[{\"marker\":{\"colorbar\":{\"outlinewidth\":0,\"ticks\":\"\"}},\"type\":\"scattercarpet\"}],\"scattergeo\":[{\"marker\":{\"colorbar\":{\"outlinewidth\":0,\"ticks\":\"\"}},\"type\":\"scattergeo\"}],\"scattergl\":[{\"marker\":{\"line\":{\"color\":\"#283442\"}},\"type\":\"scattergl\"}],\"scattermapbox\":[{\"marker\":{\"colorbar\":{\"outlinewidth\":0,\"ticks\":\"\"}},\"type\":\"scattermapbox\"}],\"scatterpolargl\":[{\"marker\":{\"colorbar\":{\"outlinewidth\":0,\"ticks\":\"\"}},\"type\":\"scatterpolargl\"}],\"scatterpolar\":[{\"marker\":{\"colorbar\":{\"outlinewidth\":0,\"ticks\":\"\"}},\"type\":\"scatterpolar\"}],\"scatter\":[{\"marker\":{\"line\":{\"color\":\"#283442\"}},\"type\":\"scatter\"}],\"scatterternary\":[{\"marker\":{\"colorbar\":{\"outlinewidth\":0,\"ticks\":\"\"}},\"type\":\"scatterternary\"}],\"surface\":[{\"colorbar\":{\"outlinewidth\":0,\"ticks\":\"\"},\"colorscale\":[[0.0,\"#0d0887\"],[0.1111111111111111,\"#46039f\"],[0.2222222222222222,\"#7201a8\"],[0.3333333333333333,\"#9c179e\"],[0.4444444444444444,\"#bd3786\"],[0.5555555555555556,\"#d8576b\"],[0.6666666666666666,\"#ed7953\"],[0.7777777777777778,\"#fb9f3a\"],[0.8888888888888888,\"#fdca26\"],[1.0,\"#f0f921\"]],\"type\":\"surface\"}],\"table\":[{\"cells\":{\"fill\":{\"color\":\"#506784\"},\"line\":{\"color\":\"rgb(17,17,17)\"}},\"header\":{\"fill\":{\"color\":\"#2a3f5f\"},\"line\":{\"color\":\"rgb(17,17,17)\"}},\"type\":\"table\"}]},\"layout\":{\"annotationdefaults\":{\"arrowcolor\":\"#f2f5fa\",\"arrowhead\":0,\"arrowwidth\":1},\"autotypenumbers\":\"strict\",\"coloraxis\":{\"colorbar\":{\"outlinewidth\":0,\"ticks\":\"\"}},\"colorscale\":{\"diverging\":[[0,\"#8e0152\"],[0.1,\"#c51b7d\"],[0.2,\"#de77ae\"],[0.3,\"#f1b6da\"],[0.4,\"#fde0ef\"],[0.5,\"#f7f7f7\"],[0.6,\"#e6f5d0\"],[0.7,\"#b8e186\"],[0.8,\"#7fbc41\"],[0.9,\"#4d9221\"],[1,\"#276419\"]],\"sequential\":[[0.0,\"#0d0887\"],[0.1111111111111111,\"#46039f\"],[0.2222222222222222,\"#7201a8\"],[0.3333333333333333,\"#9c179e\"],[0.4444444444444444,\"#bd3786\"],[0.5555555555555556,\"#d8576b\"],[0.6666666666666666,\"#ed7953\"],[0.7777777777777778,\"#fb9f3a\"],[0.8888888888888888,\"#fdca26\"],[1.0,\"#f0f921\"]],\"sequentialminus\":[[0.0,\"#0d0887\"],[0.1111111111111111,\"#46039f\"],[0.2222222222222222,\"#7201a8\"],[0.3333333333333333,\"#9c179e\"],[0.4444444444444444,\"#bd3786\"],[0.5555555555555556,\"#d8576b\"],[0.6666666666666666,\"#ed7953\"],[0.7777777777777778,\"#fb9f3a\"],[0.8888888888888888,\"#fdca26\"],[1.0,\"#f0f921\"]]},\"colorway\":[\"#636efa\",\"#EF553B\",\"#00cc96\",\"#ab63fa\",\"#FFA15A\",\"#19d3f3\",\"#FF6692\",\"#B6E880\",\"#FF97FF\",\"#FECB52\"],\"font\":{\"color\":\"#f2f5fa\"},\"geo\":{\"bgcolor\":\"rgb(17,17,17)\",\"lakecolor\":\"rgb(17,17,17)\",\"landcolor\":\"rgb(17,17,17)\",\"showlakes\":true,\"showland\":true,\"subunitcolor\":\"#506784\"},\"hoverlabel\":{\"align\":\"left\"},\"hovermode\":\"closest\",\"mapbox\":{\"style\":\"dark\"},\"paper_bgcolor\":\"rgb(17,17,17)\",\"plot_bgcolor\":\"rgb(17,17,17)\",\"polar\":{\"angularaxis\":{\"gridcolor\":\"#506784\",\"linecolor\":\"#506784\",\"ticks\":\"\"},\"bgcolor\":\"rgb(17,17,17)\",\"radialaxis\":{\"gridcolor\":\"#506784\",\"linecolor\":\"#506784\",\"ticks\":\"\"}},\"scene\":{\"xaxis\":{\"backgroundcolor\":\"rgb(17,17,17)\",\"gridcolor\":\"#506784\",\"gridwidth\":2,\"linecolor\":\"#506784\",\"showbackground\":true,\"ticks\":\"\",\"zerolinecolor\":\"#C8D4E3\"},\"yaxis\":{\"backgroundcolor\":\"rgb(17,17,17)\",\"gridcolor\":\"#506784\",\"gridwidth\":2,\"linecolor\":\"#506784\",\"showbackground\":true,\"ticks\":\"\",\"zerolinecolor\":\"#C8D4E3\"},\"zaxis\":{\"backgroundcolor\":\"rgb(17,17,17)\",\"gridcolor\":\"#506784\",\"gridwidth\":2,\"linecolor\":\"#506784\",\"showbackground\":true,\"ticks\":\"\",\"zerolinecolor\":\"#C8D4E3\"}},\"shapedefaults\":{\"line\":{\"color\":\"#f2f5fa\"}},\"sliderdefaults\":{\"bgcolor\":\"#C8D4E3\",\"bordercolor\":\"rgb(17,17,17)\",\"borderwidth\":1,\"tickwidth\":0},\"ternary\":{\"aaxis\":{\"gridcolor\":\"#506784\",\"linecolor\":\"#506784\",\"ticks\":\"\"},\"baxis\":{\"gridcolor\":\"#506784\",\"linecolor\":\"#506784\",\"ticks\":\"\"},\"bgcolor\":\"rgb(17,17,17)\",\"caxis\":{\"gridcolor\":\"#506784\",\"linecolor\":\"#506784\",\"ticks\":\"\"}},\"title\":{\"x\":0.05},\"updatemenudefaults\":{\"bgcolor\":\"#506784\",\"borderwidth\":0},\"xaxis\":{\"automargin\":true,\"gridcolor\":\"#283442\",\"linecolor\":\"#506784\",\"ticks\":\"\",\"title\":{\"standoff\":15},\"zerolinecolor\":\"#283442\",\"zerolinewidth\":2},\"yaxis\":{\"automargin\":true,\"gridcolor\":\"#283442\",\"linecolor\":\"#506784\",\"ticks\":\"\",\"title\":{\"standoff\":15},\"zerolinecolor\":\"#283442\",\"zerolinewidth\":2}}},\"xaxis\":{\"tickmode\":\"array\",\"tickvals\":[0,1,2,3],\"ticktext\":[\"w0\",\"w1\",\"w2\",\"w3\"]},\"title\":{\"text\":\"Веса модели\"},\"width\":1200,\"height\":600},                        {\"responsive\": true}                    ).then(function(){\n",
              "                            \n",
              "var gd = document.getElementById('cf4acf47-cde4-45b0-b57d-78f5e6319f32');\n",
              "var x = new MutationObserver(function (mutations, observer) {{\n",
              "        var display = window.getComputedStyle(gd).display;\n",
              "        if (!display || display === 'none') {{\n",
              "            console.log([gd, 'removed!']);\n",
              "            Plotly.purge(gd);\n",
              "            observer.disconnect();\n",
              "        }}\n",
              "}});\n",
              "\n",
              "// Listen for the removal of the full notebook cells\n",
              "var notebookContainer = gd.closest('#notebook-container');\n",
              "if (notebookContainer) {{\n",
              "    x.observe(notebookContainer, {childList: true});\n",
              "}}\n",
              "\n",
              "// Listen for the clearing of the current output cell\n",
              "var outputEl = gd.closest('.output');\n",
              "if (outputEl) {{\n",
              "    x.observe(outputEl, {childList: true});\n",
              "}}\n",
              "\n",
              "                        })                };                            </script>        </div>\n",
              "</body>\n",
              "</html>"
            ]
          },
          "metadata": {}
        }
      ]
    },
    {
      "cell_type": "markdown",
      "source": [
        "Разница по абсолютным значениям весов не очень велика, однако w0 и w1 веса превышают по модулю веса w2 и w3."
      ],
      "metadata": {
        "id": "4Hoe7PZuXrX-"
      }
    },
    {
      "cell_type": "markdown",
      "source": [
        "# Проверка на гармонических данных"
      ],
      "metadata": {
        "id": "UhV7hCZLy5Oz"
      }
    },
    {
      "cell_type": "markdown",
      "source": [
        "Приминяем описанные в начале блокнота функции для генерации полиноминальной зависимости вида\n",
        "\n",
        "`y = cos(2*pi*(x/2 + 1/(x+5))+pi)`, где `х` изменяется в диапазоне от `0` до `pi/3`, в `х` - `50` точек, \"мощность\" шума `0.1`\n",
        "\n",
        "для этого запускаем функцию `dataset` с нужными параметрами\n",
        "\n",
        "*   `a = 2*np.pi` (на это число умножится `х`)\n",
        "*  ` b = np.pi `(это число добавится к `a*х`)\n",
        "*   `f = np.cos` (эта функция применится к `a*х+b`)\n",
        "*   `N = 50` (число точек)\n",
        "*   `x_max =np.pi/3` (максимальное значение `х`)\n",
        "*   `noise_power = 0.1` (мощность шума)\n",
        "*   `seed = 42` (фиксированный сид случайных чисел)\n",
        "                       \n",
        "\n",
        "далее визуализация данных с помощью функции `vis_data`"
      ],
      "metadata": {
        "id": "pJuyzgESAw7w"
      }
    },
    {
      "cell_type": "code",
      "source": [
        "y, y_true, x = dataset(a = 2*np.pi,\n",
        "                       b = np.pi, f = np.cos,\n",
        "                       N = 50, x_max =np.pi/3,\n",
        "                       noise_power = 0.1, seed = 42)\n",
        "vis_data_plotly(y, y_true,x, 'Гармоническая зависимость')"
      ],
      "metadata": {
        "colab": {
          "base_uri": "https://localhost:8080/",
          "height": 617
        },
        "id": "TIHsrOv1pisS",
        "outputId": "32c4abcc-55f8-41b2-9ef5-52f93b042362"
      },
      "execution_count": null,
      "outputs": [
        {
          "output_type": "display_data",
          "data": {
            "text/html": [
              "<html>\n",
              "<head><meta charset=\"utf-8\" /></head>\n",
              "<body>\n",
              "    <div>            <script src=\"https://cdnjs.cloudflare.com/ajax/libs/mathjax/2.7.5/MathJax.js?config=TeX-AMS-MML_SVG\"></script><script type=\"text/javascript\">if (window.MathJax && window.MathJax.Hub && window.MathJax.Hub.Config) {window.MathJax.Hub.Config({SVG: {font: \"STIX-Web\"}});}</script>                <script type=\"text/javascript\">window.PlotlyConfig = {MathJaxConfig: 'local'};</script>\n",
              "        <script charset=\"utf-8\" src=\"https://cdn.plot.ly/plotly-2.35.2.min.js\"></script>                <div id=\"76c23cae-f9c5-453a-8751-6d1793d9b6a4\" class=\"plotly-graph-div\" style=\"height:600px; width:1200px;\"></div>            <script type=\"text/javascript\">                                    window.PLOTLYENV=window.PLOTLYENV || {};                                    if (document.getElementById(\"76c23cae-f9c5-453a-8751-6d1793d9b6a4\")) {                    Plotly.newPlot(                        \"76c23cae-f9c5-453a-8751-6d1793d9b6a4\",                        [{\"marker\":{\"color\":\"Green\",\"size\":10},\"mode\":\"lines+markers\",\"name\":\"Реальные данные\",\"x\":[0.021556032019184653,0.03601157510112919,0.04864275845245291,0.060825016427191375,0.06812186887562248,0.1022819986076801,0.12779814068180767,0.14607762928177764,0.16335707969615926,0.16338233821234197,0.17857244474527742,0.19040666040567744,0.19206075359692815,0.1935791331541123,0.20909789571439721,0.2223609967255541,0.2709937630302383,0.3049744424524801,0.3059331605412711,0.3186017317977882,0.31899079313911943,0.3264230755616875,0.3836532251490256,0.39221749528184063,0.45233176577359235,0.46092661359718623,0.47759537064635094,0.5185480476776199,0.5385050446476917,0.5446139582330638,0.5495236501799443,0.5725136657422902,0.620375085805519,0.6269136986542038,0.6294861682850023,0.6362194811532859,0.6407308530458254,0.6937917137886659,0.7165271498113673,0.7414918695374813,0.7665422633556482,0.8222343440291981,0.8465517233413815,0.8717318949578305,0.9070575387604193,0.9522380983100062,0.9936706109775585,0.995585693560036,1.0112075003926706,1.0156872220654944],\"y\":[-0.9657583900325075,-0.9540045208879854,-0.9423221059768387,-0.9298152060582879,-0.9217448177448232,-0.8782768735992994,-0.8398361728645903,-0.8092645826539571,-0.7781145309339104,-0.7780674307548798,-0.748932228711473,-0.7251354658841841,-0.7217344317052308,-0.7185964691607831,-0.6856619709723478,-0.6563032870107404,-0.5398431745077231,-0.45119418332233213,-0.4486166957183381,-0.41419640592718915,-0.4131289929563197,-0.3926246423206332,-0.22853411490479733,-0.20321374411641238,-0.02223522252586832,0.003892329102547121,0.054573840508101656,0.17840297547100842,0.237944194983681,0.2560142631289242,0.2704762678968201,0.33737330651936775,0.47111564662236466,0.48868361216561984,0.4955431343549076,0.5133537979793605,0.5251676802773138,0.6561164756159583,0.7071648567914334,0.7592762274506281,0.8071086320415715,0.8960069441631247,0.9267369217601253,0.9530868009971594,0.980359039148239,0.998260042080064,0.997616542179241,0.997190473811418,0.9924097596132596,0.9906106557332874],\"type\":\"scatter\"},{\"marker\":{\"color\":\"LightSkyBlue\",\"line\":{\"color\":\"Blue\",\"width\":3},\"size\":15},\"mode\":\"markers\",\"name\":\"Зашумленные данные\",\"opacity\":0.5,\"x\":[0.021556032019184653,0.03601157510112919,0.04864275845245291,0.060825016427191375,0.06812186887562248,0.1022819986076801,0.12779814068180767,0.14607762928177764,0.16335707969615926,0.16338233821234197,0.17857244474527742,0.19040666040567744,0.19206075359692815,0.1935791331541123,0.20909789571439721,0.2223609967255541,0.2709937630302383,0.3049744424524801,0.3059331605412711,0.3186017317977882,0.31899079313911943,0.3264230755616875,0.3836532251490256,0.39221749528184063,0.45233176577359235,0.46092661359718623,0.47759537064635094,0.5185480476776199,0.5385050446476917,0.5446139582330638,0.5495236501799443,0.5725136657422902,0.620375085805519,0.6269136986542038,0.6294861682850023,0.6362194811532859,0.6407308530458254,0.6937917137886659,0.7165271498113673,0.7414918695374813,0.7665422633556482,0.8222343440291981,0.8465517233413815,0.8717318949578305,0.9070575387604193,0.9522380983100062,0.9936706109775585,0.995585693560036,1.0112075003926706,1.0156872220654944],\"y\":[-0.8919117320329665,-0.9368676927689883,-0.9538869342156628,-0.9599255756172168,-1.0695970167815658,-0.9502612944387703,-0.8859000499605691,-0.7035523600320654,-0.7437527019770642,-0.9543714462911532,-0.7165238317719935,-0.7636436939258158,-0.7894266317358266,-0.6574288402766963,-0.5825620187227527,-0.5631752750991205,-0.623764926829987,-0.4821154209074536,-0.4154903525779817,-0.31664189321495323,-0.46104641674084873,-0.41119053998701494,-0.33916761230540016,-0.3228344065244795,0.05901735971355149,0.1395163319596294,0.04737282835006827,0.27875626526021086,0.2741077974884444,0.1915022876684118,0.3066158284476615,0.4911769631659647,0.46753304271136953,0.6451479777470205,0.23356862394593314,0.5955440484168829,0.5338723871011308,0.6262157405693716,0.7163409344449836,0.5605193359905387,0.7851414432578203,0.9317182013142993,1.074526326234277,0.9012597791697946,0.8995096788589202,0.9480843377216104,1.0891567539494484,1.0300655847773865,0.9394337392365557,1.041937399044623],\"type\":\"scatter\"}],                        {\"template\":{\"data\":{\"barpolar\":[{\"marker\":{\"line\":{\"color\":\"rgb(17,17,17)\",\"width\":0.5},\"pattern\":{\"fillmode\":\"overlay\",\"size\":10,\"solidity\":0.2}},\"type\":\"barpolar\"}],\"bar\":[{\"error_x\":{\"color\":\"#f2f5fa\"},\"error_y\":{\"color\":\"#f2f5fa\"},\"marker\":{\"line\":{\"color\":\"rgb(17,17,17)\",\"width\":0.5},\"pattern\":{\"fillmode\":\"overlay\",\"size\":10,\"solidity\":0.2}},\"type\":\"bar\"}],\"carpet\":[{\"aaxis\":{\"endlinecolor\":\"#A2B1C6\",\"gridcolor\":\"#506784\",\"linecolor\":\"#506784\",\"minorgridcolor\":\"#506784\",\"startlinecolor\":\"#A2B1C6\"},\"baxis\":{\"endlinecolor\":\"#A2B1C6\",\"gridcolor\":\"#506784\",\"linecolor\":\"#506784\",\"minorgridcolor\":\"#506784\",\"startlinecolor\":\"#A2B1C6\"},\"type\":\"carpet\"}],\"choropleth\":[{\"colorbar\":{\"outlinewidth\":0,\"ticks\":\"\"},\"type\":\"choropleth\"}],\"contourcarpet\":[{\"colorbar\":{\"outlinewidth\":0,\"ticks\":\"\"},\"type\":\"contourcarpet\"}],\"contour\":[{\"colorbar\":{\"outlinewidth\":0,\"ticks\":\"\"},\"colorscale\":[[0.0,\"#0d0887\"],[0.1111111111111111,\"#46039f\"],[0.2222222222222222,\"#7201a8\"],[0.3333333333333333,\"#9c179e\"],[0.4444444444444444,\"#bd3786\"],[0.5555555555555556,\"#d8576b\"],[0.6666666666666666,\"#ed7953\"],[0.7777777777777778,\"#fb9f3a\"],[0.8888888888888888,\"#fdca26\"],[1.0,\"#f0f921\"]],\"type\":\"contour\"}],\"heatmapgl\":[{\"colorbar\":{\"outlinewidth\":0,\"ticks\":\"\"},\"colorscale\":[[0.0,\"#0d0887\"],[0.1111111111111111,\"#46039f\"],[0.2222222222222222,\"#7201a8\"],[0.3333333333333333,\"#9c179e\"],[0.4444444444444444,\"#bd3786\"],[0.5555555555555556,\"#d8576b\"],[0.6666666666666666,\"#ed7953\"],[0.7777777777777778,\"#fb9f3a\"],[0.8888888888888888,\"#fdca26\"],[1.0,\"#f0f921\"]],\"type\":\"heatmapgl\"}],\"heatmap\":[{\"colorbar\":{\"outlinewidth\":0,\"ticks\":\"\"},\"colorscale\":[[0.0,\"#0d0887\"],[0.1111111111111111,\"#46039f\"],[0.2222222222222222,\"#7201a8\"],[0.3333333333333333,\"#9c179e\"],[0.4444444444444444,\"#bd3786\"],[0.5555555555555556,\"#d8576b\"],[0.6666666666666666,\"#ed7953\"],[0.7777777777777778,\"#fb9f3a\"],[0.8888888888888888,\"#fdca26\"],[1.0,\"#f0f921\"]],\"type\":\"heatmap\"}],\"histogram2dcontour\":[{\"colorbar\":{\"outlinewidth\":0,\"ticks\":\"\"},\"colorscale\":[[0.0,\"#0d0887\"],[0.1111111111111111,\"#46039f\"],[0.2222222222222222,\"#7201a8\"],[0.3333333333333333,\"#9c179e\"],[0.4444444444444444,\"#bd3786\"],[0.5555555555555556,\"#d8576b\"],[0.6666666666666666,\"#ed7953\"],[0.7777777777777778,\"#fb9f3a\"],[0.8888888888888888,\"#fdca26\"],[1.0,\"#f0f921\"]],\"type\":\"histogram2dcontour\"}],\"histogram2d\":[{\"colorbar\":{\"outlinewidth\":0,\"ticks\":\"\"},\"colorscale\":[[0.0,\"#0d0887\"],[0.1111111111111111,\"#46039f\"],[0.2222222222222222,\"#7201a8\"],[0.3333333333333333,\"#9c179e\"],[0.4444444444444444,\"#bd3786\"],[0.5555555555555556,\"#d8576b\"],[0.6666666666666666,\"#ed7953\"],[0.7777777777777778,\"#fb9f3a\"],[0.8888888888888888,\"#fdca26\"],[1.0,\"#f0f921\"]],\"type\":\"histogram2d\"}],\"histogram\":[{\"marker\":{\"pattern\":{\"fillmode\":\"overlay\",\"size\":10,\"solidity\":0.2}},\"type\":\"histogram\"}],\"mesh3d\":[{\"colorbar\":{\"outlinewidth\":0,\"ticks\":\"\"},\"type\":\"mesh3d\"}],\"parcoords\":[{\"line\":{\"colorbar\":{\"outlinewidth\":0,\"ticks\":\"\"}},\"type\":\"parcoords\"}],\"pie\":[{\"automargin\":true,\"type\":\"pie\"}],\"scatter3d\":[{\"line\":{\"colorbar\":{\"outlinewidth\":0,\"ticks\":\"\"}},\"marker\":{\"colorbar\":{\"outlinewidth\":0,\"ticks\":\"\"}},\"type\":\"scatter3d\"}],\"scattercarpet\":[{\"marker\":{\"colorbar\":{\"outlinewidth\":0,\"ticks\":\"\"}},\"type\":\"scattercarpet\"}],\"scattergeo\":[{\"marker\":{\"colorbar\":{\"outlinewidth\":0,\"ticks\":\"\"}},\"type\":\"scattergeo\"}],\"scattergl\":[{\"marker\":{\"line\":{\"color\":\"#283442\"}},\"type\":\"scattergl\"}],\"scattermapbox\":[{\"marker\":{\"colorbar\":{\"outlinewidth\":0,\"ticks\":\"\"}},\"type\":\"scattermapbox\"}],\"scatterpolargl\":[{\"marker\":{\"colorbar\":{\"outlinewidth\":0,\"ticks\":\"\"}},\"type\":\"scatterpolargl\"}],\"scatterpolar\":[{\"marker\":{\"colorbar\":{\"outlinewidth\":0,\"ticks\":\"\"}},\"type\":\"scatterpolar\"}],\"scatter\":[{\"marker\":{\"line\":{\"color\":\"#283442\"}},\"type\":\"scatter\"}],\"scatterternary\":[{\"marker\":{\"colorbar\":{\"outlinewidth\":0,\"ticks\":\"\"}},\"type\":\"scatterternary\"}],\"surface\":[{\"colorbar\":{\"outlinewidth\":0,\"ticks\":\"\"},\"colorscale\":[[0.0,\"#0d0887\"],[0.1111111111111111,\"#46039f\"],[0.2222222222222222,\"#7201a8\"],[0.3333333333333333,\"#9c179e\"],[0.4444444444444444,\"#bd3786\"],[0.5555555555555556,\"#d8576b\"],[0.6666666666666666,\"#ed7953\"],[0.7777777777777778,\"#fb9f3a\"],[0.8888888888888888,\"#fdca26\"],[1.0,\"#f0f921\"]],\"type\":\"surface\"}],\"table\":[{\"cells\":{\"fill\":{\"color\":\"#506784\"},\"line\":{\"color\":\"rgb(17,17,17)\"}},\"header\":{\"fill\":{\"color\":\"#2a3f5f\"},\"line\":{\"color\":\"rgb(17,17,17)\"}},\"type\":\"table\"}]},\"layout\":{\"annotationdefaults\":{\"arrowcolor\":\"#f2f5fa\",\"arrowhead\":0,\"arrowwidth\":1},\"autotypenumbers\":\"strict\",\"coloraxis\":{\"colorbar\":{\"outlinewidth\":0,\"ticks\":\"\"}},\"colorscale\":{\"diverging\":[[0,\"#8e0152\"],[0.1,\"#c51b7d\"],[0.2,\"#de77ae\"],[0.3,\"#f1b6da\"],[0.4,\"#fde0ef\"],[0.5,\"#f7f7f7\"],[0.6,\"#e6f5d0\"],[0.7,\"#b8e186\"],[0.8,\"#7fbc41\"],[0.9,\"#4d9221\"],[1,\"#276419\"]],\"sequential\":[[0.0,\"#0d0887\"],[0.1111111111111111,\"#46039f\"],[0.2222222222222222,\"#7201a8\"],[0.3333333333333333,\"#9c179e\"],[0.4444444444444444,\"#bd3786\"],[0.5555555555555556,\"#d8576b\"],[0.6666666666666666,\"#ed7953\"],[0.7777777777777778,\"#fb9f3a\"],[0.8888888888888888,\"#fdca26\"],[1.0,\"#f0f921\"]],\"sequentialminus\":[[0.0,\"#0d0887\"],[0.1111111111111111,\"#46039f\"],[0.2222222222222222,\"#7201a8\"],[0.3333333333333333,\"#9c179e\"],[0.4444444444444444,\"#bd3786\"],[0.5555555555555556,\"#d8576b\"],[0.6666666666666666,\"#ed7953\"],[0.7777777777777778,\"#fb9f3a\"],[0.8888888888888888,\"#fdca26\"],[1.0,\"#f0f921\"]]},\"colorway\":[\"#636efa\",\"#EF553B\",\"#00cc96\",\"#ab63fa\",\"#FFA15A\",\"#19d3f3\",\"#FF6692\",\"#B6E880\",\"#FF97FF\",\"#FECB52\"],\"font\":{\"color\":\"#f2f5fa\"},\"geo\":{\"bgcolor\":\"rgb(17,17,17)\",\"lakecolor\":\"rgb(17,17,17)\",\"landcolor\":\"rgb(17,17,17)\",\"showlakes\":true,\"showland\":true,\"subunitcolor\":\"#506784\"},\"hoverlabel\":{\"align\":\"left\"},\"hovermode\":\"closest\",\"mapbox\":{\"style\":\"dark\"},\"paper_bgcolor\":\"rgb(17,17,17)\",\"plot_bgcolor\":\"rgb(17,17,17)\",\"polar\":{\"angularaxis\":{\"gridcolor\":\"#506784\",\"linecolor\":\"#506784\",\"ticks\":\"\"},\"bgcolor\":\"rgb(17,17,17)\",\"radialaxis\":{\"gridcolor\":\"#506784\",\"linecolor\":\"#506784\",\"ticks\":\"\"}},\"scene\":{\"xaxis\":{\"backgroundcolor\":\"rgb(17,17,17)\",\"gridcolor\":\"#506784\",\"gridwidth\":2,\"linecolor\":\"#506784\",\"showbackground\":true,\"ticks\":\"\",\"zerolinecolor\":\"#C8D4E3\"},\"yaxis\":{\"backgroundcolor\":\"rgb(17,17,17)\",\"gridcolor\":\"#506784\",\"gridwidth\":2,\"linecolor\":\"#506784\",\"showbackground\":true,\"ticks\":\"\",\"zerolinecolor\":\"#C8D4E3\"},\"zaxis\":{\"backgroundcolor\":\"rgb(17,17,17)\",\"gridcolor\":\"#506784\",\"gridwidth\":2,\"linecolor\":\"#506784\",\"showbackground\":true,\"ticks\":\"\",\"zerolinecolor\":\"#C8D4E3\"}},\"shapedefaults\":{\"line\":{\"color\":\"#f2f5fa\"}},\"sliderdefaults\":{\"bgcolor\":\"#C8D4E3\",\"bordercolor\":\"rgb(17,17,17)\",\"borderwidth\":1,\"tickwidth\":0},\"ternary\":{\"aaxis\":{\"gridcolor\":\"#506784\",\"linecolor\":\"#506784\",\"ticks\":\"\"},\"baxis\":{\"gridcolor\":\"#506784\",\"linecolor\":\"#506784\",\"ticks\":\"\"},\"bgcolor\":\"rgb(17,17,17)\",\"caxis\":{\"gridcolor\":\"#506784\",\"linecolor\":\"#506784\",\"ticks\":\"\"}},\"title\":{\"x\":0.05},\"updatemenudefaults\":{\"bgcolor\":\"#506784\",\"borderwidth\":0},\"xaxis\":{\"automargin\":true,\"gridcolor\":\"#283442\",\"linecolor\":\"#506784\",\"ticks\":\"\",\"title\":{\"standoff\":15},\"zerolinecolor\":\"#283442\",\"zerolinewidth\":2},\"yaxis\":{\"automargin\":true,\"gridcolor\":\"#283442\",\"linecolor\":\"#506784\",\"ticks\":\"\",\"title\":{\"standoff\":15},\"zerolinecolor\":\"#283442\",\"zerolinewidth\":2}}},\"title\":{\"text\":\"Гармоническая зависимость\"},\"width\":1200,\"height\":600},                        {\"responsive\": true}                    ).then(function(){\n",
              "                            \n",
              "var gd = document.getElementById('76c23cae-f9c5-453a-8751-6d1793d9b6a4');\n",
              "var x = new MutationObserver(function (mutations, observer) {{\n",
              "        var display = window.getComputedStyle(gd).display;\n",
              "        if (!display || display === 'none') {{\n",
              "            console.log([gd, 'removed!']);\n",
              "            Plotly.purge(gd);\n",
              "            observer.disconnect();\n",
              "        }}\n",
              "}});\n",
              "\n",
              "// Listen for the removal of the full notebook cells\n",
              "var notebookContainer = gd.closest('#notebook-container');\n",
              "if (notebookContainer) {{\n",
              "    x.observe(notebookContainer, {childList: true});\n",
              "}}\n",
              "\n",
              "// Listen for the clearing of the current output cell\n",
              "var outputEl = gd.closest('.output');\n",
              "if (outputEl) {{\n",
              "    x.observe(outputEl, {childList: true});\n",
              "}}\n",
              "\n",
              "                        })                };                            </script>        </div>\n",
              "</body>\n",
              "</html>"
            ]
          },
          "metadata": {}
        }
      ]
    },
    {
      "cell_type": "markdown",
      "source": [
        "Несмотря на шум, общая гармоническая форма сохраняется."
      ],
      "metadata": {
        "id": "KKFHS6A1YNEW"
      }
    },
    {
      "cell_type": "markdown",
      "source": [
        "Разбивка данных на тренировочную и валидационную выборку"
      ],
      "metadata": {
        "id": "ox3-UEraCY9u"
      }
    },
    {
      "cell_type": "code",
      "source": [
        "x_train, x_test, y_train, y_test = train_test_split(x, y,  test_size=0.3, )\n",
        "print(x_train.shape, y_train.shape,  x_test.shape, y_test.shape )"
      ],
      "metadata": {
        "colab": {
          "base_uri": "https://localhost:8080/"
        },
        "id": "UwXhc6TjzdYw",
        "outputId": "8798b4b3-0b95-4a65-de3e-97c45eb4bddc"
      },
      "execution_count": null,
      "outputs": [
        {
          "output_type": "stream",
          "name": "stdout",
          "text": [
            "(35, 1) (35,) (15, 1) (15,)\n"
          ]
        }
      ]
    },
    {
      "cell_type": "code",
      "execution_count": null,
      "metadata": {
        "scrolled": false,
        "id": "eeAMqOAMbNaa",
        "outputId": "101248e7-b9bc-436c-90a8-0e29b13ec3c5",
        "colab": {
          "base_uri": "https://localhost:8080/",
          "height": 634
        }
      },
      "outputs": [
        {
          "output_type": "stream",
          "name": "stdout",
          "text": [
            "Коэффициент детерминации на тренировочных данных = 0.96\n"
          ]
        },
        {
          "output_type": "display_data",
          "data": {
            "text/html": [
              "<html>\n",
              "<head><meta charset=\"utf-8\" /></head>\n",
              "<body>\n",
              "    <div>            <script src=\"https://cdnjs.cloudflare.com/ajax/libs/mathjax/2.7.5/MathJax.js?config=TeX-AMS-MML_SVG\"></script><script type=\"text/javascript\">if (window.MathJax && window.MathJax.Hub && window.MathJax.Hub.Config) {window.MathJax.Hub.Config({SVG: {font: \"STIX-Web\"}});}</script>                <script type=\"text/javascript\">window.PlotlyConfig = {MathJaxConfig: 'local'};</script>\n",
              "        <script charset=\"utf-8\" src=\"https://cdn.plot.ly/plotly-2.35.2.min.js\"></script>                <div id=\"5eed7d23-83ea-4068-96ad-61e29a49119f\" class=\"plotly-graph-div\" style=\"height:600px; width:1200px;\"></div>            <script type=\"text/javascript\">                                    window.PLOTLYENV=window.PLOTLYENV || {};                                    if (document.getElementById(\"5eed7d23-83ea-4068-96ad-61e29a49119f\")) {                    Plotly.newPlot(                        \"5eed7d23-83ea-4068-96ad-61e29a49119f\",                        [{\"mode\":\"lines+markers\",\"name\":\"Реальные данные\",\"y\":[0.7099336394148518,0.3897475690194145,0.3000327974708021,0.2018736927299584,0.1752257594353934,0.14266810143279474,0.10820078977561054,0.08082992954850328,0.06627979709949146,0.05791079932209644,0.0529558547391644,0.04910516737893721,0.04603535307573689,0.037831053602510704,0.031075818385894464,0.03571120674028637,0.031111308683369514,0.032370781159834244,0.02844394982828576,0.034684917339335736,0.028110961638818138,0.02671314348426428,0.030575848679577345,0.024850365806274907,0.029087092761132832,0.028755968624214683,0.028033433588361314,0.03072793011005838,0.0323879833344867,0.024339504424571695,0.02751934128222805,0.030887390664544878,0.030684775252100293,0.025967335243184342,0.029785853359281425,0.02602925907866163,0.02700874704634357,0.02711011873287106,0.026475851735827245,0.030814866280529114,0.028297143556744717,0.029931467023191206,0.025035204130774952,0.028839506941096178,0.02924679104199134,0.02784812886702839,0.029384559662621452,0.025341378367749186,0.02780571756476419,0.027402032938820115,0.03293660960179976,0.03053821844699864,0.02824949395940875,0.031210225892407312,0.028133674750129577,0.02454136555816887,0.030299747819409684,0.029751296970617767,0.026507828549895262,0.026885971100054095,0.028348300774551128,0.02544206119614216,0.027499463649424325,0.02912184041773166,0.028962141211151173,0.029433451029653432,0.029468632283297897,0.025518596993748806,0.027804032126950057,0.028083413167598048,0.02903176322618242,0.026710438826534243,0.028584850268215573,0.025829278490906774,0.026600379495292443,0.02872586470718556,0.02787423423919207,0.026128939501616367,0.02739607511584828,0.028538991601196485,0.025853852379218428,0.026523628926054088,0.0339604643121318,0.027677454850023323,0.028031137150387086,0.03021551489333177,0.02777897223332527,0.028096183013686427,0.030098263952269787,0.029630587367944633,0.02816205068323344,0.029791587570522655,0.027562476796762703,0.03243254813313435,0.025914580287952956,0.02949024211404033,0.028845235321222653,0.030075625989385766,0.026335809324870927,0.02765040053777909],\"type\":\"scatter\"}],                        {\"template\":{\"data\":{\"barpolar\":[{\"marker\":{\"line\":{\"color\":\"rgb(17,17,17)\",\"width\":0.5},\"pattern\":{\"fillmode\":\"overlay\",\"size\":10,\"solidity\":0.2}},\"type\":\"barpolar\"}],\"bar\":[{\"error_x\":{\"color\":\"#f2f5fa\"},\"error_y\":{\"color\":\"#f2f5fa\"},\"marker\":{\"line\":{\"color\":\"rgb(17,17,17)\",\"width\":0.5},\"pattern\":{\"fillmode\":\"overlay\",\"size\":10,\"solidity\":0.2}},\"type\":\"bar\"}],\"carpet\":[{\"aaxis\":{\"endlinecolor\":\"#A2B1C6\",\"gridcolor\":\"#506784\",\"linecolor\":\"#506784\",\"minorgridcolor\":\"#506784\",\"startlinecolor\":\"#A2B1C6\"},\"baxis\":{\"endlinecolor\":\"#A2B1C6\",\"gridcolor\":\"#506784\",\"linecolor\":\"#506784\",\"minorgridcolor\":\"#506784\",\"startlinecolor\":\"#A2B1C6\"},\"type\":\"carpet\"}],\"choropleth\":[{\"colorbar\":{\"outlinewidth\":0,\"ticks\":\"\"},\"type\":\"choropleth\"}],\"contourcarpet\":[{\"colorbar\":{\"outlinewidth\":0,\"ticks\":\"\"},\"type\":\"contourcarpet\"}],\"contour\":[{\"colorbar\":{\"outlinewidth\":0,\"ticks\":\"\"},\"colorscale\":[[0.0,\"#0d0887\"],[0.1111111111111111,\"#46039f\"],[0.2222222222222222,\"#7201a8\"],[0.3333333333333333,\"#9c179e\"],[0.4444444444444444,\"#bd3786\"],[0.5555555555555556,\"#d8576b\"],[0.6666666666666666,\"#ed7953\"],[0.7777777777777778,\"#fb9f3a\"],[0.8888888888888888,\"#fdca26\"],[1.0,\"#f0f921\"]],\"type\":\"contour\"}],\"heatmapgl\":[{\"colorbar\":{\"outlinewidth\":0,\"ticks\":\"\"},\"colorscale\":[[0.0,\"#0d0887\"],[0.1111111111111111,\"#46039f\"],[0.2222222222222222,\"#7201a8\"],[0.3333333333333333,\"#9c179e\"],[0.4444444444444444,\"#bd3786\"],[0.5555555555555556,\"#d8576b\"],[0.6666666666666666,\"#ed7953\"],[0.7777777777777778,\"#fb9f3a\"],[0.8888888888888888,\"#fdca26\"],[1.0,\"#f0f921\"]],\"type\":\"heatmapgl\"}],\"heatmap\":[{\"colorbar\":{\"outlinewidth\":0,\"ticks\":\"\"},\"colorscale\":[[0.0,\"#0d0887\"],[0.1111111111111111,\"#46039f\"],[0.2222222222222222,\"#7201a8\"],[0.3333333333333333,\"#9c179e\"],[0.4444444444444444,\"#bd3786\"],[0.5555555555555556,\"#d8576b\"],[0.6666666666666666,\"#ed7953\"],[0.7777777777777778,\"#fb9f3a\"],[0.8888888888888888,\"#fdca26\"],[1.0,\"#f0f921\"]],\"type\":\"heatmap\"}],\"histogram2dcontour\":[{\"colorbar\":{\"outlinewidth\":0,\"ticks\":\"\"},\"colorscale\":[[0.0,\"#0d0887\"],[0.1111111111111111,\"#46039f\"],[0.2222222222222222,\"#7201a8\"],[0.3333333333333333,\"#9c179e\"],[0.4444444444444444,\"#bd3786\"],[0.5555555555555556,\"#d8576b\"],[0.6666666666666666,\"#ed7953\"],[0.7777777777777778,\"#fb9f3a\"],[0.8888888888888888,\"#fdca26\"],[1.0,\"#f0f921\"]],\"type\":\"histogram2dcontour\"}],\"histogram2d\":[{\"colorbar\":{\"outlinewidth\":0,\"ticks\":\"\"},\"colorscale\":[[0.0,\"#0d0887\"],[0.1111111111111111,\"#46039f\"],[0.2222222222222222,\"#7201a8\"],[0.3333333333333333,\"#9c179e\"],[0.4444444444444444,\"#bd3786\"],[0.5555555555555556,\"#d8576b\"],[0.6666666666666666,\"#ed7953\"],[0.7777777777777778,\"#fb9f3a\"],[0.8888888888888888,\"#fdca26\"],[1.0,\"#f0f921\"]],\"type\":\"histogram2d\"}],\"histogram\":[{\"marker\":{\"pattern\":{\"fillmode\":\"overlay\",\"size\":10,\"solidity\":0.2}},\"type\":\"histogram\"}],\"mesh3d\":[{\"colorbar\":{\"outlinewidth\":0,\"ticks\":\"\"},\"type\":\"mesh3d\"}],\"parcoords\":[{\"line\":{\"colorbar\":{\"outlinewidth\":0,\"ticks\":\"\"}},\"type\":\"parcoords\"}],\"pie\":[{\"automargin\":true,\"type\":\"pie\"}],\"scatter3d\":[{\"line\":{\"colorbar\":{\"outlinewidth\":0,\"ticks\":\"\"}},\"marker\":{\"colorbar\":{\"outlinewidth\":0,\"ticks\":\"\"}},\"type\":\"scatter3d\"}],\"scattercarpet\":[{\"marker\":{\"colorbar\":{\"outlinewidth\":0,\"ticks\":\"\"}},\"type\":\"scattercarpet\"}],\"scattergeo\":[{\"marker\":{\"colorbar\":{\"outlinewidth\":0,\"ticks\":\"\"}},\"type\":\"scattergeo\"}],\"scattergl\":[{\"marker\":{\"line\":{\"color\":\"#283442\"}},\"type\":\"scattergl\"}],\"scattermapbox\":[{\"marker\":{\"colorbar\":{\"outlinewidth\":0,\"ticks\":\"\"}},\"type\":\"scattermapbox\"}],\"scatterpolargl\":[{\"marker\":{\"colorbar\":{\"outlinewidth\":0,\"ticks\":\"\"}},\"type\":\"scatterpolargl\"}],\"scatterpolar\":[{\"marker\":{\"colorbar\":{\"outlinewidth\":0,\"ticks\":\"\"}},\"type\":\"scatterpolar\"}],\"scatter\":[{\"marker\":{\"line\":{\"color\":\"#283442\"}},\"type\":\"scatter\"}],\"scatterternary\":[{\"marker\":{\"colorbar\":{\"outlinewidth\":0,\"ticks\":\"\"}},\"type\":\"scatterternary\"}],\"surface\":[{\"colorbar\":{\"outlinewidth\":0,\"ticks\":\"\"},\"colorscale\":[[0.0,\"#0d0887\"],[0.1111111111111111,\"#46039f\"],[0.2222222222222222,\"#7201a8\"],[0.3333333333333333,\"#9c179e\"],[0.4444444444444444,\"#bd3786\"],[0.5555555555555556,\"#d8576b\"],[0.6666666666666666,\"#ed7953\"],[0.7777777777777778,\"#fb9f3a\"],[0.8888888888888888,\"#fdca26\"],[1.0,\"#f0f921\"]],\"type\":\"surface\"}],\"table\":[{\"cells\":{\"fill\":{\"color\":\"#506784\"},\"line\":{\"color\":\"rgb(17,17,17)\"}},\"header\":{\"fill\":{\"color\":\"#2a3f5f\"},\"line\":{\"color\":\"rgb(17,17,17)\"}},\"type\":\"table\"}]},\"layout\":{\"annotationdefaults\":{\"arrowcolor\":\"#f2f5fa\",\"arrowhead\":0,\"arrowwidth\":1},\"autotypenumbers\":\"strict\",\"coloraxis\":{\"colorbar\":{\"outlinewidth\":0,\"ticks\":\"\"}},\"colorscale\":{\"diverging\":[[0,\"#8e0152\"],[0.1,\"#c51b7d\"],[0.2,\"#de77ae\"],[0.3,\"#f1b6da\"],[0.4,\"#fde0ef\"],[0.5,\"#f7f7f7\"],[0.6,\"#e6f5d0\"],[0.7,\"#b8e186\"],[0.8,\"#7fbc41\"],[0.9,\"#4d9221\"],[1,\"#276419\"]],\"sequential\":[[0.0,\"#0d0887\"],[0.1111111111111111,\"#46039f\"],[0.2222222222222222,\"#7201a8\"],[0.3333333333333333,\"#9c179e\"],[0.4444444444444444,\"#bd3786\"],[0.5555555555555556,\"#d8576b\"],[0.6666666666666666,\"#ed7953\"],[0.7777777777777778,\"#fb9f3a\"],[0.8888888888888888,\"#fdca26\"],[1.0,\"#f0f921\"]],\"sequentialminus\":[[0.0,\"#0d0887\"],[0.1111111111111111,\"#46039f\"],[0.2222222222222222,\"#7201a8\"],[0.3333333333333333,\"#9c179e\"],[0.4444444444444444,\"#bd3786\"],[0.5555555555555556,\"#d8576b\"],[0.6666666666666666,\"#ed7953\"],[0.7777777777777778,\"#fb9f3a\"],[0.8888888888888888,\"#fdca26\"],[1.0,\"#f0f921\"]]},\"colorway\":[\"#636efa\",\"#EF553B\",\"#00cc96\",\"#ab63fa\",\"#FFA15A\",\"#19d3f3\",\"#FF6692\",\"#B6E880\",\"#FF97FF\",\"#FECB52\"],\"font\":{\"color\":\"#f2f5fa\"},\"geo\":{\"bgcolor\":\"rgb(17,17,17)\",\"lakecolor\":\"rgb(17,17,17)\",\"landcolor\":\"rgb(17,17,17)\",\"showlakes\":true,\"showland\":true,\"subunitcolor\":\"#506784\"},\"hoverlabel\":{\"align\":\"left\"},\"hovermode\":\"closest\",\"mapbox\":{\"style\":\"dark\"},\"paper_bgcolor\":\"rgb(17,17,17)\",\"plot_bgcolor\":\"rgb(17,17,17)\",\"polar\":{\"angularaxis\":{\"gridcolor\":\"#506784\",\"linecolor\":\"#506784\",\"ticks\":\"\"},\"bgcolor\":\"rgb(17,17,17)\",\"radialaxis\":{\"gridcolor\":\"#506784\",\"linecolor\":\"#506784\",\"ticks\":\"\"}},\"scene\":{\"xaxis\":{\"backgroundcolor\":\"rgb(17,17,17)\",\"gridcolor\":\"#506784\",\"gridwidth\":2,\"linecolor\":\"#506784\",\"showbackground\":true,\"ticks\":\"\",\"zerolinecolor\":\"#C8D4E3\"},\"yaxis\":{\"backgroundcolor\":\"rgb(17,17,17)\",\"gridcolor\":\"#506784\",\"gridwidth\":2,\"linecolor\":\"#506784\",\"showbackground\":true,\"ticks\":\"\",\"zerolinecolor\":\"#C8D4E3\"},\"zaxis\":{\"backgroundcolor\":\"rgb(17,17,17)\",\"gridcolor\":\"#506784\",\"gridwidth\":2,\"linecolor\":\"#506784\",\"showbackground\":true,\"ticks\":\"\",\"zerolinecolor\":\"#C8D4E3\"}},\"shapedefaults\":{\"line\":{\"color\":\"#f2f5fa\"}},\"sliderdefaults\":{\"bgcolor\":\"#C8D4E3\",\"bordercolor\":\"rgb(17,17,17)\",\"borderwidth\":1,\"tickwidth\":0},\"ternary\":{\"aaxis\":{\"gridcolor\":\"#506784\",\"linecolor\":\"#506784\",\"ticks\":\"\"},\"baxis\":{\"gridcolor\":\"#506784\",\"linecolor\":\"#506784\",\"ticks\":\"\"},\"bgcolor\":\"rgb(17,17,17)\",\"caxis\":{\"gridcolor\":\"#506784\",\"linecolor\":\"#506784\",\"ticks\":\"\"}},\"title\":{\"x\":0.05},\"updatemenudefaults\":{\"bgcolor\":\"#506784\",\"borderwidth\":0},\"xaxis\":{\"automargin\":true,\"gridcolor\":\"#283442\",\"linecolor\":\"#506784\",\"ticks\":\"\",\"title\":{\"standoff\":15},\"zerolinecolor\":\"#283442\",\"zerolinewidth\":2},\"yaxis\":{\"automargin\":true,\"gridcolor\":\"#283442\",\"linecolor\":\"#506784\",\"ticks\":\"\",\"title\":{\"standoff\":15},\"zerolinecolor\":\"#283442\",\"zerolinewidth\":2}}},\"title\":{\"text\":\"Кривая обучения\"},\"width\":1200,\"height\":600},                        {\"responsive\": true}                    ).then(function(){\n",
              "                            \n",
              "var gd = document.getElementById('5eed7d23-83ea-4068-96ad-61e29a49119f');\n",
              "var x = new MutationObserver(function (mutations, observer) {{\n",
              "        var display = window.getComputedStyle(gd).display;\n",
              "        if (!display || display === 'none') {{\n",
              "            console.log([gd, 'removed!']);\n",
              "            Plotly.purge(gd);\n",
              "            observer.disconnect();\n",
              "        }}\n",
              "}});\n",
              "\n",
              "// Listen for the removal of the full notebook cells\n",
              "var notebookContainer = gd.closest('#notebook-container');\n",
              "if (notebookContainer) {{\n",
              "    x.observe(notebookContainer, {childList: true});\n",
              "}}\n",
              "\n",
              "// Listen for the clearing of the current output cell\n",
              "var outputEl = gd.closest('.output');\n",
              "if (outputEl) {{\n",
              "    x.observe(outputEl, {childList: true});\n",
              "}}\n",
              "\n",
              "                        })                };                            </script>        </div>\n",
              "</body>\n",
              "</html>"
            ]
          },
          "metadata": {}
        }
      ],
      "source": [
        "regr_harm = LinearRegression(learning_rate=0.25,\n",
        "                        epochs=100,batch_size=10,\n",
        "                        n_batches=None)\n",
        "regr_harm.fit(x_train, y_train)\n",
        "\n",
        "print(f'Коэффициент детерминации на тренировочных данных = {regr_harm.score(x_train, y_train):.2f}')\n",
        "regr_harm.plot_cost()"
      ]
    },
    {
      "cell_type": "markdown",
      "source": [
        "Обучение можно считать эффективным и завершённым после первых 10-20 итераций."
      ],
      "metadata": {
        "id": "3SFx7zPL11Y1"
      }
    },
    {
      "cell_type": "markdown",
      "source": [
        "Визуализация модели"
      ],
      "metadata": {
        "id": "wAnclYxFDjlN"
      }
    },
    {
      "cell_type": "code",
      "source": [
        "plot_model_class(x_train, y_train, x_test, x, y_true, regr_harm);"
      ],
      "metadata": {
        "colab": {
          "base_uri": "https://localhost:8080/",
          "height": 617
        },
        "id": "cyavdpCkmApG",
        "outputId": "94acfdde-6e2b-444d-beda-38ce6fb3acbc"
      },
      "execution_count": null,
      "outputs": [
        {
          "output_type": "display_data",
          "data": {
            "text/html": [
              "<html>\n",
              "<head><meta charset=\"utf-8\" /></head>\n",
              "<body>\n",
              "    <div>            <script src=\"https://cdnjs.cloudflare.com/ajax/libs/mathjax/2.7.5/MathJax.js?config=TeX-AMS-MML_SVG\"></script><script type=\"text/javascript\">if (window.MathJax && window.MathJax.Hub && window.MathJax.Hub.Config) {window.MathJax.Hub.Config({SVG: {font: \"STIX-Web\"}});}</script>                <script type=\"text/javascript\">window.PlotlyConfig = {MathJaxConfig: 'local'};</script>\n",
              "        <script charset=\"utf-8\" src=\"https://cdn.plot.ly/plotly-2.35.2.min.js\"></script>                <div id=\"c0647daf-5236-4ad6-973b-a810375fbbac\" class=\"plotly-graph-div\" style=\"height:600px; width:1200px;\"></div>            <script type=\"text/javascript\">                                    window.PLOTLYENV=window.PLOTLYENV || {};                                    if (document.getElementById(\"c0647daf-5236-4ad6-973b-a810375fbbac\")) {                    Plotly.newPlot(                        \"c0647daf-5236-4ad6-973b-a810375fbbac\",                        [{\"marker\":{\"color\":\"Blue\",\"size\":5},\"mode\":\"markers\",\"name\":\"Предсказание на x_test\",\"x\":[0.04864275845245291,0.8717318949578305,0.6362194811532859,0.39221749528184063,0.7665422633556482,0.17857244474527742,0.3836532251490256,0.3059331605412711,1.0156872220654944,0.31899079313911943,0.14607762928177764,0.8465517233413815,0.20909789571439721,0.5385050446476917,0.7165271498113673],\"y\":[-0.9981040602055901,0.8880577694498475,0.34836588721438533,-0.2107803968258226,0.6470089459336872,-0.7003618061100888,-0.23040597406519403,-0.408506513557059,1.2179406838555151,-0.378584106493963,-0.7748257710327386,0.8303557825559782,-0.6304107669122871,0.12444695526777538,0.5323960882380625],\"type\":\"scatter\"},{\"marker\":{\"color\":\"LightSkyBlue\",\"size\":10},\"mode\":\"markers\",\"name\":\"Предсказание на x_train\",\"x\":[0.1935791331541123,0.7414918695374813,0.5495236501799443,0.9522380983100062,0.3049744424524801,1.0112075003926706,0.47759537064635094,0.46092661359718623,0.620375085805519,0.3186017317977882,0.19206075359692815,0.06812186887562248,0.6937917137886659,0.16335707969615926,0.060825016427191375,0.12779814068180767,0.8222343440291981,0.9936706109775585,0.995585693560036,0.2223609967255541,0.16338233821234197,0.2709937630302383,0.45233176577359235,0.6294861682850023,0.5725136657422902,0.021556032019184653,0.9070575387604193,0.5185480476776199,0.6269136986542038,0.1022819986076801,0.5446139582330638,0.19040666040567744,0.6407308530458254,0.03601157510112919,0.3264230755616875],\"y\":[-0.6659730119796585,0.5896043532327429,0.1496968003321919,1.072542925526695,-0.410703477876325,1.207675112786706,-0.01513149020394966,-0.05332902179502419,0.31205743361747307,-0.37947566564456625,-0.6694524766411036,-0.9534664226444658,0.4802963705954977,-0.7352287962173414,-0.9701876305361079,-0.8167143978335611,0.7746309398607747,1.1674881999012914,1.17187673512488,-0.6000175157313501,-0.7351709146988222,-0.4885723958699617,-0.07302466978448585,0.33293606660807074,0.20237990340531575,-1.0601750403981658,0.9690087600452768,0.07871420986997135,0.3270410865744857,-0.8751862826948068,0.13844592465560313,-0.6732429378459208,0.3587039868025008,-1.0270492313225343,-0.3615525520839683],\"type\":\"scatter\"},{\"marker\":{\"color\":\"Red\",\"size\":5},\"mode\":\"markers\",\"name\":\"Тренировочные данные\",\"x\":[0.1935791331541123,0.7414918695374813,0.5495236501799443,0.9522380983100062,0.3049744424524801,1.0112075003926706,0.47759537064635094,0.46092661359718623,0.620375085805519,0.3186017317977882,0.19206075359692815,0.06812186887562248,0.6937917137886659,0.16335707969615926,0.060825016427191375,0.12779814068180767,0.8222343440291981,0.9936706109775585,0.995585693560036,0.2223609967255541,0.16338233821234197,0.2709937630302383,0.45233176577359235,0.6294861682850023,0.5725136657422902,0.021556032019184653,0.9070575387604193,0.5185480476776199,0.6269136986542038,0.1022819986076801,0.5446139582330638,0.19040666040567744,0.6407308530458254,0.03601157510112919,0.3264230755616875],\"y\":[-0.6574288402766963,0.5605193359905387,0.3066158284476615,0.9480843377216104,-0.4821154209074536,0.9394337392365557,0.04737282835006827,0.1395163319596294,0.46753304271136953,-0.31664189321495323,-0.7894266317358266,-1.0695970167815658,0.6262157405693716,-0.7437527019770642,-0.9599255756172168,-0.8859000499605691,0.9317182013142993,1.0891567539494484,1.0300655847773865,-0.5631752750991205,-0.9543714462911532,-0.623764926829987,0.05901735971355149,0.23356862394593314,0.4911769631659647,-0.8919117320329665,0.8995096788589202,0.27875626526021086,0.6451479777470205,-0.9502612944387703,0.1915022876684118,-0.7636436939258158,0.5338723871011308,-0.9368676927689883,-0.41119053998701494],\"type\":\"scatter\"},{\"marker\":{\"color\":\"green\",\"size\":10},\"mode\":\"lines+markers\",\"name\":\"Истинные значения\",\"opacity\":0.7,\"x\":[0.021556032019184653,0.03601157510112919,0.04864275845245291,0.060825016427191375,0.06812186887562248,0.1022819986076801,0.12779814068180767,0.14607762928177764,0.16335707969615926,0.16338233821234197,0.17857244474527742,0.19040666040567744,0.19206075359692815,0.1935791331541123,0.20909789571439721,0.2223609967255541,0.2709937630302383,0.3049744424524801,0.3059331605412711,0.3186017317977882,0.31899079313911943,0.3264230755616875,0.3836532251490256,0.39221749528184063,0.45233176577359235,0.46092661359718623,0.47759537064635094,0.5185480476776199,0.5385050446476917,0.5446139582330638,0.5495236501799443,0.5725136657422902,0.620375085805519,0.6269136986542038,0.6294861682850023,0.6362194811532859,0.6407308530458254,0.6937917137886659,0.7165271498113673,0.7414918695374813,0.7665422633556482,0.8222343440291981,0.8465517233413815,0.8717318949578305,0.9070575387604193,0.9522380983100062,0.9936706109775585,0.995585693560036,1.0112075003926706,1.0156872220654944],\"y\":[-0.9657583900325075,-0.9540045208879854,-0.9423221059768387,-0.9298152060582879,-0.9217448177448232,-0.8782768735992994,-0.8398361728645903,-0.8092645826539571,-0.7781145309339104,-0.7780674307548798,-0.748932228711473,-0.7251354658841841,-0.7217344317052308,-0.7185964691607831,-0.6856619709723478,-0.6563032870107404,-0.5398431745077231,-0.45119418332233213,-0.4486166957183381,-0.41419640592718915,-0.4131289929563197,-0.3926246423206332,-0.22853411490479733,-0.20321374411641238,-0.02223522252586832,0.003892329102547121,0.054573840508101656,0.17840297547100842,0.237944194983681,0.2560142631289242,0.2704762678968201,0.33737330651936775,0.47111564662236466,0.48868361216561984,0.4955431343549076,0.5133537979793605,0.5251676802773138,0.6561164756159583,0.7071648567914334,0.7592762274506281,0.8071086320415715,0.8960069441631247,0.9267369217601253,0.9530868009971594,0.980359039148239,0.998260042080064,0.997616542179241,0.997190473811418,0.9924097596132596,0.9906106557332874],\"type\":\"scatter\"}],                        {\"template\":{\"data\":{\"barpolar\":[{\"marker\":{\"line\":{\"color\":\"rgb(17,17,17)\",\"width\":0.5},\"pattern\":{\"fillmode\":\"overlay\",\"size\":10,\"solidity\":0.2}},\"type\":\"barpolar\"}],\"bar\":[{\"error_x\":{\"color\":\"#f2f5fa\"},\"error_y\":{\"color\":\"#f2f5fa\"},\"marker\":{\"line\":{\"color\":\"rgb(17,17,17)\",\"width\":0.5},\"pattern\":{\"fillmode\":\"overlay\",\"size\":10,\"solidity\":0.2}},\"type\":\"bar\"}],\"carpet\":[{\"aaxis\":{\"endlinecolor\":\"#A2B1C6\",\"gridcolor\":\"#506784\",\"linecolor\":\"#506784\",\"minorgridcolor\":\"#506784\",\"startlinecolor\":\"#A2B1C6\"},\"baxis\":{\"endlinecolor\":\"#A2B1C6\",\"gridcolor\":\"#506784\",\"linecolor\":\"#506784\",\"minorgridcolor\":\"#506784\",\"startlinecolor\":\"#A2B1C6\"},\"type\":\"carpet\"}],\"choropleth\":[{\"colorbar\":{\"outlinewidth\":0,\"ticks\":\"\"},\"type\":\"choropleth\"}],\"contourcarpet\":[{\"colorbar\":{\"outlinewidth\":0,\"ticks\":\"\"},\"type\":\"contourcarpet\"}],\"contour\":[{\"colorbar\":{\"outlinewidth\":0,\"ticks\":\"\"},\"colorscale\":[[0.0,\"#0d0887\"],[0.1111111111111111,\"#46039f\"],[0.2222222222222222,\"#7201a8\"],[0.3333333333333333,\"#9c179e\"],[0.4444444444444444,\"#bd3786\"],[0.5555555555555556,\"#d8576b\"],[0.6666666666666666,\"#ed7953\"],[0.7777777777777778,\"#fb9f3a\"],[0.8888888888888888,\"#fdca26\"],[1.0,\"#f0f921\"]],\"type\":\"contour\"}],\"heatmapgl\":[{\"colorbar\":{\"outlinewidth\":0,\"ticks\":\"\"},\"colorscale\":[[0.0,\"#0d0887\"],[0.1111111111111111,\"#46039f\"],[0.2222222222222222,\"#7201a8\"],[0.3333333333333333,\"#9c179e\"],[0.4444444444444444,\"#bd3786\"],[0.5555555555555556,\"#d8576b\"],[0.6666666666666666,\"#ed7953\"],[0.7777777777777778,\"#fb9f3a\"],[0.8888888888888888,\"#fdca26\"],[1.0,\"#f0f921\"]],\"type\":\"heatmapgl\"}],\"heatmap\":[{\"colorbar\":{\"outlinewidth\":0,\"ticks\":\"\"},\"colorscale\":[[0.0,\"#0d0887\"],[0.1111111111111111,\"#46039f\"],[0.2222222222222222,\"#7201a8\"],[0.3333333333333333,\"#9c179e\"],[0.4444444444444444,\"#bd3786\"],[0.5555555555555556,\"#d8576b\"],[0.6666666666666666,\"#ed7953\"],[0.7777777777777778,\"#fb9f3a\"],[0.8888888888888888,\"#fdca26\"],[1.0,\"#f0f921\"]],\"type\":\"heatmap\"}],\"histogram2dcontour\":[{\"colorbar\":{\"outlinewidth\":0,\"ticks\":\"\"},\"colorscale\":[[0.0,\"#0d0887\"],[0.1111111111111111,\"#46039f\"],[0.2222222222222222,\"#7201a8\"],[0.3333333333333333,\"#9c179e\"],[0.4444444444444444,\"#bd3786\"],[0.5555555555555556,\"#d8576b\"],[0.6666666666666666,\"#ed7953\"],[0.7777777777777778,\"#fb9f3a\"],[0.8888888888888888,\"#fdca26\"],[1.0,\"#f0f921\"]],\"type\":\"histogram2dcontour\"}],\"histogram2d\":[{\"colorbar\":{\"outlinewidth\":0,\"ticks\":\"\"},\"colorscale\":[[0.0,\"#0d0887\"],[0.1111111111111111,\"#46039f\"],[0.2222222222222222,\"#7201a8\"],[0.3333333333333333,\"#9c179e\"],[0.4444444444444444,\"#bd3786\"],[0.5555555555555556,\"#d8576b\"],[0.6666666666666666,\"#ed7953\"],[0.7777777777777778,\"#fb9f3a\"],[0.8888888888888888,\"#fdca26\"],[1.0,\"#f0f921\"]],\"type\":\"histogram2d\"}],\"histogram\":[{\"marker\":{\"pattern\":{\"fillmode\":\"overlay\",\"size\":10,\"solidity\":0.2}},\"type\":\"histogram\"}],\"mesh3d\":[{\"colorbar\":{\"outlinewidth\":0,\"ticks\":\"\"},\"type\":\"mesh3d\"}],\"parcoords\":[{\"line\":{\"colorbar\":{\"outlinewidth\":0,\"ticks\":\"\"}},\"type\":\"parcoords\"}],\"pie\":[{\"automargin\":true,\"type\":\"pie\"}],\"scatter3d\":[{\"line\":{\"colorbar\":{\"outlinewidth\":0,\"ticks\":\"\"}},\"marker\":{\"colorbar\":{\"outlinewidth\":0,\"ticks\":\"\"}},\"type\":\"scatter3d\"}],\"scattercarpet\":[{\"marker\":{\"colorbar\":{\"outlinewidth\":0,\"ticks\":\"\"}},\"type\":\"scattercarpet\"}],\"scattergeo\":[{\"marker\":{\"colorbar\":{\"outlinewidth\":0,\"ticks\":\"\"}},\"type\":\"scattergeo\"}],\"scattergl\":[{\"marker\":{\"line\":{\"color\":\"#283442\"}},\"type\":\"scattergl\"}],\"scattermapbox\":[{\"marker\":{\"colorbar\":{\"outlinewidth\":0,\"ticks\":\"\"}},\"type\":\"scattermapbox\"}],\"scatterpolargl\":[{\"marker\":{\"colorbar\":{\"outlinewidth\":0,\"ticks\":\"\"}},\"type\":\"scatterpolargl\"}],\"scatterpolar\":[{\"marker\":{\"colorbar\":{\"outlinewidth\":0,\"ticks\":\"\"}},\"type\":\"scatterpolar\"}],\"scatter\":[{\"marker\":{\"line\":{\"color\":\"#283442\"}},\"type\":\"scatter\"}],\"scatterternary\":[{\"marker\":{\"colorbar\":{\"outlinewidth\":0,\"ticks\":\"\"}},\"type\":\"scatterternary\"}],\"surface\":[{\"colorbar\":{\"outlinewidth\":0,\"ticks\":\"\"},\"colorscale\":[[0.0,\"#0d0887\"],[0.1111111111111111,\"#46039f\"],[0.2222222222222222,\"#7201a8\"],[0.3333333333333333,\"#9c179e\"],[0.4444444444444444,\"#bd3786\"],[0.5555555555555556,\"#d8576b\"],[0.6666666666666666,\"#ed7953\"],[0.7777777777777778,\"#fb9f3a\"],[0.8888888888888888,\"#fdca26\"],[1.0,\"#f0f921\"]],\"type\":\"surface\"}],\"table\":[{\"cells\":{\"fill\":{\"color\":\"#506784\"},\"line\":{\"color\":\"rgb(17,17,17)\"}},\"header\":{\"fill\":{\"color\":\"#2a3f5f\"},\"line\":{\"color\":\"rgb(17,17,17)\"}},\"type\":\"table\"}]},\"layout\":{\"annotationdefaults\":{\"arrowcolor\":\"#f2f5fa\",\"arrowhead\":0,\"arrowwidth\":1},\"autotypenumbers\":\"strict\",\"coloraxis\":{\"colorbar\":{\"outlinewidth\":0,\"ticks\":\"\"}},\"colorscale\":{\"diverging\":[[0,\"#8e0152\"],[0.1,\"#c51b7d\"],[0.2,\"#de77ae\"],[0.3,\"#f1b6da\"],[0.4,\"#fde0ef\"],[0.5,\"#f7f7f7\"],[0.6,\"#e6f5d0\"],[0.7,\"#b8e186\"],[0.8,\"#7fbc41\"],[0.9,\"#4d9221\"],[1,\"#276419\"]],\"sequential\":[[0.0,\"#0d0887\"],[0.1111111111111111,\"#46039f\"],[0.2222222222222222,\"#7201a8\"],[0.3333333333333333,\"#9c179e\"],[0.4444444444444444,\"#bd3786\"],[0.5555555555555556,\"#d8576b\"],[0.6666666666666666,\"#ed7953\"],[0.7777777777777778,\"#fb9f3a\"],[0.8888888888888888,\"#fdca26\"],[1.0,\"#f0f921\"]],\"sequentialminus\":[[0.0,\"#0d0887\"],[0.1111111111111111,\"#46039f\"],[0.2222222222222222,\"#7201a8\"],[0.3333333333333333,\"#9c179e\"],[0.4444444444444444,\"#bd3786\"],[0.5555555555555556,\"#d8576b\"],[0.6666666666666666,\"#ed7953\"],[0.7777777777777778,\"#fb9f3a\"],[0.8888888888888888,\"#fdca26\"],[1.0,\"#f0f921\"]]},\"colorway\":[\"#636efa\",\"#EF553B\",\"#00cc96\",\"#ab63fa\",\"#FFA15A\",\"#19d3f3\",\"#FF6692\",\"#B6E880\",\"#FF97FF\",\"#FECB52\"],\"font\":{\"color\":\"#f2f5fa\"},\"geo\":{\"bgcolor\":\"rgb(17,17,17)\",\"lakecolor\":\"rgb(17,17,17)\",\"landcolor\":\"rgb(17,17,17)\",\"showlakes\":true,\"showland\":true,\"subunitcolor\":\"#506784\"},\"hoverlabel\":{\"align\":\"left\"},\"hovermode\":\"closest\",\"mapbox\":{\"style\":\"dark\"},\"paper_bgcolor\":\"rgb(17,17,17)\",\"plot_bgcolor\":\"rgb(17,17,17)\",\"polar\":{\"angularaxis\":{\"gridcolor\":\"#506784\",\"linecolor\":\"#506784\",\"ticks\":\"\"},\"bgcolor\":\"rgb(17,17,17)\",\"radialaxis\":{\"gridcolor\":\"#506784\",\"linecolor\":\"#506784\",\"ticks\":\"\"}},\"scene\":{\"xaxis\":{\"backgroundcolor\":\"rgb(17,17,17)\",\"gridcolor\":\"#506784\",\"gridwidth\":2,\"linecolor\":\"#506784\",\"showbackground\":true,\"ticks\":\"\",\"zerolinecolor\":\"#C8D4E3\"},\"yaxis\":{\"backgroundcolor\":\"rgb(17,17,17)\",\"gridcolor\":\"#506784\",\"gridwidth\":2,\"linecolor\":\"#506784\",\"showbackground\":true,\"ticks\":\"\",\"zerolinecolor\":\"#C8D4E3\"},\"zaxis\":{\"backgroundcolor\":\"rgb(17,17,17)\",\"gridcolor\":\"#506784\",\"gridwidth\":2,\"linecolor\":\"#506784\",\"showbackground\":true,\"ticks\":\"\",\"zerolinecolor\":\"#C8D4E3\"}},\"shapedefaults\":{\"line\":{\"color\":\"#f2f5fa\"}},\"sliderdefaults\":{\"bgcolor\":\"#C8D4E3\",\"bordercolor\":\"rgb(17,17,17)\",\"borderwidth\":1,\"tickwidth\":0},\"ternary\":{\"aaxis\":{\"gridcolor\":\"#506784\",\"linecolor\":\"#506784\",\"ticks\":\"\"},\"baxis\":{\"gridcolor\":\"#506784\",\"linecolor\":\"#506784\",\"ticks\":\"\"},\"bgcolor\":\"rgb(17,17,17)\",\"caxis\":{\"gridcolor\":\"#506784\",\"linecolor\":\"#506784\",\"ticks\":\"\"}},\"title\":{\"x\":0.05},\"updatemenudefaults\":{\"bgcolor\":\"#506784\",\"borderwidth\":0},\"xaxis\":{\"automargin\":true,\"gridcolor\":\"#283442\",\"linecolor\":\"#506784\",\"ticks\":\"\",\"title\":{\"standoff\":15},\"zerolinecolor\":\"#283442\",\"zerolinewidth\":2},\"yaxis\":{\"automargin\":true,\"gridcolor\":\"#283442\",\"linecolor\":\"#506784\",\"ticks\":\"\",\"title\":{\"standoff\":15},\"zerolinecolor\":\"#283442\",\"zerolinewidth\":2}}},\"title\":{\"text\":\"Предсказание модели\"},\"width\":1200,\"height\":600},                        {\"responsive\": true}                    ).then(function(){\n",
              "                            \n",
              "var gd = document.getElementById('c0647daf-5236-4ad6-973b-a810375fbbac');\n",
              "var x = new MutationObserver(function (mutations, observer) {{\n",
              "        var display = window.getComputedStyle(gd).display;\n",
              "        if (!display || display === 'none') {{\n",
              "            console.log([gd, 'removed!']);\n",
              "            Plotly.purge(gd);\n",
              "            observer.disconnect();\n",
              "        }}\n",
              "}});\n",
              "\n",
              "// Listen for the removal of the full notebook cells\n",
              "var notebookContainer = gd.closest('#notebook-container');\n",
              "if (notebookContainer) {{\n",
              "    x.observe(notebookContainer, {childList: true});\n",
              "}}\n",
              "\n",
              "// Listen for the clearing of the current output cell\n",
              "var outputEl = gd.closest('.output');\n",
              "if (outputEl) {{\n",
              "    x.observe(outputEl, {childList: true});\n",
              "}}\n",
              "\n",
              "                        })                };                            </script>        </div>\n",
              "</body>\n",
              "</html>"
            ]
          },
          "metadata": {}
        }
      ]
    },
    {
      "cell_type": "markdown",
      "source": [
        "Предсказанные значения распределены немного дальше истинных значений."
      ],
      "metadata": {
        "id": "HmdhCW9O18JS"
      }
    },
    {
      "cell_type": "markdown",
      "metadata": {
        "id": "TvS8_7lzbNad"
      },
      "source": [
        "## Полиномиальная регрессия\n"
      ]
    },
    {
      "cell_type": "markdown",
      "metadata": {
        "id": "itL7DtjLbNae"
      },
      "source": [
        "Создадим набор данных с десятой степенью полиномов."
      ]
    },
    {
      "cell_type": "code",
      "execution_count": null,
      "metadata": {
        "id": "diILDAYkbNae",
        "outputId": "5a182ac2-bb6c-4b8e-ec35-11ba6a0403eb",
        "colab": {
          "base_uri": "https://localhost:8080/",
          "height": 175
        }
      },
      "outputs": [
        {
          "output_type": "execute_result",
          "data": {
            "text/plain": [
              "           0         1         2         3             4             5  \\\n",
              "31  0.190407  0.036255  0.006903  0.001314  2.502711e-04  4.765328e-05   \n",
              "32  0.640731  0.410536  0.263043  0.168540  1.079887e-01  6.919167e-02   \n",
              "33  0.036012  0.001297  0.000047  0.000002  6.056345e-08  2.180985e-09   \n",
              "34  0.326423  0.106552  0.034781  0.011353  3.705990e-03  1.209721e-03   \n",
              "\n",
              "               6             7             8             9  \n",
              "31  9.073502e-06  1.727655e-06  3.289571e-07  6.263562e-08  \n",
              "32  4.433324e-02  2.840567e-02  1.820039e-02  1.166155e-02  \n",
              "33  7.854071e-11  2.828375e-12  1.018542e-13  3.667931e-15  \n",
              "34  3.948808e-04  1.288982e-04  4.207534e-05  1.373436e-05  "
            ],
            "text/html": [
              "\n",
              "  <div id=\"df-9c6f35d7-b542-4f08-8e25-6c63931c63a3\" class=\"colab-df-container\">\n",
              "    <div>\n",
              "<style scoped>\n",
              "    .dataframe tbody tr th:only-of-type {\n",
              "        vertical-align: middle;\n",
              "    }\n",
              "\n",
              "    .dataframe tbody tr th {\n",
              "        vertical-align: top;\n",
              "    }\n",
              "\n",
              "    .dataframe thead th {\n",
              "        text-align: right;\n",
              "    }\n",
              "</style>\n",
              "<table border=\"1\" class=\"dataframe\">\n",
              "  <thead>\n",
              "    <tr style=\"text-align: right;\">\n",
              "      <th></th>\n",
              "      <th>0</th>\n",
              "      <th>1</th>\n",
              "      <th>2</th>\n",
              "      <th>3</th>\n",
              "      <th>4</th>\n",
              "      <th>5</th>\n",
              "      <th>6</th>\n",
              "      <th>7</th>\n",
              "      <th>8</th>\n",
              "      <th>9</th>\n",
              "    </tr>\n",
              "  </thead>\n",
              "  <tbody>\n",
              "    <tr>\n",
              "      <th>31</th>\n",
              "      <td>0.190407</td>\n",
              "      <td>0.036255</td>\n",
              "      <td>0.006903</td>\n",
              "      <td>0.001314</td>\n",
              "      <td>2.502711e-04</td>\n",
              "      <td>4.765328e-05</td>\n",
              "      <td>9.073502e-06</td>\n",
              "      <td>1.727655e-06</td>\n",
              "      <td>3.289571e-07</td>\n",
              "      <td>6.263562e-08</td>\n",
              "    </tr>\n",
              "    <tr>\n",
              "      <th>32</th>\n",
              "      <td>0.640731</td>\n",
              "      <td>0.410536</td>\n",
              "      <td>0.263043</td>\n",
              "      <td>0.168540</td>\n",
              "      <td>1.079887e-01</td>\n",
              "      <td>6.919167e-02</td>\n",
              "      <td>4.433324e-02</td>\n",
              "      <td>2.840567e-02</td>\n",
              "      <td>1.820039e-02</td>\n",
              "      <td>1.166155e-02</td>\n",
              "    </tr>\n",
              "    <tr>\n",
              "      <th>33</th>\n",
              "      <td>0.036012</td>\n",
              "      <td>0.001297</td>\n",
              "      <td>0.000047</td>\n",
              "      <td>0.000002</td>\n",
              "      <td>6.056345e-08</td>\n",
              "      <td>2.180985e-09</td>\n",
              "      <td>7.854071e-11</td>\n",
              "      <td>2.828375e-12</td>\n",
              "      <td>1.018542e-13</td>\n",
              "      <td>3.667931e-15</td>\n",
              "    </tr>\n",
              "    <tr>\n",
              "      <th>34</th>\n",
              "      <td>0.326423</td>\n",
              "      <td>0.106552</td>\n",
              "      <td>0.034781</td>\n",
              "      <td>0.011353</td>\n",
              "      <td>3.705990e-03</td>\n",
              "      <td>1.209721e-03</td>\n",
              "      <td>3.948808e-04</td>\n",
              "      <td>1.288982e-04</td>\n",
              "      <td>4.207534e-05</td>\n",
              "      <td>1.373436e-05</td>\n",
              "    </tr>\n",
              "  </tbody>\n",
              "</table>\n",
              "</div>\n",
              "    <div class=\"colab-df-buttons\">\n",
              "\n",
              "  <div class=\"colab-df-container\">\n",
              "    <button class=\"colab-df-convert\" onclick=\"convertToInteractive('df-9c6f35d7-b542-4f08-8e25-6c63931c63a3')\"\n",
              "            title=\"Convert this dataframe to an interactive table.\"\n",
              "            style=\"display:none;\">\n",
              "\n",
              "  <svg xmlns=\"http://www.w3.org/2000/svg\" height=\"24px\" viewBox=\"0 -960 960 960\">\n",
              "    <path d=\"M120-120v-720h720v720H120Zm60-500h600v-160H180v160Zm220 220h160v-160H400v160Zm0 220h160v-160H400v160ZM180-400h160v-160H180v160Zm440 0h160v-160H620v160ZM180-180h160v-160H180v160Zm440 0h160v-160H620v160Z\"/>\n",
              "  </svg>\n",
              "    </button>\n",
              "\n",
              "  <style>\n",
              "    .colab-df-container {\n",
              "      display:flex;\n",
              "      gap: 12px;\n",
              "    }\n",
              "\n",
              "    .colab-df-convert {\n",
              "      background-color: #E8F0FE;\n",
              "      border: none;\n",
              "      border-radius: 50%;\n",
              "      cursor: pointer;\n",
              "      display: none;\n",
              "      fill: #1967D2;\n",
              "      height: 32px;\n",
              "      padding: 0 0 0 0;\n",
              "      width: 32px;\n",
              "    }\n",
              "\n",
              "    .colab-df-convert:hover {\n",
              "      background-color: #E2EBFA;\n",
              "      box-shadow: 0px 1px 2px rgba(60, 64, 67, 0.3), 0px 1px 3px 1px rgba(60, 64, 67, 0.15);\n",
              "      fill: #174EA6;\n",
              "    }\n",
              "\n",
              "    .colab-df-buttons div {\n",
              "      margin-bottom: 4px;\n",
              "    }\n",
              "\n",
              "    [theme=dark] .colab-df-convert {\n",
              "      background-color: #3B4455;\n",
              "      fill: #D2E3FC;\n",
              "    }\n",
              "\n",
              "    [theme=dark] .colab-df-convert:hover {\n",
              "      background-color: #434B5C;\n",
              "      box-shadow: 0px 1px 3px 1px rgba(0, 0, 0, 0.15);\n",
              "      filter: drop-shadow(0px 1px 2px rgba(0, 0, 0, 0.3));\n",
              "      fill: #FFFFFF;\n",
              "    }\n",
              "  </style>\n",
              "\n",
              "    <script>\n",
              "      const buttonEl =\n",
              "        document.querySelector('#df-9c6f35d7-b542-4f08-8e25-6c63931c63a3 button.colab-df-convert');\n",
              "      buttonEl.style.display =\n",
              "        google.colab.kernel.accessAllowed ? 'block' : 'none';\n",
              "\n",
              "      async function convertToInteractive(key) {\n",
              "        const element = document.querySelector('#df-9c6f35d7-b542-4f08-8e25-6c63931c63a3');\n",
              "        const dataTable =\n",
              "          await google.colab.kernel.invokeFunction('convertToInteractive',\n",
              "                                                    [key], {});\n",
              "        if (!dataTable) return;\n",
              "\n",
              "        const docLinkHtml = 'Like what you see? Visit the ' +\n",
              "          '<a target=\"_blank\" href=https://colab.research.google.com/notebooks/data_table.ipynb>data table notebook</a>'\n",
              "          + ' to learn more about interactive tables.';\n",
              "        element.innerHTML = '';\n",
              "        dataTable['output_type'] = 'display_data';\n",
              "        await google.colab.output.renderOutput(dataTable, element);\n",
              "        const docLink = document.createElement('div');\n",
              "        docLink.innerHTML = docLinkHtml;\n",
              "        element.appendChild(docLink);\n",
              "      }\n",
              "    </script>\n",
              "  </div>\n",
              "\n",
              "\n",
              "    <div id=\"df-950159b2-a421-48b6-a7f1-d108642c7dcd\">\n",
              "      <button class=\"colab-df-quickchart\" onclick=\"quickchart('df-950159b2-a421-48b6-a7f1-d108642c7dcd')\"\n",
              "                title=\"Suggest charts\"\n",
              "                style=\"display:none;\">\n",
              "\n",
              "<svg xmlns=\"http://www.w3.org/2000/svg\" height=\"24px\"viewBox=\"0 0 24 24\"\n",
              "     width=\"24px\">\n",
              "    <g>\n",
              "        <path d=\"M19 3H5c-1.1 0-2 .9-2 2v14c0 1.1.9 2 2 2h14c1.1 0 2-.9 2-2V5c0-1.1-.9-2-2-2zM9 17H7v-7h2v7zm4 0h-2V7h2v10zm4 0h-2v-4h2v4z\"/>\n",
              "    </g>\n",
              "</svg>\n",
              "      </button>\n",
              "\n",
              "<style>\n",
              "  .colab-df-quickchart {\n",
              "      --bg-color: #E8F0FE;\n",
              "      --fill-color: #1967D2;\n",
              "      --hover-bg-color: #E2EBFA;\n",
              "      --hover-fill-color: #174EA6;\n",
              "      --disabled-fill-color: #AAA;\n",
              "      --disabled-bg-color: #DDD;\n",
              "  }\n",
              "\n",
              "  [theme=dark] .colab-df-quickchart {\n",
              "      --bg-color: #3B4455;\n",
              "      --fill-color: #D2E3FC;\n",
              "      --hover-bg-color: #434B5C;\n",
              "      --hover-fill-color: #FFFFFF;\n",
              "      --disabled-bg-color: #3B4455;\n",
              "      --disabled-fill-color: #666;\n",
              "  }\n",
              "\n",
              "  .colab-df-quickchart {\n",
              "    background-color: var(--bg-color);\n",
              "    border: none;\n",
              "    border-radius: 50%;\n",
              "    cursor: pointer;\n",
              "    display: none;\n",
              "    fill: var(--fill-color);\n",
              "    height: 32px;\n",
              "    padding: 0;\n",
              "    width: 32px;\n",
              "  }\n",
              "\n",
              "  .colab-df-quickchart:hover {\n",
              "    background-color: var(--hover-bg-color);\n",
              "    box-shadow: 0 1px 2px rgba(60, 64, 67, 0.3), 0 1px 3px 1px rgba(60, 64, 67, 0.15);\n",
              "    fill: var(--button-hover-fill-color);\n",
              "  }\n",
              "\n",
              "  .colab-df-quickchart-complete:disabled,\n",
              "  .colab-df-quickchart-complete:disabled:hover {\n",
              "    background-color: var(--disabled-bg-color);\n",
              "    fill: var(--disabled-fill-color);\n",
              "    box-shadow: none;\n",
              "  }\n",
              "\n",
              "  .colab-df-spinner {\n",
              "    border: 2px solid var(--fill-color);\n",
              "    border-color: transparent;\n",
              "    border-bottom-color: var(--fill-color);\n",
              "    animation:\n",
              "      spin 1s steps(1) infinite;\n",
              "  }\n",
              "\n",
              "  @keyframes spin {\n",
              "    0% {\n",
              "      border-color: transparent;\n",
              "      border-bottom-color: var(--fill-color);\n",
              "      border-left-color: var(--fill-color);\n",
              "    }\n",
              "    20% {\n",
              "      border-color: transparent;\n",
              "      border-left-color: var(--fill-color);\n",
              "      border-top-color: var(--fill-color);\n",
              "    }\n",
              "    30% {\n",
              "      border-color: transparent;\n",
              "      border-left-color: var(--fill-color);\n",
              "      border-top-color: var(--fill-color);\n",
              "      border-right-color: var(--fill-color);\n",
              "    }\n",
              "    40% {\n",
              "      border-color: transparent;\n",
              "      border-right-color: var(--fill-color);\n",
              "      border-top-color: var(--fill-color);\n",
              "    }\n",
              "    60% {\n",
              "      border-color: transparent;\n",
              "      border-right-color: var(--fill-color);\n",
              "    }\n",
              "    80% {\n",
              "      border-color: transparent;\n",
              "      border-right-color: var(--fill-color);\n",
              "      border-bottom-color: var(--fill-color);\n",
              "    }\n",
              "    90% {\n",
              "      border-color: transparent;\n",
              "      border-bottom-color: var(--fill-color);\n",
              "    }\n",
              "  }\n",
              "</style>\n",
              "\n",
              "      <script>\n",
              "        async function quickchart(key) {\n",
              "          const quickchartButtonEl =\n",
              "            document.querySelector('#' + key + ' button');\n",
              "          quickchartButtonEl.disabled = true;  // To prevent multiple clicks.\n",
              "          quickchartButtonEl.classList.add('colab-df-spinner');\n",
              "          try {\n",
              "            const charts = await google.colab.kernel.invokeFunction(\n",
              "                'suggestCharts', [key], {});\n",
              "          } catch (error) {\n",
              "            console.error('Error during call to suggestCharts:', error);\n",
              "          }\n",
              "          quickchartButtonEl.classList.remove('colab-df-spinner');\n",
              "          quickchartButtonEl.classList.add('colab-df-quickchart-complete');\n",
              "        }\n",
              "        (() => {\n",
              "          let quickchartButtonEl =\n",
              "            document.querySelector('#df-950159b2-a421-48b6-a7f1-d108642c7dcd button');\n",
              "          quickchartButtonEl.style.display =\n",
              "            google.colab.kernel.accessAllowed ? 'block' : 'none';\n",
              "        })();\n",
              "      </script>\n",
              "    </div>\n",
              "    </div>\n",
              "  </div>\n"
            ],
            "application/vnd.google.colaboratory.intrinsic+json": {
              "type": "dataframe",
              "summary": "{\n  \"name\": \"pd\",\n  \"rows\": 4,\n  \"fields\": [\n    {\n      \"column\": 0,\n      \"properties\": {\n        \"dtype\": \"number\",\n        \"std\": 0.25721971958810785,\n        \"min\": 0.03601157510112919,\n        \"max\": 0.6407308530458254,\n        \"num_unique_values\": 4,\n        \"samples\": [\n          0.6407308530458254,\n          0.3264230755616875,\n          0.19040666040567744\n        ],\n        \"semantic_type\": \"\",\n        \"description\": \"\"\n      }\n    },\n    {\n      \"column\": 1,\n      \"properties\": {\n        \"dtype\": \"number\",\n        \"std\": 0.18646088183496862,\n        \"min\": 0.001296833541264268,\n        \"max\": 0.41053602604483114,\n        \"num_unique_values\": 4,\n        \"samples\": [\n          0.41053602604483114,\n          0.10655202425915114,\n          0.03625469632684297\n        ],\n        \"semantic_type\": \"\",\n        \"description\": \"\"\n      }\n    },\n    {\n      \"column\": 2,\n      \"properties\": {\n        \"dtype\": \"number\",\n        \"std\": 0.1254687926827988,\n        \"min\": 4.670101846490151e-05,\n        \"max\": 0.2630430981737479,\n        \"num_unique_values\": 4,\n        \"samples\": [\n          0.2630430981737479,\n          0.03478103946599565,\n          0.006903135651616151\n        ],\n        \"semantic_type\": \"\",\n        \"description\": \"\"\n      }\n    },\n    {\n      \"column\": 3,\n      \"properties\": {\n        \"dtype\": \"number\",\n        \"std\": 0.08231464403880591,\n        \"min\": 1.6817772337480218e-06,\n        \"max\": 0.1685398286806823,\n        \"num_unique_values\": 4,\n        \"samples\": [\n          0.1685398286806823,\n          0.011353333873722731,\n          0.0013144030057516015\n        ],\n        \"semantic_type\": \"\",\n        \"description\": \"\"\n      }\n    },\n    {\n      \"column\": 4,\n      \"properties\": {\n        \"dtype\": \"number\",\n        \"std\": 0.05336175053849608,\n        \"min\": 6.056344715648619e-08,\n        \"max\": 0.10798866820277084,\n        \"num_unique_values\": 4,\n        \"samples\": [\n          0.10798866820277084,\n          0.003705990160939261,\n          0.0002502710867523469\n        ],\n        \"semantic_type\": \"\",\n        \"description\": \"\"\n      }\n    },\n    {\n      \"column\": 5,\n      \"properties\": {\n        \"dtype\": \"number\",\n        \"std\": 0.03439082251749046,\n        \"min\": 2.180985125659072e-09,\n        \"max\": 0.06919167149684397,\n        \"num_unique_values\": 4,\n        \"samples\": [\n          0.06919167149684397,\n          0.001209720706335147,\n          4.7653281824613945e-05\n        ],\n        \"semantic_type\": \"\",\n        \"description\": \"\"\n      }\n    },\n    {\n      \"column\": 6,\n      \"properties\": {\n        \"dtype\": \"number\",\n        \"std\": 0.0221000600055257,\n        \"min\": 7.854070964711735e-11,\n        \"max\": 0.04433323870183936,\n        \"num_unique_values\": 4,\n        \"samples\": [\n          0.04433323870183936,\n          0.0003948807535325756,\n          9.07350224959531e-06\n        ],\n        \"semantic_type\": \"\",\n        \"description\": \"\"\n      }\n    },\n    {\n      \"column\": 7,\n      \"properties\": {\n        \"dtype\": \"number\",\n        \"std\": 0.014181194408537228,\n        \"min\": 2.8283746639531486e-12,\n        \"max\": 0.028405673851713737,\n        \"num_unique_values\": 4,\n        \"samples\": [\n          0.028405673851713737,\n          0.00012889819004822,\n          1.7276552615288442e-06\n        ],\n        \"semantic_type\": \"\",\n        \"description\": \"\"\n      }\n    },\n    {\n      \"column\": 8,\n      \"properties\": {\n        \"dtype\": \"number\",\n        \"std\": 0.009093149900020076,\n        \"min\": 1.0185422662507985e-13,\n        \"max\": 0.01820039163835004,\n        \"num_unique_values\": 4,\n        \"samples\": [\n          0.01820039163835004,\n          4.207534362987487e-05,\n          3.289570686800045e-07\n        ],\n        \"semantic_type\": \"\",\n        \"description\": \"\"\n      }\n    },\n    {\n      \"column\": 9,\n      \"properties\": {\n        \"dtype\": \"number\",\n        \"std\": 0.005828480309994188,\n        \"min\": 3.6679311314764954e-15,\n        \"max\": 0.01166155246020813,\n        \"num_unique_values\": 4,\n        \"samples\": [\n          0.01166155246020813,\n          1.3734363072978613e-05,\n          6.263561686420073e-08\n        ],\n        \"semantic_type\": \"\",\n        \"description\": \"\"\n      }\n    }\n  ]\n}"
            }
          },
          "metadata": {},
          "execution_count": 454
        }
      ],
      "source": [
        "order  = 10\n",
        "\n",
        "x_train_ = to_polynom(x_train, order=order) # для тренировочных\n",
        "x_test_  = to_polynom(x_test,  order=order) # для тестовых\n",
        "\n",
        "\n",
        "pd.DataFrame(x_train_).tail(4)"
      ]
    },
    {
      "cell_type": "code",
      "source": [
        "regr_harm_poly = LinearRegression(learning_rate=0.05,\n",
        "                        epochs=300,batch_size=25,\n",
        "                        n_batches=None\n",
        "                        )\n",
        "\n",
        "regr_harm_poly.fit(x_train_, y_train)\n",
        "print(f'Коэффициент детерминации на тестовых данных = {regr_harm_poly.score(x_test_, y_test):.2f}, \\n Коэффициент детерминации на тренировочных данных = {regr_harm_poly.score(x_train_, y_train):.2f}')\n",
        "regr_harm_poly.plot_cost()\n",
        "\n"
      ],
      "metadata": {
        "colab": {
          "base_uri": "https://localhost:8080/",
          "height": 652
        },
        "id": "MX928Lsh7uJG",
        "outputId": "cb6b0ea9-9337-413d-e56b-7524696c39a4"
      },
      "execution_count": null,
      "outputs": [
        {
          "output_type": "stream",
          "name": "stdout",
          "text": [
            "Коэффициент детерминации на тестовых данных = 0.98, \n",
            " Коэффициент детерминации на тренировочных данных = 0.97\n"
          ]
        },
        {
          "output_type": "display_data",
          "data": {
            "text/html": [
              "<html>\n",
              "<head><meta charset=\"utf-8\" /></head>\n",
              "<body>\n",
              "    <div>            <script src=\"https://cdnjs.cloudflare.com/ajax/libs/mathjax/2.7.5/MathJax.js?config=TeX-AMS-MML_SVG\"></script><script type=\"text/javascript\">if (window.MathJax && window.MathJax.Hub && window.MathJax.Hub.Config) {window.MathJax.Hub.Config({SVG: {font: \"STIX-Web\"}});}</script>                <script type=\"text/javascript\">window.PlotlyConfig = {MathJaxConfig: 'local'};</script>\n",
              "        <script charset=\"utf-8\" src=\"https://cdn.plot.ly/plotly-2.35.2.min.js\"></script>                <div id=\"ddb3c622-4b13-4b1d-a696-5d6b96190e24\" class=\"plotly-graph-div\" style=\"height:600px; width:1200px;\"></div>            <script type=\"text/javascript\">                                    window.PLOTLYENV=window.PLOTLYENV || {};                                    if (document.getElementById(\"ddb3c622-4b13-4b1d-a696-5d6b96190e24\")) {                    Plotly.newPlot(                        \"ddb3c622-4b13-4b1d-a696-5d6b96190e24\",                        [{\"mode\":\"lines+markers\",\"name\":\"Реальные данные\",\"y\":[1.6327300691040287,1.0484635406895082,1.111329314545299,0.7698815107258155,0.7633286673144988,0.5379470834678661,0.720069617698208,0.5350086143688684,0.5890677941602616,0.5160569746957933,0.5032968367012995,0.4998201528376967,0.5179015061685572,0.5272861395503632,0.4071522881564674,0.4421412850766286,0.45031955735375334,0.40830207619578995,0.3712791624048998,0.49555440756526437,0.4125788632050098,0.40662074910667634,0.36504115604090376,0.35333661963452195,0.32955362117016507,0.3442743476030382,0.37401185478118903,0.3299692111064843,0.30391078404941513,0.32897661522540456,0.3000913298561343,0.2774951431410698,0.32077677775682023,0.28381487568103064,0.28985175291417115,0.2733008716575138,0.26912392113081013,0.2774109089899325,0.2778001333036687,0.3041807784281348,0.2425941504618207,0.2743474008753534,0.2721231766525009,0.25996829521633363,0.27608141690520077,0.24421610215951242,0.23638818813288048,0.24670013866650412,0.2192125285088627,0.22413391861299226,0.25162796145015276,0.23381004966722524,0.25223580573560705,0.22585405424805444,0.204923677526601,0.1940478333903683,0.17843651766450197,0.20641693955640705,0.19772283520670136,0.21657351000818253,0.1961686456375308,0.20034907795752882,0.17699069235285175,0.19085915911855378,0.19451704762153577,0.17015060039314645,0.15743052077561037,0.17582445132170155,0.1620785085718853,0.18579269229329276,0.17148970049244117,0.16298274396822543,0.16126598052051333,0.1395389459123953,0.13813409721730954,0.15289899372199922,0.1639445173789617,0.14082730442250194,0.1534377848780556,0.1592503194601686,0.14387989838036014,0.13538205710950388,0.14660939126721556,0.14359505509022275,0.14304489797395653,0.13161509473960697,0.12462721413207686,0.13144065930441734,0.12782564017620546,0.11523751291116398,0.11609956982259498,0.11755742889884424,0.12136979044934687,0.1340325442547603,0.1112617316326461,0.12495546327272161,0.10728418975875745,0.1108393906959694,0.11002647253837808,0.12954241907705996,0.11644465993598746,0.11652737763719681,0.09350540157730454,0.09488312387197698,0.10529424445418001,0.10300819826042285,0.09563270550383521,0.08971638868748236,0.09834449647435539,0.09010421148645052,0.10051973736604959,0.10654185474031713,0.08853955005410483,0.09504320950809161,0.09787833348316785,0.10117272408394094,0.10243010872712374,0.085110980618337,0.07347441559483443,0.08565821527696699,0.0796639090702315,0.08750113528410675,0.06963308791014466,0.08411437356423652,0.08130236946531705,0.08102109282116952,0.06908130471264431,0.07223459605647156,0.07453613779271341,0.0669140618002049,0.07850624774054182,0.07318957805460623,0.06378458637355053,0.07139810803105637,0.0777271073727366,0.06835128600551321,0.060051194417274856,0.07357641052754102,0.07435141296665362,0.06883968154860308,0.07403107408024558,0.06707850712081406,0.07563993366033289,0.07239461010956702,0.06670275584624052,0.06362345879723853,0.06556056611993548,0.07230781918647924,0.0634460606920406,0.05425505549089427,0.0625372860462235,0.0576699631613247,0.06435538260582926,0.06582007735453142,0.049378653309363835,0.06007929453623648,0.06367577503913688,0.0574913724127262,0.058869766618690283,0.06303525584496253,0.0565852863886956,0.05728194026018686,0.05755789937024427,0.05547835923420172,0.04471006705828523,0.05135502771873506,0.0450835408123459,0.05949597625937643,0.050695919309217574,0.05225249514398292,0.04444808341601644,0.05835879349074141,0.0553212080641305,0.06040270536799222,0.04616974964270967,0.0485174328771123,0.04889521467175066,0.05016594107244615,0.05522681721256731,0.043144683899650114,0.05395314234004718,0.05234777324289969,0.04340701400791222,0.053377791780844806,0.054326069559411785,0.052140886344494555,0.053637212987638766,0.05290817103727763,0.043990314425782835,0.04288200875979673,0.04897897844241063,0.05077905065005023,0.04692793447188518,0.04528334093399416,0.04757531091920642,0.04356831427151902,0.04332306742434819,0.04094270650100015,0.04371122212757064,0.04083719790893746,0.04502189892278789,0.045580314566335545,0.03600874427702752,0.04436343991110301,0.040990342716038686,0.044216594578754764,0.03543828532468768,0.04256587828773799,0.039860106014979066,0.04287665609452491,0.03920707256023292,0.04489901345883044,0.04333204920022274,0.0413203516256085,0.047803226233229135,0.04231002859216908,0.04293338474615213,0.043915949275616206,0.045495683734673505,0.04467269385915992,0.03999138733484865,0.04177754674193129,0.03976352705421544,0.03851641236606558,0.04026688765331051,0.03756156129348592,0.03902870840717257,0.04322994974887545,0.03476225685227612,0.040633157901755264,0.036516973177925086,0.03843513413369299,0.03508124756425258,0.04041246280577379,0.037945812383110844,0.041432169617517375,0.03726184331289467,0.03736874533137918,0.03589561344298488,0.036369638520541425,0.04006212985090496,0.03703286816267437,0.03785491976449269,0.03328475471480501,0.033516285890937164,0.03935021559185842,0.038026972091288164,0.03744278528767868,0.035604589029911524,0.036732380567017546,0.037888341420366387,0.03108559415835221,0.0355058627608455,0.03136033590519679,0.03418461078806083,0.03637623484895776,0.03879266736741456,0.03216327021586185,0.034542474008676806,0.03397456327980326,0.041417408440198485,0.03358595144441496,0.037402459175546514,0.03903458366904312,0.03465863385107608,0.04208159140491406,0.04192561152020724,0.02918920788734802,0.0379760493471857,0.03379549749335718,0.035697998564393076,0.036596661954174686,0.03622490742390989,0.030762525150955646,0.031230594008657298,0.034733621119777625,0.04016074627079165,0.036859553855547594,0.03256287499048609,0.03653678797594333,0.03382023498964383,0.0353662251274869,0.029249654639956834,0.035123076457071814,0.030155255396910004,0.03389081751094576,0.030716667658882778,0.030277413496563703,0.03000564816894764,0.035329747511468244,0.03000133483155578,0.03688143662761303,0.03207483045142358,0.032529138189928544,0.029400015451459944,0.036563950878482965,0.031968657232408285,0.03339807247429439,0.03558353440564351,0.03186194925147517],\"type\":\"scatter\"}],                        {\"template\":{\"data\":{\"barpolar\":[{\"marker\":{\"line\":{\"color\":\"rgb(17,17,17)\",\"width\":0.5},\"pattern\":{\"fillmode\":\"overlay\",\"size\":10,\"solidity\":0.2}},\"type\":\"barpolar\"}],\"bar\":[{\"error_x\":{\"color\":\"#f2f5fa\"},\"error_y\":{\"color\":\"#f2f5fa\"},\"marker\":{\"line\":{\"color\":\"rgb(17,17,17)\",\"width\":0.5},\"pattern\":{\"fillmode\":\"overlay\",\"size\":10,\"solidity\":0.2}},\"type\":\"bar\"}],\"carpet\":[{\"aaxis\":{\"endlinecolor\":\"#A2B1C6\",\"gridcolor\":\"#506784\",\"linecolor\":\"#506784\",\"minorgridcolor\":\"#506784\",\"startlinecolor\":\"#A2B1C6\"},\"baxis\":{\"endlinecolor\":\"#A2B1C6\",\"gridcolor\":\"#506784\",\"linecolor\":\"#506784\",\"minorgridcolor\":\"#506784\",\"startlinecolor\":\"#A2B1C6\"},\"type\":\"carpet\"}],\"choropleth\":[{\"colorbar\":{\"outlinewidth\":0,\"ticks\":\"\"},\"type\":\"choropleth\"}],\"contourcarpet\":[{\"colorbar\":{\"outlinewidth\":0,\"ticks\":\"\"},\"type\":\"contourcarpet\"}],\"contour\":[{\"colorbar\":{\"outlinewidth\":0,\"ticks\":\"\"},\"colorscale\":[[0.0,\"#0d0887\"],[0.1111111111111111,\"#46039f\"],[0.2222222222222222,\"#7201a8\"],[0.3333333333333333,\"#9c179e\"],[0.4444444444444444,\"#bd3786\"],[0.5555555555555556,\"#d8576b\"],[0.6666666666666666,\"#ed7953\"],[0.7777777777777778,\"#fb9f3a\"],[0.8888888888888888,\"#fdca26\"],[1.0,\"#f0f921\"]],\"type\":\"contour\"}],\"heatmapgl\":[{\"colorbar\":{\"outlinewidth\":0,\"ticks\":\"\"},\"colorscale\":[[0.0,\"#0d0887\"],[0.1111111111111111,\"#46039f\"],[0.2222222222222222,\"#7201a8\"],[0.3333333333333333,\"#9c179e\"],[0.4444444444444444,\"#bd3786\"],[0.5555555555555556,\"#d8576b\"],[0.6666666666666666,\"#ed7953\"],[0.7777777777777778,\"#fb9f3a\"],[0.8888888888888888,\"#fdca26\"],[1.0,\"#f0f921\"]],\"type\":\"heatmapgl\"}],\"heatmap\":[{\"colorbar\":{\"outlinewidth\":0,\"ticks\":\"\"},\"colorscale\":[[0.0,\"#0d0887\"],[0.1111111111111111,\"#46039f\"],[0.2222222222222222,\"#7201a8\"],[0.3333333333333333,\"#9c179e\"],[0.4444444444444444,\"#bd3786\"],[0.5555555555555556,\"#d8576b\"],[0.6666666666666666,\"#ed7953\"],[0.7777777777777778,\"#fb9f3a\"],[0.8888888888888888,\"#fdca26\"],[1.0,\"#f0f921\"]],\"type\":\"heatmap\"}],\"histogram2dcontour\":[{\"colorbar\":{\"outlinewidth\":0,\"ticks\":\"\"},\"colorscale\":[[0.0,\"#0d0887\"],[0.1111111111111111,\"#46039f\"],[0.2222222222222222,\"#7201a8\"],[0.3333333333333333,\"#9c179e\"],[0.4444444444444444,\"#bd3786\"],[0.5555555555555556,\"#d8576b\"],[0.6666666666666666,\"#ed7953\"],[0.7777777777777778,\"#fb9f3a\"],[0.8888888888888888,\"#fdca26\"],[1.0,\"#f0f921\"]],\"type\":\"histogram2dcontour\"}],\"histogram2d\":[{\"colorbar\":{\"outlinewidth\":0,\"ticks\":\"\"},\"colorscale\":[[0.0,\"#0d0887\"],[0.1111111111111111,\"#46039f\"],[0.2222222222222222,\"#7201a8\"],[0.3333333333333333,\"#9c179e\"],[0.4444444444444444,\"#bd3786\"],[0.5555555555555556,\"#d8576b\"],[0.6666666666666666,\"#ed7953\"],[0.7777777777777778,\"#fb9f3a\"],[0.8888888888888888,\"#fdca26\"],[1.0,\"#f0f921\"]],\"type\":\"histogram2d\"}],\"histogram\":[{\"marker\":{\"pattern\":{\"fillmode\":\"overlay\",\"size\":10,\"solidity\":0.2}},\"type\":\"histogram\"}],\"mesh3d\":[{\"colorbar\":{\"outlinewidth\":0,\"ticks\":\"\"},\"type\":\"mesh3d\"}],\"parcoords\":[{\"line\":{\"colorbar\":{\"outlinewidth\":0,\"ticks\":\"\"}},\"type\":\"parcoords\"}],\"pie\":[{\"automargin\":true,\"type\":\"pie\"}],\"scatter3d\":[{\"line\":{\"colorbar\":{\"outlinewidth\":0,\"ticks\":\"\"}},\"marker\":{\"colorbar\":{\"outlinewidth\":0,\"ticks\":\"\"}},\"type\":\"scatter3d\"}],\"scattercarpet\":[{\"marker\":{\"colorbar\":{\"outlinewidth\":0,\"ticks\":\"\"}},\"type\":\"scattercarpet\"}],\"scattergeo\":[{\"marker\":{\"colorbar\":{\"outlinewidth\":0,\"ticks\":\"\"}},\"type\":\"scattergeo\"}],\"scattergl\":[{\"marker\":{\"line\":{\"color\":\"#283442\"}},\"type\":\"scattergl\"}],\"scattermapbox\":[{\"marker\":{\"colorbar\":{\"outlinewidth\":0,\"ticks\":\"\"}},\"type\":\"scattermapbox\"}],\"scatterpolargl\":[{\"marker\":{\"colorbar\":{\"outlinewidth\":0,\"ticks\":\"\"}},\"type\":\"scatterpolargl\"}],\"scatterpolar\":[{\"marker\":{\"colorbar\":{\"outlinewidth\":0,\"ticks\":\"\"}},\"type\":\"scatterpolar\"}],\"scatter\":[{\"marker\":{\"line\":{\"color\":\"#283442\"}},\"type\":\"scatter\"}],\"scatterternary\":[{\"marker\":{\"colorbar\":{\"outlinewidth\":0,\"ticks\":\"\"}},\"type\":\"scatterternary\"}],\"surface\":[{\"colorbar\":{\"outlinewidth\":0,\"ticks\":\"\"},\"colorscale\":[[0.0,\"#0d0887\"],[0.1111111111111111,\"#46039f\"],[0.2222222222222222,\"#7201a8\"],[0.3333333333333333,\"#9c179e\"],[0.4444444444444444,\"#bd3786\"],[0.5555555555555556,\"#d8576b\"],[0.6666666666666666,\"#ed7953\"],[0.7777777777777778,\"#fb9f3a\"],[0.8888888888888888,\"#fdca26\"],[1.0,\"#f0f921\"]],\"type\":\"surface\"}],\"table\":[{\"cells\":{\"fill\":{\"color\":\"#506784\"},\"line\":{\"color\":\"rgb(17,17,17)\"}},\"header\":{\"fill\":{\"color\":\"#2a3f5f\"},\"line\":{\"color\":\"rgb(17,17,17)\"}},\"type\":\"table\"}]},\"layout\":{\"annotationdefaults\":{\"arrowcolor\":\"#f2f5fa\",\"arrowhead\":0,\"arrowwidth\":1},\"autotypenumbers\":\"strict\",\"coloraxis\":{\"colorbar\":{\"outlinewidth\":0,\"ticks\":\"\"}},\"colorscale\":{\"diverging\":[[0,\"#8e0152\"],[0.1,\"#c51b7d\"],[0.2,\"#de77ae\"],[0.3,\"#f1b6da\"],[0.4,\"#fde0ef\"],[0.5,\"#f7f7f7\"],[0.6,\"#e6f5d0\"],[0.7,\"#b8e186\"],[0.8,\"#7fbc41\"],[0.9,\"#4d9221\"],[1,\"#276419\"]],\"sequential\":[[0.0,\"#0d0887\"],[0.1111111111111111,\"#46039f\"],[0.2222222222222222,\"#7201a8\"],[0.3333333333333333,\"#9c179e\"],[0.4444444444444444,\"#bd3786\"],[0.5555555555555556,\"#d8576b\"],[0.6666666666666666,\"#ed7953\"],[0.7777777777777778,\"#fb9f3a\"],[0.8888888888888888,\"#fdca26\"],[1.0,\"#f0f921\"]],\"sequentialminus\":[[0.0,\"#0d0887\"],[0.1111111111111111,\"#46039f\"],[0.2222222222222222,\"#7201a8\"],[0.3333333333333333,\"#9c179e\"],[0.4444444444444444,\"#bd3786\"],[0.5555555555555556,\"#d8576b\"],[0.6666666666666666,\"#ed7953\"],[0.7777777777777778,\"#fb9f3a\"],[0.8888888888888888,\"#fdca26\"],[1.0,\"#f0f921\"]]},\"colorway\":[\"#636efa\",\"#EF553B\",\"#00cc96\",\"#ab63fa\",\"#FFA15A\",\"#19d3f3\",\"#FF6692\",\"#B6E880\",\"#FF97FF\",\"#FECB52\"],\"font\":{\"color\":\"#f2f5fa\"},\"geo\":{\"bgcolor\":\"rgb(17,17,17)\",\"lakecolor\":\"rgb(17,17,17)\",\"landcolor\":\"rgb(17,17,17)\",\"showlakes\":true,\"showland\":true,\"subunitcolor\":\"#506784\"},\"hoverlabel\":{\"align\":\"left\"},\"hovermode\":\"closest\",\"mapbox\":{\"style\":\"dark\"},\"paper_bgcolor\":\"rgb(17,17,17)\",\"plot_bgcolor\":\"rgb(17,17,17)\",\"polar\":{\"angularaxis\":{\"gridcolor\":\"#506784\",\"linecolor\":\"#506784\",\"ticks\":\"\"},\"bgcolor\":\"rgb(17,17,17)\",\"radialaxis\":{\"gridcolor\":\"#506784\",\"linecolor\":\"#506784\",\"ticks\":\"\"}},\"scene\":{\"xaxis\":{\"backgroundcolor\":\"rgb(17,17,17)\",\"gridcolor\":\"#506784\",\"gridwidth\":2,\"linecolor\":\"#506784\",\"showbackground\":true,\"ticks\":\"\",\"zerolinecolor\":\"#C8D4E3\"},\"yaxis\":{\"backgroundcolor\":\"rgb(17,17,17)\",\"gridcolor\":\"#506784\",\"gridwidth\":2,\"linecolor\":\"#506784\",\"showbackground\":true,\"ticks\":\"\",\"zerolinecolor\":\"#C8D4E3\"},\"zaxis\":{\"backgroundcolor\":\"rgb(17,17,17)\",\"gridcolor\":\"#506784\",\"gridwidth\":2,\"linecolor\":\"#506784\",\"showbackground\":true,\"ticks\":\"\",\"zerolinecolor\":\"#C8D4E3\"}},\"shapedefaults\":{\"line\":{\"color\":\"#f2f5fa\"}},\"sliderdefaults\":{\"bgcolor\":\"#C8D4E3\",\"bordercolor\":\"rgb(17,17,17)\",\"borderwidth\":1,\"tickwidth\":0},\"ternary\":{\"aaxis\":{\"gridcolor\":\"#506784\",\"linecolor\":\"#506784\",\"ticks\":\"\"},\"baxis\":{\"gridcolor\":\"#506784\",\"linecolor\":\"#506784\",\"ticks\":\"\"},\"bgcolor\":\"rgb(17,17,17)\",\"caxis\":{\"gridcolor\":\"#506784\",\"linecolor\":\"#506784\",\"ticks\":\"\"}},\"title\":{\"x\":0.05},\"updatemenudefaults\":{\"bgcolor\":\"#506784\",\"borderwidth\":0},\"xaxis\":{\"automargin\":true,\"gridcolor\":\"#283442\",\"linecolor\":\"#506784\",\"ticks\":\"\",\"title\":{\"standoff\":15},\"zerolinecolor\":\"#283442\",\"zerolinewidth\":2},\"yaxis\":{\"automargin\":true,\"gridcolor\":\"#283442\",\"linecolor\":\"#506784\",\"ticks\":\"\",\"title\":{\"standoff\":15},\"zerolinecolor\":\"#283442\",\"zerolinewidth\":2}}},\"title\":{\"text\":\"Кривая обучения\"},\"width\":1200,\"height\":600},                        {\"responsive\": true}                    ).then(function(){\n",
              "                            \n",
              "var gd = document.getElementById('ddb3c622-4b13-4b1d-a696-5d6b96190e24');\n",
              "var x = new MutationObserver(function (mutations, observer) {{\n",
              "        var display = window.getComputedStyle(gd).display;\n",
              "        if (!display || display === 'none') {{\n",
              "            console.log([gd, 'removed!']);\n",
              "            Plotly.purge(gd);\n",
              "            observer.disconnect();\n",
              "        }}\n",
              "}});\n",
              "\n",
              "// Listen for the removal of the full notebook cells\n",
              "var notebookContainer = gd.closest('#notebook-container');\n",
              "if (notebookContainer) {{\n",
              "    x.observe(notebookContainer, {childList: true});\n",
              "}}\n",
              "\n",
              "// Listen for the clearing of the current output cell\n",
              "var outputEl = gd.closest('.output');\n",
              "if (outputEl) {{\n",
              "    x.observe(outputEl, {childList: true});\n",
              "}}\n",
              "\n",
              "                        })                };                            </script>        </div>\n",
              "</body>\n",
              "</html>"
            ]
          },
          "metadata": {}
        }
      ]
    },
    {
      "cell_type": "markdown",
      "source": [
        "Модель обучена достаточно хорошо, демонстрирует высокую точность и низкую ошибку как на тренировочных, так и на тестовых данных. Отсутствие значительного разрыва между показателями говорит о корректной настройке и хорошей обобщающей способности."
      ],
      "metadata": {
        "id": "qvcTLZo57FMq"
      }
    },
    {
      "cell_type": "code",
      "source": [
        "w, b = regr_harm_poly.get_w_and_b()\n",
        "print(w,b)"
      ],
      "metadata": {
        "colab": {
          "base_uri": "https://localhost:8080/"
        },
        "id": "20Xm-vnpbFk0",
        "outputId": "0bb577cc-258c-47db-9f04-8641c371ac55"
      },
      "execution_count": null,
      "outputs": [
        {
          "output_type": "stream",
          "name": "stdout",
          "text": [
            "[ 1.45414071  0.80617419  0.56388989  0.51958165 -0.23112192 -0.34804155\n",
            "  0.15528325 -0.14347979 -0.55973232 -0.25446119] -0.9836056503433294\n"
          ]
        }
      ]
    },
    {
      "cell_type": "code",
      "source": [
        "vis_weigths(np.hstack([b,w]))"
      ],
      "metadata": {
        "colab": {
          "base_uri": "https://localhost:8080/",
          "height": 617
        },
        "id": "HqMGUZ-oQHVz",
        "outputId": "06c347ab-7c64-4f5c-eedf-6e472f0e60b8"
      },
      "execution_count": null,
      "outputs": [
        {
          "output_type": "display_data",
          "data": {
            "text/html": [
              "<html>\n",
              "<head><meta charset=\"utf-8\" /></head>\n",
              "<body>\n",
              "    <div>            <script src=\"https://cdnjs.cloudflare.com/ajax/libs/mathjax/2.7.5/MathJax.js?config=TeX-AMS-MML_SVG\"></script><script type=\"text/javascript\">if (window.MathJax && window.MathJax.Hub && window.MathJax.Hub.Config) {window.MathJax.Hub.Config({SVG: {font: \"STIX-Web\"}});}</script>                <script type=\"text/javascript\">window.PlotlyConfig = {MathJaxConfig: 'local'};</script>\n",
              "        <script charset=\"utf-8\" src=\"https://cdn.plot.ly/plotly-2.35.2.min.js\"></script>                <div id=\"f61d27c5-6949-4c5b-95fa-8d24169dc191\" class=\"plotly-graph-div\" style=\"height:600px; width:1200px;\"></div>            <script type=\"text/javascript\">                                    window.PLOTLYENV=window.PLOTLYENV || {};                                    if (document.getElementById(\"f61d27c5-6949-4c5b-95fa-8d24169dc191\")) {                    Plotly.newPlot(                        \"f61d27c5-6949-4c5b-95fa-8d24169dc191\",                        [{\"marker\":{\"color\":\"red\"},\"name\":\"отрицательные веса\",\"x\":[0,5,6,8,9,10],\"y\":[-0.9836056503433294,-0.23112191840414642,-0.3480415525035501,-0.14347979451859258,-0.559732323042455,-0.25446118819925323],\"type\":\"bar\"},{\"marker\":{\"color\":\"blue\"},\"name\":\"положительные веса\",\"x\":[1,2,3,4,7],\"y\":[1.454140714727095,0.8061741911038744,0.5638898919437668,0.5195816534382823,0.15528325180954017],\"type\":\"bar\"}],                        {\"template\":{\"data\":{\"barpolar\":[{\"marker\":{\"line\":{\"color\":\"rgb(17,17,17)\",\"width\":0.5},\"pattern\":{\"fillmode\":\"overlay\",\"size\":10,\"solidity\":0.2}},\"type\":\"barpolar\"}],\"bar\":[{\"error_x\":{\"color\":\"#f2f5fa\"},\"error_y\":{\"color\":\"#f2f5fa\"},\"marker\":{\"line\":{\"color\":\"rgb(17,17,17)\",\"width\":0.5},\"pattern\":{\"fillmode\":\"overlay\",\"size\":10,\"solidity\":0.2}},\"type\":\"bar\"}],\"carpet\":[{\"aaxis\":{\"endlinecolor\":\"#A2B1C6\",\"gridcolor\":\"#506784\",\"linecolor\":\"#506784\",\"minorgridcolor\":\"#506784\",\"startlinecolor\":\"#A2B1C6\"},\"baxis\":{\"endlinecolor\":\"#A2B1C6\",\"gridcolor\":\"#506784\",\"linecolor\":\"#506784\",\"minorgridcolor\":\"#506784\",\"startlinecolor\":\"#A2B1C6\"},\"type\":\"carpet\"}],\"choropleth\":[{\"colorbar\":{\"outlinewidth\":0,\"ticks\":\"\"},\"type\":\"choropleth\"}],\"contourcarpet\":[{\"colorbar\":{\"outlinewidth\":0,\"ticks\":\"\"},\"type\":\"contourcarpet\"}],\"contour\":[{\"colorbar\":{\"outlinewidth\":0,\"ticks\":\"\"},\"colorscale\":[[0.0,\"#0d0887\"],[0.1111111111111111,\"#46039f\"],[0.2222222222222222,\"#7201a8\"],[0.3333333333333333,\"#9c179e\"],[0.4444444444444444,\"#bd3786\"],[0.5555555555555556,\"#d8576b\"],[0.6666666666666666,\"#ed7953\"],[0.7777777777777778,\"#fb9f3a\"],[0.8888888888888888,\"#fdca26\"],[1.0,\"#f0f921\"]],\"type\":\"contour\"}],\"heatmapgl\":[{\"colorbar\":{\"outlinewidth\":0,\"ticks\":\"\"},\"colorscale\":[[0.0,\"#0d0887\"],[0.1111111111111111,\"#46039f\"],[0.2222222222222222,\"#7201a8\"],[0.3333333333333333,\"#9c179e\"],[0.4444444444444444,\"#bd3786\"],[0.5555555555555556,\"#d8576b\"],[0.6666666666666666,\"#ed7953\"],[0.7777777777777778,\"#fb9f3a\"],[0.8888888888888888,\"#fdca26\"],[1.0,\"#f0f921\"]],\"type\":\"heatmapgl\"}],\"heatmap\":[{\"colorbar\":{\"outlinewidth\":0,\"ticks\":\"\"},\"colorscale\":[[0.0,\"#0d0887\"],[0.1111111111111111,\"#46039f\"],[0.2222222222222222,\"#7201a8\"],[0.3333333333333333,\"#9c179e\"],[0.4444444444444444,\"#bd3786\"],[0.5555555555555556,\"#d8576b\"],[0.6666666666666666,\"#ed7953\"],[0.7777777777777778,\"#fb9f3a\"],[0.8888888888888888,\"#fdca26\"],[1.0,\"#f0f921\"]],\"type\":\"heatmap\"}],\"histogram2dcontour\":[{\"colorbar\":{\"outlinewidth\":0,\"ticks\":\"\"},\"colorscale\":[[0.0,\"#0d0887\"],[0.1111111111111111,\"#46039f\"],[0.2222222222222222,\"#7201a8\"],[0.3333333333333333,\"#9c179e\"],[0.4444444444444444,\"#bd3786\"],[0.5555555555555556,\"#d8576b\"],[0.6666666666666666,\"#ed7953\"],[0.7777777777777778,\"#fb9f3a\"],[0.8888888888888888,\"#fdca26\"],[1.0,\"#f0f921\"]],\"type\":\"histogram2dcontour\"}],\"histogram2d\":[{\"colorbar\":{\"outlinewidth\":0,\"ticks\":\"\"},\"colorscale\":[[0.0,\"#0d0887\"],[0.1111111111111111,\"#46039f\"],[0.2222222222222222,\"#7201a8\"],[0.3333333333333333,\"#9c179e\"],[0.4444444444444444,\"#bd3786\"],[0.5555555555555556,\"#d8576b\"],[0.6666666666666666,\"#ed7953\"],[0.7777777777777778,\"#fb9f3a\"],[0.8888888888888888,\"#fdca26\"],[1.0,\"#f0f921\"]],\"type\":\"histogram2d\"}],\"histogram\":[{\"marker\":{\"pattern\":{\"fillmode\":\"overlay\",\"size\":10,\"solidity\":0.2}},\"type\":\"histogram\"}],\"mesh3d\":[{\"colorbar\":{\"outlinewidth\":0,\"ticks\":\"\"},\"type\":\"mesh3d\"}],\"parcoords\":[{\"line\":{\"colorbar\":{\"outlinewidth\":0,\"ticks\":\"\"}},\"type\":\"parcoords\"}],\"pie\":[{\"automargin\":true,\"type\":\"pie\"}],\"scatter3d\":[{\"line\":{\"colorbar\":{\"outlinewidth\":0,\"ticks\":\"\"}},\"marker\":{\"colorbar\":{\"outlinewidth\":0,\"ticks\":\"\"}},\"type\":\"scatter3d\"}],\"scattercarpet\":[{\"marker\":{\"colorbar\":{\"outlinewidth\":0,\"ticks\":\"\"}},\"type\":\"scattercarpet\"}],\"scattergeo\":[{\"marker\":{\"colorbar\":{\"outlinewidth\":0,\"ticks\":\"\"}},\"type\":\"scattergeo\"}],\"scattergl\":[{\"marker\":{\"line\":{\"color\":\"#283442\"}},\"type\":\"scattergl\"}],\"scattermapbox\":[{\"marker\":{\"colorbar\":{\"outlinewidth\":0,\"ticks\":\"\"}},\"type\":\"scattermapbox\"}],\"scatterpolargl\":[{\"marker\":{\"colorbar\":{\"outlinewidth\":0,\"ticks\":\"\"}},\"type\":\"scatterpolargl\"}],\"scatterpolar\":[{\"marker\":{\"colorbar\":{\"outlinewidth\":0,\"ticks\":\"\"}},\"type\":\"scatterpolar\"}],\"scatter\":[{\"marker\":{\"line\":{\"color\":\"#283442\"}},\"type\":\"scatter\"}],\"scatterternary\":[{\"marker\":{\"colorbar\":{\"outlinewidth\":0,\"ticks\":\"\"}},\"type\":\"scatterternary\"}],\"surface\":[{\"colorbar\":{\"outlinewidth\":0,\"ticks\":\"\"},\"colorscale\":[[0.0,\"#0d0887\"],[0.1111111111111111,\"#46039f\"],[0.2222222222222222,\"#7201a8\"],[0.3333333333333333,\"#9c179e\"],[0.4444444444444444,\"#bd3786\"],[0.5555555555555556,\"#d8576b\"],[0.6666666666666666,\"#ed7953\"],[0.7777777777777778,\"#fb9f3a\"],[0.8888888888888888,\"#fdca26\"],[1.0,\"#f0f921\"]],\"type\":\"surface\"}],\"table\":[{\"cells\":{\"fill\":{\"color\":\"#506784\"},\"line\":{\"color\":\"rgb(17,17,17)\"}},\"header\":{\"fill\":{\"color\":\"#2a3f5f\"},\"line\":{\"color\":\"rgb(17,17,17)\"}},\"type\":\"table\"}]},\"layout\":{\"annotationdefaults\":{\"arrowcolor\":\"#f2f5fa\",\"arrowhead\":0,\"arrowwidth\":1},\"autotypenumbers\":\"strict\",\"coloraxis\":{\"colorbar\":{\"outlinewidth\":0,\"ticks\":\"\"}},\"colorscale\":{\"diverging\":[[0,\"#8e0152\"],[0.1,\"#c51b7d\"],[0.2,\"#de77ae\"],[0.3,\"#f1b6da\"],[0.4,\"#fde0ef\"],[0.5,\"#f7f7f7\"],[0.6,\"#e6f5d0\"],[0.7,\"#b8e186\"],[0.8,\"#7fbc41\"],[0.9,\"#4d9221\"],[1,\"#276419\"]],\"sequential\":[[0.0,\"#0d0887\"],[0.1111111111111111,\"#46039f\"],[0.2222222222222222,\"#7201a8\"],[0.3333333333333333,\"#9c179e\"],[0.4444444444444444,\"#bd3786\"],[0.5555555555555556,\"#d8576b\"],[0.6666666666666666,\"#ed7953\"],[0.7777777777777778,\"#fb9f3a\"],[0.8888888888888888,\"#fdca26\"],[1.0,\"#f0f921\"]],\"sequentialminus\":[[0.0,\"#0d0887\"],[0.1111111111111111,\"#46039f\"],[0.2222222222222222,\"#7201a8\"],[0.3333333333333333,\"#9c179e\"],[0.4444444444444444,\"#bd3786\"],[0.5555555555555556,\"#d8576b\"],[0.6666666666666666,\"#ed7953\"],[0.7777777777777778,\"#fb9f3a\"],[0.8888888888888888,\"#fdca26\"],[1.0,\"#f0f921\"]]},\"colorway\":[\"#636efa\",\"#EF553B\",\"#00cc96\",\"#ab63fa\",\"#FFA15A\",\"#19d3f3\",\"#FF6692\",\"#B6E880\",\"#FF97FF\",\"#FECB52\"],\"font\":{\"color\":\"#f2f5fa\"},\"geo\":{\"bgcolor\":\"rgb(17,17,17)\",\"lakecolor\":\"rgb(17,17,17)\",\"landcolor\":\"rgb(17,17,17)\",\"showlakes\":true,\"showland\":true,\"subunitcolor\":\"#506784\"},\"hoverlabel\":{\"align\":\"left\"},\"hovermode\":\"closest\",\"mapbox\":{\"style\":\"dark\"},\"paper_bgcolor\":\"rgb(17,17,17)\",\"plot_bgcolor\":\"rgb(17,17,17)\",\"polar\":{\"angularaxis\":{\"gridcolor\":\"#506784\",\"linecolor\":\"#506784\",\"ticks\":\"\"},\"bgcolor\":\"rgb(17,17,17)\",\"radialaxis\":{\"gridcolor\":\"#506784\",\"linecolor\":\"#506784\",\"ticks\":\"\"}},\"scene\":{\"xaxis\":{\"backgroundcolor\":\"rgb(17,17,17)\",\"gridcolor\":\"#506784\",\"gridwidth\":2,\"linecolor\":\"#506784\",\"showbackground\":true,\"ticks\":\"\",\"zerolinecolor\":\"#C8D4E3\"},\"yaxis\":{\"backgroundcolor\":\"rgb(17,17,17)\",\"gridcolor\":\"#506784\",\"gridwidth\":2,\"linecolor\":\"#506784\",\"showbackground\":true,\"ticks\":\"\",\"zerolinecolor\":\"#C8D4E3\"},\"zaxis\":{\"backgroundcolor\":\"rgb(17,17,17)\",\"gridcolor\":\"#506784\",\"gridwidth\":2,\"linecolor\":\"#506784\",\"showbackground\":true,\"ticks\":\"\",\"zerolinecolor\":\"#C8D4E3\"}},\"shapedefaults\":{\"line\":{\"color\":\"#f2f5fa\"}},\"sliderdefaults\":{\"bgcolor\":\"#C8D4E3\",\"bordercolor\":\"rgb(17,17,17)\",\"borderwidth\":1,\"tickwidth\":0},\"ternary\":{\"aaxis\":{\"gridcolor\":\"#506784\",\"linecolor\":\"#506784\",\"ticks\":\"\"},\"baxis\":{\"gridcolor\":\"#506784\",\"linecolor\":\"#506784\",\"ticks\":\"\"},\"bgcolor\":\"rgb(17,17,17)\",\"caxis\":{\"gridcolor\":\"#506784\",\"linecolor\":\"#506784\",\"ticks\":\"\"}},\"title\":{\"x\":0.05},\"updatemenudefaults\":{\"bgcolor\":\"#506784\",\"borderwidth\":0},\"xaxis\":{\"automargin\":true,\"gridcolor\":\"#283442\",\"linecolor\":\"#506784\",\"ticks\":\"\",\"title\":{\"standoff\":15},\"zerolinecolor\":\"#283442\",\"zerolinewidth\":2},\"yaxis\":{\"automargin\":true,\"gridcolor\":\"#283442\",\"linecolor\":\"#506784\",\"ticks\":\"\",\"title\":{\"standoff\":15},\"zerolinecolor\":\"#283442\",\"zerolinewidth\":2}}},\"xaxis\":{\"tickmode\":\"array\",\"tickvals\":[0,1,2,3,4,5,6,7,8,9,10],\"ticktext\":[\"w0\",\"w1\",\"w2\",\"w3\",\"w4\",\"w5\",\"w6\",\"w7\",\"w8\",\"w9\",\"w10\"]},\"title\":{\"text\":\"Веса модели\"},\"width\":1200,\"height\":600},                        {\"responsive\": true}                    ).then(function(){\n",
              "                            \n",
              "var gd = document.getElementById('f61d27c5-6949-4c5b-95fa-8d24169dc191');\n",
              "var x = new MutationObserver(function (mutations, observer) {{\n",
              "        var display = window.getComputedStyle(gd).display;\n",
              "        if (!display || display === 'none') {{\n",
              "            console.log([gd, 'removed!']);\n",
              "            Plotly.purge(gd);\n",
              "            observer.disconnect();\n",
              "        }}\n",
              "}});\n",
              "\n",
              "// Listen for the removal of the full notebook cells\n",
              "var notebookContainer = gd.closest('#notebook-container');\n",
              "if (notebookContainer) {{\n",
              "    x.observe(notebookContainer, {childList: true});\n",
              "}}\n",
              "\n",
              "// Listen for the clearing of the current output cell\n",
              "var outputEl = gd.closest('.output');\n",
              "if (outputEl) {{\n",
              "    x.observe(outputEl, {childList: true});\n",
              "}}\n",
              "\n",
              "                        })                };                            </script>        </div>\n",
              "</body>\n",
              "</html>"
            ]
          },
          "metadata": {}
        }
      ]
    },
    {
      "cell_type": "code",
      "source": [
        "np.sum(np.abs(w))"
      ],
      "metadata": {
        "colab": {
          "base_uri": "https://localhost:8080/"
        },
        "id": "nWvcr5zObDgh",
        "outputId": "4521c537-8db2-4cef-b5ad-8c21bd66336d"
      },
      "execution_count": null,
      "outputs": [
        {
          "output_type": "execute_result",
          "data": {
            "text/plain": [
              "np.float64(5.035906479690557)"
            ]
          },
          "metadata": {},
          "execution_count": 458
        }
      ]
    },
    {
      "cell_type": "markdown",
      "source": [
        "Визуализация модели"
      ],
      "metadata": {
        "id": "47Mtue_kE4r1"
      }
    },
    {
      "cell_type": "code",
      "source": [
        "plot_model_class(x_train_, y_train, x_test_, x, y_true, regr_harm_poly);"
      ],
      "metadata": {
        "colab": {
          "base_uri": "https://localhost:8080/",
          "height": 617
        },
        "id": "8OBJL5ICBqhp",
        "outputId": "a3a845f0-072e-4e7e-b82c-7ee4cb800e3a"
      },
      "execution_count": null,
      "outputs": [
        {
          "output_type": "display_data",
          "data": {
            "text/html": [
              "<html>\n",
              "<head><meta charset=\"utf-8\" /></head>\n",
              "<body>\n",
              "    <div>            <script src=\"https://cdnjs.cloudflare.com/ajax/libs/mathjax/2.7.5/MathJax.js?config=TeX-AMS-MML_SVG\"></script><script type=\"text/javascript\">if (window.MathJax && window.MathJax.Hub && window.MathJax.Hub.Config) {window.MathJax.Hub.Config({SVG: {font: \"STIX-Web\"}});}</script>                <script type=\"text/javascript\">window.PlotlyConfig = {MathJaxConfig: 'local'};</script>\n",
              "        <script charset=\"utf-8\" src=\"https://cdn.plot.ly/plotly-2.35.2.min.js\"></script>                <div id=\"7dd0f0b5-0ef2-46de-a164-d5e874e9921f\" class=\"plotly-graph-div\" style=\"height:600px; width:1200px;\"></div>            <script type=\"text/javascript\">                                    window.PLOTLYENV=window.PLOTLYENV || {};                                    if (document.getElementById(\"7dd0f0b5-0ef2-46de-a164-d5e874e9921f\")) {                    Plotly.newPlot(                        \"7dd0f0b5-0ef2-46de-a164-d5e874e9921f\",                        [{\"marker\":{\"color\":\"Blue\",\"size\":5},\"mode\":\"markers\",\"name\":\"Предсказание на x_test\",\"x\":[0.04864275845245291,0.8717318949578305,0.6362194811532859,0.39221749528184063,0.7665422633556482,0.17857244474527742,0.3836532251490256,0.3059331605412711,1.0156872220654944,0.31899079313911943,0.14607762928177764,0.8465517233413815,0.20909789571439721,0.5385050446476917,0.7165271498113673],\"y\":[-0.910896989520591,1.0855082001571716,0.441413951072778,-0.24634541405974747,0.8444255361275265,-0.6945421060709971,-0.2669864632342035,-0.4434757304135509,0.9063094741933212,-0.4151478845442196,-0.7520098275798528,1.042958811967592,-0.6382717359960358,0.14440477560019516,0.694014137678928],\"type\":\"scatter\"},{\"marker\":{\"color\":\"LightSkyBlue\",\"size\":10},\"mode\":\"markers\",\"name\":\"Предсказание на x_train\",\"x\":[0.1935791331541123,0.7414918695374813,0.5495236501799443,0.9522380983100062,0.3049744424524801,1.0112075003926706,0.47759537064635094,0.46092661359718623,0.620375085805519,0.3186017317977882,0.19206075359692815,0.06812186887562248,0.6937917137886659,0.16335707969615926,0.060825016427191375,0.12779814068180767,0.8222343440291981,0.9936706109775585,0.995585693560036,0.2223609967255541,0.16338233821234197,0.2709937630302383,0.45233176577359235,0.6294861682850023,0.5725136657422902,0.021556032019184653,0.9070575387604193,0.5185480476776199,0.6269136986542038,0.1022819986076801,0.5446139582330638,0.19040666040567744,0.6407308530458254,0.03601157510112919,0.3264230755616875],\"y\":[-0.6671647103399898,0.7704864887752876,0.17667278817544177,1.1026873599050366,-0.4455352974986794,0.9288026393247175,-0.02702887690546961,-0.07179550122656134,0.3918692697805349,-0.41599943675912926,-0.6699596051655341,-0.8806166677625206,0.6229352356849975,-0.7217532681873057,-0.892041132606042,-0.7832961908068455,0.9909956699365694,1.0029127649088119,0.9958466688621785,-0.6130959380246681,-0.7217085426823152,-0.5167829637796693,-0.09450893898712628,0.4203149254704692,0.24512951871604688,-0.951879788455622,1.1195771394888685,0.08691095050398968,0.4122705467746149,-0.8257820768795393,0.16224982124066797,-0.6729978919463377,0.45558195033514653,-0.9301670857482295,-0.39879120374154875],\"type\":\"scatter\"},{\"marker\":{\"color\":\"Red\",\"size\":5},\"mode\":\"markers\",\"name\":\"Тренировочные данные\",\"x\":[0.1935791331541123,0.7414918695374813,0.5495236501799443,0.9522380983100062,0.3049744424524801,1.0112075003926706,0.47759537064635094,0.46092661359718623,0.620375085805519,0.3186017317977882,0.19206075359692815,0.06812186887562248,0.6937917137886659,0.16335707969615926,0.060825016427191375,0.12779814068180767,0.8222343440291981,0.9936706109775585,0.995585693560036,0.2223609967255541,0.16338233821234197,0.2709937630302383,0.45233176577359235,0.6294861682850023,0.5725136657422902,0.021556032019184653,0.9070575387604193,0.5185480476776199,0.6269136986542038,0.1022819986076801,0.5446139582330638,0.19040666040567744,0.6407308530458254,0.03601157510112919,0.3264230755616875],\"y\":[-0.6574288402766963,0.5605193359905387,0.3066158284476615,0.9480843377216104,-0.4821154209074536,0.9394337392365557,0.04737282835006827,0.1395163319596294,0.46753304271136953,-0.31664189321495323,-0.7894266317358266,-1.0695970167815658,0.6262157405693716,-0.7437527019770642,-0.9599255756172168,-0.8859000499605691,0.9317182013142993,1.0891567539494484,1.0300655847773865,-0.5631752750991205,-0.9543714462911532,-0.623764926829987,0.05901735971355149,0.23356862394593314,0.4911769631659647,-0.8919117320329665,0.8995096788589202,0.27875626526021086,0.6451479777470205,-0.9502612944387703,0.1915022876684118,-0.7636436939258158,0.5338723871011308,-0.9368676927689883,-0.41119053998701494],\"type\":\"scatter\"},{\"marker\":{\"color\":\"green\",\"size\":10},\"mode\":\"lines+markers\",\"name\":\"Истинные значения\",\"opacity\":0.7,\"x\":[0.021556032019184653,0.03601157510112919,0.04864275845245291,0.060825016427191375,0.06812186887562248,0.1022819986076801,0.12779814068180767,0.14607762928177764,0.16335707969615926,0.16338233821234197,0.17857244474527742,0.19040666040567744,0.19206075359692815,0.1935791331541123,0.20909789571439721,0.2223609967255541,0.2709937630302383,0.3049744424524801,0.3059331605412711,0.3186017317977882,0.31899079313911943,0.3264230755616875,0.3836532251490256,0.39221749528184063,0.45233176577359235,0.46092661359718623,0.47759537064635094,0.5185480476776199,0.5385050446476917,0.5446139582330638,0.5495236501799443,0.5725136657422902,0.620375085805519,0.6269136986542038,0.6294861682850023,0.6362194811532859,0.6407308530458254,0.6937917137886659,0.7165271498113673,0.7414918695374813,0.7665422633556482,0.8222343440291981,0.8465517233413815,0.8717318949578305,0.9070575387604193,0.9522380983100062,0.9936706109775585,0.995585693560036,1.0112075003926706,1.0156872220654944],\"y\":[-0.9657583900325075,-0.9540045208879854,-0.9423221059768387,-0.9298152060582879,-0.9217448177448232,-0.8782768735992994,-0.8398361728645903,-0.8092645826539571,-0.7781145309339104,-0.7780674307548798,-0.748932228711473,-0.7251354658841841,-0.7217344317052308,-0.7185964691607831,-0.6856619709723478,-0.6563032870107404,-0.5398431745077231,-0.45119418332233213,-0.4486166957183381,-0.41419640592718915,-0.4131289929563197,-0.3926246423206332,-0.22853411490479733,-0.20321374411641238,-0.02223522252586832,0.003892329102547121,0.054573840508101656,0.17840297547100842,0.237944194983681,0.2560142631289242,0.2704762678968201,0.33737330651936775,0.47111564662236466,0.48868361216561984,0.4955431343549076,0.5133537979793605,0.5251676802773138,0.6561164756159583,0.7071648567914334,0.7592762274506281,0.8071086320415715,0.8960069441631247,0.9267369217601253,0.9530868009971594,0.980359039148239,0.998260042080064,0.997616542179241,0.997190473811418,0.9924097596132596,0.9906106557332874],\"type\":\"scatter\"}],                        {\"template\":{\"data\":{\"barpolar\":[{\"marker\":{\"line\":{\"color\":\"rgb(17,17,17)\",\"width\":0.5},\"pattern\":{\"fillmode\":\"overlay\",\"size\":10,\"solidity\":0.2}},\"type\":\"barpolar\"}],\"bar\":[{\"error_x\":{\"color\":\"#f2f5fa\"},\"error_y\":{\"color\":\"#f2f5fa\"},\"marker\":{\"line\":{\"color\":\"rgb(17,17,17)\",\"width\":0.5},\"pattern\":{\"fillmode\":\"overlay\",\"size\":10,\"solidity\":0.2}},\"type\":\"bar\"}],\"carpet\":[{\"aaxis\":{\"endlinecolor\":\"#A2B1C6\",\"gridcolor\":\"#506784\",\"linecolor\":\"#506784\",\"minorgridcolor\":\"#506784\",\"startlinecolor\":\"#A2B1C6\"},\"baxis\":{\"endlinecolor\":\"#A2B1C6\",\"gridcolor\":\"#506784\",\"linecolor\":\"#506784\",\"minorgridcolor\":\"#506784\",\"startlinecolor\":\"#A2B1C6\"},\"type\":\"carpet\"}],\"choropleth\":[{\"colorbar\":{\"outlinewidth\":0,\"ticks\":\"\"},\"type\":\"choropleth\"}],\"contourcarpet\":[{\"colorbar\":{\"outlinewidth\":0,\"ticks\":\"\"},\"type\":\"contourcarpet\"}],\"contour\":[{\"colorbar\":{\"outlinewidth\":0,\"ticks\":\"\"},\"colorscale\":[[0.0,\"#0d0887\"],[0.1111111111111111,\"#46039f\"],[0.2222222222222222,\"#7201a8\"],[0.3333333333333333,\"#9c179e\"],[0.4444444444444444,\"#bd3786\"],[0.5555555555555556,\"#d8576b\"],[0.6666666666666666,\"#ed7953\"],[0.7777777777777778,\"#fb9f3a\"],[0.8888888888888888,\"#fdca26\"],[1.0,\"#f0f921\"]],\"type\":\"contour\"}],\"heatmapgl\":[{\"colorbar\":{\"outlinewidth\":0,\"ticks\":\"\"},\"colorscale\":[[0.0,\"#0d0887\"],[0.1111111111111111,\"#46039f\"],[0.2222222222222222,\"#7201a8\"],[0.3333333333333333,\"#9c179e\"],[0.4444444444444444,\"#bd3786\"],[0.5555555555555556,\"#d8576b\"],[0.6666666666666666,\"#ed7953\"],[0.7777777777777778,\"#fb9f3a\"],[0.8888888888888888,\"#fdca26\"],[1.0,\"#f0f921\"]],\"type\":\"heatmapgl\"}],\"heatmap\":[{\"colorbar\":{\"outlinewidth\":0,\"ticks\":\"\"},\"colorscale\":[[0.0,\"#0d0887\"],[0.1111111111111111,\"#46039f\"],[0.2222222222222222,\"#7201a8\"],[0.3333333333333333,\"#9c179e\"],[0.4444444444444444,\"#bd3786\"],[0.5555555555555556,\"#d8576b\"],[0.6666666666666666,\"#ed7953\"],[0.7777777777777778,\"#fb9f3a\"],[0.8888888888888888,\"#fdca26\"],[1.0,\"#f0f921\"]],\"type\":\"heatmap\"}],\"histogram2dcontour\":[{\"colorbar\":{\"outlinewidth\":0,\"ticks\":\"\"},\"colorscale\":[[0.0,\"#0d0887\"],[0.1111111111111111,\"#46039f\"],[0.2222222222222222,\"#7201a8\"],[0.3333333333333333,\"#9c179e\"],[0.4444444444444444,\"#bd3786\"],[0.5555555555555556,\"#d8576b\"],[0.6666666666666666,\"#ed7953\"],[0.7777777777777778,\"#fb9f3a\"],[0.8888888888888888,\"#fdca26\"],[1.0,\"#f0f921\"]],\"type\":\"histogram2dcontour\"}],\"histogram2d\":[{\"colorbar\":{\"outlinewidth\":0,\"ticks\":\"\"},\"colorscale\":[[0.0,\"#0d0887\"],[0.1111111111111111,\"#46039f\"],[0.2222222222222222,\"#7201a8\"],[0.3333333333333333,\"#9c179e\"],[0.4444444444444444,\"#bd3786\"],[0.5555555555555556,\"#d8576b\"],[0.6666666666666666,\"#ed7953\"],[0.7777777777777778,\"#fb9f3a\"],[0.8888888888888888,\"#fdca26\"],[1.0,\"#f0f921\"]],\"type\":\"histogram2d\"}],\"histogram\":[{\"marker\":{\"pattern\":{\"fillmode\":\"overlay\",\"size\":10,\"solidity\":0.2}},\"type\":\"histogram\"}],\"mesh3d\":[{\"colorbar\":{\"outlinewidth\":0,\"ticks\":\"\"},\"type\":\"mesh3d\"}],\"parcoords\":[{\"line\":{\"colorbar\":{\"outlinewidth\":0,\"ticks\":\"\"}},\"type\":\"parcoords\"}],\"pie\":[{\"automargin\":true,\"type\":\"pie\"}],\"scatter3d\":[{\"line\":{\"colorbar\":{\"outlinewidth\":0,\"ticks\":\"\"}},\"marker\":{\"colorbar\":{\"outlinewidth\":0,\"ticks\":\"\"}},\"type\":\"scatter3d\"}],\"scattercarpet\":[{\"marker\":{\"colorbar\":{\"outlinewidth\":0,\"ticks\":\"\"}},\"type\":\"scattercarpet\"}],\"scattergeo\":[{\"marker\":{\"colorbar\":{\"outlinewidth\":0,\"ticks\":\"\"}},\"type\":\"scattergeo\"}],\"scattergl\":[{\"marker\":{\"line\":{\"color\":\"#283442\"}},\"type\":\"scattergl\"}],\"scattermapbox\":[{\"marker\":{\"colorbar\":{\"outlinewidth\":0,\"ticks\":\"\"}},\"type\":\"scattermapbox\"}],\"scatterpolargl\":[{\"marker\":{\"colorbar\":{\"outlinewidth\":0,\"ticks\":\"\"}},\"type\":\"scatterpolargl\"}],\"scatterpolar\":[{\"marker\":{\"colorbar\":{\"outlinewidth\":0,\"ticks\":\"\"}},\"type\":\"scatterpolar\"}],\"scatter\":[{\"marker\":{\"line\":{\"color\":\"#283442\"}},\"type\":\"scatter\"}],\"scatterternary\":[{\"marker\":{\"colorbar\":{\"outlinewidth\":0,\"ticks\":\"\"}},\"type\":\"scatterternary\"}],\"surface\":[{\"colorbar\":{\"outlinewidth\":0,\"ticks\":\"\"},\"colorscale\":[[0.0,\"#0d0887\"],[0.1111111111111111,\"#46039f\"],[0.2222222222222222,\"#7201a8\"],[0.3333333333333333,\"#9c179e\"],[0.4444444444444444,\"#bd3786\"],[0.5555555555555556,\"#d8576b\"],[0.6666666666666666,\"#ed7953\"],[0.7777777777777778,\"#fb9f3a\"],[0.8888888888888888,\"#fdca26\"],[1.0,\"#f0f921\"]],\"type\":\"surface\"}],\"table\":[{\"cells\":{\"fill\":{\"color\":\"#506784\"},\"line\":{\"color\":\"rgb(17,17,17)\"}},\"header\":{\"fill\":{\"color\":\"#2a3f5f\"},\"line\":{\"color\":\"rgb(17,17,17)\"}},\"type\":\"table\"}]},\"layout\":{\"annotationdefaults\":{\"arrowcolor\":\"#f2f5fa\",\"arrowhead\":0,\"arrowwidth\":1},\"autotypenumbers\":\"strict\",\"coloraxis\":{\"colorbar\":{\"outlinewidth\":0,\"ticks\":\"\"}},\"colorscale\":{\"diverging\":[[0,\"#8e0152\"],[0.1,\"#c51b7d\"],[0.2,\"#de77ae\"],[0.3,\"#f1b6da\"],[0.4,\"#fde0ef\"],[0.5,\"#f7f7f7\"],[0.6,\"#e6f5d0\"],[0.7,\"#b8e186\"],[0.8,\"#7fbc41\"],[0.9,\"#4d9221\"],[1,\"#276419\"]],\"sequential\":[[0.0,\"#0d0887\"],[0.1111111111111111,\"#46039f\"],[0.2222222222222222,\"#7201a8\"],[0.3333333333333333,\"#9c179e\"],[0.4444444444444444,\"#bd3786\"],[0.5555555555555556,\"#d8576b\"],[0.6666666666666666,\"#ed7953\"],[0.7777777777777778,\"#fb9f3a\"],[0.8888888888888888,\"#fdca26\"],[1.0,\"#f0f921\"]],\"sequentialminus\":[[0.0,\"#0d0887\"],[0.1111111111111111,\"#46039f\"],[0.2222222222222222,\"#7201a8\"],[0.3333333333333333,\"#9c179e\"],[0.4444444444444444,\"#bd3786\"],[0.5555555555555556,\"#d8576b\"],[0.6666666666666666,\"#ed7953\"],[0.7777777777777778,\"#fb9f3a\"],[0.8888888888888888,\"#fdca26\"],[1.0,\"#f0f921\"]]},\"colorway\":[\"#636efa\",\"#EF553B\",\"#00cc96\",\"#ab63fa\",\"#FFA15A\",\"#19d3f3\",\"#FF6692\",\"#B6E880\",\"#FF97FF\",\"#FECB52\"],\"font\":{\"color\":\"#f2f5fa\"},\"geo\":{\"bgcolor\":\"rgb(17,17,17)\",\"lakecolor\":\"rgb(17,17,17)\",\"landcolor\":\"rgb(17,17,17)\",\"showlakes\":true,\"showland\":true,\"subunitcolor\":\"#506784\"},\"hoverlabel\":{\"align\":\"left\"},\"hovermode\":\"closest\",\"mapbox\":{\"style\":\"dark\"},\"paper_bgcolor\":\"rgb(17,17,17)\",\"plot_bgcolor\":\"rgb(17,17,17)\",\"polar\":{\"angularaxis\":{\"gridcolor\":\"#506784\",\"linecolor\":\"#506784\",\"ticks\":\"\"},\"bgcolor\":\"rgb(17,17,17)\",\"radialaxis\":{\"gridcolor\":\"#506784\",\"linecolor\":\"#506784\",\"ticks\":\"\"}},\"scene\":{\"xaxis\":{\"backgroundcolor\":\"rgb(17,17,17)\",\"gridcolor\":\"#506784\",\"gridwidth\":2,\"linecolor\":\"#506784\",\"showbackground\":true,\"ticks\":\"\",\"zerolinecolor\":\"#C8D4E3\"},\"yaxis\":{\"backgroundcolor\":\"rgb(17,17,17)\",\"gridcolor\":\"#506784\",\"gridwidth\":2,\"linecolor\":\"#506784\",\"showbackground\":true,\"ticks\":\"\",\"zerolinecolor\":\"#C8D4E3\"},\"zaxis\":{\"backgroundcolor\":\"rgb(17,17,17)\",\"gridcolor\":\"#506784\",\"gridwidth\":2,\"linecolor\":\"#506784\",\"showbackground\":true,\"ticks\":\"\",\"zerolinecolor\":\"#C8D4E3\"}},\"shapedefaults\":{\"line\":{\"color\":\"#f2f5fa\"}},\"sliderdefaults\":{\"bgcolor\":\"#C8D4E3\",\"bordercolor\":\"rgb(17,17,17)\",\"borderwidth\":1,\"tickwidth\":0},\"ternary\":{\"aaxis\":{\"gridcolor\":\"#506784\",\"linecolor\":\"#506784\",\"ticks\":\"\"},\"baxis\":{\"gridcolor\":\"#506784\",\"linecolor\":\"#506784\",\"ticks\":\"\"},\"bgcolor\":\"rgb(17,17,17)\",\"caxis\":{\"gridcolor\":\"#506784\",\"linecolor\":\"#506784\",\"ticks\":\"\"}},\"title\":{\"x\":0.05},\"updatemenudefaults\":{\"bgcolor\":\"#506784\",\"borderwidth\":0},\"xaxis\":{\"automargin\":true,\"gridcolor\":\"#283442\",\"linecolor\":\"#506784\",\"ticks\":\"\",\"title\":{\"standoff\":15},\"zerolinecolor\":\"#283442\",\"zerolinewidth\":2},\"yaxis\":{\"automargin\":true,\"gridcolor\":\"#283442\",\"linecolor\":\"#506784\",\"ticks\":\"\",\"title\":{\"standoff\":15},\"zerolinecolor\":\"#283442\",\"zerolinewidth\":2}}},\"title\":{\"text\":\"Предсказание модели\"},\"width\":1200,\"height\":600},                        {\"responsive\": true}                    ).then(function(){\n",
              "                            \n",
              "var gd = document.getElementById('7dd0f0b5-0ef2-46de-a164-d5e874e9921f');\n",
              "var x = new MutationObserver(function (mutations, observer) {{\n",
              "        var display = window.getComputedStyle(gd).display;\n",
              "        if (!display || display === 'none') {{\n",
              "            console.log([gd, 'removed!']);\n",
              "            Plotly.purge(gd);\n",
              "            observer.disconnect();\n",
              "        }}\n",
              "}});\n",
              "\n",
              "// Listen for the removal of the full notebook cells\n",
              "var notebookContainer = gd.closest('#notebook-container');\n",
              "if (notebookContainer) {{\n",
              "    x.observe(notebookContainer, {childList: true});\n",
              "}}\n",
              "\n",
              "// Listen for the clearing of the current output cell\n",
              "var outputEl = gd.closest('.output');\n",
              "if (outputEl) {{\n",
              "    x.observe(outputEl, {childList: true});\n",
              "}}\n",
              "\n",
              "                        })                };                            </script>        </div>\n",
              "</body>\n",
              "</html>"
            ]
          },
          "metadata": {}
        }
      ]
    },
    {
      "cell_type": "markdown",
      "metadata": {
        "id": "eO3KFkjvbNaf"
      },
      "source": [
        "Как видно из графика, данные имеют немного  разный масштаб. В случае, если берутся более высокие порядки, то для компенсации эффекта часто для данных применяют перемасштабирование - нормализацию.\n",
        "\n",
        "Этот процесс можно описать следующим выражением:\n",
        "$$ x' =\\frac{x - \\min(x)}{\\max(x) - \\min(x)}$$\n"
      ]
    },
    {
      "cell_type": "code",
      "execution_count": null,
      "metadata": {
        "id": "s7QO0fSPbNaf"
      },
      "outputs": [],
      "source": [
        "class MinMaxScaler:\n",
        "    # Класс нормализации нужен, чтобы \"запомнить\" параметры которые вычитали / делили\n",
        "    def __init__(self):\n",
        "        self.min = 0\n",
        "        self.max = 0\n",
        "    def fit(self,X):\n",
        "        # обучаем - ищем максимальное и минимальное значение\n",
        "        self.min = X.min(axis = 0)\n",
        "        self.max = X.max(axis = 0)\n",
        "        return self\n",
        "    def transform(self,X):\n",
        "        # трансформируем по формуле\n",
        "        return (X- self.min)/(self.max-self.min)\n",
        "    def fit_transform(self,X, y=None):\n",
        "        # питоновское \"объединяем\" два метода в один\n",
        "        return self.fit(X).transform(X)"
      ]
    },
    {
      "cell_type": "markdown",
      "source": [
        "$$ x' =\\frac{x - mean(x)}{std(x)}$$"
      ],
      "metadata": {
        "id": "dvLx8Q0iuFDU"
      }
    },
    {
      "cell_type": "code",
      "source": [
        "class StandardScaler:\n",
        "    # Класс стандартизации нужен, чтобы \"запомнить\" параметры которые вычитали / делили\n",
        "    def __init__(self):\n",
        "        self.mean = 0\n",
        "        self.std = 1\n",
        "    def fit(self,X):\n",
        "        # обучаем - ищем среднее и стандартное отклонение\n",
        "        self.mean = X.mean(axis = 0)\n",
        "        self.std = X.std(axis = 0)\n",
        "        return self\n",
        "    def transform(self,X):\n",
        "        # трансформируем по формуле\n",
        "        return (X- self.mean)/(self.std)\n",
        "    def fit_transform(self,X, y=None):\n",
        "        # питоновское \"объединяем\" два метода в один\n",
        "        return self.fit(X).transform(X)"
      ],
      "metadata": {
        "id": "24DbLXliB-Ej"
      },
      "execution_count": null,
      "outputs": []
    },
    {
      "cell_type": "markdown",
      "source": [
        "Воспользуемся стандартизацией"
      ],
      "metadata": {
        "id": "Gneh-p2QFyvH"
      }
    },
    {
      "cell_type": "code",
      "source": [
        "scaler = StandardScaler() # создаем экземпляр класса\n",
        "x_train_scaled = scaler.fit_transform(x_train_) # обучаем на тренировочных и сразу трансформируем\n",
        "x_test_scaled = scaler.transform(x_test_) # обучаем трансформируем тестовые данные"
      ],
      "metadata": {
        "id": "NIx5KbiGCJIT"
      },
      "execution_count": null,
      "outputs": []
    },
    {
      "cell_type": "markdown",
      "source": [
        "Значения выглядят более однородно"
      ],
      "metadata": {
        "id": "mtrgvlk7GCQV"
      }
    },
    {
      "cell_type": "code",
      "source": [
        "pd.DataFrame(x_test_scaled).tail(4)"
      ],
      "metadata": {
        "colab": {
          "base_uri": "https://localhost:8080/",
          "height": 175
        },
        "id": "K3yG1cOkCLwS",
        "outputId": "c9a43452-fc32-4ed2-ec46-b54356293908"
      },
      "execution_count": null,
      "outputs": [
        {
          "output_type": "execute_result",
          "data": {
            "text/plain": [
              "           0         1         2         3         4         5         6  \\\n",
              "11  1.290826  1.314799  1.202790  1.042037  0.873383  0.713301  0.567758   \n",
              "12 -0.818138 -0.806942 -0.701026 -0.607631 -0.541376 -0.496097 -0.464670   \n",
              "13  0.271678 -0.030467 -0.232614 -0.342675 -0.395187 -0.416225 -0.421213   \n",
              "14  0.860650  0.673987  0.441925  0.236037  0.072468 -0.051594 -0.143407   \n",
              "\n",
              "           7         8         9  \n",
              "11  0.438375  0.324924  0.226372  \n",
              "12 -0.442123 -0.425319 -0.412306  \n",
              "13 -0.418529 -0.412527 -0.405378  \n",
              "14 -0.210200 -0.258052 -0.291783  "
            ],
            "text/html": [
              "\n",
              "  <div id=\"df-bdb9893b-27a7-426e-bbfb-c4493bf42a5a\" class=\"colab-df-container\">\n",
              "    <div>\n",
              "<style scoped>\n",
              "    .dataframe tbody tr th:only-of-type {\n",
              "        vertical-align: middle;\n",
              "    }\n",
              "\n",
              "    .dataframe tbody tr th {\n",
              "        vertical-align: top;\n",
              "    }\n",
              "\n",
              "    .dataframe thead th {\n",
              "        text-align: right;\n",
              "    }\n",
              "</style>\n",
              "<table border=\"1\" class=\"dataframe\">\n",
              "  <thead>\n",
              "    <tr style=\"text-align: right;\">\n",
              "      <th></th>\n",
              "      <th>0</th>\n",
              "      <th>1</th>\n",
              "      <th>2</th>\n",
              "      <th>3</th>\n",
              "      <th>4</th>\n",
              "      <th>5</th>\n",
              "      <th>6</th>\n",
              "      <th>7</th>\n",
              "      <th>8</th>\n",
              "      <th>9</th>\n",
              "    </tr>\n",
              "  </thead>\n",
              "  <tbody>\n",
              "    <tr>\n",
              "      <th>11</th>\n",
              "      <td>1.290826</td>\n",
              "      <td>1.314799</td>\n",
              "      <td>1.202790</td>\n",
              "      <td>1.042037</td>\n",
              "      <td>0.873383</td>\n",
              "      <td>0.713301</td>\n",
              "      <td>0.567758</td>\n",
              "      <td>0.438375</td>\n",
              "      <td>0.324924</td>\n",
              "      <td>0.226372</td>\n",
              "    </tr>\n",
              "    <tr>\n",
              "      <th>12</th>\n",
              "      <td>-0.818138</td>\n",
              "      <td>-0.806942</td>\n",
              "      <td>-0.701026</td>\n",
              "      <td>-0.607631</td>\n",
              "      <td>-0.541376</td>\n",
              "      <td>-0.496097</td>\n",
              "      <td>-0.464670</td>\n",
              "      <td>-0.442123</td>\n",
              "      <td>-0.425319</td>\n",
              "      <td>-0.412306</td>\n",
              "    </tr>\n",
              "    <tr>\n",
              "      <th>13</th>\n",
              "      <td>0.271678</td>\n",
              "      <td>-0.030467</td>\n",
              "      <td>-0.232614</td>\n",
              "      <td>-0.342675</td>\n",
              "      <td>-0.395187</td>\n",
              "      <td>-0.416225</td>\n",
              "      <td>-0.421213</td>\n",
              "      <td>-0.418529</td>\n",
              "      <td>-0.412527</td>\n",
              "      <td>-0.405378</td>\n",
              "    </tr>\n",
              "    <tr>\n",
              "      <th>14</th>\n",
              "      <td>0.860650</td>\n",
              "      <td>0.673987</td>\n",
              "      <td>0.441925</td>\n",
              "      <td>0.236037</td>\n",
              "      <td>0.072468</td>\n",
              "      <td>-0.051594</td>\n",
              "      <td>-0.143407</td>\n",
              "      <td>-0.210200</td>\n",
              "      <td>-0.258052</td>\n",
              "      <td>-0.291783</td>\n",
              "    </tr>\n",
              "  </tbody>\n",
              "</table>\n",
              "</div>\n",
              "    <div class=\"colab-df-buttons\">\n",
              "\n",
              "  <div class=\"colab-df-container\">\n",
              "    <button class=\"colab-df-convert\" onclick=\"convertToInteractive('df-bdb9893b-27a7-426e-bbfb-c4493bf42a5a')\"\n",
              "            title=\"Convert this dataframe to an interactive table.\"\n",
              "            style=\"display:none;\">\n",
              "\n",
              "  <svg xmlns=\"http://www.w3.org/2000/svg\" height=\"24px\" viewBox=\"0 -960 960 960\">\n",
              "    <path d=\"M120-120v-720h720v720H120Zm60-500h600v-160H180v160Zm220 220h160v-160H400v160Zm0 220h160v-160H400v160ZM180-400h160v-160H180v160Zm440 0h160v-160H620v160ZM180-180h160v-160H180v160Zm440 0h160v-160H620v160Z\"/>\n",
              "  </svg>\n",
              "    </button>\n",
              "\n",
              "  <style>\n",
              "    .colab-df-container {\n",
              "      display:flex;\n",
              "      gap: 12px;\n",
              "    }\n",
              "\n",
              "    .colab-df-convert {\n",
              "      background-color: #E8F0FE;\n",
              "      border: none;\n",
              "      border-radius: 50%;\n",
              "      cursor: pointer;\n",
              "      display: none;\n",
              "      fill: #1967D2;\n",
              "      height: 32px;\n",
              "      padding: 0 0 0 0;\n",
              "      width: 32px;\n",
              "    }\n",
              "\n",
              "    .colab-df-convert:hover {\n",
              "      background-color: #E2EBFA;\n",
              "      box-shadow: 0px 1px 2px rgba(60, 64, 67, 0.3), 0px 1px 3px 1px rgba(60, 64, 67, 0.15);\n",
              "      fill: #174EA6;\n",
              "    }\n",
              "\n",
              "    .colab-df-buttons div {\n",
              "      margin-bottom: 4px;\n",
              "    }\n",
              "\n",
              "    [theme=dark] .colab-df-convert {\n",
              "      background-color: #3B4455;\n",
              "      fill: #D2E3FC;\n",
              "    }\n",
              "\n",
              "    [theme=dark] .colab-df-convert:hover {\n",
              "      background-color: #434B5C;\n",
              "      box-shadow: 0px 1px 3px 1px rgba(0, 0, 0, 0.15);\n",
              "      filter: drop-shadow(0px 1px 2px rgba(0, 0, 0, 0.3));\n",
              "      fill: #FFFFFF;\n",
              "    }\n",
              "  </style>\n",
              "\n",
              "    <script>\n",
              "      const buttonEl =\n",
              "        document.querySelector('#df-bdb9893b-27a7-426e-bbfb-c4493bf42a5a button.colab-df-convert');\n",
              "      buttonEl.style.display =\n",
              "        google.colab.kernel.accessAllowed ? 'block' : 'none';\n",
              "\n",
              "      async function convertToInteractive(key) {\n",
              "        const element = document.querySelector('#df-bdb9893b-27a7-426e-bbfb-c4493bf42a5a');\n",
              "        const dataTable =\n",
              "          await google.colab.kernel.invokeFunction('convertToInteractive',\n",
              "                                                    [key], {});\n",
              "        if (!dataTable) return;\n",
              "\n",
              "        const docLinkHtml = 'Like what you see? Visit the ' +\n",
              "          '<a target=\"_blank\" href=https://colab.research.google.com/notebooks/data_table.ipynb>data table notebook</a>'\n",
              "          + ' to learn more about interactive tables.';\n",
              "        element.innerHTML = '';\n",
              "        dataTable['output_type'] = 'display_data';\n",
              "        await google.colab.output.renderOutput(dataTable, element);\n",
              "        const docLink = document.createElement('div');\n",
              "        docLink.innerHTML = docLinkHtml;\n",
              "        element.appendChild(docLink);\n",
              "      }\n",
              "    </script>\n",
              "  </div>\n",
              "\n",
              "\n",
              "    <div id=\"df-4e445aca-1d34-4d72-aa7b-0b0f51ac77bc\">\n",
              "      <button class=\"colab-df-quickchart\" onclick=\"quickchart('df-4e445aca-1d34-4d72-aa7b-0b0f51ac77bc')\"\n",
              "                title=\"Suggest charts\"\n",
              "                style=\"display:none;\">\n",
              "\n",
              "<svg xmlns=\"http://www.w3.org/2000/svg\" height=\"24px\"viewBox=\"0 0 24 24\"\n",
              "     width=\"24px\">\n",
              "    <g>\n",
              "        <path d=\"M19 3H5c-1.1 0-2 .9-2 2v14c0 1.1.9 2 2 2h14c1.1 0 2-.9 2-2V5c0-1.1-.9-2-2-2zM9 17H7v-7h2v7zm4 0h-2V7h2v10zm4 0h-2v-4h2v4z\"/>\n",
              "    </g>\n",
              "</svg>\n",
              "      </button>\n",
              "\n",
              "<style>\n",
              "  .colab-df-quickchart {\n",
              "      --bg-color: #E8F0FE;\n",
              "      --fill-color: #1967D2;\n",
              "      --hover-bg-color: #E2EBFA;\n",
              "      --hover-fill-color: #174EA6;\n",
              "      --disabled-fill-color: #AAA;\n",
              "      --disabled-bg-color: #DDD;\n",
              "  }\n",
              "\n",
              "  [theme=dark] .colab-df-quickchart {\n",
              "      --bg-color: #3B4455;\n",
              "      --fill-color: #D2E3FC;\n",
              "      --hover-bg-color: #434B5C;\n",
              "      --hover-fill-color: #FFFFFF;\n",
              "      --disabled-bg-color: #3B4455;\n",
              "      --disabled-fill-color: #666;\n",
              "  }\n",
              "\n",
              "  .colab-df-quickchart {\n",
              "    background-color: var(--bg-color);\n",
              "    border: none;\n",
              "    border-radius: 50%;\n",
              "    cursor: pointer;\n",
              "    display: none;\n",
              "    fill: var(--fill-color);\n",
              "    height: 32px;\n",
              "    padding: 0;\n",
              "    width: 32px;\n",
              "  }\n",
              "\n",
              "  .colab-df-quickchart:hover {\n",
              "    background-color: var(--hover-bg-color);\n",
              "    box-shadow: 0 1px 2px rgba(60, 64, 67, 0.3), 0 1px 3px 1px rgba(60, 64, 67, 0.15);\n",
              "    fill: var(--button-hover-fill-color);\n",
              "  }\n",
              "\n",
              "  .colab-df-quickchart-complete:disabled,\n",
              "  .colab-df-quickchart-complete:disabled:hover {\n",
              "    background-color: var(--disabled-bg-color);\n",
              "    fill: var(--disabled-fill-color);\n",
              "    box-shadow: none;\n",
              "  }\n",
              "\n",
              "  .colab-df-spinner {\n",
              "    border: 2px solid var(--fill-color);\n",
              "    border-color: transparent;\n",
              "    border-bottom-color: var(--fill-color);\n",
              "    animation:\n",
              "      spin 1s steps(1) infinite;\n",
              "  }\n",
              "\n",
              "  @keyframes spin {\n",
              "    0% {\n",
              "      border-color: transparent;\n",
              "      border-bottom-color: var(--fill-color);\n",
              "      border-left-color: var(--fill-color);\n",
              "    }\n",
              "    20% {\n",
              "      border-color: transparent;\n",
              "      border-left-color: var(--fill-color);\n",
              "      border-top-color: var(--fill-color);\n",
              "    }\n",
              "    30% {\n",
              "      border-color: transparent;\n",
              "      border-left-color: var(--fill-color);\n",
              "      border-top-color: var(--fill-color);\n",
              "      border-right-color: var(--fill-color);\n",
              "    }\n",
              "    40% {\n",
              "      border-color: transparent;\n",
              "      border-right-color: var(--fill-color);\n",
              "      border-top-color: var(--fill-color);\n",
              "    }\n",
              "    60% {\n",
              "      border-color: transparent;\n",
              "      border-right-color: var(--fill-color);\n",
              "    }\n",
              "    80% {\n",
              "      border-color: transparent;\n",
              "      border-right-color: var(--fill-color);\n",
              "      border-bottom-color: var(--fill-color);\n",
              "    }\n",
              "    90% {\n",
              "      border-color: transparent;\n",
              "      border-bottom-color: var(--fill-color);\n",
              "    }\n",
              "  }\n",
              "</style>\n",
              "\n",
              "      <script>\n",
              "        async function quickchart(key) {\n",
              "          const quickchartButtonEl =\n",
              "            document.querySelector('#' + key + ' button');\n",
              "          quickchartButtonEl.disabled = true;  // To prevent multiple clicks.\n",
              "          quickchartButtonEl.classList.add('colab-df-spinner');\n",
              "          try {\n",
              "            const charts = await google.colab.kernel.invokeFunction(\n",
              "                'suggestCharts', [key], {});\n",
              "          } catch (error) {\n",
              "            console.error('Error during call to suggestCharts:', error);\n",
              "          }\n",
              "          quickchartButtonEl.classList.remove('colab-df-spinner');\n",
              "          quickchartButtonEl.classList.add('colab-df-quickchart-complete');\n",
              "        }\n",
              "        (() => {\n",
              "          let quickchartButtonEl =\n",
              "            document.querySelector('#df-4e445aca-1d34-4d72-aa7b-0b0f51ac77bc button');\n",
              "          quickchartButtonEl.style.display =\n",
              "            google.colab.kernel.accessAllowed ? 'block' : 'none';\n",
              "        })();\n",
              "      </script>\n",
              "    </div>\n",
              "    </div>\n",
              "  </div>\n"
            ],
            "application/vnd.google.colaboratory.intrinsic+json": {
              "type": "dataframe",
              "summary": "{\n  \"name\": \"pd\",\n  \"rows\": 4,\n  \"fields\": [\n    {\n      \"column\": 0,\n      \"properties\": {\n        \"dtype\": \"number\",\n        \"std\": 0.9139820581251942,\n        \"min\": -0.8181382266369552,\n        \"max\": 1.290825642929685,\n        \"num_unique_values\": 4,\n        \"samples\": [\n          -0.8181382266369552,\n          0.8606499724008493,\n          1.290825642929685\n        ],\n        \"semantic_type\": \"\",\n        \"description\": \"\"\n      }\n    },\n    {\n      \"column\": 1,\n      \"properties\": {\n        \"dtype\": \"number\",\n        \"std\": 0.9135318714161172,\n        \"min\": -0.8069422973702449,\n        \"max\": 1.314798736793879,\n        \"num_unique_values\": 4,\n        \"samples\": [\n          -0.8069422973702449,\n          0.6739874120010172,\n          1.314798736793879\n        ],\n        \"semantic_type\": \"\",\n        \"description\": \"\"\n      }\n    },\n    {\n      \"column\": 2,\n      \"properties\": {\n        \"dtype\": \"number\",\n        \"std\": 0.8288830065000246,\n        \"min\": -0.7010260722654059,\n        \"max\": 1.2027900254621162,\n        \"num_unique_values\": 4,\n        \"samples\": [\n          -0.7010260722654059,\n          0.4419246467338574,\n          1.2027900254621162\n        ],\n        \"semantic_type\": \"\",\n        \"description\": \"\"\n      }\n    },\n    {\n      \"column\": 3,\n      \"properties\": {\n        \"dtype\": \"number\",\n        \"std\": 0.7306021487654276,\n        \"min\": -0.6076314060793861,\n        \"max\": 1.0420370175953542,\n        \"num_unique_values\": 4,\n        \"samples\": [\n          -0.6076314060793861,\n          0.2360368506900347,\n          1.0420370175953542\n        ],\n        \"semantic_type\": \"\",\n        \"description\": \"\"\n      }\n    },\n    {\n      \"column\": 4,\n      \"properties\": {\n        \"dtype\": \"number\",\n        \"std\": 0.6369951810580847,\n        \"min\": -0.5413756470676596,\n        \"max\": 0.8733830832672721,\n        \"num_unique_values\": 4,\n        \"samples\": [\n          -0.5413756470676596,\n          0.07246763925097019,\n          0.8733830832672721\n        ],\n        \"semantic_type\": \"\",\n        \"description\": \"\"\n      }\n    },\n    {\n      \"column\": 5,\n      \"properties\": {\n        \"dtype\": \"number\",\n        \"std\": 0.5523023900853695,\n        \"min\": -0.4960968294239543,\n        \"max\": 0.713301181108376,\n        \"num_unique_values\": 4,\n        \"samples\": [\n          -0.4960968294239543,\n          -0.051594034197094074,\n          0.713301181108376\n        ],\n        \"semantic_type\": \"\",\n        \"description\": \"\"\n      }\n    },\n    {\n      \"column\": 6,\n      \"properties\": {\n        \"dtype\": \"number\",\n        \"std\": 0.4771444298652451,\n        \"min\": -0.4646698153232342,\n        \"max\": 0.567758199481069,\n        \"num_unique_values\": 4,\n        \"samples\": [\n          -0.4646698153232342,\n          -0.14340739246893217,\n          0.567758199481069\n        ],\n        \"semantic_type\": \"\",\n        \"description\": \"\"\n      }\n    },\n    {\n      \"column\": 7,\n      \"properties\": {\n        \"dtype\": \"number\",\n        \"std\": 0.41109195368186535,\n        \"min\": -0.4421233781223681,\n        \"max\": 0.43837517113315044,\n        \"num_unique_values\": 4,\n        \"samples\": [\n          -0.4421233781223681,\n          -0.21019972618319827,\n          0.43837517113315044\n        ],\n        \"semantic_type\": \"\",\n        \"description\": \"\"\n      }\n    },\n    {\n      \"column\": 8,\n      \"properties\": {\n        \"dtype\": \"number\",\n        \"std\": 0.3533837892937007,\n        \"min\": -0.42531869183880533,\n        \"max\": 0.32492362386315593,\n        \"num_unique_values\": 4,\n        \"samples\": [\n          -0.42531869183880533,\n          -0.25805227621596916,\n          0.32492362386315593\n        ],\n        \"semantic_type\": \"\",\n        \"description\": \"\"\n      }\n    },\n    {\n      \"column\": 9,\n      \"properties\": {\n        \"dtype\": \"number\",\n        \"std\": 0.30317500617872123,\n        \"min\": -0.41230638808865,\n        \"max\": 0.2263720560858921,\n        \"num_unique_values\": 4,\n        \"samples\": [\n          -0.41230638808865,\n          -0.29178275703609474,\n          0.2263720560858921\n        ],\n        \"semantic_type\": \"\",\n        \"description\": \"\"\n      }\n    }\n  ]\n}"
            }
          },
          "metadata": {},
          "execution_count": 463
        }
      ]
    },
    {
      "cell_type": "code",
      "execution_count": null,
      "metadata": {
        "scrolled": false,
        "id": "jskr3zndbNae",
        "outputId": "ce35413b-1116-4992-e9c9-557e092e99a2",
        "colab": {
          "base_uri": "https://localhost:8080/",
          "height": 652
        }
      },
      "outputs": [
        {
          "output_type": "stream",
          "name": "stdout",
          "text": [
            "Коэффициент детерминации на тестовых данных = 0.99, \n",
            " Коэффициент детерминации на тренировочных данных = 0.98\n"
          ]
        },
        {
          "output_type": "display_data",
          "data": {
            "text/html": [
              "<html>\n",
              "<head><meta charset=\"utf-8\" /></head>\n",
              "<body>\n",
              "    <div>            <script src=\"https://cdnjs.cloudflare.com/ajax/libs/mathjax/2.7.5/MathJax.js?config=TeX-AMS-MML_SVG\"></script><script type=\"text/javascript\">if (window.MathJax && window.MathJax.Hub && window.MathJax.Hub.Config) {window.MathJax.Hub.Config({SVG: {font: \"STIX-Web\"}});}</script>                <script type=\"text/javascript\">window.PlotlyConfig = {MathJaxConfig: 'local'};</script>\n",
              "        <script charset=\"utf-8\" src=\"https://cdn.plot.ly/plotly-2.35.2.min.js\"></script>                <div id=\"4f43738b-2752-4512-85ca-b603041a663a\" class=\"plotly-graph-div\" style=\"height:600px; width:1200px;\"></div>            <script type=\"text/javascript\">                                    window.PLOTLYENV=window.PLOTLYENV || {};                                    if (document.getElementById(\"4f43738b-2752-4512-85ca-b603041a663a\")) {                    Plotly.newPlot(                        \"4f43738b-2752-4512-85ca-b603041a663a\",                        [{\"mode\":\"lines+markers\",\"name\":\"Реальные данные\",\"y\":[1.589388443354931,0.6688384130184404,0.605108881472472,0.38054911661617397,0.3045022488224003,0.24252321239669966,0.2586327575294461,0.11649992793316294,0.11327890343456638,0.08875729835755948,0.07679396335754995,0.0702184815130233,0.0702776780439165,0.06431783717391956,0.03836525188958958,0.04487844964513744,0.042968056854620115,0.044053236132942875,0.039118172889368266,0.04329337449863946,0.04290988488158591,0.03631882990346418,0.033867046472061006,0.03621412103793247,0.0352196881784661,0.034925907136311315,0.03282889389801043,0.03199353496696287,0.02954424464017931,0.02903402508549985,0.033104265251876666,0.03206975678650465,0.039524558468807355,0.03838434142007262,0.03704660398135849,0.03310883101410234,0.031188221496179044,0.03197098094663406,0.032420532564319995,0.03323650039723566,0.028760051572476002,0.030423007423702,0.03475968349958145,0.03130825767418409,0.03228449305389156,0.03363617514678584,0.029302884794389895,0.03069528479672207,0.03147346228689653,0.02885184175234467,0.029285789798768228,0.0335386006586495,0.03377279931182736,0.02902014124672303,0.031062422365417286,0.026580403137835974,0.03002983426486743,0.029115056374204043,0.03362055733809514,0.03170511072394123,0.0364436497391616,0.027202249669287623,0.025747970398459316,0.0321383064193834,0.029057477355730228,0.025627777688701933,0.0321919646037657,0.03149344999297508,0.029376775830198945,0.035432275541801325,0.03134026788616693,0.030980645527036502,0.028242087475406453,0.03300864247065427,0.027344187326541085,0.03133685135148356,0.029440804847549847,0.023765658937956353,0.031595781361877066,0.027153169864662034,0.02902764092756545,0.029816712011932672,0.03112878374424364,0.03099759172618964,0.03195336917562755,0.026915482213152354,0.028853481546766736,0.025837427007982337,0.02988207151801696,0.023423781665360813,0.02764306213716766,0.029358197923630626,0.030830523159348422,0.02787005516160099,0.02641077981344839,0.027507685592089336,0.02929524316856507,0.02723153928020714,0.026137386876038275,0.027258349877390654,0.02662489313554664,0.02890652433646962,0.027392232255717755,0.030808404866932697,0.024833559186831507,0.025563373142617335,0.023389611274536086,0.02138886703026159,0.02460813498619061,0.025069487576083467,0.026699947020672486,0.027930802166049696,0.024859345072384194,0.02265173161482205,0.02644907847507079,0.03054160217390566,0.023787724615172198,0.02436999542881363,0.02556183717447011,0.03267926988209812,0.029995114276632137,0.025853801355291334,0.026986872852708867,0.029703588829328047,0.026834988513294127,0.025704422868874317,0.026113892420964367,0.027643906879467977,0.025113221259211824,0.023894679671152656,0.027716181384804285,0.027843849731282285,0.021924260508737026,0.024285526787102676,0.0299680119828683,0.021485460184743947,0.020363139653149318,0.02178211513881549,0.025957647291748806,0.02207002976455595,0.026352397726137816,0.025334262129987996,0.025752259338009474,0.024729174862682297,0.028455653401896906,0.021151555108641844,0.02663734935910068,0.026075429797752493,0.028370252325307398,0.02285079092158935,0.023267016769132613,0.023647854407924752,0.026623655642569147,0.037565786868820755,0.020466028376449865,0.02436410230268477,0.020600780191135065,0.027513219514515713,0.025913698223855135,0.023246080457519913,0.026257850845483925,0.02430980329436959,0.021872552775748608,0.023536231703094178,0.01986780975439542,0.025573313160005023,0.024894785859618906,0.026297551511125034,0.02443221254193312,0.025171031517834275,0.022886421550125866,0.02599530354500107,0.021517042868550322,0.02432365847364549,0.027190475412325027,0.02140042389668794,0.021372165838378393,0.02554434729499297,0.024572633486541512,0.02360522667497992,0.02584009519884519,0.024163626880794237,0.021520238588997955,0.027832477703789202,0.02719654795721113,0.02451866257442564,0.02363197212604732,0.02382813172353327,0.02382441400482742,0.025839008807373588,0.027909235320005377,0.024777069485905544,0.025081803501382664,0.023609073754441597,0.022114473078463193,0.021074902322218873,0.020366811278263917,0.025545148183971127,0.019302750867384817,0.02051119573912337,0.027757529529491176,0.023348788626864264,0.023185384974410615,0.02585539514824978,0.021752814093956095,0.023185420762700033,0.019438490201219027,0.02263206243709879,0.024186593359437132,0.02709049327831499,0.020608823815584057,0.02502296295986761,0.023716579803022587,0.02119474543412719,0.025491840845797357,0.026632889959362888,0.030443227377249617,0.027448818747481715,0.025550497392713138,0.023821562075008684,0.022228705683464595,0.022574856833065936,0.020870752263871577,0.02043530006558884,0.025888181733273008,0.02114005613024849,0.024072606856766533,0.02564293267541745,0.02009560790868993,0.02297739992680925,0.020183598729574023,0.02057580691714176,0.01899855729260804,0.02421907858889895,0.022502487241769856,0.025051139148712574,0.01968519497186942,0.02093168626726373,0.022315408944598113,0.022209718765297332,0.024082334313792315,0.01920629266762975,0.020930035074129258,0.024335244736126638,0.02031707095190758,0.026804892251520263,0.020914720457989405,0.02137092975418263,0.01901639609844738,0.02138986647127651,0.020920915595863745,0.021328337556015618,0.022570664724499805,0.019644652173327594,0.02510240985495336,0.02378553196093105,0.024337232146852184,0.025199188533202063,0.025408050237769347,0.020807282033525124,0.026005608033286873,0.023731591538843095,0.02404603488601243,0.021677637674968636,0.019656497907049438,0.021543538140805514,0.027262144149800875,0.020885812276156285,0.023110353619195688,0.02115642966876384,0.024137702208934308,0.0252514093104155,0.02472987476089928,0.02072351517071104,0.020172836032619594,0.021840946716944865,0.02578687545991494,0.025916598222738167,0.030053497899879808,0.021910819431915023,0.020115060851498293,0.021686733967875772,0.02022713948211222,0.024051477524264925,0.020089849740473245,0.025139301418180045,0.025272691478170017,0.02452964271176942,0.0172889908157818,0.025346784204103308,0.022378137382677125,0.02370920981346035,0.02053635762774447,0.02128511376853768,0.02063257535349587,0.02552396024680164,0.018902053754272896,0.020555127607636746,0.026585250873020546,0.018071928224707236],\"type\":\"scatter\"}],                        {\"template\":{\"data\":{\"barpolar\":[{\"marker\":{\"line\":{\"color\":\"rgb(17,17,17)\",\"width\":0.5},\"pattern\":{\"fillmode\":\"overlay\",\"size\":10,\"solidity\":0.2}},\"type\":\"barpolar\"}],\"bar\":[{\"error_x\":{\"color\":\"#f2f5fa\"},\"error_y\":{\"color\":\"#f2f5fa\"},\"marker\":{\"line\":{\"color\":\"rgb(17,17,17)\",\"width\":0.5},\"pattern\":{\"fillmode\":\"overlay\",\"size\":10,\"solidity\":0.2}},\"type\":\"bar\"}],\"carpet\":[{\"aaxis\":{\"endlinecolor\":\"#A2B1C6\",\"gridcolor\":\"#506784\",\"linecolor\":\"#506784\",\"minorgridcolor\":\"#506784\",\"startlinecolor\":\"#A2B1C6\"},\"baxis\":{\"endlinecolor\":\"#A2B1C6\",\"gridcolor\":\"#506784\",\"linecolor\":\"#506784\",\"minorgridcolor\":\"#506784\",\"startlinecolor\":\"#A2B1C6\"},\"type\":\"carpet\"}],\"choropleth\":[{\"colorbar\":{\"outlinewidth\":0,\"ticks\":\"\"},\"type\":\"choropleth\"}],\"contourcarpet\":[{\"colorbar\":{\"outlinewidth\":0,\"ticks\":\"\"},\"type\":\"contourcarpet\"}],\"contour\":[{\"colorbar\":{\"outlinewidth\":0,\"ticks\":\"\"},\"colorscale\":[[0.0,\"#0d0887\"],[0.1111111111111111,\"#46039f\"],[0.2222222222222222,\"#7201a8\"],[0.3333333333333333,\"#9c179e\"],[0.4444444444444444,\"#bd3786\"],[0.5555555555555556,\"#d8576b\"],[0.6666666666666666,\"#ed7953\"],[0.7777777777777778,\"#fb9f3a\"],[0.8888888888888888,\"#fdca26\"],[1.0,\"#f0f921\"]],\"type\":\"contour\"}],\"heatmapgl\":[{\"colorbar\":{\"outlinewidth\":0,\"ticks\":\"\"},\"colorscale\":[[0.0,\"#0d0887\"],[0.1111111111111111,\"#46039f\"],[0.2222222222222222,\"#7201a8\"],[0.3333333333333333,\"#9c179e\"],[0.4444444444444444,\"#bd3786\"],[0.5555555555555556,\"#d8576b\"],[0.6666666666666666,\"#ed7953\"],[0.7777777777777778,\"#fb9f3a\"],[0.8888888888888888,\"#fdca26\"],[1.0,\"#f0f921\"]],\"type\":\"heatmapgl\"}],\"heatmap\":[{\"colorbar\":{\"outlinewidth\":0,\"ticks\":\"\"},\"colorscale\":[[0.0,\"#0d0887\"],[0.1111111111111111,\"#46039f\"],[0.2222222222222222,\"#7201a8\"],[0.3333333333333333,\"#9c179e\"],[0.4444444444444444,\"#bd3786\"],[0.5555555555555556,\"#d8576b\"],[0.6666666666666666,\"#ed7953\"],[0.7777777777777778,\"#fb9f3a\"],[0.8888888888888888,\"#fdca26\"],[1.0,\"#f0f921\"]],\"type\":\"heatmap\"}],\"histogram2dcontour\":[{\"colorbar\":{\"outlinewidth\":0,\"ticks\":\"\"},\"colorscale\":[[0.0,\"#0d0887\"],[0.1111111111111111,\"#46039f\"],[0.2222222222222222,\"#7201a8\"],[0.3333333333333333,\"#9c179e\"],[0.4444444444444444,\"#bd3786\"],[0.5555555555555556,\"#d8576b\"],[0.6666666666666666,\"#ed7953\"],[0.7777777777777778,\"#fb9f3a\"],[0.8888888888888888,\"#fdca26\"],[1.0,\"#f0f921\"]],\"type\":\"histogram2dcontour\"}],\"histogram2d\":[{\"colorbar\":{\"outlinewidth\":0,\"ticks\":\"\"},\"colorscale\":[[0.0,\"#0d0887\"],[0.1111111111111111,\"#46039f\"],[0.2222222222222222,\"#7201a8\"],[0.3333333333333333,\"#9c179e\"],[0.4444444444444444,\"#bd3786\"],[0.5555555555555556,\"#d8576b\"],[0.6666666666666666,\"#ed7953\"],[0.7777777777777778,\"#fb9f3a\"],[0.8888888888888888,\"#fdca26\"],[1.0,\"#f0f921\"]],\"type\":\"histogram2d\"}],\"histogram\":[{\"marker\":{\"pattern\":{\"fillmode\":\"overlay\",\"size\":10,\"solidity\":0.2}},\"type\":\"histogram\"}],\"mesh3d\":[{\"colorbar\":{\"outlinewidth\":0,\"ticks\":\"\"},\"type\":\"mesh3d\"}],\"parcoords\":[{\"line\":{\"colorbar\":{\"outlinewidth\":0,\"ticks\":\"\"}},\"type\":\"parcoords\"}],\"pie\":[{\"automargin\":true,\"type\":\"pie\"}],\"scatter3d\":[{\"line\":{\"colorbar\":{\"outlinewidth\":0,\"ticks\":\"\"}},\"marker\":{\"colorbar\":{\"outlinewidth\":0,\"ticks\":\"\"}},\"type\":\"scatter3d\"}],\"scattercarpet\":[{\"marker\":{\"colorbar\":{\"outlinewidth\":0,\"ticks\":\"\"}},\"type\":\"scattercarpet\"}],\"scattergeo\":[{\"marker\":{\"colorbar\":{\"outlinewidth\":0,\"ticks\":\"\"}},\"type\":\"scattergeo\"}],\"scattergl\":[{\"marker\":{\"line\":{\"color\":\"#283442\"}},\"type\":\"scattergl\"}],\"scattermapbox\":[{\"marker\":{\"colorbar\":{\"outlinewidth\":0,\"ticks\":\"\"}},\"type\":\"scattermapbox\"}],\"scatterpolargl\":[{\"marker\":{\"colorbar\":{\"outlinewidth\":0,\"ticks\":\"\"}},\"type\":\"scatterpolargl\"}],\"scatterpolar\":[{\"marker\":{\"colorbar\":{\"outlinewidth\":0,\"ticks\":\"\"}},\"type\":\"scatterpolar\"}],\"scatter\":[{\"marker\":{\"line\":{\"color\":\"#283442\"}},\"type\":\"scatter\"}],\"scatterternary\":[{\"marker\":{\"colorbar\":{\"outlinewidth\":0,\"ticks\":\"\"}},\"type\":\"scatterternary\"}],\"surface\":[{\"colorbar\":{\"outlinewidth\":0,\"ticks\":\"\"},\"colorscale\":[[0.0,\"#0d0887\"],[0.1111111111111111,\"#46039f\"],[0.2222222222222222,\"#7201a8\"],[0.3333333333333333,\"#9c179e\"],[0.4444444444444444,\"#bd3786\"],[0.5555555555555556,\"#d8576b\"],[0.6666666666666666,\"#ed7953\"],[0.7777777777777778,\"#fb9f3a\"],[0.8888888888888888,\"#fdca26\"],[1.0,\"#f0f921\"]],\"type\":\"surface\"}],\"table\":[{\"cells\":{\"fill\":{\"color\":\"#506784\"},\"line\":{\"color\":\"rgb(17,17,17)\"}},\"header\":{\"fill\":{\"color\":\"#2a3f5f\"},\"line\":{\"color\":\"rgb(17,17,17)\"}},\"type\":\"table\"}]},\"layout\":{\"annotationdefaults\":{\"arrowcolor\":\"#f2f5fa\",\"arrowhead\":0,\"arrowwidth\":1},\"autotypenumbers\":\"strict\",\"coloraxis\":{\"colorbar\":{\"outlinewidth\":0,\"ticks\":\"\"}},\"colorscale\":{\"diverging\":[[0,\"#8e0152\"],[0.1,\"#c51b7d\"],[0.2,\"#de77ae\"],[0.3,\"#f1b6da\"],[0.4,\"#fde0ef\"],[0.5,\"#f7f7f7\"],[0.6,\"#e6f5d0\"],[0.7,\"#b8e186\"],[0.8,\"#7fbc41\"],[0.9,\"#4d9221\"],[1,\"#276419\"]],\"sequential\":[[0.0,\"#0d0887\"],[0.1111111111111111,\"#46039f\"],[0.2222222222222222,\"#7201a8\"],[0.3333333333333333,\"#9c179e\"],[0.4444444444444444,\"#bd3786\"],[0.5555555555555556,\"#d8576b\"],[0.6666666666666666,\"#ed7953\"],[0.7777777777777778,\"#fb9f3a\"],[0.8888888888888888,\"#fdca26\"],[1.0,\"#f0f921\"]],\"sequentialminus\":[[0.0,\"#0d0887\"],[0.1111111111111111,\"#46039f\"],[0.2222222222222222,\"#7201a8\"],[0.3333333333333333,\"#9c179e\"],[0.4444444444444444,\"#bd3786\"],[0.5555555555555556,\"#d8576b\"],[0.6666666666666666,\"#ed7953\"],[0.7777777777777778,\"#fb9f3a\"],[0.8888888888888888,\"#fdca26\"],[1.0,\"#f0f921\"]]},\"colorway\":[\"#636efa\",\"#EF553B\",\"#00cc96\",\"#ab63fa\",\"#FFA15A\",\"#19d3f3\",\"#FF6692\",\"#B6E880\",\"#FF97FF\",\"#FECB52\"],\"font\":{\"color\":\"#f2f5fa\"},\"geo\":{\"bgcolor\":\"rgb(17,17,17)\",\"lakecolor\":\"rgb(17,17,17)\",\"landcolor\":\"rgb(17,17,17)\",\"showlakes\":true,\"showland\":true,\"subunitcolor\":\"#506784\"},\"hoverlabel\":{\"align\":\"left\"},\"hovermode\":\"closest\",\"mapbox\":{\"style\":\"dark\"},\"paper_bgcolor\":\"rgb(17,17,17)\",\"plot_bgcolor\":\"rgb(17,17,17)\",\"polar\":{\"angularaxis\":{\"gridcolor\":\"#506784\",\"linecolor\":\"#506784\",\"ticks\":\"\"},\"bgcolor\":\"rgb(17,17,17)\",\"radialaxis\":{\"gridcolor\":\"#506784\",\"linecolor\":\"#506784\",\"ticks\":\"\"}},\"scene\":{\"xaxis\":{\"backgroundcolor\":\"rgb(17,17,17)\",\"gridcolor\":\"#506784\",\"gridwidth\":2,\"linecolor\":\"#506784\",\"showbackground\":true,\"ticks\":\"\",\"zerolinecolor\":\"#C8D4E3\"},\"yaxis\":{\"backgroundcolor\":\"rgb(17,17,17)\",\"gridcolor\":\"#506784\",\"gridwidth\":2,\"linecolor\":\"#506784\",\"showbackground\":true,\"ticks\":\"\",\"zerolinecolor\":\"#C8D4E3\"},\"zaxis\":{\"backgroundcolor\":\"rgb(17,17,17)\",\"gridcolor\":\"#506784\",\"gridwidth\":2,\"linecolor\":\"#506784\",\"showbackground\":true,\"ticks\":\"\",\"zerolinecolor\":\"#C8D4E3\"}},\"shapedefaults\":{\"line\":{\"color\":\"#f2f5fa\"}},\"sliderdefaults\":{\"bgcolor\":\"#C8D4E3\",\"bordercolor\":\"rgb(17,17,17)\",\"borderwidth\":1,\"tickwidth\":0},\"ternary\":{\"aaxis\":{\"gridcolor\":\"#506784\",\"linecolor\":\"#506784\",\"ticks\":\"\"},\"baxis\":{\"gridcolor\":\"#506784\",\"linecolor\":\"#506784\",\"ticks\":\"\"},\"bgcolor\":\"rgb(17,17,17)\",\"caxis\":{\"gridcolor\":\"#506784\",\"linecolor\":\"#506784\",\"ticks\":\"\"}},\"title\":{\"x\":0.05},\"updatemenudefaults\":{\"bgcolor\":\"#506784\",\"borderwidth\":0},\"xaxis\":{\"automargin\":true,\"gridcolor\":\"#283442\",\"linecolor\":\"#506784\",\"ticks\":\"\",\"title\":{\"standoff\":15},\"zerolinecolor\":\"#283442\",\"zerolinewidth\":2},\"yaxis\":{\"automargin\":true,\"gridcolor\":\"#283442\",\"linecolor\":\"#506784\",\"ticks\":\"\",\"title\":{\"standoff\":15},\"zerolinecolor\":\"#283442\",\"zerolinewidth\":2}}},\"title\":{\"text\":\"Кривая обучения\"},\"width\":1200,\"height\":600},                        {\"responsive\": true}                    ).then(function(){\n",
              "                            \n",
              "var gd = document.getElementById('4f43738b-2752-4512-85ca-b603041a663a');\n",
              "var x = new MutationObserver(function (mutations, observer) {{\n",
              "        var display = window.getComputedStyle(gd).display;\n",
              "        if (!display || display === 'none') {{\n",
              "            console.log([gd, 'removed!']);\n",
              "            Plotly.purge(gd);\n",
              "            observer.disconnect();\n",
              "        }}\n",
              "}});\n",
              "\n",
              "// Listen for the removal of the full notebook cells\n",
              "var notebookContainer = gd.closest('#notebook-container');\n",
              "if (notebookContainer) {{\n",
              "    x.observe(notebookContainer, {childList: true});\n",
              "}}\n",
              "\n",
              "// Listen for the clearing of the current output cell\n",
              "var outputEl = gd.closest('.output');\n",
              "if (outputEl) {{\n",
              "    x.observe(outputEl, {childList: true});\n",
              "}}\n",
              "\n",
              "                        })                };                            </script>        </div>\n",
              "</body>\n",
              "</html>"
            ]
          },
          "metadata": {}
        }
      ],
      "source": [
        "regr_harm_poly_scale = LinearRegression(learning_rate=0.05,\n",
        "                        epochs=300,batch_size=25,\n",
        "                        n_batches=None\n",
        "                        )\n",
        "\n",
        "regr_harm_poly_scale.fit(x_train_scaled, y_train)\n",
        "\n",
        "print(f'Коэффициент детерминации на тестовых данных = {regr_harm_poly_scale.score(x_test_scaled, y_test):.2f}, \\n Коэффициент детерминации на тренировочных данных = {regr_harm_poly_scale.score(x_train_scaled, y_train):.2f}')\n",
        "\n",
        "regr_harm_poly_scale.plot_cost()\n",
        "\n"
      ]
    },
    {
      "cell_type": "markdown",
      "source": [
        "Обучение можно считать почти завершённым — дальнейшее увеличение количества итераций может не дать значительного улучшения."
      ],
      "metadata": {
        "id": "FGwUpshg8_z-"
      }
    },
    {
      "cell_type": "code",
      "source": [
        "w, b = regr_harm_poly_scale.get_w_and_b()\n",
        "print(w,b)"
      ],
      "metadata": {
        "colab": {
          "base_uri": "https://localhost:8080/"
        },
        "id": "PZDmRw1E1S89",
        "outputId": "a5a75f13-b0d7-4187-b902-1f212fe0c96f"
      },
      "execution_count": null,
      "outputs": [
        {
          "output_type": "stream",
          "name": "stdout",
          "text": [
            "[ 0.68200153  0.12167243  0.08781179  0.23439699 -0.35270971 -0.33247152\n",
            "  0.28501481  0.08138264 -0.25514334  0.11747396] -0.04478864036880582\n"
          ]
        }
      ]
    },
    {
      "cell_type": "code",
      "source": [
        "vis_weigths(np.hstack([b,w]))"
      ],
      "metadata": {
        "colab": {
          "base_uri": "https://localhost:8080/",
          "height": 617
        },
        "id": "gbTPWSgxQJEW",
        "outputId": "f63db13b-7f82-4c61-ae29-c09e1fd058cf"
      },
      "execution_count": null,
      "outputs": [
        {
          "output_type": "display_data",
          "data": {
            "text/html": [
              "<html>\n",
              "<head><meta charset=\"utf-8\" /></head>\n",
              "<body>\n",
              "    <div>            <script src=\"https://cdnjs.cloudflare.com/ajax/libs/mathjax/2.7.5/MathJax.js?config=TeX-AMS-MML_SVG\"></script><script type=\"text/javascript\">if (window.MathJax && window.MathJax.Hub && window.MathJax.Hub.Config) {window.MathJax.Hub.Config({SVG: {font: \"STIX-Web\"}});}</script>                <script type=\"text/javascript\">window.PlotlyConfig = {MathJaxConfig: 'local'};</script>\n",
              "        <script charset=\"utf-8\" src=\"https://cdn.plot.ly/plotly-2.35.2.min.js\"></script>                <div id=\"b458c11c-0682-4a8f-a560-a68df60b608a\" class=\"plotly-graph-div\" style=\"height:600px; width:1200px;\"></div>            <script type=\"text/javascript\">                                    window.PLOTLYENV=window.PLOTLYENV || {};                                    if (document.getElementById(\"b458c11c-0682-4a8f-a560-a68df60b608a\")) {                    Plotly.newPlot(                        \"b458c11c-0682-4a8f-a560-a68df60b608a\",                        [{\"marker\":{\"color\":\"red\"},\"name\":\"отрицательные веса\",\"x\":[0,5,6,9],\"y\":[-0.04478864036880582,-0.35270971474802143,-0.33247151779138556,-0.25514333710386417],\"type\":\"bar\"},{\"marker\":{\"color\":\"blue\"},\"name\":\"положительные веса\",\"x\":[1,2,3,4,7,8,10],\"y\":[0.6820015263171849,0.12167243126993255,0.08781178956999267,0.23439699049883383,0.28501481213111557,0.08138264020485036,0.1174739623138371],\"type\":\"bar\"}],                        {\"template\":{\"data\":{\"barpolar\":[{\"marker\":{\"line\":{\"color\":\"rgb(17,17,17)\",\"width\":0.5},\"pattern\":{\"fillmode\":\"overlay\",\"size\":10,\"solidity\":0.2}},\"type\":\"barpolar\"}],\"bar\":[{\"error_x\":{\"color\":\"#f2f5fa\"},\"error_y\":{\"color\":\"#f2f5fa\"},\"marker\":{\"line\":{\"color\":\"rgb(17,17,17)\",\"width\":0.5},\"pattern\":{\"fillmode\":\"overlay\",\"size\":10,\"solidity\":0.2}},\"type\":\"bar\"}],\"carpet\":[{\"aaxis\":{\"endlinecolor\":\"#A2B1C6\",\"gridcolor\":\"#506784\",\"linecolor\":\"#506784\",\"minorgridcolor\":\"#506784\",\"startlinecolor\":\"#A2B1C6\"},\"baxis\":{\"endlinecolor\":\"#A2B1C6\",\"gridcolor\":\"#506784\",\"linecolor\":\"#506784\",\"minorgridcolor\":\"#506784\",\"startlinecolor\":\"#A2B1C6\"},\"type\":\"carpet\"}],\"choropleth\":[{\"colorbar\":{\"outlinewidth\":0,\"ticks\":\"\"},\"type\":\"choropleth\"}],\"contourcarpet\":[{\"colorbar\":{\"outlinewidth\":0,\"ticks\":\"\"},\"type\":\"contourcarpet\"}],\"contour\":[{\"colorbar\":{\"outlinewidth\":0,\"ticks\":\"\"},\"colorscale\":[[0.0,\"#0d0887\"],[0.1111111111111111,\"#46039f\"],[0.2222222222222222,\"#7201a8\"],[0.3333333333333333,\"#9c179e\"],[0.4444444444444444,\"#bd3786\"],[0.5555555555555556,\"#d8576b\"],[0.6666666666666666,\"#ed7953\"],[0.7777777777777778,\"#fb9f3a\"],[0.8888888888888888,\"#fdca26\"],[1.0,\"#f0f921\"]],\"type\":\"contour\"}],\"heatmapgl\":[{\"colorbar\":{\"outlinewidth\":0,\"ticks\":\"\"},\"colorscale\":[[0.0,\"#0d0887\"],[0.1111111111111111,\"#46039f\"],[0.2222222222222222,\"#7201a8\"],[0.3333333333333333,\"#9c179e\"],[0.4444444444444444,\"#bd3786\"],[0.5555555555555556,\"#d8576b\"],[0.6666666666666666,\"#ed7953\"],[0.7777777777777778,\"#fb9f3a\"],[0.8888888888888888,\"#fdca26\"],[1.0,\"#f0f921\"]],\"type\":\"heatmapgl\"}],\"heatmap\":[{\"colorbar\":{\"outlinewidth\":0,\"ticks\":\"\"},\"colorscale\":[[0.0,\"#0d0887\"],[0.1111111111111111,\"#46039f\"],[0.2222222222222222,\"#7201a8\"],[0.3333333333333333,\"#9c179e\"],[0.4444444444444444,\"#bd3786\"],[0.5555555555555556,\"#d8576b\"],[0.6666666666666666,\"#ed7953\"],[0.7777777777777778,\"#fb9f3a\"],[0.8888888888888888,\"#fdca26\"],[1.0,\"#f0f921\"]],\"type\":\"heatmap\"}],\"histogram2dcontour\":[{\"colorbar\":{\"outlinewidth\":0,\"ticks\":\"\"},\"colorscale\":[[0.0,\"#0d0887\"],[0.1111111111111111,\"#46039f\"],[0.2222222222222222,\"#7201a8\"],[0.3333333333333333,\"#9c179e\"],[0.4444444444444444,\"#bd3786\"],[0.5555555555555556,\"#d8576b\"],[0.6666666666666666,\"#ed7953\"],[0.7777777777777778,\"#fb9f3a\"],[0.8888888888888888,\"#fdca26\"],[1.0,\"#f0f921\"]],\"type\":\"histogram2dcontour\"}],\"histogram2d\":[{\"colorbar\":{\"outlinewidth\":0,\"ticks\":\"\"},\"colorscale\":[[0.0,\"#0d0887\"],[0.1111111111111111,\"#46039f\"],[0.2222222222222222,\"#7201a8\"],[0.3333333333333333,\"#9c179e\"],[0.4444444444444444,\"#bd3786\"],[0.5555555555555556,\"#d8576b\"],[0.6666666666666666,\"#ed7953\"],[0.7777777777777778,\"#fb9f3a\"],[0.8888888888888888,\"#fdca26\"],[1.0,\"#f0f921\"]],\"type\":\"histogram2d\"}],\"histogram\":[{\"marker\":{\"pattern\":{\"fillmode\":\"overlay\",\"size\":10,\"solidity\":0.2}},\"type\":\"histogram\"}],\"mesh3d\":[{\"colorbar\":{\"outlinewidth\":0,\"ticks\":\"\"},\"type\":\"mesh3d\"}],\"parcoords\":[{\"line\":{\"colorbar\":{\"outlinewidth\":0,\"ticks\":\"\"}},\"type\":\"parcoords\"}],\"pie\":[{\"automargin\":true,\"type\":\"pie\"}],\"scatter3d\":[{\"line\":{\"colorbar\":{\"outlinewidth\":0,\"ticks\":\"\"}},\"marker\":{\"colorbar\":{\"outlinewidth\":0,\"ticks\":\"\"}},\"type\":\"scatter3d\"}],\"scattercarpet\":[{\"marker\":{\"colorbar\":{\"outlinewidth\":0,\"ticks\":\"\"}},\"type\":\"scattercarpet\"}],\"scattergeo\":[{\"marker\":{\"colorbar\":{\"outlinewidth\":0,\"ticks\":\"\"}},\"type\":\"scattergeo\"}],\"scattergl\":[{\"marker\":{\"line\":{\"color\":\"#283442\"}},\"type\":\"scattergl\"}],\"scattermapbox\":[{\"marker\":{\"colorbar\":{\"outlinewidth\":0,\"ticks\":\"\"}},\"type\":\"scattermapbox\"}],\"scatterpolargl\":[{\"marker\":{\"colorbar\":{\"outlinewidth\":0,\"ticks\":\"\"}},\"type\":\"scatterpolargl\"}],\"scatterpolar\":[{\"marker\":{\"colorbar\":{\"outlinewidth\":0,\"ticks\":\"\"}},\"type\":\"scatterpolar\"}],\"scatter\":[{\"marker\":{\"line\":{\"color\":\"#283442\"}},\"type\":\"scatter\"}],\"scatterternary\":[{\"marker\":{\"colorbar\":{\"outlinewidth\":0,\"ticks\":\"\"}},\"type\":\"scatterternary\"}],\"surface\":[{\"colorbar\":{\"outlinewidth\":0,\"ticks\":\"\"},\"colorscale\":[[0.0,\"#0d0887\"],[0.1111111111111111,\"#46039f\"],[0.2222222222222222,\"#7201a8\"],[0.3333333333333333,\"#9c179e\"],[0.4444444444444444,\"#bd3786\"],[0.5555555555555556,\"#d8576b\"],[0.6666666666666666,\"#ed7953\"],[0.7777777777777778,\"#fb9f3a\"],[0.8888888888888888,\"#fdca26\"],[1.0,\"#f0f921\"]],\"type\":\"surface\"}],\"table\":[{\"cells\":{\"fill\":{\"color\":\"#506784\"},\"line\":{\"color\":\"rgb(17,17,17)\"}},\"header\":{\"fill\":{\"color\":\"#2a3f5f\"},\"line\":{\"color\":\"rgb(17,17,17)\"}},\"type\":\"table\"}]},\"layout\":{\"annotationdefaults\":{\"arrowcolor\":\"#f2f5fa\",\"arrowhead\":0,\"arrowwidth\":1},\"autotypenumbers\":\"strict\",\"coloraxis\":{\"colorbar\":{\"outlinewidth\":0,\"ticks\":\"\"}},\"colorscale\":{\"diverging\":[[0,\"#8e0152\"],[0.1,\"#c51b7d\"],[0.2,\"#de77ae\"],[0.3,\"#f1b6da\"],[0.4,\"#fde0ef\"],[0.5,\"#f7f7f7\"],[0.6,\"#e6f5d0\"],[0.7,\"#b8e186\"],[0.8,\"#7fbc41\"],[0.9,\"#4d9221\"],[1,\"#276419\"]],\"sequential\":[[0.0,\"#0d0887\"],[0.1111111111111111,\"#46039f\"],[0.2222222222222222,\"#7201a8\"],[0.3333333333333333,\"#9c179e\"],[0.4444444444444444,\"#bd3786\"],[0.5555555555555556,\"#d8576b\"],[0.6666666666666666,\"#ed7953\"],[0.7777777777777778,\"#fb9f3a\"],[0.8888888888888888,\"#fdca26\"],[1.0,\"#f0f921\"]],\"sequentialminus\":[[0.0,\"#0d0887\"],[0.1111111111111111,\"#46039f\"],[0.2222222222222222,\"#7201a8\"],[0.3333333333333333,\"#9c179e\"],[0.4444444444444444,\"#bd3786\"],[0.5555555555555556,\"#d8576b\"],[0.6666666666666666,\"#ed7953\"],[0.7777777777777778,\"#fb9f3a\"],[0.8888888888888888,\"#fdca26\"],[1.0,\"#f0f921\"]]},\"colorway\":[\"#636efa\",\"#EF553B\",\"#00cc96\",\"#ab63fa\",\"#FFA15A\",\"#19d3f3\",\"#FF6692\",\"#B6E880\",\"#FF97FF\",\"#FECB52\"],\"font\":{\"color\":\"#f2f5fa\"},\"geo\":{\"bgcolor\":\"rgb(17,17,17)\",\"lakecolor\":\"rgb(17,17,17)\",\"landcolor\":\"rgb(17,17,17)\",\"showlakes\":true,\"showland\":true,\"subunitcolor\":\"#506784\"},\"hoverlabel\":{\"align\":\"left\"},\"hovermode\":\"closest\",\"mapbox\":{\"style\":\"dark\"},\"paper_bgcolor\":\"rgb(17,17,17)\",\"plot_bgcolor\":\"rgb(17,17,17)\",\"polar\":{\"angularaxis\":{\"gridcolor\":\"#506784\",\"linecolor\":\"#506784\",\"ticks\":\"\"},\"bgcolor\":\"rgb(17,17,17)\",\"radialaxis\":{\"gridcolor\":\"#506784\",\"linecolor\":\"#506784\",\"ticks\":\"\"}},\"scene\":{\"xaxis\":{\"backgroundcolor\":\"rgb(17,17,17)\",\"gridcolor\":\"#506784\",\"gridwidth\":2,\"linecolor\":\"#506784\",\"showbackground\":true,\"ticks\":\"\",\"zerolinecolor\":\"#C8D4E3\"},\"yaxis\":{\"backgroundcolor\":\"rgb(17,17,17)\",\"gridcolor\":\"#506784\",\"gridwidth\":2,\"linecolor\":\"#506784\",\"showbackground\":true,\"ticks\":\"\",\"zerolinecolor\":\"#C8D4E3\"},\"zaxis\":{\"backgroundcolor\":\"rgb(17,17,17)\",\"gridcolor\":\"#506784\",\"gridwidth\":2,\"linecolor\":\"#506784\",\"showbackground\":true,\"ticks\":\"\",\"zerolinecolor\":\"#C8D4E3\"}},\"shapedefaults\":{\"line\":{\"color\":\"#f2f5fa\"}},\"sliderdefaults\":{\"bgcolor\":\"#C8D4E3\",\"bordercolor\":\"rgb(17,17,17)\",\"borderwidth\":1,\"tickwidth\":0},\"ternary\":{\"aaxis\":{\"gridcolor\":\"#506784\",\"linecolor\":\"#506784\",\"ticks\":\"\"},\"baxis\":{\"gridcolor\":\"#506784\",\"linecolor\":\"#506784\",\"ticks\":\"\"},\"bgcolor\":\"rgb(17,17,17)\",\"caxis\":{\"gridcolor\":\"#506784\",\"linecolor\":\"#506784\",\"ticks\":\"\"}},\"title\":{\"x\":0.05},\"updatemenudefaults\":{\"bgcolor\":\"#506784\",\"borderwidth\":0},\"xaxis\":{\"automargin\":true,\"gridcolor\":\"#283442\",\"linecolor\":\"#506784\",\"ticks\":\"\",\"title\":{\"standoff\":15},\"zerolinecolor\":\"#283442\",\"zerolinewidth\":2},\"yaxis\":{\"automargin\":true,\"gridcolor\":\"#283442\",\"linecolor\":\"#506784\",\"ticks\":\"\",\"title\":{\"standoff\":15},\"zerolinecolor\":\"#283442\",\"zerolinewidth\":2}}},\"xaxis\":{\"tickmode\":\"array\",\"tickvals\":[0,1,2,3,4,5,6,7,8,9,10],\"ticktext\":[\"w0\",\"w1\",\"w2\",\"w3\",\"w4\",\"w5\",\"w6\",\"w7\",\"w8\",\"w9\",\"w10\"]},\"title\":{\"text\":\"Веса модели\"},\"width\":1200,\"height\":600},                        {\"responsive\": true}                    ).then(function(){\n",
              "                            \n",
              "var gd = document.getElementById('b458c11c-0682-4a8f-a560-a68df60b608a');\n",
              "var x = new MutationObserver(function (mutations, observer) {{\n",
              "        var display = window.getComputedStyle(gd).display;\n",
              "        if (!display || display === 'none') {{\n",
              "            console.log([gd, 'removed!']);\n",
              "            Plotly.purge(gd);\n",
              "            observer.disconnect();\n",
              "        }}\n",
              "}});\n",
              "\n",
              "// Listen for the removal of the full notebook cells\n",
              "var notebookContainer = gd.closest('#notebook-container');\n",
              "if (notebookContainer) {{\n",
              "    x.observe(notebookContainer, {childList: true});\n",
              "}}\n",
              "\n",
              "// Listen for the clearing of the current output cell\n",
              "var outputEl = gd.closest('.output');\n",
              "if (outputEl) {{\n",
              "    x.observe(outputEl, {childList: true});\n",
              "}}\n",
              "\n",
              "                        })                };                            </script>        </div>\n",
              "</body>\n",
              "</html>"
            ]
          },
          "metadata": {}
        }
      ]
    },
    {
      "cell_type": "code",
      "source": [
        "np.sum(np.abs(w))"
      ],
      "metadata": {
        "colab": {
          "base_uri": "https://localhost:8080/"
        },
        "id": "fy7xEJNEbAM2",
        "outputId": "6f85fce7-00c6-4866-db05-967ec9fb80d0"
      },
      "execution_count": null,
      "outputs": [
        {
          "output_type": "execute_result",
          "data": {
            "text/plain": [
              "np.float64(2.550078721949018)"
            ]
          },
          "metadata": {},
          "execution_count": 467
        }
      ]
    },
    {
      "cell_type": "markdown",
      "metadata": {
        "id": "I1qSC8MJbNae"
      },
      "source": [
        "Теперь можно ознакомиться с результатом стандартизации"
      ]
    },
    {
      "cell_type": "code",
      "execution_count": null,
      "metadata": {
        "id": "s7IDq2ZubNae",
        "colab": {
          "base_uri": "https://localhost:8080/",
          "height": 617
        },
        "outputId": "31b8fa9d-7267-4bed-ff89-e55ddc8f288f"
      },
      "outputs": [
        {
          "output_type": "display_data",
          "data": {
            "text/html": [
              "<html>\n",
              "<head><meta charset=\"utf-8\" /></head>\n",
              "<body>\n",
              "    <div>            <script src=\"https://cdnjs.cloudflare.com/ajax/libs/mathjax/2.7.5/MathJax.js?config=TeX-AMS-MML_SVG\"></script><script type=\"text/javascript\">if (window.MathJax && window.MathJax.Hub && window.MathJax.Hub.Config) {window.MathJax.Hub.Config({SVG: {font: \"STIX-Web\"}});}</script>                <script type=\"text/javascript\">window.PlotlyConfig = {MathJaxConfig: 'local'};</script>\n",
              "        <script charset=\"utf-8\" src=\"https://cdn.plot.ly/plotly-2.35.2.min.js\"></script>                <div id=\"73c76f22-e9f9-4691-a86e-1e910c512ca4\" class=\"plotly-graph-div\" style=\"height:600px; width:1200px;\"></div>            <script type=\"text/javascript\">                                    window.PLOTLYENV=window.PLOTLYENV || {};                                    if (document.getElementById(\"73c76f22-e9f9-4691-a86e-1e910c512ca4\")) {                    Plotly.newPlot(                        \"73c76f22-e9f9-4691-a86e-1e910c512ca4\",                        [{\"marker\":{\"color\":\"Blue\",\"size\":5},\"mode\":\"markers\",\"name\":\"Предсказание на x_test\",\"x\":[0.04864275845245291,0.8717318949578305,0.6362194811532859,0.39221749528184063,0.7665422633556482,0.17857244474527742,0.3836532251490256,0.3059331605412711,1.0156872220654944,0.31899079313911943,0.14607762928177764,0.8465517233413815,0.20909789571439721,0.5385050446476917,0.7165271498113673],\"y\":[-1.0387190745019423,0.9762404901821341,0.48186550501615694,-0.18395270661044835,0.7955336615392123,-0.732140033535564,-0.20700190251325323,-0.41232347259394914,1.032542717838007,-0.37834546348079323,-0.8104993286422615,0.9413839883672881,-0.6573785845017371,0.21732972285694138,0.6834912721073133],\"type\":\"scatter\"},{\"marker\":{\"color\":\"LightSkyBlue\",\"size\":10},\"mode\":\"markers\",\"name\":\"Предсказание на x_train\",\"x\":[0.1935791331541123,0.7414918695374813,0.5495236501799443,0.9522380983100062,0.3049744424524801,1.0112075003926706,0.47759537064635094,0.46092661359718623,0.620375085805519,0.3186017317977882,0.19206075359692815,0.06812186887562248,0.6937917137886659,0.16335707969615926,0.060825016427191375,0.12779814068180767,0.8222343440291981,0.9936706109775585,0.995585693560036,0.2223609967255541,0.16338233821234197,0.2709937630302383,0.45233176577359235,0.6294861682850023,0.5725136657422902,0.021556032019184653,0.9070575387604193,0.5185480476776199,0.6269136986542038,0.1022819986076801,0.5446139582330638,0.19040666040567744,0.6407308530458254,0.03601157510112919,0.3264230755616875],\"y\":[-0.6955296493276342,0.7410443899264336,0.2476602939609736,1.04148465919444,-0.4148095743829303,1.0351670418154484,0.04921746503733051,0.0033203804581381016,0.4399388344722591,-0.3793610116075515,-0.699246381160625,-0.9938280677020411,0.6286667262682442,-0.768983834075888,-1.010683893190719,-0.8540531510218733,0.9022661784108525,1.0424271166645434,1.0418641535570348,-0.6245329476515398,-0.7689228966298373,-0.5021537887906943,-0.020292962393170515,0.4641129473931969,0.3106823583177464,-1.1005987152074532,1.0142125309133077,0.16227375367426092,0.457304691054462,-0.9142527001547165,0.23415335379785363,-0.7032920964006997,0.49370236916643984,-1.0676514510298478,-0.3589085362639466],\"type\":\"scatter\"},{\"marker\":{\"color\":\"Red\",\"size\":5},\"mode\":\"markers\",\"name\":\"Тренировочные данные\",\"x\":[0.1935791331541123,0.7414918695374813,0.5495236501799443,0.9522380983100062,0.3049744424524801,1.0112075003926706,0.47759537064635094,0.46092661359718623,0.620375085805519,0.3186017317977882,0.19206075359692815,0.06812186887562248,0.6937917137886659,0.16335707969615926,0.060825016427191375,0.12779814068180767,0.8222343440291981,0.9936706109775585,0.995585693560036,0.2223609967255541,0.16338233821234197,0.2709937630302383,0.45233176577359235,0.6294861682850023,0.5725136657422902,0.021556032019184653,0.9070575387604193,0.5185480476776199,0.6269136986542038,0.1022819986076801,0.5446139582330638,0.19040666040567744,0.6407308530458254,0.03601157510112919,0.3264230755616875],\"y\":[-0.6574288402766963,0.5605193359905387,0.3066158284476615,0.9480843377216104,-0.4821154209074536,0.9394337392365557,0.04737282835006827,0.1395163319596294,0.46753304271136953,-0.31664189321495323,-0.7894266317358266,-1.0695970167815658,0.6262157405693716,-0.7437527019770642,-0.9599255756172168,-0.8859000499605691,0.9317182013142993,1.0891567539494484,1.0300655847773865,-0.5631752750991205,-0.9543714462911532,-0.623764926829987,0.05901735971355149,0.23356862394593314,0.4911769631659647,-0.8919117320329665,0.8995096788589202,0.27875626526021086,0.6451479777470205,-0.9502612944387703,0.1915022876684118,-0.7636436939258158,0.5338723871011308,-0.9368676927689883,-0.41119053998701494],\"type\":\"scatter\"},{\"marker\":{\"color\":\"green\",\"size\":10},\"mode\":\"lines+markers\",\"name\":\"Истинные значения\",\"opacity\":0.7,\"x\":[0.021556032019184653,0.03601157510112919,0.04864275845245291,0.060825016427191375,0.06812186887562248,0.1022819986076801,0.12779814068180767,0.14607762928177764,0.16335707969615926,0.16338233821234197,0.17857244474527742,0.19040666040567744,0.19206075359692815,0.1935791331541123,0.20909789571439721,0.2223609967255541,0.2709937630302383,0.3049744424524801,0.3059331605412711,0.3186017317977882,0.31899079313911943,0.3264230755616875,0.3836532251490256,0.39221749528184063,0.45233176577359235,0.46092661359718623,0.47759537064635094,0.5185480476776199,0.5385050446476917,0.5446139582330638,0.5495236501799443,0.5725136657422902,0.620375085805519,0.6269136986542038,0.6294861682850023,0.6362194811532859,0.6407308530458254,0.6937917137886659,0.7165271498113673,0.7414918695374813,0.7665422633556482,0.8222343440291981,0.8465517233413815,0.8717318949578305,0.9070575387604193,0.9522380983100062,0.9936706109775585,0.995585693560036,1.0112075003926706,1.0156872220654944],\"y\":[-0.9657583900325075,-0.9540045208879854,-0.9423221059768387,-0.9298152060582879,-0.9217448177448232,-0.8782768735992994,-0.8398361728645903,-0.8092645826539571,-0.7781145309339104,-0.7780674307548798,-0.748932228711473,-0.7251354658841841,-0.7217344317052308,-0.7185964691607831,-0.6856619709723478,-0.6563032870107404,-0.5398431745077231,-0.45119418332233213,-0.4486166957183381,-0.41419640592718915,-0.4131289929563197,-0.3926246423206332,-0.22853411490479733,-0.20321374411641238,-0.02223522252586832,0.003892329102547121,0.054573840508101656,0.17840297547100842,0.237944194983681,0.2560142631289242,0.2704762678968201,0.33737330651936775,0.47111564662236466,0.48868361216561984,0.4955431343549076,0.5133537979793605,0.5251676802773138,0.6561164756159583,0.7071648567914334,0.7592762274506281,0.8071086320415715,0.8960069441631247,0.9267369217601253,0.9530868009971594,0.980359039148239,0.998260042080064,0.997616542179241,0.997190473811418,0.9924097596132596,0.9906106557332874],\"type\":\"scatter\"},{\"marker\":{\"color\":\"Purple\",\"size\":5},\"mode\":\"markers\",\"name\":\"Новые данные\",\"x\":[1.05,1.07,1.08,1.09,1.1],\"y\":[1.0016296776468212,0.9744721234348407,0.9582888642635995,0.9403439817585351,0.9206233583220071],\"type\":\"scatter\"}],                        {\"template\":{\"data\":{\"barpolar\":[{\"marker\":{\"line\":{\"color\":\"rgb(17,17,17)\",\"width\":0.5},\"pattern\":{\"fillmode\":\"overlay\",\"size\":10,\"solidity\":0.2}},\"type\":\"barpolar\"}],\"bar\":[{\"error_x\":{\"color\":\"#f2f5fa\"},\"error_y\":{\"color\":\"#f2f5fa\"},\"marker\":{\"line\":{\"color\":\"rgb(17,17,17)\",\"width\":0.5},\"pattern\":{\"fillmode\":\"overlay\",\"size\":10,\"solidity\":0.2}},\"type\":\"bar\"}],\"carpet\":[{\"aaxis\":{\"endlinecolor\":\"#A2B1C6\",\"gridcolor\":\"#506784\",\"linecolor\":\"#506784\",\"minorgridcolor\":\"#506784\",\"startlinecolor\":\"#A2B1C6\"},\"baxis\":{\"endlinecolor\":\"#A2B1C6\",\"gridcolor\":\"#506784\",\"linecolor\":\"#506784\",\"minorgridcolor\":\"#506784\",\"startlinecolor\":\"#A2B1C6\"},\"type\":\"carpet\"}],\"choropleth\":[{\"colorbar\":{\"outlinewidth\":0,\"ticks\":\"\"},\"type\":\"choropleth\"}],\"contourcarpet\":[{\"colorbar\":{\"outlinewidth\":0,\"ticks\":\"\"},\"type\":\"contourcarpet\"}],\"contour\":[{\"colorbar\":{\"outlinewidth\":0,\"ticks\":\"\"},\"colorscale\":[[0.0,\"#0d0887\"],[0.1111111111111111,\"#46039f\"],[0.2222222222222222,\"#7201a8\"],[0.3333333333333333,\"#9c179e\"],[0.4444444444444444,\"#bd3786\"],[0.5555555555555556,\"#d8576b\"],[0.6666666666666666,\"#ed7953\"],[0.7777777777777778,\"#fb9f3a\"],[0.8888888888888888,\"#fdca26\"],[1.0,\"#f0f921\"]],\"type\":\"contour\"}],\"heatmapgl\":[{\"colorbar\":{\"outlinewidth\":0,\"ticks\":\"\"},\"colorscale\":[[0.0,\"#0d0887\"],[0.1111111111111111,\"#46039f\"],[0.2222222222222222,\"#7201a8\"],[0.3333333333333333,\"#9c179e\"],[0.4444444444444444,\"#bd3786\"],[0.5555555555555556,\"#d8576b\"],[0.6666666666666666,\"#ed7953\"],[0.7777777777777778,\"#fb9f3a\"],[0.8888888888888888,\"#fdca26\"],[1.0,\"#f0f921\"]],\"type\":\"heatmapgl\"}],\"heatmap\":[{\"colorbar\":{\"outlinewidth\":0,\"ticks\":\"\"},\"colorscale\":[[0.0,\"#0d0887\"],[0.1111111111111111,\"#46039f\"],[0.2222222222222222,\"#7201a8\"],[0.3333333333333333,\"#9c179e\"],[0.4444444444444444,\"#bd3786\"],[0.5555555555555556,\"#d8576b\"],[0.6666666666666666,\"#ed7953\"],[0.7777777777777778,\"#fb9f3a\"],[0.8888888888888888,\"#fdca26\"],[1.0,\"#f0f921\"]],\"type\":\"heatmap\"}],\"histogram2dcontour\":[{\"colorbar\":{\"outlinewidth\":0,\"ticks\":\"\"},\"colorscale\":[[0.0,\"#0d0887\"],[0.1111111111111111,\"#46039f\"],[0.2222222222222222,\"#7201a8\"],[0.3333333333333333,\"#9c179e\"],[0.4444444444444444,\"#bd3786\"],[0.5555555555555556,\"#d8576b\"],[0.6666666666666666,\"#ed7953\"],[0.7777777777777778,\"#fb9f3a\"],[0.8888888888888888,\"#fdca26\"],[1.0,\"#f0f921\"]],\"type\":\"histogram2dcontour\"}],\"histogram2d\":[{\"colorbar\":{\"outlinewidth\":0,\"ticks\":\"\"},\"colorscale\":[[0.0,\"#0d0887\"],[0.1111111111111111,\"#46039f\"],[0.2222222222222222,\"#7201a8\"],[0.3333333333333333,\"#9c179e\"],[0.4444444444444444,\"#bd3786\"],[0.5555555555555556,\"#d8576b\"],[0.6666666666666666,\"#ed7953\"],[0.7777777777777778,\"#fb9f3a\"],[0.8888888888888888,\"#fdca26\"],[1.0,\"#f0f921\"]],\"type\":\"histogram2d\"}],\"histogram\":[{\"marker\":{\"pattern\":{\"fillmode\":\"overlay\",\"size\":10,\"solidity\":0.2}},\"type\":\"histogram\"}],\"mesh3d\":[{\"colorbar\":{\"outlinewidth\":0,\"ticks\":\"\"},\"type\":\"mesh3d\"}],\"parcoords\":[{\"line\":{\"colorbar\":{\"outlinewidth\":0,\"ticks\":\"\"}},\"type\":\"parcoords\"}],\"pie\":[{\"automargin\":true,\"type\":\"pie\"}],\"scatter3d\":[{\"line\":{\"colorbar\":{\"outlinewidth\":0,\"ticks\":\"\"}},\"marker\":{\"colorbar\":{\"outlinewidth\":0,\"ticks\":\"\"}},\"type\":\"scatter3d\"}],\"scattercarpet\":[{\"marker\":{\"colorbar\":{\"outlinewidth\":0,\"ticks\":\"\"}},\"type\":\"scattercarpet\"}],\"scattergeo\":[{\"marker\":{\"colorbar\":{\"outlinewidth\":0,\"ticks\":\"\"}},\"type\":\"scattergeo\"}],\"scattergl\":[{\"marker\":{\"line\":{\"color\":\"#283442\"}},\"type\":\"scattergl\"}],\"scattermapbox\":[{\"marker\":{\"colorbar\":{\"outlinewidth\":0,\"ticks\":\"\"}},\"type\":\"scattermapbox\"}],\"scatterpolargl\":[{\"marker\":{\"colorbar\":{\"outlinewidth\":0,\"ticks\":\"\"}},\"type\":\"scatterpolargl\"}],\"scatterpolar\":[{\"marker\":{\"colorbar\":{\"outlinewidth\":0,\"ticks\":\"\"}},\"type\":\"scatterpolar\"}],\"scatter\":[{\"marker\":{\"line\":{\"color\":\"#283442\"}},\"type\":\"scatter\"}],\"scatterternary\":[{\"marker\":{\"colorbar\":{\"outlinewidth\":0,\"ticks\":\"\"}},\"type\":\"scatterternary\"}],\"surface\":[{\"colorbar\":{\"outlinewidth\":0,\"ticks\":\"\"},\"colorscale\":[[0.0,\"#0d0887\"],[0.1111111111111111,\"#46039f\"],[0.2222222222222222,\"#7201a8\"],[0.3333333333333333,\"#9c179e\"],[0.4444444444444444,\"#bd3786\"],[0.5555555555555556,\"#d8576b\"],[0.6666666666666666,\"#ed7953\"],[0.7777777777777778,\"#fb9f3a\"],[0.8888888888888888,\"#fdca26\"],[1.0,\"#f0f921\"]],\"type\":\"surface\"}],\"table\":[{\"cells\":{\"fill\":{\"color\":\"#506784\"},\"line\":{\"color\":\"rgb(17,17,17)\"}},\"header\":{\"fill\":{\"color\":\"#2a3f5f\"},\"line\":{\"color\":\"rgb(17,17,17)\"}},\"type\":\"table\"}]},\"layout\":{\"annotationdefaults\":{\"arrowcolor\":\"#f2f5fa\",\"arrowhead\":0,\"arrowwidth\":1},\"autotypenumbers\":\"strict\",\"coloraxis\":{\"colorbar\":{\"outlinewidth\":0,\"ticks\":\"\"}},\"colorscale\":{\"diverging\":[[0,\"#8e0152\"],[0.1,\"#c51b7d\"],[0.2,\"#de77ae\"],[0.3,\"#f1b6da\"],[0.4,\"#fde0ef\"],[0.5,\"#f7f7f7\"],[0.6,\"#e6f5d0\"],[0.7,\"#b8e186\"],[0.8,\"#7fbc41\"],[0.9,\"#4d9221\"],[1,\"#276419\"]],\"sequential\":[[0.0,\"#0d0887\"],[0.1111111111111111,\"#46039f\"],[0.2222222222222222,\"#7201a8\"],[0.3333333333333333,\"#9c179e\"],[0.4444444444444444,\"#bd3786\"],[0.5555555555555556,\"#d8576b\"],[0.6666666666666666,\"#ed7953\"],[0.7777777777777778,\"#fb9f3a\"],[0.8888888888888888,\"#fdca26\"],[1.0,\"#f0f921\"]],\"sequentialminus\":[[0.0,\"#0d0887\"],[0.1111111111111111,\"#46039f\"],[0.2222222222222222,\"#7201a8\"],[0.3333333333333333,\"#9c179e\"],[0.4444444444444444,\"#bd3786\"],[0.5555555555555556,\"#d8576b\"],[0.6666666666666666,\"#ed7953\"],[0.7777777777777778,\"#fb9f3a\"],[0.8888888888888888,\"#fdca26\"],[1.0,\"#f0f921\"]]},\"colorway\":[\"#636efa\",\"#EF553B\",\"#00cc96\",\"#ab63fa\",\"#FFA15A\",\"#19d3f3\",\"#FF6692\",\"#B6E880\",\"#FF97FF\",\"#FECB52\"],\"font\":{\"color\":\"#f2f5fa\"},\"geo\":{\"bgcolor\":\"rgb(17,17,17)\",\"lakecolor\":\"rgb(17,17,17)\",\"landcolor\":\"rgb(17,17,17)\",\"showlakes\":true,\"showland\":true,\"subunitcolor\":\"#506784\"},\"hoverlabel\":{\"align\":\"left\"},\"hovermode\":\"closest\",\"mapbox\":{\"style\":\"dark\"},\"paper_bgcolor\":\"rgb(17,17,17)\",\"plot_bgcolor\":\"rgb(17,17,17)\",\"polar\":{\"angularaxis\":{\"gridcolor\":\"#506784\",\"linecolor\":\"#506784\",\"ticks\":\"\"},\"bgcolor\":\"rgb(17,17,17)\",\"radialaxis\":{\"gridcolor\":\"#506784\",\"linecolor\":\"#506784\",\"ticks\":\"\"}},\"scene\":{\"xaxis\":{\"backgroundcolor\":\"rgb(17,17,17)\",\"gridcolor\":\"#506784\",\"gridwidth\":2,\"linecolor\":\"#506784\",\"showbackground\":true,\"ticks\":\"\",\"zerolinecolor\":\"#C8D4E3\"},\"yaxis\":{\"backgroundcolor\":\"rgb(17,17,17)\",\"gridcolor\":\"#506784\",\"gridwidth\":2,\"linecolor\":\"#506784\",\"showbackground\":true,\"ticks\":\"\",\"zerolinecolor\":\"#C8D4E3\"},\"zaxis\":{\"backgroundcolor\":\"rgb(17,17,17)\",\"gridcolor\":\"#506784\",\"gridwidth\":2,\"linecolor\":\"#506784\",\"showbackground\":true,\"ticks\":\"\",\"zerolinecolor\":\"#C8D4E3\"}},\"shapedefaults\":{\"line\":{\"color\":\"#f2f5fa\"}},\"sliderdefaults\":{\"bgcolor\":\"#C8D4E3\",\"bordercolor\":\"rgb(17,17,17)\",\"borderwidth\":1,\"tickwidth\":0},\"ternary\":{\"aaxis\":{\"gridcolor\":\"#506784\",\"linecolor\":\"#506784\",\"ticks\":\"\"},\"baxis\":{\"gridcolor\":\"#506784\",\"linecolor\":\"#506784\",\"ticks\":\"\"},\"bgcolor\":\"rgb(17,17,17)\",\"caxis\":{\"gridcolor\":\"#506784\",\"linecolor\":\"#506784\",\"ticks\":\"\"}},\"title\":{\"x\":0.05},\"updatemenudefaults\":{\"bgcolor\":\"#506784\",\"borderwidth\":0},\"xaxis\":{\"automargin\":true,\"gridcolor\":\"#283442\",\"linecolor\":\"#506784\",\"ticks\":\"\",\"title\":{\"standoff\":15},\"zerolinecolor\":\"#283442\",\"zerolinewidth\":2},\"yaxis\":{\"automargin\":true,\"gridcolor\":\"#283442\",\"linecolor\":\"#506784\",\"ticks\":\"\",\"title\":{\"standoff\":15},\"zerolinecolor\":\"#283442\",\"zerolinewidth\":2}}},\"title\":{\"text\":\"Предсказание модели\"},\"width\":1200,\"height\":600},                        {\"responsive\": true}                    ).then(function(){\n",
              "                            \n",
              "var gd = document.getElementById('73c76f22-e9f9-4691-a86e-1e910c512ca4');\n",
              "var x = new MutationObserver(function (mutations, observer) {{\n",
              "        var display = window.getComputedStyle(gd).display;\n",
              "        if (!display || display === 'none') {{\n",
              "            console.log([gd, 'removed!']);\n",
              "            Plotly.purge(gd);\n",
              "            observer.disconnect();\n",
              "        }}\n",
              "}});\n",
              "\n",
              "// Listen for the removal of the full notebook cells\n",
              "var notebookContainer = gd.closest('#notebook-container');\n",
              "if (notebookContainer) {{\n",
              "    x.observe(notebookContainer, {childList: true});\n",
              "}}\n",
              "\n",
              "// Listen for the clearing of the current output cell\n",
              "var outputEl = gd.closest('.output');\n",
              "if (outputEl) {{\n",
              "    x.observe(outputEl, {childList: true});\n",
              "}}\n",
              "\n",
              "                        })                };                            </script>        </div>\n",
              "</body>\n",
              "</html>"
            ]
          },
          "metadata": {}
        }
      ],
      "source": [
        "fig = go.Figure()\n",
        "    # рисуем с помощью библиотеки plotly\n",
        "fig.add_trace(\n",
        "    go.Scatter(\n",
        "    x=x_test[:,0],\n",
        "    y=regr_harm_poly_scale.predict(x_test_scaled),\n",
        "    mode='markers',\n",
        "    name='Предсказание на x_test',\n",
        "    marker=dict(size = 5,\n",
        "                color='Blue')\n",
        "    )\n",
        ")\n",
        "fig.add_trace(\n",
        "    go.Scatter(\n",
        "    x=x_train[:,0],\n",
        "    y=regr_harm_poly_scale.predict(x_train_scaled),\n",
        "    mode='markers',\n",
        "    name='Предсказание на x_train',\n",
        "    marker=dict(size = 10,\n",
        "                color='LightSkyBlue',\n",
        "                ),\n",
        "\n",
        "    )\n",
        ")\n",
        "\n",
        "fig.add_trace(\n",
        "    go.Scatter(\n",
        "    x=x_train[:,0],\n",
        "    y=y_train,\n",
        "    mode='markers',\n",
        "    name='Тренировочные данные',\n",
        "    marker=dict(size = 5,\n",
        "                color='Red')\n",
        "    )\n",
        ")\n",
        "\n",
        "fig.add_trace(\n",
        "    go.Scatter(\n",
        "    x=x[:,0],\n",
        "    y=y_true[:,0],\n",
        "    mode='lines+markers',\n",
        "    name='Истинные значения',\n",
        "    opacity = 0.7,\n",
        "    marker=dict(size = 10,\n",
        "                color='green',),\n",
        "\n",
        "    )\n",
        ")\n",
        "\n",
        "# возьмем дополнительную точку \"вне\" тренировочного диапазона\n",
        "x_new = np.array([1.05, 1.07, 1.08, 1.09, 1.1])\n",
        "fig.add_trace(\n",
        "    go.Scatter(\n",
        "    x=x_new,\n",
        "    y=regr_harm_poly_scale.predict(scaler.transform(to_polynom(x_new, order=order))),\n",
        "    mode='markers',\n",
        "    name='Новые данные',\n",
        "    marker=dict(size = 5,\n",
        "                color='Purple')\n",
        "    )\n",
        ")\n",
        "\n",
        "fig.update_layout(\n",
        "        title='Предсказание модели',\n",
        "        width=1200,\n",
        "        height=600,\n",
        "    template = \"plotly_dark\"\n",
        "        )\n",
        "\n",
        "fig.show()\n"
      ]
    },
    {
      "cell_type": "markdown",
      "source": [
        "Модель показала высокую точность предсказаний как на тренировочных, так и на тестовых и новых данных. Стандартизация дала возможность улучшить результат."
      ],
      "metadata": {
        "id": "PqDdCSAr9t5U"
      }
    },
    {
      "cell_type": "markdown",
      "source": [
        "# Метод наименьших квадратов"
      ],
      "metadata": {
        "id": "A81DcgGYzDjN"
      }
    },
    {
      "cell_type": "markdown",
      "metadata": {
        "id": "gk23HkppbNah"
      },
      "source": [
        "Для более детального сравнения также можно посмотреть на аналитическое решение проблемы - методом наименьших квадратов"
      ]
    },
    {
      "cell_type": "code",
      "execution_count": null,
      "metadata": {
        "id": "EPQsz4UhbNah"
      },
      "outputs": [],
      "source": [
        "order = 10\n",
        "x_train_ls = to_polynom(x_train, order=order, add_bias=True)\n",
        "x_test_ls  = to_polynom(x_test,  order=order, add_bias=True)\n",
        "# в библиотеке numpy есть реализация МНК в рамках модуля линейной алгебры linalg.lstsq LeaSTSQuares\n",
        "weights  = np.linalg.lstsq(x_train_ls, y_train, rcond=None)[0] #с учетом смещения"
      ]
    },
    {
      "cell_type": "code",
      "execution_count": null,
      "metadata": {
        "id": "77fuNyuvbNah",
        "colab": {
          "base_uri": "https://localhost:8080/"
        },
        "outputId": "1addb0c9-e337-43d4-97d2-bdbb60e89a8e"
      },
      "outputs": [
        {
          "output_type": "execute_result",
          "data": {
            "text/plain": [
              "array([-8.50033922e-01, -4.79714746e-01, -1.10497502e+02,  1.99145059e+03,\n",
              "       -1.40917669e+04,  5.41471668e+04, -1.24088450e+05,  1.74286168e+05,\n",
              "       -1.47152041e+05,  6.85834531e+04, -1.35631346e+04])"
            ]
          },
          "metadata": {},
          "execution_count": 470
        }
      ],
      "source": [
        "weights"
      ]
    },
    {
      "cell_type": "markdown",
      "source": [
        "Можно заметить, что веса выглядят неадекватно"
      ],
      "metadata": {
        "id": "juFaCrmBHT31"
      }
    },
    {
      "cell_type": "code",
      "source": [
        "vis_weigths(weights)"
      ],
      "metadata": {
        "colab": {
          "base_uri": "https://localhost:8080/",
          "height": 617
        },
        "id": "v_1jHEBuQLDu",
        "outputId": "8bc5b460-7899-4f72-a77e-e472d56421d7"
      },
      "execution_count": null,
      "outputs": [
        {
          "output_type": "display_data",
          "data": {
            "text/html": [
              "<html>\n",
              "<head><meta charset=\"utf-8\" /></head>\n",
              "<body>\n",
              "    <div>            <script src=\"https://cdnjs.cloudflare.com/ajax/libs/mathjax/2.7.5/MathJax.js?config=TeX-AMS-MML_SVG\"></script><script type=\"text/javascript\">if (window.MathJax && window.MathJax.Hub && window.MathJax.Hub.Config) {window.MathJax.Hub.Config({SVG: {font: \"STIX-Web\"}});}</script>                <script type=\"text/javascript\">window.PlotlyConfig = {MathJaxConfig: 'local'};</script>\n",
              "        <script charset=\"utf-8\" src=\"https://cdn.plot.ly/plotly-2.35.2.min.js\"></script>                <div id=\"e8510ba4-159a-4068-ab4b-d57e0ffe8c0e\" class=\"plotly-graph-div\" style=\"height:600px; width:1200px;\"></div>            <script type=\"text/javascript\">                                    window.PLOTLYENV=window.PLOTLYENV || {};                                    if (document.getElementById(\"e8510ba4-159a-4068-ab4b-d57e0ffe8c0e\")) {                    Plotly.newPlot(                        \"e8510ba4-159a-4068-ab4b-d57e0ffe8c0e\",                        [{\"marker\":{\"color\":\"red\"},\"name\":\"отрицательные веса\",\"x\":[0,1,2,4,6,8,10],\"y\":[-0.8500339218286136,-0.4797147462946899,-110.49750183413175,-14091.766880955418,-124088.45026924359,-147152.04116561654,-13563.134643857995],\"type\":\"bar\"},{\"marker\":{\"color\":\"blue\"},\"name\":\"положительные веса\",\"x\":[3,5,7,9],\"y\":[1991.450591435009,54147.16679560598,174286.16790603366,68583.45307406846],\"type\":\"bar\"}],                        {\"template\":{\"data\":{\"barpolar\":[{\"marker\":{\"line\":{\"color\":\"rgb(17,17,17)\",\"width\":0.5},\"pattern\":{\"fillmode\":\"overlay\",\"size\":10,\"solidity\":0.2}},\"type\":\"barpolar\"}],\"bar\":[{\"error_x\":{\"color\":\"#f2f5fa\"},\"error_y\":{\"color\":\"#f2f5fa\"},\"marker\":{\"line\":{\"color\":\"rgb(17,17,17)\",\"width\":0.5},\"pattern\":{\"fillmode\":\"overlay\",\"size\":10,\"solidity\":0.2}},\"type\":\"bar\"}],\"carpet\":[{\"aaxis\":{\"endlinecolor\":\"#A2B1C6\",\"gridcolor\":\"#506784\",\"linecolor\":\"#506784\",\"minorgridcolor\":\"#506784\",\"startlinecolor\":\"#A2B1C6\"},\"baxis\":{\"endlinecolor\":\"#A2B1C6\",\"gridcolor\":\"#506784\",\"linecolor\":\"#506784\",\"minorgridcolor\":\"#506784\",\"startlinecolor\":\"#A2B1C6\"},\"type\":\"carpet\"}],\"choropleth\":[{\"colorbar\":{\"outlinewidth\":0,\"ticks\":\"\"},\"type\":\"choropleth\"}],\"contourcarpet\":[{\"colorbar\":{\"outlinewidth\":0,\"ticks\":\"\"},\"type\":\"contourcarpet\"}],\"contour\":[{\"colorbar\":{\"outlinewidth\":0,\"ticks\":\"\"},\"colorscale\":[[0.0,\"#0d0887\"],[0.1111111111111111,\"#46039f\"],[0.2222222222222222,\"#7201a8\"],[0.3333333333333333,\"#9c179e\"],[0.4444444444444444,\"#bd3786\"],[0.5555555555555556,\"#d8576b\"],[0.6666666666666666,\"#ed7953\"],[0.7777777777777778,\"#fb9f3a\"],[0.8888888888888888,\"#fdca26\"],[1.0,\"#f0f921\"]],\"type\":\"contour\"}],\"heatmapgl\":[{\"colorbar\":{\"outlinewidth\":0,\"ticks\":\"\"},\"colorscale\":[[0.0,\"#0d0887\"],[0.1111111111111111,\"#46039f\"],[0.2222222222222222,\"#7201a8\"],[0.3333333333333333,\"#9c179e\"],[0.4444444444444444,\"#bd3786\"],[0.5555555555555556,\"#d8576b\"],[0.6666666666666666,\"#ed7953\"],[0.7777777777777778,\"#fb9f3a\"],[0.8888888888888888,\"#fdca26\"],[1.0,\"#f0f921\"]],\"type\":\"heatmapgl\"}],\"heatmap\":[{\"colorbar\":{\"outlinewidth\":0,\"ticks\":\"\"},\"colorscale\":[[0.0,\"#0d0887\"],[0.1111111111111111,\"#46039f\"],[0.2222222222222222,\"#7201a8\"],[0.3333333333333333,\"#9c179e\"],[0.4444444444444444,\"#bd3786\"],[0.5555555555555556,\"#d8576b\"],[0.6666666666666666,\"#ed7953\"],[0.7777777777777778,\"#fb9f3a\"],[0.8888888888888888,\"#fdca26\"],[1.0,\"#f0f921\"]],\"type\":\"heatmap\"}],\"histogram2dcontour\":[{\"colorbar\":{\"outlinewidth\":0,\"ticks\":\"\"},\"colorscale\":[[0.0,\"#0d0887\"],[0.1111111111111111,\"#46039f\"],[0.2222222222222222,\"#7201a8\"],[0.3333333333333333,\"#9c179e\"],[0.4444444444444444,\"#bd3786\"],[0.5555555555555556,\"#d8576b\"],[0.6666666666666666,\"#ed7953\"],[0.7777777777777778,\"#fb9f3a\"],[0.8888888888888888,\"#fdca26\"],[1.0,\"#f0f921\"]],\"type\":\"histogram2dcontour\"}],\"histogram2d\":[{\"colorbar\":{\"outlinewidth\":0,\"ticks\":\"\"},\"colorscale\":[[0.0,\"#0d0887\"],[0.1111111111111111,\"#46039f\"],[0.2222222222222222,\"#7201a8\"],[0.3333333333333333,\"#9c179e\"],[0.4444444444444444,\"#bd3786\"],[0.5555555555555556,\"#d8576b\"],[0.6666666666666666,\"#ed7953\"],[0.7777777777777778,\"#fb9f3a\"],[0.8888888888888888,\"#fdca26\"],[1.0,\"#f0f921\"]],\"type\":\"histogram2d\"}],\"histogram\":[{\"marker\":{\"pattern\":{\"fillmode\":\"overlay\",\"size\":10,\"solidity\":0.2}},\"type\":\"histogram\"}],\"mesh3d\":[{\"colorbar\":{\"outlinewidth\":0,\"ticks\":\"\"},\"type\":\"mesh3d\"}],\"parcoords\":[{\"line\":{\"colorbar\":{\"outlinewidth\":0,\"ticks\":\"\"}},\"type\":\"parcoords\"}],\"pie\":[{\"automargin\":true,\"type\":\"pie\"}],\"scatter3d\":[{\"line\":{\"colorbar\":{\"outlinewidth\":0,\"ticks\":\"\"}},\"marker\":{\"colorbar\":{\"outlinewidth\":0,\"ticks\":\"\"}},\"type\":\"scatter3d\"}],\"scattercarpet\":[{\"marker\":{\"colorbar\":{\"outlinewidth\":0,\"ticks\":\"\"}},\"type\":\"scattercarpet\"}],\"scattergeo\":[{\"marker\":{\"colorbar\":{\"outlinewidth\":0,\"ticks\":\"\"}},\"type\":\"scattergeo\"}],\"scattergl\":[{\"marker\":{\"line\":{\"color\":\"#283442\"}},\"type\":\"scattergl\"}],\"scattermapbox\":[{\"marker\":{\"colorbar\":{\"outlinewidth\":0,\"ticks\":\"\"}},\"type\":\"scattermapbox\"}],\"scatterpolargl\":[{\"marker\":{\"colorbar\":{\"outlinewidth\":0,\"ticks\":\"\"}},\"type\":\"scatterpolargl\"}],\"scatterpolar\":[{\"marker\":{\"colorbar\":{\"outlinewidth\":0,\"ticks\":\"\"}},\"type\":\"scatterpolar\"}],\"scatter\":[{\"marker\":{\"line\":{\"color\":\"#283442\"}},\"type\":\"scatter\"}],\"scatterternary\":[{\"marker\":{\"colorbar\":{\"outlinewidth\":0,\"ticks\":\"\"}},\"type\":\"scatterternary\"}],\"surface\":[{\"colorbar\":{\"outlinewidth\":0,\"ticks\":\"\"},\"colorscale\":[[0.0,\"#0d0887\"],[0.1111111111111111,\"#46039f\"],[0.2222222222222222,\"#7201a8\"],[0.3333333333333333,\"#9c179e\"],[0.4444444444444444,\"#bd3786\"],[0.5555555555555556,\"#d8576b\"],[0.6666666666666666,\"#ed7953\"],[0.7777777777777778,\"#fb9f3a\"],[0.8888888888888888,\"#fdca26\"],[1.0,\"#f0f921\"]],\"type\":\"surface\"}],\"table\":[{\"cells\":{\"fill\":{\"color\":\"#506784\"},\"line\":{\"color\":\"rgb(17,17,17)\"}},\"header\":{\"fill\":{\"color\":\"#2a3f5f\"},\"line\":{\"color\":\"rgb(17,17,17)\"}},\"type\":\"table\"}]},\"layout\":{\"annotationdefaults\":{\"arrowcolor\":\"#f2f5fa\",\"arrowhead\":0,\"arrowwidth\":1},\"autotypenumbers\":\"strict\",\"coloraxis\":{\"colorbar\":{\"outlinewidth\":0,\"ticks\":\"\"}},\"colorscale\":{\"diverging\":[[0,\"#8e0152\"],[0.1,\"#c51b7d\"],[0.2,\"#de77ae\"],[0.3,\"#f1b6da\"],[0.4,\"#fde0ef\"],[0.5,\"#f7f7f7\"],[0.6,\"#e6f5d0\"],[0.7,\"#b8e186\"],[0.8,\"#7fbc41\"],[0.9,\"#4d9221\"],[1,\"#276419\"]],\"sequential\":[[0.0,\"#0d0887\"],[0.1111111111111111,\"#46039f\"],[0.2222222222222222,\"#7201a8\"],[0.3333333333333333,\"#9c179e\"],[0.4444444444444444,\"#bd3786\"],[0.5555555555555556,\"#d8576b\"],[0.6666666666666666,\"#ed7953\"],[0.7777777777777778,\"#fb9f3a\"],[0.8888888888888888,\"#fdca26\"],[1.0,\"#f0f921\"]],\"sequentialminus\":[[0.0,\"#0d0887\"],[0.1111111111111111,\"#46039f\"],[0.2222222222222222,\"#7201a8\"],[0.3333333333333333,\"#9c179e\"],[0.4444444444444444,\"#bd3786\"],[0.5555555555555556,\"#d8576b\"],[0.6666666666666666,\"#ed7953\"],[0.7777777777777778,\"#fb9f3a\"],[0.8888888888888888,\"#fdca26\"],[1.0,\"#f0f921\"]]},\"colorway\":[\"#636efa\",\"#EF553B\",\"#00cc96\",\"#ab63fa\",\"#FFA15A\",\"#19d3f3\",\"#FF6692\",\"#B6E880\",\"#FF97FF\",\"#FECB52\"],\"font\":{\"color\":\"#f2f5fa\"},\"geo\":{\"bgcolor\":\"rgb(17,17,17)\",\"lakecolor\":\"rgb(17,17,17)\",\"landcolor\":\"rgb(17,17,17)\",\"showlakes\":true,\"showland\":true,\"subunitcolor\":\"#506784\"},\"hoverlabel\":{\"align\":\"left\"},\"hovermode\":\"closest\",\"mapbox\":{\"style\":\"dark\"},\"paper_bgcolor\":\"rgb(17,17,17)\",\"plot_bgcolor\":\"rgb(17,17,17)\",\"polar\":{\"angularaxis\":{\"gridcolor\":\"#506784\",\"linecolor\":\"#506784\",\"ticks\":\"\"},\"bgcolor\":\"rgb(17,17,17)\",\"radialaxis\":{\"gridcolor\":\"#506784\",\"linecolor\":\"#506784\",\"ticks\":\"\"}},\"scene\":{\"xaxis\":{\"backgroundcolor\":\"rgb(17,17,17)\",\"gridcolor\":\"#506784\",\"gridwidth\":2,\"linecolor\":\"#506784\",\"showbackground\":true,\"ticks\":\"\",\"zerolinecolor\":\"#C8D4E3\"},\"yaxis\":{\"backgroundcolor\":\"rgb(17,17,17)\",\"gridcolor\":\"#506784\",\"gridwidth\":2,\"linecolor\":\"#506784\",\"showbackground\":true,\"ticks\":\"\",\"zerolinecolor\":\"#C8D4E3\"},\"zaxis\":{\"backgroundcolor\":\"rgb(17,17,17)\",\"gridcolor\":\"#506784\",\"gridwidth\":2,\"linecolor\":\"#506784\",\"showbackground\":true,\"ticks\":\"\",\"zerolinecolor\":\"#C8D4E3\"}},\"shapedefaults\":{\"line\":{\"color\":\"#f2f5fa\"}},\"sliderdefaults\":{\"bgcolor\":\"#C8D4E3\",\"bordercolor\":\"rgb(17,17,17)\",\"borderwidth\":1,\"tickwidth\":0},\"ternary\":{\"aaxis\":{\"gridcolor\":\"#506784\",\"linecolor\":\"#506784\",\"ticks\":\"\"},\"baxis\":{\"gridcolor\":\"#506784\",\"linecolor\":\"#506784\",\"ticks\":\"\"},\"bgcolor\":\"rgb(17,17,17)\",\"caxis\":{\"gridcolor\":\"#506784\",\"linecolor\":\"#506784\",\"ticks\":\"\"}},\"title\":{\"x\":0.05},\"updatemenudefaults\":{\"bgcolor\":\"#506784\",\"borderwidth\":0},\"xaxis\":{\"automargin\":true,\"gridcolor\":\"#283442\",\"linecolor\":\"#506784\",\"ticks\":\"\",\"title\":{\"standoff\":15},\"zerolinecolor\":\"#283442\",\"zerolinewidth\":2},\"yaxis\":{\"automargin\":true,\"gridcolor\":\"#283442\",\"linecolor\":\"#506784\",\"ticks\":\"\",\"title\":{\"standoff\":15},\"zerolinecolor\":\"#283442\",\"zerolinewidth\":2}}},\"xaxis\":{\"tickmode\":\"array\",\"tickvals\":[0,1,2,3,4,5,6,7,8,9,10],\"ticktext\":[\"w0\",\"w1\",\"w2\",\"w3\",\"w4\",\"w5\",\"w6\",\"w7\",\"w8\",\"w9\",\"w10\"]},\"title\":{\"text\":\"Веса модели\"},\"width\":1200,\"height\":600},                        {\"responsive\": true}                    ).then(function(){\n",
              "                            \n",
              "var gd = document.getElementById('e8510ba4-159a-4068-ab4b-d57e0ffe8c0e');\n",
              "var x = new MutationObserver(function (mutations, observer) {{\n",
              "        var display = window.getComputedStyle(gd).display;\n",
              "        if (!display || display === 'none') {{\n",
              "            console.log([gd, 'removed!']);\n",
              "            Plotly.purge(gd);\n",
              "            observer.disconnect();\n",
              "        }}\n",
              "}});\n",
              "\n",
              "// Listen for the removal of the full notebook cells\n",
              "var notebookContainer = gd.closest('#notebook-container');\n",
              "if (notebookContainer) {{\n",
              "    x.observe(notebookContainer, {childList: true});\n",
              "}}\n",
              "\n",
              "// Listen for the clearing of the current output cell\n",
              "var outputEl = gd.closest('.output');\n",
              "if (outputEl) {{\n",
              "    x.observe(outputEl, {childList: true});\n",
              "}}\n",
              "\n",
              "                        })                };                            </script>        </div>\n",
              "</body>\n",
              "</html>"
            ]
          },
          "metadata": {}
        }
      ]
    },
    {
      "cell_type": "code",
      "source": [
        "np.sum(np.abs(weights))"
      ],
      "metadata": {
        "colab": {
          "base_uri": "https://localhost:8080/"
        },
        "id": "tc6YChr9b3D8",
        "outputId": "1fda9763-e153-4af2-f3c3-c6806c43ccd4"
      },
      "execution_count": null,
      "outputs": [
        {
          "output_type": "execute_result",
          "data": {
            "text/plain": [
              "np.float64(598015.4585773188)"
            ]
          },
          "metadata": {},
          "execution_count": 472
        }
      ]
    },
    {
      "cell_type": "markdown",
      "source": [
        "Предсказание полиномиальной модели"
      ],
      "metadata": {
        "id": "YAX9y0ttHa18"
      }
    },
    {
      "cell_type": "code",
      "execution_count": null,
      "metadata": {
        "id": "wNkQeVQObNah"
      },
      "outputs": [],
      "source": [
        "def polyval(x,weights):\n",
        "    return np.sum([np.power(x,i)*wi for i, wi in enumerate(weights) ],axis = 0) # с учетом смещения"
      ]
    },
    {
      "cell_type": "code",
      "execution_count": null,
      "metadata": {
        "id": "BsledRCRbNah",
        "colab": {
          "base_uri": "https://localhost:8080/"
        },
        "outputId": "13dcb01b-d80a-4250-abe9-49d9239c2443"
      },
      "outputs": [
        {
          "output_type": "stream",
          "name": "stdout",
          "text": [
            "Ошибка на тестовых данных = 0.98, \n",
            " Ошибка на тренировочных данных =  0.99\n"
          ]
        }
      ],
      "source": [
        "print(f\"Ошибка на тестовых данных = {r2_score(y_test, polyval(x_test,weights).squeeze()):.2f}, \\n Ошибка на тренировочных данных =  {r2_score(y_train, polyval(x_train,weights).squeeze()):.2f}\")\n"
      ]
    },
    {
      "cell_type": "markdown",
      "source": [
        "Посмотрим на результат."
      ],
      "metadata": {
        "id": "pp309XQKHsiV"
      }
    },
    {
      "cell_type": "code",
      "execution_count": null,
      "metadata": {
        "id": "wMaSKsdabNai",
        "colab": {
          "base_uri": "https://localhost:8080/",
          "height": 617
        },
        "outputId": "f35a803e-be89-4ce6-9b07-a79b9d72a19c"
      },
      "outputs": [
        {
          "output_type": "display_data",
          "data": {
            "text/html": [
              "<html>\n",
              "<head><meta charset=\"utf-8\" /></head>\n",
              "<body>\n",
              "    <div>            <script src=\"https://cdnjs.cloudflare.com/ajax/libs/mathjax/2.7.5/MathJax.js?config=TeX-AMS-MML_SVG\"></script><script type=\"text/javascript\">if (window.MathJax && window.MathJax.Hub && window.MathJax.Hub.Config) {window.MathJax.Hub.Config({SVG: {font: \"STIX-Web\"}});}</script>                <script type=\"text/javascript\">window.PlotlyConfig = {MathJaxConfig: 'local'};</script>\n",
              "        <script charset=\"utf-8\" src=\"https://cdn.plot.ly/plotly-2.35.2.min.js\"></script>                <div id=\"6c6af140-2d08-43ae-9fd3-9b0f0ac1c6f8\" class=\"plotly-graph-div\" style=\"height:600px; width:1200px;\"></div>            <script type=\"text/javascript\">                                    window.PLOTLYENV=window.PLOTLYENV || {};                                    if (document.getElementById(\"6c6af140-2d08-43ae-9fd3-9b0f0ac1c6f8\")) {                    Plotly.newPlot(                        \"6c6af140-2d08-43ae-9fd3-9b0f0ac1c6f8\",                        [{\"marker\":{\"color\":\"Blue\",\"size\":5},\"mode\":\"markers\",\"name\":\"Предсказание на x_test\",\"x\":[0.04864275845245291,0.8717318949578305,0.6362194811532859,0.39221749528184063,0.7665422633556482,0.17857244474527742,0.3836532251490256,0.3059331605412711,1.0156872220654944,0.31899079313911943,0.14607762928177764,0.8465517233413815,0.20909789571439721,0.5385050446476917,0.7165271498113673],\"y\":[-0.971296860520049,0.8913426102249105,0.47431922151486106,-0.17653965725638732,0.7453305641844281,-0.7707623532003294,-0.20768970448404678,-0.44908897483549254,0.940696763464075,-0.41441757753544184,-0.8721697995524331,0.8717575459936597,-0.6827677396242351,0.302461257091327,0.6313245139310766],\"type\":\"scatter\"},{\"marker\":{\"color\":\"LightSkyBlue\",\"size\":10},\"mode\":\"markers\",\"name\":\"Предсказание на x_train\",\"x\":[0.1935791331541123,0.7414918695374813,0.5495236501799443,0.9522380983100062,0.3049744424524801,1.0112075003926706,0.47759537064635094,0.46092661359718623,0.620375085805519,0.3186017317977882,0.19206075359692815,0.06812186887562248,0.6937917137886659,0.16335707969615926,0.060825016427191375,0.12779814068180767,0.8222343440291981,0.9936706109775585,0.995585693560036,0.2223609967255541,0.16338233821234197,0.2709937630302383,0.45233176577359235,0.6294861682850023,0.5725136657422902,0.021556032019184653,0.9070575387604193,0.5185480476776199,0.6269136986542038,0.1022819986076801,0.5446139582330638,0.19040666040567744,0.6407308530458254,0.03601157510112919,0.3264230755616875],\"y\":[-0.7260860227516365,0.6887596836567127,0.3262149473172826,0.9858418758376502,-0.45155068318403435,0.9718552902377269,0.1339481891434584,0.0773803351425375,0.4487920159546661,-0.41548309467048833,-0.730489008472526,-1.0012511613774677,0.5814412797964224,-0.8180654114422713,-0.9934523373779991,-0.9258742139099972,0.8449616600289573,1.0292249455687852,1.0267938974502613,-0.6481580055262209,-0.8179859762223738,-0.5333778389386187,0.046887016601644405,0.4633603751565545,0.3703563003499042,-0.8945744276460832,0.919011315674652,0.25435730544397117,0.45922223113026917,-0.9836473370447683,0.31586212712559103,-0.7353175455812855,0.48178781100452284,-0.9382805306229,-0.39365647137772564],\"type\":\"scatter\"},{\"marker\":{\"color\":\"Red\",\"size\":5},\"mode\":\"markers\",\"name\":\"Тренировочные данные\",\"x\":[0.1935791331541123,0.7414918695374813,0.5495236501799443,0.9522380983100062,0.3049744424524801,1.0112075003926706,0.47759537064635094,0.46092661359718623,0.620375085805519,0.3186017317977882,0.19206075359692815,0.06812186887562248,0.6937917137886659,0.16335707969615926,0.060825016427191375,0.12779814068180767,0.8222343440291981,0.9936706109775585,0.995585693560036,0.2223609967255541,0.16338233821234197,0.2709937630302383,0.45233176577359235,0.6294861682850023,0.5725136657422902,0.021556032019184653,0.9070575387604193,0.5185480476776199,0.6269136986542038,0.1022819986076801,0.5446139582330638,0.19040666040567744,0.6407308530458254,0.03601157510112919,0.3264230755616875],\"y\":[-0.6574288402766963,0.5605193359905387,0.3066158284476615,0.9480843377216104,-0.4821154209074536,0.9394337392365557,0.04737282835006827,0.1395163319596294,0.46753304271136953,-0.31664189321495323,-0.7894266317358266,-1.0695970167815658,0.6262157405693716,-0.7437527019770642,-0.9599255756172168,-0.8859000499605691,0.9317182013142993,1.0891567539494484,1.0300655847773865,-0.5631752750991205,-0.9543714462911532,-0.623764926829987,0.05901735971355149,0.23356862394593314,0.4911769631659647,-0.8919117320329665,0.8995096788589202,0.27875626526021086,0.6451479777470205,-0.9502612944387703,0.1915022876684118,-0.7636436939258158,0.5338723871011308,-0.9368676927689883,-0.41119053998701494],\"type\":\"scatter\"},{\"marker\":{\"color\":\"green\",\"size\":10},\"mode\":\"lines+markers\",\"name\":\"Истинные значения\",\"opacity\":0.7,\"x\":[0.021556032019184653,0.03601157510112919,0.04864275845245291,0.060825016427191375,0.06812186887562248,0.1022819986076801,0.12779814068180767,0.14607762928177764,0.16335707969615926,0.16338233821234197,0.17857244474527742,0.19040666040567744,0.19206075359692815,0.1935791331541123,0.20909789571439721,0.2223609967255541,0.2709937630302383,0.3049744424524801,0.3059331605412711,0.3186017317977882,0.31899079313911943,0.3264230755616875,0.3836532251490256,0.39221749528184063,0.45233176577359235,0.46092661359718623,0.47759537064635094,0.5185480476776199,0.5385050446476917,0.5446139582330638,0.5495236501799443,0.5725136657422902,0.620375085805519,0.6269136986542038,0.6294861682850023,0.6362194811532859,0.6407308530458254,0.6937917137886659,0.7165271498113673,0.7414918695374813,0.7665422633556482,0.8222343440291981,0.8465517233413815,0.8717318949578305,0.9070575387604193,0.9522380983100062,0.9936706109775585,0.995585693560036,1.0112075003926706,1.0156872220654944],\"y\":[-0.9657583900325075,-0.9540045208879854,-0.9423221059768387,-0.9298152060582879,-0.9217448177448232,-0.8782768735992994,-0.8398361728645903,-0.8092645826539571,-0.7781145309339104,-0.7780674307548798,-0.748932228711473,-0.7251354658841841,-0.7217344317052308,-0.7185964691607831,-0.6856619709723478,-0.6563032870107404,-0.5398431745077231,-0.45119418332233213,-0.4486166957183381,-0.41419640592718915,-0.4131289929563197,-0.3926246423206332,-0.22853411490479733,-0.20321374411641238,-0.02223522252586832,0.003892329102547121,0.054573840508101656,0.17840297547100842,0.237944194983681,0.2560142631289242,0.2704762678968201,0.33737330651936775,0.47111564662236466,0.48868361216561984,0.4955431343549076,0.5133537979793605,0.5251676802773138,0.6561164756159583,0.7071648567914334,0.7592762274506281,0.8071086320415715,0.8960069441631247,0.9267369217601253,0.9530868009971594,0.980359039148239,0.998260042080064,0.997616542179241,0.997190473811418,0.9924097596132596,0.9906106557332874],\"type\":\"scatter\"},{\"marker\":{\"color\":\"Purple\",\"size\":5},\"mode\":\"markers\",\"name\":\"Новые данные\",\"x\":[1.05,1.07,1.08,1.09,1.1],\"y\":[0.26942681410946534,-0.7532794154867588,-1.5591414813570736,-2.631680027829134,-4.036822346090048],\"type\":\"scatter\"}],                        {\"template\":{\"data\":{\"barpolar\":[{\"marker\":{\"line\":{\"color\":\"rgb(17,17,17)\",\"width\":0.5},\"pattern\":{\"fillmode\":\"overlay\",\"size\":10,\"solidity\":0.2}},\"type\":\"barpolar\"}],\"bar\":[{\"error_x\":{\"color\":\"#f2f5fa\"},\"error_y\":{\"color\":\"#f2f5fa\"},\"marker\":{\"line\":{\"color\":\"rgb(17,17,17)\",\"width\":0.5},\"pattern\":{\"fillmode\":\"overlay\",\"size\":10,\"solidity\":0.2}},\"type\":\"bar\"}],\"carpet\":[{\"aaxis\":{\"endlinecolor\":\"#A2B1C6\",\"gridcolor\":\"#506784\",\"linecolor\":\"#506784\",\"minorgridcolor\":\"#506784\",\"startlinecolor\":\"#A2B1C6\"},\"baxis\":{\"endlinecolor\":\"#A2B1C6\",\"gridcolor\":\"#506784\",\"linecolor\":\"#506784\",\"minorgridcolor\":\"#506784\",\"startlinecolor\":\"#A2B1C6\"},\"type\":\"carpet\"}],\"choropleth\":[{\"colorbar\":{\"outlinewidth\":0,\"ticks\":\"\"},\"type\":\"choropleth\"}],\"contourcarpet\":[{\"colorbar\":{\"outlinewidth\":0,\"ticks\":\"\"},\"type\":\"contourcarpet\"}],\"contour\":[{\"colorbar\":{\"outlinewidth\":0,\"ticks\":\"\"},\"colorscale\":[[0.0,\"#0d0887\"],[0.1111111111111111,\"#46039f\"],[0.2222222222222222,\"#7201a8\"],[0.3333333333333333,\"#9c179e\"],[0.4444444444444444,\"#bd3786\"],[0.5555555555555556,\"#d8576b\"],[0.6666666666666666,\"#ed7953\"],[0.7777777777777778,\"#fb9f3a\"],[0.8888888888888888,\"#fdca26\"],[1.0,\"#f0f921\"]],\"type\":\"contour\"}],\"heatmapgl\":[{\"colorbar\":{\"outlinewidth\":0,\"ticks\":\"\"},\"colorscale\":[[0.0,\"#0d0887\"],[0.1111111111111111,\"#46039f\"],[0.2222222222222222,\"#7201a8\"],[0.3333333333333333,\"#9c179e\"],[0.4444444444444444,\"#bd3786\"],[0.5555555555555556,\"#d8576b\"],[0.6666666666666666,\"#ed7953\"],[0.7777777777777778,\"#fb9f3a\"],[0.8888888888888888,\"#fdca26\"],[1.0,\"#f0f921\"]],\"type\":\"heatmapgl\"}],\"heatmap\":[{\"colorbar\":{\"outlinewidth\":0,\"ticks\":\"\"},\"colorscale\":[[0.0,\"#0d0887\"],[0.1111111111111111,\"#46039f\"],[0.2222222222222222,\"#7201a8\"],[0.3333333333333333,\"#9c179e\"],[0.4444444444444444,\"#bd3786\"],[0.5555555555555556,\"#d8576b\"],[0.6666666666666666,\"#ed7953\"],[0.7777777777777778,\"#fb9f3a\"],[0.8888888888888888,\"#fdca26\"],[1.0,\"#f0f921\"]],\"type\":\"heatmap\"}],\"histogram2dcontour\":[{\"colorbar\":{\"outlinewidth\":0,\"ticks\":\"\"},\"colorscale\":[[0.0,\"#0d0887\"],[0.1111111111111111,\"#46039f\"],[0.2222222222222222,\"#7201a8\"],[0.3333333333333333,\"#9c179e\"],[0.4444444444444444,\"#bd3786\"],[0.5555555555555556,\"#d8576b\"],[0.6666666666666666,\"#ed7953\"],[0.7777777777777778,\"#fb9f3a\"],[0.8888888888888888,\"#fdca26\"],[1.0,\"#f0f921\"]],\"type\":\"histogram2dcontour\"}],\"histogram2d\":[{\"colorbar\":{\"outlinewidth\":0,\"ticks\":\"\"},\"colorscale\":[[0.0,\"#0d0887\"],[0.1111111111111111,\"#46039f\"],[0.2222222222222222,\"#7201a8\"],[0.3333333333333333,\"#9c179e\"],[0.4444444444444444,\"#bd3786\"],[0.5555555555555556,\"#d8576b\"],[0.6666666666666666,\"#ed7953\"],[0.7777777777777778,\"#fb9f3a\"],[0.8888888888888888,\"#fdca26\"],[1.0,\"#f0f921\"]],\"type\":\"histogram2d\"}],\"histogram\":[{\"marker\":{\"pattern\":{\"fillmode\":\"overlay\",\"size\":10,\"solidity\":0.2}},\"type\":\"histogram\"}],\"mesh3d\":[{\"colorbar\":{\"outlinewidth\":0,\"ticks\":\"\"},\"type\":\"mesh3d\"}],\"parcoords\":[{\"line\":{\"colorbar\":{\"outlinewidth\":0,\"ticks\":\"\"}},\"type\":\"parcoords\"}],\"pie\":[{\"automargin\":true,\"type\":\"pie\"}],\"scatter3d\":[{\"line\":{\"colorbar\":{\"outlinewidth\":0,\"ticks\":\"\"}},\"marker\":{\"colorbar\":{\"outlinewidth\":0,\"ticks\":\"\"}},\"type\":\"scatter3d\"}],\"scattercarpet\":[{\"marker\":{\"colorbar\":{\"outlinewidth\":0,\"ticks\":\"\"}},\"type\":\"scattercarpet\"}],\"scattergeo\":[{\"marker\":{\"colorbar\":{\"outlinewidth\":0,\"ticks\":\"\"}},\"type\":\"scattergeo\"}],\"scattergl\":[{\"marker\":{\"line\":{\"color\":\"#283442\"}},\"type\":\"scattergl\"}],\"scattermapbox\":[{\"marker\":{\"colorbar\":{\"outlinewidth\":0,\"ticks\":\"\"}},\"type\":\"scattermapbox\"}],\"scatterpolargl\":[{\"marker\":{\"colorbar\":{\"outlinewidth\":0,\"ticks\":\"\"}},\"type\":\"scatterpolargl\"}],\"scatterpolar\":[{\"marker\":{\"colorbar\":{\"outlinewidth\":0,\"ticks\":\"\"}},\"type\":\"scatterpolar\"}],\"scatter\":[{\"marker\":{\"line\":{\"color\":\"#283442\"}},\"type\":\"scatter\"}],\"scatterternary\":[{\"marker\":{\"colorbar\":{\"outlinewidth\":0,\"ticks\":\"\"}},\"type\":\"scatterternary\"}],\"surface\":[{\"colorbar\":{\"outlinewidth\":0,\"ticks\":\"\"},\"colorscale\":[[0.0,\"#0d0887\"],[0.1111111111111111,\"#46039f\"],[0.2222222222222222,\"#7201a8\"],[0.3333333333333333,\"#9c179e\"],[0.4444444444444444,\"#bd3786\"],[0.5555555555555556,\"#d8576b\"],[0.6666666666666666,\"#ed7953\"],[0.7777777777777778,\"#fb9f3a\"],[0.8888888888888888,\"#fdca26\"],[1.0,\"#f0f921\"]],\"type\":\"surface\"}],\"table\":[{\"cells\":{\"fill\":{\"color\":\"#506784\"},\"line\":{\"color\":\"rgb(17,17,17)\"}},\"header\":{\"fill\":{\"color\":\"#2a3f5f\"},\"line\":{\"color\":\"rgb(17,17,17)\"}},\"type\":\"table\"}]},\"layout\":{\"annotationdefaults\":{\"arrowcolor\":\"#f2f5fa\",\"arrowhead\":0,\"arrowwidth\":1},\"autotypenumbers\":\"strict\",\"coloraxis\":{\"colorbar\":{\"outlinewidth\":0,\"ticks\":\"\"}},\"colorscale\":{\"diverging\":[[0,\"#8e0152\"],[0.1,\"#c51b7d\"],[0.2,\"#de77ae\"],[0.3,\"#f1b6da\"],[0.4,\"#fde0ef\"],[0.5,\"#f7f7f7\"],[0.6,\"#e6f5d0\"],[0.7,\"#b8e186\"],[0.8,\"#7fbc41\"],[0.9,\"#4d9221\"],[1,\"#276419\"]],\"sequential\":[[0.0,\"#0d0887\"],[0.1111111111111111,\"#46039f\"],[0.2222222222222222,\"#7201a8\"],[0.3333333333333333,\"#9c179e\"],[0.4444444444444444,\"#bd3786\"],[0.5555555555555556,\"#d8576b\"],[0.6666666666666666,\"#ed7953\"],[0.7777777777777778,\"#fb9f3a\"],[0.8888888888888888,\"#fdca26\"],[1.0,\"#f0f921\"]],\"sequentialminus\":[[0.0,\"#0d0887\"],[0.1111111111111111,\"#46039f\"],[0.2222222222222222,\"#7201a8\"],[0.3333333333333333,\"#9c179e\"],[0.4444444444444444,\"#bd3786\"],[0.5555555555555556,\"#d8576b\"],[0.6666666666666666,\"#ed7953\"],[0.7777777777777778,\"#fb9f3a\"],[0.8888888888888888,\"#fdca26\"],[1.0,\"#f0f921\"]]},\"colorway\":[\"#636efa\",\"#EF553B\",\"#00cc96\",\"#ab63fa\",\"#FFA15A\",\"#19d3f3\",\"#FF6692\",\"#B6E880\",\"#FF97FF\",\"#FECB52\"],\"font\":{\"color\":\"#f2f5fa\"},\"geo\":{\"bgcolor\":\"rgb(17,17,17)\",\"lakecolor\":\"rgb(17,17,17)\",\"landcolor\":\"rgb(17,17,17)\",\"showlakes\":true,\"showland\":true,\"subunitcolor\":\"#506784\"},\"hoverlabel\":{\"align\":\"left\"},\"hovermode\":\"closest\",\"mapbox\":{\"style\":\"dark\"},\"paper_bgcolor\":\"rgb(17,17,17)\",\"plot_bgcolor\":\"rgb(17,17,17)\",\"polar\":{\"angularaxis\":{\"gridcolor\":\"#506784\",\"linecolor\":\"#506784\",\"ticks\":\"\"},\"bgcolor\":\"rgb(17,17,17)\",\"radialaxis\":{\"gridcolor\":\"#506784\",\"linecolor\":\"#506784\",\"ticks\":\"\"}},\"scene\":{\"xaxis\":{\"backgroundcolor\":\"rgb(17,17,17)\",\"gridcolor\":\"#506784\",\"gridwidth\":2,\"linecolor\":\"#506784\",\"showbackground\":true,\"ticks\":\"\",\"zerolinecolor\":\"#C8D4E3\"},\"yaxis\":{\"backgroundcolor\":\"rgb(17,17,17)\",\"gridcolor\":\"#506784\",\"gridwidth\":2,\"linecolor\":\"#506784\",\"showbackground\":true,\"ticks\":\"\",\"zerolinecolor\":\"#C8D4E3\"},\"zaxis\":{\"backgroundcolor\":\"rgb(17,17,17)\",\"gridcolor\":\"#506784\",\"gridwidth\":2,\"linecolor\":\"#506784\",\"showbackground\":true,\"ticks\":\"\",\"zerolinecolor\":\"#C8D4E3\"}},\"shapedefaults\":{\"line\":{\"color\":\"#f2f5fa\"}},\"sliderdefaults\":{\"bgcolor\":\"#C8D4E3\",\"bordercolor\":\"rgb(17,17,17)\",\"borderwidth\":1,\"tickwidth\":0},\"ternary\":{\"aaxis\":{\"gridcolor\":\"#506784\",\"linecolor\":\"#506784\",\"ticks\":\"\"},\"baxis\":{\"gridcolor\":\"#506784\",\"linecolor\":\"#506784\",\"ticks\":\"\"},\"bgcolor\":\"rgb(17,17,17)\",\"caxis\":{\"gridcolor\":\"#506784\",\"linecolor\":\"#506784\",\"ticks\":\"\"}},\"title\":{\"x\":0.05},\"updatemenudefaults\":{\"bgcolor\":\"#506784\",\"borderwidth\":0},\"xaxis\":{\"automargin\":true,\"gridcolor\":\"#283442\",\"linecolor\":\"#506784\",\"ticks\":\"\",\"title\":{\"standoff\":15},\"zerolinecolor\":\"#283442\",\"zerolinewidth\":2},\"yaxis\":{\"automargin\":true,\"gridcolor\":\"#283442\",\"linecolor\":\"#506784\",\"ticks\":\"\",\"title\":{\"standoff\":15},\"zerolinecolor\":\"#283442\",\"zerolinewidth\":2}}},\"title\":{\"text\":\"Предсказание модели\"},\"width\":1200,\"height\":600},                        {\"responsive\": true}                    ).then(function(){\n",
              "                            \n",
              "var gd = document.getElementById('6c6af140-2d08-43ae-9fd3-9b0f0ac1c6f8');\n",
              "var x = new MutationObserver(function (mutations, observer) {{\n",
              "        var display = window.getComputedStyle(gd).display;\n",
              "        if (!display || display === 'none') {{\n",
              "            console.log([gd, 'removed!']);\n",
              "            Plotly.purge(gd);\n",
              "            observer.disconnect();\n",
              "        }}\n",
              "}});\n",
              "\n",
              "// Listen for the removal of the full notebook cells\n",
              "var notebookContainer = gd.closest('#notebook-container');\n",
              "if (notebookContainer) {{\n",
              "    x.observe(notebookContainer, {childList: true});\n",
              "}}\n",
              "\n",
              "// Listen for the clearing of the current output cell\n",
              "var outputEl = gd.closest('.output');\n",
              "if (outputEl) {{\n",
              "    x.observe(outputEl, {childList: true});\n",
              "}}\n",
              "\n",
              "                        })                };                            </script>        </div>\n",
              "</body>\n",
              "</html>"
            ]
          },
          "metadata": {}
        }
      ],
      "source": [
        "fig = go.Figure()\n",
        "    # рисуем с помощью библиотеки plotly\n",
        "fig.add_trace(\n",
        "    go.Scatter(\n",
        "    x=x_test[:,0],\n",
        "    y=polyval(x_test, weights)[:,0],\n",
        "    mode='markers',\n",
        "    name='Предсказание на x_test',\n",
        "    marker=dict(size = 5,\n",
        "                color='Blue')\n",
        "    )\n",
        ")\n",
        "fig.add_trace(\n",
        "    go.Scatter(\n",
        "    x=x_train[:,0],\n",
        "    y=polyval(x_train, weights)[:,0],\n",
        "    mode='markers',\n",
        "    name='Предсказание на x_train',\n",
        "    marker=dict(size = 10,\n",
        "                color='LightSkyBlue',\n",
        "                ),\n",
        "\n",
        "    )\n",
        ")\n",
        "\n",
        "fig.add_trace(\n",
        "    go.Scatter(\n",
        "    x=x_train[:,0],\n",
        "    y=y_train,\n",
        "    mode='markers',\n",
        "    name='Тренировочные данные',\n",
        "    marker=dict(size = 5,\n",
        "                color='Red')\n",
        "    )\n",
        ")\n",
        "\n",
        "fig.add_trace(\n",
        "    go.Scatter(\n",
        "    x=x[:,0],\n",
        "    y=y_true[:,0],\n",
        "    mode='lines+markers',\n",
        "    name='Истинные значения',\n",
        "    opacity = 0.7,\n",
        "    marker=dict(size = 10,\n",
        "                color='green',),\n",
        "\n",
        "    )\n",
        ")\n",
        "\n",
        "# возьмем дополнительную точку \"вне\" тренировочного диапазона\n",
        "x_new = np.array([1.05, 1.07, 1.08, 1.09, 1.1])\n",
        "fig.add_trace(\n",
        "    go.Scatter(\n",
        "    x=x_new,\n",
        "    y=polyval(x_new, weights),\n",
        "    mode='markers',\n",
        "    name='Новые данные',\n",
        "    marker=dict(size = 5,\n",
        "                color='Purple')\n",
        "    )\n",
        ")\n",
        "\n",
        "fig.update_layout(\n",
        "        title='Предсказание модели',\n",
        "        width=1200,\n",
        "        height=600,\n",
        "    template = \"plotly_dark\"\n",
        "        )\n"
      ]
    },
    {
      "cell_type": "markdown",
      "source": [
        "Метод наименьших квадратов хорошо аппроксимирует зависимость на тренировочном и тестовом наборе, демонстрируя качественную подгонку и генерализацию. Однако сильные отклонения в новых данных указывают на возможные проблемы с экстраполяцией или с качеством новых данных, что требует внимания при дальнейшем использовании модели."
      ],
      "metadata": {
        "id": "KNZBsOHd-z1y"
      }
    },
    {
      "cell_type": "markdown",
      "metadata": {
        "id": "qenim9ZobNai"
      },
      "source": [
        "Аналитическое решение методом наименьших квадратов дало результаты лучше чем численное на тренировочных данных, но градиентный спуск позволяет поднять точность на тестовых данных."
      ]
    },
    {
      "cell_type": "markdown",
      "metadata": {
        "id": "MSiSg5s9bNab"
      },
      "source": [
        "# Регуляризация линейной регрессии"
      ]
    },
    {
      "cell_type": "markdown",
      "metadata": {
        "id": "iCncLRLLbNab"
      },
      "source": [
        "## Регуляризация Тихонова"
      ]
    },
    {
      "cell_type": "markdown",
      "source": [
        "Для улучшения точности предсказания воспользуемся регуляризацией Тихонова"
      ],
      "metadata": {
        "id": "woV0tGNetvwF"
      }
    },
    {
      "cell_type": "code",
      "execution_count": null,
      "metadata": {
        "id": "zx1LEOGmbNac"
      },
      "outputs": [],
      "source": [
        "class RidgeRegression(LinearRegression): #унаследуем всё что можно от \"базовой\" модели\n",
        "    def __init__(self,\n",
        "                 learning_rate = 0.5,\n",
        "                 l2_penalty = 0.001,\n",
        "                 epochs = 100,\n",
        "                 weights = None,\n",
        "                 bias    = None,\n",
        "                 batch_size   = 1000,\n",
        "                 n_batches    = None,\n",
        "                 random_state = 42):\n",
        "\n",
        "        super().__init__(learning_rate = learning_rate,\n",
        "                         epochs = epochs,\n",
        "                         weights = weights,\n",
        "                         bias    = bias,\n",
        "                         batch_size   = batch_size,\n",
        "                         n_batches    = n_batches,\n",
        "                         random_state = random_state)\n",
        "        self.l2_penalty = l2_penalty\n",
        "\n",
        "    #---------------------------------\n",
        "    def loss(self,yhat, y):\n",
        "        # изменяем функцию потерь\n",
        "        l2_term = (self.l2_penalty/2)*np.sum(np.square(self.weights[1:]))\n",
        "        return np.square(yhat - y).mean() + l2_term\n",
        "\n",
        "    #---------------------------------\n",
        "    def update(self):\n",
        "        # изменяем правило обновление весов\n",
        "        l2_term = self.l2_penalty*np.mean(self.weights[1:])\n",
        "        return self.weights - self.lr*(self.grad + l2_term)\n"
      ]
    },
    {
      "cell_type": "code",
      "execution_count": null,
      "metadata": {
        "scrolled": false,
        "id": "TnFqAJy5bNac",
        "outputId": "7f7c5b16-b195-4545-d891-0c939f069866",
        "colab": {
          "base_uri": "https://localhost:8080/",
          "height": 652
        }
      },
      "outputs": [
        {
          "output_type": "stream",
          "name": "stdout",
          "text": [
            "Ошибка на тестовых данных = 0.99, \n",
            " Ошибка на тренировочных данных = 0.98\n"
          ]
        },
        {
          "output_type": "display_data",
          "data": {
            "text/html": [
              "<html>\n",
              "<head><meta charset=\"utf-8\" /></head>\n",
              "<body>\n",
              "    <div>            <script src=\"https://cdnjs.cloudflare.com/ajax/libs/mathjax/2.7.5/MathJax.js?config=TeX-AMS-MML_SVG\"></script><script type=\"text/javascript\">if (window.MathJax && window.MathJax.Hub && window.MathJax.Hub.Config) {window.MathJax.Hub.Config({SVG: {font: \"STIX-Web\"}});}</script>                <script type=\"text/javascript\">window.PlotlyConfig = {MathJaxConfig: 'local'};</script>\n",
              "        <script charset=\"utf-8\" src=\"https://cdn.plot.ly/plotly-2.35.2.min.js\"></script>                <div id=\"906dc664-173c-470e-9cbc-6f0448ec9abd\" class=\"plotly-graph-div\" style=\"height:600px; width:1200px;\"></div>            <script type=\"text/javascript\">                                    window.PLOTLYENV=window.PLOTLYENV || {};                                    if (document.getElementById(\"906dc664-173c-470e-9cbc-6f0448ec9abd\")) {                    Plotly.newPlot(                        \"906dc664-173c-470e-9cbc-6f0448ec9abd\",                        [{\"mode\":\"lines+markers\",\"name\":\"Реальные данные\",\"y\":[0.6543471225418038,0.30512450450661227,0.24544739583609046,0.19546935590556705,0.1981612196667906,0.18238465617456937,0.12412763122929886,0.11167865703713908,0.09232246550394313,0.092511579132273,0.07891279665532973,0.06761316493551155,0.06751619139173308,0.05446665235640354,0.04249404139608407,0.04782382915697705,0.03747757632858001,0.039619857809725954,0.033416776539135266,0.042047478804842296,0.03409810621189549,0.03138108242627366,0.0299209476206312,0.02743611386059554,0.026511927434963892,0.03537967415509183,0.034151783966614176,0.030037383000890167,0.03221296293558315,0.025212304372491504,0.026541877680435363,0.027184079239655046,0.029334189318776866,0.025654140545367392,0.02468535206987678,0.027395260859293474,0.023008688330851994,0.03279998664446046,0.025869161296539284,0.024751793983852965,0.026013229038604344,0.025032483078103542,0.02327080412527864,0.02289094636589724,0.025728474904716,0.02621324100821515,0.027296914834091895,0.023102273879981466,0.02673388212044182,0.023169406791504685,0.027188626171342403,0.02410870321446519,0.023827512822975804,0.02440704989520108,0.020753194764582147,0.020981900586750497,0.024547653261029884,0.025868263079831057,0.02717638965692203,0.023549365251159828,0.026665222643135034,0.02244774498157677,0.023710368776410664,0.021699981505902823,0.023012519669358772,0.02117462155889654,0.023141296309169654,0.020902351914831918,0.02497043351220407,0.02671163362644281,0.028407790960933415,0.03155347347305105,0.02655785457868286,0.024694319401397994,0.02184667973578612,0.026654650671943617,0.023670148657997964,0.020217523100699405,0.02436923342742257,0.02200282744393035,0.021957956878391274,0.024572797458662688,0.027396971508520867,0.021611643708564537,0.02084649170009857,0.023499045527891563,0.024989269240668594,0.030230536414824472,0.023760394430458836,0.020613178094015586,0.023037397176031548,0.024844774668350177,0.02628390029710691,0.024637846524985945,0.02228927468400292,0.023987838968451827,0.020016851854403314,0.020304627933506313,0.020362756160444053,0.02032261549026541,0.022450560227800703,0.020911454970504315,0.022150151432587722,0.023514030930812824,0.02195253137728906,0.01983490033167362,0.023150148137516674,0.02262179106921063,0.020085097666241118,0.022076938250127506,0.021555073917234078,0.021325281514092662,0.021332542089935052,0.021882580791882867,0.020126857148282506,0.02394907115795312,0.02259724030349412,0.019466449286720356,0.02419666280015256,0.01920219671091474,0.019213692298215717,0.025921067608281664,0.02020911688765843,0.024789448658711646,0.020028984536776286,0.020594269269452056,0.021106251782763114,0.02388426901865025,0.022769327981378165,0.024186923016502288,0.023699546606886942,0.021186771722518715,0.019325525651151313,0.018775924419388784,0.024644693300544192,0.017822362353209793,0.018016940393825467,0.021505151993072995,0.02155079697873154,0.018357618644828044,0.022328921166503975,0.018161336772458087,0.02908586488015869,0.021311497311276514,0.02274959881333855,0.021875838802895068,0.022692728766642575,0.02131921507650387,0.021228546631709307,0.022551673076654136,0.03083974409087467,0.018221753740246375,0.01933940142759814,0.017973634929071173,0.01916748682038064,0.021309581596421868,0.01872265313890668,0.02037810660708642,0.02102875420722411,0.021026320945542687,0.022552870139314295,0.019643175932068064,0.019704932667930483,0.01876379000517885,0.017782450139292572,0.01964720247488791,0.018535403820065386,0.02038697473798116,0.01890862329390548,0.02646634870348727,0.019816030676147605,0.021277347412209487,0.01829481120950436,0.021486080347615663,0.02456666100150867,0.018439206363684773,0.01730817365728168,0.023119442708698673,0.021711524060791323,0.019667127717598265,0.021350028555572043,0.019999895648668987,0.020262452763964715,0.02094506785027277,0.02216134654714198,0.02101762403452667,0.018523912259237472,0.02140969248003612,0.02156408527483525,0.022844555325994203,0.02034925364891983,0.019689529817918484,0.019807067299689795,0.017762824346160815,0.0182333954862124,0.01943951765398622,0.022753238619964578,0.019385491826170685,0.018510557701536826,0.02130997231804174,0.021273856458742208,0.0213502403248353,0.020676345800723712,0.019391550262305005,0.01765870793112488,0.01902158005349178,0.018103614079530844,0.02594286457091141,0.019036441145897205,0.02042836717108081,0.019904522919679063,0.02071339114788841,0.0189434276706027,0.01947699332128131,0.01794079352053723,0.020192578088900164,0.020204215690430804,0.019917204462472093,0.020295165960540762,0.018270795643132283,0.01853783201901441,0.020924031299512914,0.018967015055173227,0.017970198448544184,0.021431634833755403,0.01781317168695209,0.020490485110829123,0.023375716253541023,0.01976535470963438,0.020624760878979298,0.018255413496753147,0.01886322544856087,0.019185393585893194,0.019433910140754865,0.01813933539754198,0.021932320891395737,0.018338503973154195,0.018536895956823618,0.01880080739242786,0.017664548634156212,0.018345034598110932,0.017614701075918948,0.017840364003961353,0.020341472516670196,0.01941206267632858,0.019620811218117398,0.01820528270121219,0.018266255437608965,0.018321661296832215,0.018747118528303287,0.01956511535564447,0.019094594237303506,0.01938876321372632,0.018321232108043768,0.02215233181530682,0.021866929567896515,0.02004103722794076,0.019793724840442967,0.017445793727309818,0.02178472355237317,0.02115190461873127,0.018119542302825035,0.020582820326608683,0.020911748184957387,0.016996301869542853,0.01865285006168562,0.02231411332074334,0.01839447057124115,0.02105877194759949,0.02364007574554337,0.02421392335010944,0.02081970625178721,0.020868756516107725,0.01703124813788177,0.01868957053416161,0.017228390390850848,0.020258517630451504,0.022310904314428476,0.0184184577069874,0.018921097753962085,0.018376541648931707,0.020702220960201856,0.017234493034560837,0.02411209191133112,0.02362475451201926,0.021170347751051716,0.018649617912158366,0.018379731023152466,0.01638163461292391,0.020844458112554223,0.024655858153464258,0.019447180039878508,0.017491903489261447,0.019225694245798956,0.0191191138434617,0.019038481601642978,0.01787294637115138,0.01997300909066747,0.019278023966932848,0.016676429327676736],\"type\":\"scatter\"}],                        {\"template\":{\"data\":{\"barpolar\":[{\"marker\":{\"line\":{\"color\":\"rgb(17,17,17)\",\"width\":0.5},\"pattern\":{\"fillmode\":\"overlay\",\"size\":10,\"solidity\":0.2}},\"type\":\"barpolar\"}],\"bar\":[{\"error_x\":{\"color\":\"#f2f5fa\"},\"error_y\":{\"color\":\"#f2f5fa\"},\"marker\":{\"line\":{\"color\":\"rgb(17,17,17)\",\"width\":0.5},\"pattern\":{\"fillmode\":\"overlay\",\"size\":10,\"solidity\":0.2}},\"type\":\"bar\"}],\"carpet\":[{\"aaxis\":{\"endlinecolor\":\"#A2B1C6\",\"gridcolor\":\"#506784\",\"linecolor\":\"#506784\",\"minorgridcolor\":\"#506784\",\"startlinecolor\":\"#A2B1C6\"},\"baxis\":{\"endlinecolor\":\"#A2B1C6\",\"gridcolor\":\"#506784\",\"linecolor\":\"#506784\",\"minorgridcolor\":\"#506784\",\"startlinecolor\":\"#A2B1C6\"},\"type\":\"carpet\"}],\"choropleth\":[{\"colorbar\":{\"outlinewidth\":0,\"ticks\":\"\"},\"type\":\"choropleth\"}],\"contourcarpet\":[{\"colorbar\":{\"outlinewidth\":0,\"ticks\":\"\"},\"type\":\"contourcarpet\"}],\"contour\":[{\"colorbar\":{\"outlinewidth\":0,\"ticks\":\"\"},\"colorscale\":[[0.0,\"#0d0887\"],[0.1111111111111111,\"#46039f\"],[0.2222222222222222,\"#7201a8\"],[0.3333333333333333,\"#9c179e\"],[0.4444444444444444,\"#bd3786\"],[0.5555555555555556,\"#d8576b\"],[0.6666666666666666,\"#ed7953\"],[0.7777777777777778,\"#fb9f3a\"],[0.8888888888888888,\"#fdca26\"],[1.0,\"#f0f921\"]],\"type\":\"contour\"}],\"heatmapgl\":[{\"colorbar\":{\"outlinewidth\":0,\"ticks\":\"\"},\"colorscale\":[[0.0,\"#0d0887\"],[0.1111111111111111,\"#46039f\"],[0.2222222222222222,\"#7201a8\"],[0.3333333333333333,\"#9c179e\"],[0.4444444444444444,\"#bd3786\"],[0.5555555555555556,\"#d8576b\"],[0.6666666666666666,\"#ed7953\"],[0.7777777777777778,\"#fb9f3a\"],[0.8888888888888888,\"#fdca26\"],[1.0,\"#f0f921\"]],\"type\":\"heatmapgl\"}],\"heatmap\":[{\"colorbar\":{\"outlinewidth\":0,\"ticks\":\"\"},\"colorscale\":[[0.0,\"#0d0887\"],[0.1111111111111111,\"#46039f\"],[0.2222222222222222,\"#7201a8\"],[0.3333333333333333,\"#9c179e\"],[0.4444444444444444,\"#bd3786\"],[0.5555555555555556,\"#d8576b\"],[0.6666666666666666,\"#ed7953\"],[0.7777777777777778,\"#fb9f3a\"],[0.8888888888888888,\"#fdca26\"],[1.0,\"#f0f921\"]],\"type\":\"heatmap\"}],\"histogram2dcontour\":[{\"colorbar\":{\"outlinewidth\":0,\"ticks\":\"\"},\"colorscale\":[[0.0,\"#0d0887\"],[0.1111111111111111,\"#46039f\"],[0.2222222222222222,\"#7201a8\"],[0.3333333333333333,\"#9c179e\"],[0.4444444444444444,\"#bd3786\"],[0.5555555555555556,\"#d8576b\"],[0.6666666666666666,\"#ed7953\"],[0.7777777777777778,\"#fb9f3a\"],[0.8888888888888888,\"#fdca26\"],[1.0,\"#f0f921\"]],\"type\":\"histogram2dcontour\"}],\"histogram2d\":[{\"colorbar\":{\"outlinewidth\":0,\"ticks\":\"\"},\"colorscale\":[[0.0,\"#0d0887\"],[0.1111111111111111,\"#46039f\"],[0.2222222222222222,\"#7201a8\"],[0.3333333333333333,\"#9c179e\"],[0.4444444444444444,\"#bd3786\"],[0.5555555555555556,\"#d8576b\"],[0.6666666666666666,\"#ed7953\"],[0.7777777777777778,\"#fb9f3a\"],[0.8888888888888888,\"#fdca26\"],[1.0,\"#f0f921\"]],\"type\":\"histogram2d\"}],\"histogram\":[{\"marker\":{\"pattern\":{\"fillmode\":\"overlay\",\"size\":10,\"solidity\":0.2}},\"type\":\"histogram\"}],\"mesh3d\":[{\"colorbar\":{\"outlinewidth\":0,\"ticks\":\"\"},\"type\":\"mesh3d\"}],\"parcoords\":[{\"line\":{\"colorbar\":{\"outlinewidth\":0,\"ticks\":\"\"}},\"type\":\"parcoords\"}],\"pie\":[{\"automargin\":true,\"type\":\"pie\"}],\"scatter3d\":[{\"line\":{\"colorbar\":{\"outlinewidth\":0,\"ticks\":\"\"}},\"marker\":{\"colorbar\":{\"outlinewidth\":0,\"ticks\":\"\"}},\"type\":\"scatter3d\"}],\"scattercarpet\":[{\"marker\":{\"colorbar\":{\"outlinewidth\":0,\"ticks\":\"\"}},\"type\":\"scattercarpet\"}],\"scattergeo\":[{\"marker\":{\"colorbar\":{\"outlinewidth\":0,\"ticks\":\"\"}},\"type\":\"scattergeo\"}],\"scattergl\":[{\"marker\":{\"line\":{\"color\":\"#283442\"}},\"type\":\"scattergl\"}],\"scattermapbox\":[{\"marker\":{\"colorbar\":{\"outlinewidth\":0,\"ticks\":\"\"}},\"type\":\"scattermapbox\"}],\"scatterpolargl\":[{\"marker\":{\"colorbar\":{\"outlinewidth\":0,\"ticks\":\"\"}},\"type\":\"scatterpolargl\"}],\"scatterpolar\":[{\"marker\":{\"colorbar\":{\"outlinewidth\":0,\"ticks\":\"\"}},\"type\":\"scatterpolar\"}],\"scatter\":[{\"marker\":{\"line\":{\"color\":\"#283442\"}},\"type\":\"scatter\"}],\"scatterternary\":[{\"marker\":{\"colorbar\":{\"outlinewidth\":0,\"ticks\":\"\"}},\"type\":\"scatterternary\"}],\"surface\":[{\"colorbar\":{\"outlinewidth\":0,\"ticks\":\"\"},\"colorscale\":[[0.0,\"#0d0887\"],[0.1111111111111111,\"#46039f\"],[0.2222222222222222,\"#7201a8\"],[0.3333333333333333,\"#9c179e\"],[0.4444444444444444,\"#bd3786\"],[0.5555555555555556,\"#d8576b\"],[0.6666666666666666,\"#ed7953\"],[0.7777777777777778,\"#fb9f3a\"],[0.8888888888888888,\"#fdca26\"],[1.0,\"#f0f921\"]],\"type\":\"surface\"}],\"table\":[{\"cells\":{\"fill\":{\"color\":\"#506784\"},\"line\":{\"color\":\"rgb(17,17,17)\"}},\"header\":{\"fill\":{\"color\":\"#2a3f5f\"},\"line\":{\"color\":\"rgb(17,17,17)\"}},\"type\":\"table\"}]},\"layout\":{\"annotationdefaults\":{\"arrowcolor\":\"#f2f5fa\",\"arrowhead\":0,\"arrowwidth\":1},\"autotypenumbers\":\"strict\",\"coloraxis\":{\"colorbar\":{\"outlinewidth\":0,\"ticks\":\"\"}},\"colorscale\":{\"diverging\":[[0,\"#8e0152\"],[0.1,\"#c51b7d\"],[0.2,\"#de77ae\"],[0.3,\"#f1b6da\"],[0.4,\"#fde0ef\"],[0.5,\"#f7f7f7\"],[0.6,\"#e6f5d0\"],[0.7,\"#b8e186\"],[0.8,\"#7fbc41\"],[0.9,\"#4d9221\"],[1,\"#276419\"]],\"sequential\":[[0.0,\"#0d0887\"],[0.1111111111111111,\"#46039f\"],[0.2222222222222222,\"#7201a8\"],[0.3333333333333333,\"#9c179e\"],[0.4444444444444444,\"#bd3786\"],[0.5555555555555556,\"#d8576b\"],[0.6666666666666666,\"#ed7953\"],[0.7777777777777778,\"#fb9f3a\"],[0.8888888888888888,\"#fdca26\"],[1.0,\"#f0f921\"]],\"sequentialminus\":[[0.0,\"#0d0887\"],[0.1111111111111111,\"#46039f\"],[0.2222222222222222,\"#7201a8\"],[0.3333333333333333,\"#9c179e\"],[0.4444444444444444,\"#bd3786\"],[0.5555555555555556,\"#d8576b\"],[0.6666666666666666,\"#ed7953\"],[0.7777777777777778,\"#fb9f3a\"],[0.8888888888888888,\"#fdca26\"],[1.0,\"#f0f921\"]]},\"colorway\":[\"#636efa\",\"#EF553B\",\"#00cc96\",\"#ab63fa\",\"#FFA15A\",\"#19d3f3\",\"#FF6692\",\"#B6E880\",\"#FF97FF\",\"#FECB52\"],\"font\":{\"color\":\"#f2f5fa\"},\"geo\":{\"bgcolor\":\"rgb(17,17,17)\",\"lakecolor\":\"rgb(17,17,17)\",\"landcolor\":\"rgb(17,17,17)\",\"showlakes\":true,\"showland\":true,\"subunitcolor\":\"#506784\"},\"hoverlabel\":{\"align\":\"left\"},\"hovermode\":\"closest\",\"mapbox\":{\"style\":\"dark\"},\"paper_bgcolor\":\"rgb(17,17,17)\",\"plot_bgcolor\":\"rgb(17,17,17)\",\"polar\":{\"angularaxis\":{\"gridcolor\":\"#506784\",\"linecolor\":\"#506784\",\"ticks\":\"\"},\"bgcolor\":\"rgb(17,17,17)\",\"radialaxis\":{\"gridcolor\":\"#506784\",\"linecolor\":\"#506784\",\"ticks\":\"\"}},\"scene\":{\"xaxis\":{\"backgroundcolor\":\"rgb(17,17,17)\",\"gridcolor\":\"#506784\",\"gridwidth\":2,\"linecolor\":\"#506784\",\"showbackground\":true,\"ticks\":\"\",\"zerolinecolor\":\"#C8D4E3\"},\"yaxis\":{\"backgroundcolor\":\"rgb(17,17,17)\",\"gridcolor\":\"#506784\",\"gridwidth\":2,\"linecolor\":\"#506784\",\"showbackground\":true,\"ticks\":\"\",\"zerolinecolor\":\"#C8D4E3\"},\"zaxis\":{\"backgroundcolor\":\"rgb(17,17,17)\",\"gridcolor\":\"#506784\",\"gridwidth\":2,\"linecolor\":\"#506784\",\"showbackground\":true,\"ticks\":\"\",\"zerolinecolor\":\"#C8D4E3\"}},\"shapedefaults\":{\"line\":{\"color\":\"#f2f5fa\"}},\"sliderdefaults\":{\"bgcolor\":\"#C8D4E3\",\"bordercolor\":\"rgb(17,17,17)\",\"borderwidth\":1,\"tickwidth\":0},\"ternary\":{\"aaxis\":{\"gridcolor\":\"#506784\",\"linecolor\":\"#506784\",\"ticks\":\"\"},\"baxis\":{\"gridcolor\":\"#506784\",\"linecolor\":\"#506784\",\"ticks\":\"\"},\"bgcolor\":\"rgb(17,17,17)\",\"caxis\":{\"gridcolor\":\"#506784\",\"linecolor\":\"#506784\",\"ticks\":\"\"}},\"title\":{\"x\":0.05},\"updatemenudefaults\":{\"bgcolor\":\"#506784\",\"borderwidth\":0},\"xaxis\":{\"automargin\":true,\"gridcolor\":\"#283442\",\"linecolor\":\"#506784\",\"ticks\":\"\",\"title\":{\"standoff\":15},\"zerolinecolor\":\"#283442\",\"zerolinewidth\":2},\"yaxis\":{\"automargin\":true,\"gridcolor\":\"#283442\",\"linecolor\":\"#506784\",\"ticks\":\"\",\"title\":{\"standoff\":15},\"zerolinecolor\":\"#283442\",\"zerolinewidth\":2}}},\"title\":{\"text\":\"Кривая обучения\"},\"width\":1200,\"height\":600},                        {\"responsive\": true}                    ).then(function(){\n",
              "                            \n",
              "var gd = document.getElementById('906dc664-173c-470e-9cbc-6f0448ec9abd');\n",
              "var x = new MutationObserver(function (mutations, observer) {{\n",
              "        var display = window.getComputedStyle(gd).display;\n",
              "        if (!display || display === 'none') {{\n",
              "            console.log([gd, 'removed!']);\n",
              "            Plotly.purge(gd);\n",
              "            observer.disconnect();\n",
              "        }}\n",
              "}});\n",
              "\n",
              "// Listen for the removal of the full notebook cells\n",
              "var notebookContainer = gd.closest('#notebook-container');\n",
              "if (notebookContainer) {{\n",
              "    x.observe(notebookContainer, {childList: true});\n",
              "}}\n",
              "\n",
              "// Listen for the clearing of the current output cell\n",
              "var outputEl = gd.closest('.output');\n",
              "if (outputEl) {{\n",
              "    x.observe(outputEl, {childList: true});\n",
              "}}\n",
              "\n",
              "                        })                };                            </script>        </div>\n",
              "</body>\n",
              "</html>"
            ]
          },
          "metadata": {}
        }
      ],
      "source": [
        "regr_l2 = RidgeRegression(learning_rate=0.25,\n",
        "                       epochs=300, batch_size=10,\n",
        "                       l2_penalty = 0.001)\n",
        "regr_l2.fit(x_train_, y_train)\n",
        "\n",
        "print(f'Ошибка на тестовых данных = {regr_l2.score(x_test_, y_test):.2f}, \\n Ошибка на тренировочных данных = {regr_l2.score(x_train_, y_train):.2f}')\n",
        "regr_l2.plot_cost()"
      ]
    },
    {
      "cell_type": "markdown",
      "source": [
        "Значения ошибок на тестовых и тренировочных данных близки, что свидетельствует об отсутствии переобучения и хорошем качестве модели."
      ],
      "metadata": {
        "id": "SjluRFvRBViU"
      }
    },
    {
      "cell_type": "code",
      "source": [
        "w, b = regr_l2.get_w_and_b()\n",
        "print(w,b)"
      ],
      "metadata": {
        "id": "XP6RQum8HL8b",
        "colab": {
          "base_uri": "https://localhost:8080/"
        },
        "outputId": "7b04402c-4825-4ecc-947c-67d56000d70a"
      },
      "execution_count": null,
      "outputs": [
        {
          "output_type": "stream",
          "name": "stdout",
          "text": [
            "[ 2.06091025  0.86313732  0.19259058  0.04504228 -0.61874672 -0.56545792\n",
            "  0.13345098  0.0280774  -0.20859545  0.25865288] -1.1148664581516265\n"
          ]
        }
      ]
    },
    {
      "cell_type": "code",
      "source": [
        "vis_weigths(np.hstack([b,w]))"
      ],
      "metadata": {
        "colab": {
          "base_uri": "https://localhost:8080/",
          "height": 617
        },
        "id": "uyGkPyFlQP7G",
        "outputId": "f4cd89da-ff5c-40c6-a0a5-9c3ba23698f2"
      },
      "execution_count": null,
      "outputs": [
        {
          "output_type": "display_data",
          "data": {
            "text/html": [
              "<html>\n",
              "<head><meta charset=\"utf-8\" /></head>\n",
              "<body>\n",
              "    <div>            <script src=\"https://cdnjs.cloudflare.com/ajax/libs/mathjax/2.7.5/MathJax.js?config=TeX-AMS-MML_SVG\"></script><script type=\"text/javascript\">if (window.MathJax && window.MathJax.Hub && window.MathJax.Hub.Config) {window.MathJax.Hub.Config({SVG: {font: \"STIX-Web\"}});}</script>                <script type=\"text/javascript\">window.PlotlyConfig = {MathJaxConfig: 'local'};</script>\n",
              "        <script charset=\"utf-8\" src=\"https://cdn.plot.ly/plotly-2.35.2.min.js\"></script>                <div id=\"e312657e-4f75-44ad-8333-e30bbe3ed1da\" class=\"plotly-graph-div\" style=\"height:600px; width:1200px;\"></div>            <script type=\"text/javascript\">                                    window.PLOTLYENV=window.PLOTLYENV || {};                                    if (document.getElementById(\"e312657e-4f75-44ad-8333-e30bbe3ed1da\")) {                    Plotly.newPlot(                        \"e312657e-4f75-44ad-8333-e30bbe3ed1da\",                        [{\"marker\":{\"color\":\"red\"},\"name\":\"отрицательные веса\",\"x\":[0,5,6,9],\"y\":[-1.1148664581516265,-0.6187467244326457,-0.5654579160555289,-0.20859545350881376],\"type\":\"bar\"},{\"marker\":{\"color\":\"blue\"},\"name\":\"положительные веса\",\"x\":[1,2,3,4,7,8,10],\"y\":[2.060910250429166,0.8631373196915476,0.1925905794075075,0.045042277565074534,0.1334509830198777,0.028077404653382286,0.25865287683517174],\"type\":\"bar\"}],                        {\"template\":{\"data\":{\"barpolar\":[{\"marker\":{\"line\":{\"color\":\"rgb(17,17,17)\",\"width\":0.5},\"pattern\":{\"fillmode\":\"overlay\",\"size\":10,\"solidity\":0.2}},\"type\":\"barpolar\"}],\"bar\":[{\"error_x\":{\"color\":\"#f2f5fa\"},\"error_y\":{\"color\":\"#f2f5fa\"},\"marker\":{\"line\":{\"color\":\"rgb(17,17,17)\",\"width\":0.5},\"pattern\":{\"fillmode\":\"overlay\",\"size\":10,\"solidity\":0.2}},\"type\":\"bar\"}],\"carpet\":[{\"aaxis\":{\"endlinecolor\":\"#A2B1C6\",\"gridcolor\":\"#506784\",\"linecolor\":\"#506784\",\"minorgridcolor\":\"#506784\",\"startlinecolor\":\"#A2B1C6\"},\"baxis\":{\"endlinecolor\":\"#A2B1C6\",\"gridcolor\":\"#506784\",\"linecolor\":\"#506784\",\"minorgridcolor\":\"#506784\",\"startlinecolor\":\"#A2B1C6\"},\"type\":\"carpet\"}],\"choropleth\":[{\"colorbar\":{\"outlinewidth\":0,\"ticks\":\"\"},\"type\":\"choropleth\"}],\"contourcarpet\":[{\"colorbar\":{\"outlinewidth\":0,\"ticks\":\"\"},\"type\":\"contourcarpet\"}],\"contour\":[{\"colorbar\":{\"outlinewidth\":0,\"ticks\":\"\"},\"colorscale\":[[0.0,\"#0d0887\"],[0.1111111111111111,\"#46039f\"],[0.2222222222222222,\"#7201a8\"],[0.3333333333333333,\"#9c179e\"],[0.4444444444444444,\"#bd3786\"],[0.5555555555555556,\"#d8576b\"],[0.6666666666666666,\"#ed7953\"],[0.7777777777777778,\"#fb9f3a\"],[0.8888888888888888,\"#fdca26\"],[1.0,\"#f0f921\"]],\"type\":\"contour\"}],\"heatmapgl\":[{\"colorbar\":{\"outlinewidth\":0,\"ticks\":\"\"},\"colorscale\":[[0.0,\"#0d0887\"],[0.1111111111111111,\"#46039f\"],[0.2222222222222222,\"#7201a8\"],[0.3333333333333333,\"#9c179e\"],[0.4444444444444444,\"#bd3786\"],[0.5555555555555556,\"#d8576b\"],[0.6666666666666666,\"#ed7953\"],[0.7777777777777778,\"#fb9f3a\"],[0.8888888888888888,\"#fdca26\"],[1.0,\"#f0f921\"]],\"type\":\"heatmapgl\"}],\"heatmap\":[{\"colorbar\":{\"outlinewidth\":0,\"ticks\":\"\"},\"colorscale\":[[0.0,\"#0d0887\"],[0.1111111111111111,\"#46039f\"],[0.2222222222222222,\"#7201a8\"],[0.3333333333333333,\"#9c179e\"],[0.4444444444444444,\"#bd3786\"],[0.5555555555555556,\"#d8576b\"],[0.6666666666666666,\"#ed7953\"],[0.7777777777777778,\"#fb9f3a\"],[0.8888888888888888,\"#fdca26\"],[1.0,\"#f0f921\"]],\"type\":\"heatmap\"}],\"histogram2dcontour\":[{\"colorbar\":{\"outlinewidth\":0,\"ticks\":\"\"},\"colorscale\":[[0.0,\"#0d0887\"],[0.1111111111111111,\"#46039f\"],[0.2222222222222222,\"#7201a8\"],[0.3333333333333333,\"#9c179e\"],[0.4444444444444444,\"#bd3786\"],[0.5555555555555556,\"#d8576b\"],[0.6666666666666666,\"#ed7953\"],[0.7777777777777778,\"#fb9f3a\"],[0.8888888888888888,\"#fdca26\"],[1.0,\"#f0f921\"]],\"type\":\"histogram2dcontour\"}],\"histogram2d\":[{\"colorbar\":{\"outlinewidth\":0,\"ticks\":\"\"},\"colorscale\":[[0.0,\"#0d0887\"],[0.1111111111111111,\"#46039f\"],[0.2222222222222222,\"#7201a8\"],[0.3333333333333333,\"#9c179e\"],[0.4444444444444444,\"#bd3786\"],[0.5555555555555556,\"#d8576b\"],[0.6666666666666666,\"#ed7953\"],[0.7777777777777778,\"#fb9f3a\"],[0.8888888888888888,\"#fdca26\"],[1.0,\"#f0f921\"]],\"type\":\"histogram2d\"}],\"histogram\":[{\"marker\":{\"pattern\":{\"fillmode\":\"overlay\",\"size\":10,\"solidity\":0.2}},\"type\":\"histogram\"}],\"mesh3d\":[{\"colorbar\":{\"outlinewidth\":0,\"ticks\":\"\"},\"type\":\"mesh3d\"}],\"parcoords\":[{\"line\":{\"colorbar\":{\"outlinewidth\":0,\"ticks\":\"\"}},\"type\":\"parcoords\"}],\"pie\":[{\"automargin\":true,\"type\":\"pie\"}],\"scatter3d\":[{\"line\":{\"colorbar\":{\"outlinewidth\":0,\"ticks\":\"\"}},\"marker\":{\"colorbar\":{\"outlinewidth\":0,\"ticks\":\"\"}},\"type\":\"scatter3d\"}],\"scattercarpet\":[{\"marker\":{\"colorbar\":{\"outlinewidth\":0,\"ticks\":\"\"}},\"type\":\"scattercarpet\"}],\"scattergeo\":[{\"marker\":{\"colorbar\":{\"outlinewidth\":0,\"ticks\":\"\"}},\"type\":\"scattergeo\"}],\"scattergl\":[{\"marker\":{\"line\":{\"color\":\"#283442\"}},\"type\":\"scattergl\"}],\"scattermapbox\":[{\"marker\":{\"colorbar\":{\"outlinewidth\":0,\"ticks\":\"\"}},\"type\":\"scattermapbox\"}],\"scatterpolargl\":[{\"marker\":{\"colorbar\":{\"outlinewidth\":0,\"ticks\":\"\"}},\"type\":\"scatterpolargl\"}],\"scatterpolar\":[{\"marker\":{\"colorbar\":{\"outlinewidth\":0,\"ticks\":\"\"}},\"type\":\"scatterpolar\"}],\"scatter\":[{\"marker\":{\"line\":{\"color\":\"#283442\"}},\"type\":\"scatter\"}],\"scatterternary\":[{\"marker\":{\"colorbar\":{\"outlinewidth\":0,\"ticks\":\"\"}},\"type\":\"scatterternary\"}],\"surface\":[{\"colorbar\":{\"outlinewidth\":0,\"ticks\":\"\"},\"colorscale\":[[0.0,\"#0d0887\"],[0.1111111111111111,\"#46039f\"],[0.2222222222222222,\"#7201a8\"],[0.3333333333333333,\"#9c179e\"],[0.4444444444444444,\"#bd3786\"],[0.5555555555555556,\"#d8576b\"],[0.6666666666666666,\"#ed7953\"],[0.7777777777777778,\"#fb9f3a\"],[0.8888888888888888,\"#fdca26\"],[1.0,\"#f0f921\"]],\"type\":\"surface\"}],\"table\":[{\"cells\":{\"fill\":{\"color\":\"#506784\"},\"line\":{\"color\":\"rgb(17,17,17)\"}},\"header\":{\"fill\":{\"color\":\"#2a3f5f\"},\"line\":{\"color\":\"rgb(17,17,17)\"}},\"type\":\"table\"}]},\"layout\":{\"annotationdefaults\":{\"arrowcolor\":\"#f2f5fa\",\"arrowhead\":0,\"arrowwidth\":1},\"autotypenumbers\":\"strict\",\"coloraxis\":{\"colorbar\":{\"outlinewidth\":0,\"ticks\":\"\"}},\"colorscale\":{\"diverging\":[[0,\"#8e0152\"],[0.1,\"#c51b7d\"],[0.2,\"#de77ae\"],[0.3,\"#f1b6da\"],[0.4,\"#fde0ef\"],[0.5,\"#f7f7f7\"],[0.6,\"#e6f5d0\"],[0.7,\"#b8e186\"],[0.8,\"#7fbc41\"],[0.9,\"#4d9221\"],[1,\"#276419\"]],\"sequential\":[[0.0,\"#0d0887\"],[0.1111111111111111,\"#46039f\"],[0.2222222222222222,\"#7201a8\"],[0.3333333333333333,\"#9c179e\"],[0.4444444444444444,\"#bd3786\"],[0.5555555555555556,\"#d8576b\"],[0.6666666666666666,\"#ed7953\"],[0.7777777777777778,\"#fb9f3a\"],[0.8888888888888888,\"#fdca26\"],[1.0,\"#f0f921\"]],\"sequentialminus\":[[0.0,\"#0d0887\"],[0.1111111111111111,\"#46039f\"],[0.2222222222222222,\"#7201a8\"],[0.3333333333333333,\"#9c179e\"],[0.4444444444444444,\"#bd3786\"],[0.5555555555555556,\"#d8576b\"],[0.6666666666666666,\"#ed7953\"],[0.7777777777777778,\"#fb9f3a\"],[0.8888888888888888,\"#fdca26\"],[1.0,\"#f0f921\"]]},\"colorway\":[\"#636efa\",\"#EF553B\",\"#00cc96\",\"#ab63fa\",\"#FFA15A\",\"#19d3f3\",\"#FF6692\",\"#B6E880\",\"#FF97FF\",\"#FECB52\"],\"font\":{\"color\":\"#f2f5fa\"},\"geo\":{\"bgcolor\":\"rgb(17,17,17)\",\"lakecolor\":\"rgb(17,17,17)\",\"landcolor\":\"rgb(17,17,17)\",\"showlakes\":true,\"showland\":true,\"subunitcolor\":\"#506784\"},\"hoverlabel\":{\"align\":\"left\"},\"hovermode\":\"closest\",\"mapbox\":{\"style\":\"dark\"},\"paper_bgcolor\":\"rgb(17,17,17)\",\"plot_bgcolor\":\"rgb(17,17,17)\",\"polar\":{\"angularaxis\":{\"gridcolor\":\"#506784\",\"linecolor\":\"#506784\",\"ticks\":\"\"},\"bgcolor\":\"rgb(17,17,17)\",\"radialaxis\":{\"gridcolor\":\"#506784\",\"linecolor\":\"#506784\",\"ticks\":\"\"}},\"scene\":{\"xaxis\":{\"backgroundcolor\":\"rgb(17,17,17)\",\"gridcolor\":\"#506784\",\"gridwidth\":2,\"linecolor\":\"#506784\",\"showbackground\":true,\"ticks\":\"\",\"zerolinecolor\":\"#C8D4E3\"},\"yaxis\":{\"backgroundcolor\":\"rgb(17,17,17)\",\"gridcolor\":\"#506784\",\"gridwidth\":2,\"linecolor\":\"#506784\",\"showbackground\":true,\"ticks\":\"\",\"zerolinecolor\":\"#C8D4E3\"},\"zaxis\":{\"backgroundcolor\":\"rgb(17,17,17)\",\"gridcolor\":\"#506784\",\"gridwidth\":2,\"linecolor\":\"#506784\",\"showbackground\":true,\"ticks\":\"\",\"zerolinecolor\":\"#C8D4E3\"}},\"shapedefaults\":{\"line\":{\"color\":\"#f2f5fa\"}},\"sliderdefaults\":{\"bgcolor\":\"#C8D4E3\",\"bordercolor\":\"rgb(17,17,17)\",\"borderwidth\":1,\"tickwidth\":0},\"ternary\":{\"aaxis\":{\"gridcolor\":\"#506784\",\"linecolor\":\"#506784\",\"ticks\":\"\"},\"baxis\":{\"gridcolor\":\"#506784\",\"linecolor\":\"#506784\",\"ticks\":\"\"},\"bgcolor\":\"rgb(17,17,17)\",\"caxis\":{\"gridcolor\":\"#506784\",\"linecolor\":\"#506784\",\"ticks\":\"\"}},\"title\":{\"x\":0.05},\"updatemenudefaults\":{\"bgcolor\":\"#506784\",\"borderwidth\":0},\"xaxis\":{\"automargin\":true,\"gridcolor\":\"#283442\",\"linecolor\":\"#506784\",\"ticks\":\"\",\"title\":{\"standoff\":15},\"zerolinecolor\":\"#283442\",\"zerolinewidth\":2},\"yaxis\":{\"automargin\":true,\"gridcolor\":\"#283442\",\"linecolor\":\"#506784\",\"ticks\":\"\",\"title\":{\"standoff\":15},\"zerolinecolor\":\"#283442\",\"zerolinewidth\":2}}},\"xaxis\":{\"tickmode\":\"array\",\"tickvals\":[0,1,2,3,4,5,6,7,8,9,10],\"ticktext\":[\"w0\",\"w1\",\"w2\",\"w3\",\"w4\",\"w5\",\"w6\",\"w7\",\"w8\",\"w9\",\"w10\"]},\"title\":{\"text\":\"Веса модели\"},\"width\":1200,\"height\":600},                        {\"responsive\": true}                    ).then(function(){\n",
              "                            \n",
              "var gd = document.getElementById('e312657e-4f75-44ad-8333-e30bbe3ed1da');\n",
              "var x = new MutationObserver(function (mutations, observer) {{\n",
              "        var display = window.getComputedStyle(gd).display;\n",
              "        if (!display || display === 'none') {{\n",
              "            console.log([gd, 'removed!']);\n",
              "            Plotly.purge(gd);\n",
              "            observer.disconnect();\n",
              "        }}\n",
              "}});\n",
              "\n",
              "// Listen for the removal of the full notebook cells\n",
              "var notebookContainer = gd.closest('#notebook-container');\n",
              "if (notebookContainer) {{\n",
              "    x.observe(notebookContainer, {childList: true});\n",
              "}}\n",
              "\n",
              "// Listen for the clearing of the current output cell\n",
              "var outputEl = gd.closest('.output');\n",
              "if (outputEl) {{\n",
              "    x.observe(outputEl, {childList: true});\n",
              "}}\n",
              "\n",
              "                        })                };                            </script>        </div>\n",
              "</body>\n",
              "</html>"
            ]
          },
          "metadata": {}
        }
      ]
    },
    {
      "cell_type": "code",
      "source": [
        "np.sum(np.abs(w))"
      ],
      "metadata": {
        "id": "9ifbUclUa4ik",
        "colab": {
          "base_uri": "https://localhost:8080/"
        },
        "outputId": "8a5be760-7a68-4621-eec5-acdda10bb27f"
      },
      "execution_count": null,
      "outputs": [
        {
          "output_type": "execute_result",
          "data": {
            "text/plain": [
              "np.float64(4.974661785598715)"
            ]
          },
          "metadata": {},
          "execution_count": 480
        }
      ]
    },
    {
      "cell_type": "markdown",
      "source": [
        "Посмотрим на результат."
      ],
      "metadata": {
        "id": "hgdW6eBmJZHA"
      }
    },
    {
      "cell_type": "code",
      "source": [
        "plot_model_class(x_train_, y_train, x_test_, x, y_true, regr_l2);"
      ],
      "metadata": {
        "colab": {
          "base_uri": "https://localhost:8080/",
          "height": 617
        },
        "id": "Mp2WIP07JSDa",
        "outputId": "1bb3eba8-c50c-4484-c171-bd8461304560"
      },
      "execution_count": null,
      "outputs": [
        {
          "output_type": "display_data",
          "data": {
            "text/html": [
              "<html>\n",
              "<head><meta charset=\"utf-8\" /></head>\n",
              "<body>\n",
              "    <div>            <script src=\"https://cdnjs.cloudflare.com/ajax/libs/mathjax/2.7.5/MathJax.js?config=TeX-AMS-MML_SVG\"></script><script type=\"text/javascript\">if (window.MathJax && window.MathJax.Hub && window.MathJax.Hub.Config) {window.MathJax.Hub.Config({SVG: {font: \"STIX-Web\"}});}</script>                <script type=\"text/javascript\">window.PlotlyConfig = {MathJaxConfig: 'local'};</script>\n",
              "        <script charset=\"utf-8\" src=\"https://cdn.plot.ly/plotly-2.35.2.min.js\"></script>                <div id=\"70a9c15f-aa79-4eb6-8782-31b4c3aa589f\" class=\"plotly-graph-div\" style=\"height:600px; width:1200px;\"></div>            <script type=\"text/javascript\">                                    window.PLOTLYENV=window.PLOTLYENV || {};                                    if (document.getElementById(\"70a9c15f-aa79-4eb6-8782-31b4c3aa589f\")) {                    Plotly.newPlot(                        \"70a9c15f-aa79-4eb6-8782-31b4c3aa589f\",                        [{\"marker\":{\"color\":\"Blue\",\"size\":5},\"mode\":\"markers\",\"name\":\"Предсказание на x_test\",\"x\":[0.04864275845245291,0.8717318949578305,0.6362194811532859,0.39221749528184063,0.7665422633556482,0.17857244474527742,0.3836532251490256,0.3059331605412711,1.0156872220654944,0.31899079313911943,0.14607762928177764,0.8465517233413815,0.20909789571439721,0.5385050446476917,0.7165271498113673],\"y\":[-1.0125535715609255,0.9969003690204874,0.5063116140192373,-0.1686937891864639,0.8190599484911409,-0.7183082908027796,-0.19208448922345714,-0.39976032962033414,1.0717657552239641,-0.36550460054378303,-0.7948209947183671,0.9625032669357091,-0.6446418992145085,0.23898424197506354,0.7080442653184633],\"type\":\"scatter\"},{\"marker\":{\"color\":\"LightSkyBlue\",\"size\":10},\"mode\":\"markers\",\"name\":\"Предсказание на x_train\",\"x\":[0.1935791331541123,0.7414918695374813,0.5495236501799443,0.9522380983100062,0.3049744424524801,1.0112075003926706,0.47759537064635094,0.46092661359718623,0.620375085805519,0.3186017317977882,0.19206075359692815,0.06812186887562248,0.6937917137886659,0.16335707969615926,0.060825016427191375,0.12779814068180767,0.8222343440291981,0.9936706109775585,0.995585693560036,0.2223609967255541,0.16338233821234197,0.2709937630302383,0.45233176577359235,0.6294861682850023,0.5725136657422902,0.021556032019184653,0.9070575387604193,0.5185480476776199,0.6269136986542038,0.1022819986076801,0.5446139582330638,0.19040666040567744,0.6407308530458254,0.03601157510112919,0.3264230755616875],\"y\":[-0.6823092938235337,0.7651771831005356,0.26973808729347104,1.0655727037085403,-0.40226452814719305,1.072718348926227,0.0682548974132943,0.021598860667926715,0.46410571516827576,-0.36652923798559245,-0.685970729581317,-0.9704070452402166,0.6534193769513484,-0.75437957587781,-0.9862748117220863,-0.8369983693835984,0.9240758283285021,1.0744492414992668,1.0744168746037468,-0.6120966861062358,-0.7543200527582613,-0.4900243936739645,-0.0024064691820596708,0.4884500183374608,0.33356938488109744,-1.0700384074156182,1.0351183032833728,0.18311400561850086,0.4815963149078505,-0.8948391851198839,0.2560451113911097,-0.6899545493406855,0.518213364173974,-1.039521457233584,-0.3458849099283618],\"type\":\"scatter\"},{\"marker\":{\"color\":\"Red\",\"size\":5},\"mode\":\"markers\",\"name\":\"Тренировочные данные\",\"x\":[0.1935791331541123,0.7414918695374813,0.5495236501799443,0.9522380983100062,0.3049744424524801,1.0112075003926706,0.47759537064635094,0.46092661359718623,0.620375085805519,0.3186017317977882,0.19206075359692815,0.06812186887562248,0.6937917137886659,0.16335707969615926,0.060825016427191375,0.12779814068180767,0.8222343440291981,0.9936706109775585,0.995585693560036,0.2223609967255541,0.16338233821234197,0.2709937630302383,0.45233176577359235,0.6294861682850023,0.5725136657422902,0.021556032019184653,0.9070575387604193,0.5185480476776199,0.6269136986542038,0.1022819986076801,0.5446139582330638,0.19040666040567744,0.6407308530458254,0.03601157510112919,0.3264230755616875],\"y\":[-0.6574288402766963,0.5605193359905387,0.3066158284476615,0.9480843377216104,-0.4821154209074536,0.9394337392365557,0.04737282835006827,0.1395163319596294,0.46753304271136953,-0.31664189321495323,-0.7894266317358266,-1.0695970167815658,0.6262157405693716,-0.7437527019770642,-0.9599255756172168,-0.8859000499605691,0.9317182013142993,1.0891567539494484,1.0300655847773865,-0.5631752750991205,-0.9543714462911532,-0.623764926829987,0.05901735971355149,0.23356862394593314,0.4911769631659647,-0.8919117320329665,0.8995096788589202,0.27875626526021086,0.6451479777470205,-0.9502612944387703,0.1915022876684118,-0.7636436939258158,0.5338723871011308,-0.9368676927689883,-0.41119053998701494],\"type\":\"scatter\"},{\"marker\":{\"color\":\"green\",\"size\":10},\"mode\":\"lines+markers\",\"name\":\"Истинные значения\",\"opacity\":0.7,\"x\":[0.021556032019184653,0.03601157510112919,0.04864275845245291,0.060825016427191375,0.06812186887562248,0.1022819986076801,0.12779814068180767,0.14607762928177764,0.16335707969615926,0.16338233821234197,0.17857244474527742,0.19040666040567744,0.19206075359692815,0.1935791331541123,0.20909789571439721,0.2223609967255541,0.2709937630302383,0.3049744424524801,0.3059331605412711,0.3186017317977882,0.31899079313911943,0.3264230755616875,0.3836532251490256,0.39221749528184063,0.45233176577359235,0.46092661359718623,0.47759537064635094,0.5185480476776199,0.5385050446476917,0.5446139582330638,0.5495236501799443,0.5725136657422902,0.620375085805519,0.6269136986542038,0.6294861682850023,0.6362194811532859,0.6407308530458254,0.6937917137886659,0.7165271498113673,0.7414918695374813,0.7665422633556482,0.8222343440291981,0.8465517233413815,0.8717318949578305,0.9070575387604193,0.9522380983100062,0.9936706109775585,0.995585693560036,1.0112075003926706,1.0156872220654944],\"y\":[-0.9657583900325075,-0.9540045208879854,-0.9423221059768387,-0.9298152060582879,-0.9217448177448232,-0.8782768735992994,-0.8398361728645903,-0.8092645826539571,-0.7781145309339104,-0.7780674307548798,-0.748932228711473,-0.7251354658841841,-0.7217344317052308,-0.7185964691607831,-0.6856619709723478,-0.6563032870107404,-0.5398431745077231,-0.45119418332233213,-0.4486166957183381,-0.41419640592718915,-0.4131289929563197,-0.3926246423206332,-0.22853411490479733,-0.20321374411641238,-0.02223522252586832,0.003892329102547121,0.054573840508101656,0.17840297547100842,0.237944194983681,0.2560142631289242,0.2704762678968201,0.33737330651936775,0.47111564662236466,0.48868361216561984,0.4955431343549076,0.5133537979793605,0.5251676802773138,0.6561164756159583,0.7071648567914334,0.7592762274506281,0.8071086320415715,0.8960069441631247,0.9267369217601253,0.9530868009971594,0.980359039148239,0.998260042080064,0.997616542179241,0.997190473811418,0.9924097596132596,0.9906106557332874],\"type\":\"scatter\"}],                        {\"template\":{\"data\":{\"barpolar\":[{\"marker\":{\"line\":{\"color\":\"rgb(17,17,17)\",\"width\":0.5},\"pattern\":{\"fillmode\":\"overlay\",\"size\":10,\"solidity\":0.2}},\"type\":\"barpolar\"}],\"bar\":[{\"error_x\":{\"color\":\"#f2f5fa\"},\"error_y\":{\"color\":\"#f2f5fa\"},\"marker\":{\"line\":{\"color\":\"rgb(17,17,17)\",\"width\":0.5},\"pattern\":{\"fillmode\":\"overlay\",\"size\":10,\"solidity\":0.2}},\"type\":\"bar\"}],\"carpet\":[{\"aaxis\":{\"endlinecolor\":\"#A2B1C6\",\"gridcolor\":\"#506784\",\"linecolor\":\"#506784\",\"minorgridcolor\":\"#506784\",\"startlinecolor\":\"#A2B1C6\"},\"baxis\":{\"endlinecolor\":\"#A2B1C6\",\"gridcolor\":\"#506784\",\"linecolor\":\"#506784\",\"minorgridcolor\":\"#506784\",\"startlinecolor\":\"#A2B1C6\"},\"type\":\"carpet\"}],\"choropleth\":[{\"colorbar\":{\"outlinewidth\":0,\"ticks\":\"\"},\"type\":\"choropleth\"}],\"contourcarpet\":[{\"colorbar\":{\"outlinewidth\":0,\"ticks\":\"\"},\"type\":\"contourcarpet\"}],\"contour\":[{\"colorbar\":{\"outlinewidth\":0,\"ticks\":\"\"},\"colorscale\":[[0.0,\"#0d0887\"],[0.1111111111111111,\"#46039f\"],[0.2222222222222222,\"#7201a8\"],[0.3333333333333333,\"#9c179e\"],[0.4444444444444444,\"#bd3786\"],[0.5555555555555556,\"#d8576b\"],[0.6666666666666666,\"#ed7953\"],[0.7777777777777778,\"#fb9f3a\"],[0.8888888888888888,\"#fdca26\"],[1.0,\"#f0f921\"]],\"type\":\"contour\"}],\"heatmapgl\":[{\"colorbar\":{\"outlinewidth\":0,\"ticks\":\"\"},\"colorscale\":[[0.0,\"#0d0887\"],[0.1111111111111111,\"#46039f\"],[0.2222222222222222,\"#7201a8\"],[0.3333333333333333,\"#9c179e\"],[0.4444444444444444,\"#bd3786\"],[0.5555555555555556,\"#d8576b\"],[0.6666666666666666,\"#ed7953\"],[0.7777777777777778,\"#fb9f3a\"],[0.8888888888888888,\"#fdca26\"],[1.0,\"#f0f921\"]],\"type\":\"heatmapgl\"}],\"heatmap\":[{\"colorbar\":{\"outlinewidth\":0,\"ticks\":\"\"},\"colorscale\":[[0.0,\"#0d0887\"],[0.1111111111111111,\"#46039f\"],[0.2222222222222222,\"#7201a8\"],[0.3333333333333333,\"#9c179e\"],[0.4444444444444444,\"#bd3786\"],[0.5555555555555556,\"#d8576b\"],[0.6666666666666666,\"#ed7953\"],[0.7777777777777778,\"#fb9f3a\"],[0.8888888888888888,\"#fdca26\"],[1.0,\"#f0f921\"]],\"type\":\"heatmap\"}],\"histogram2dcontour\":[{\"colorbar\":{\"outlinewidth\":0,\"ticks\":\"\"},\"colorscale\":[[0.0,\"#0d0887\"],[0.1111111111111111,\"#46039f\"],[0.2222222222222222,\"#7201a8\"],[0.3333333333333333,\"#9c179e\"],[0.4444444444444444,\"#bd3786\"],[0.5555555555555556,\"#d8576b\"],[0.6666666666666666,\"#ed7953\"],[0.7777777777777778,\"#fb9f3a\"],[0.8888888888888888,\"#fdca26\"],[1.0,\"#f0f921\"]],\"type\":\"histogram2dcontour\"}],\"histogram2d\":[{\"colorbar\":{\"outlinewidth\":0,\"ticks\":\"\"},\"colorscale\":[[0.0,\"#0d0887\"],[0.1111111111111111,\"#46039f\"],[0.2222222222222222,\"#7201a8\"],[0.3333333333333333,\"#9c179e\"],[0.4444444444444444,\"#bd3786\"],[0.5555555555555556,\"#d8576b\"],[0.6666666666666666,\"#ed7953\"],[0.7777777777777778,\"#fb9f3a\"],[0.8888888888888888,\"#fdca26\"],[1.0,\"#f0f921\"]],\"type\":\"histogram2d\"}],\"histogram\":[{\"marker\":{\"pattern\":{\"fillmode\":\"overlay\",\"size\":10,\"solidity\":0.2}},\"type\":\"histogram\"}],\"mesh3d\":[{\"colorbar\":{\"outlinewidth\":0,\"ticks\":\"\"},\"type\":\"mesh3d\"}],\"parcoords\":[{\"line\":{\"colorbar\":{\"outlinewidth\":0,\"ticks\":\"\"}},\"type\":\"parcoords\"}],\"pie\":[{\"automargin\":true,\"type\":\"pie\"}],\"scatter3d\":[{\"line\":{\"colorbar\":{\"outlinewidth\":0,\"ticks\":\"\"}},\"marker\":{\"colorbar\":{\"outlinewidth\":0,\"ticks\":\"\"}},\"type\":\"scatter3d\"}],\"scattercarpet\":[{\"marker\":{\"colorbar\":{\"outlinewidth\":0,\"ticks\":\"\"}},\"type\":\"scattercarpet\"}],\"scattergeo\":[{\"marker\":{\"colorbar\":{\"outlinewidth\":0,\"ticks\":\"\"}},\"type\":\"scattergeo\"}],\"scattergl\":[{\"marker\":{\"line\":{\"color\":\"#283442\"}},\"type\":\"scattergl\"}],\"scattermapbox\":[{\"marker\":{\"colorbar\":{\"outlinewidth\":0,\"ticks\":\"\"}},\"type\":\"scattermapbox\"}],\"scatterpolargl\":[{\"marker\":{\"colorbar\":{\"outlinewidth\":0,\"ticks\":\"\"}},\"type\":\"scatterpolargl\"}],\"scatterpolar\":[{\"marker\":{\"colorbar\":{\"outlinewidth\":0,\"ticks\":\"\"}},\"type\":\"scatterpolar\"}],\"scatter\":[{\"marker\":{\"line\":{\"color\":\"#283442\"}},\"type\":\"scatter\"}],\"scatterternary\":[{\"marker\":{\"colorbar\":{\"outlinewidth\":0,\"ticks\":\"\"}},\"type\":\"scatterternary\"}],\"surface\":[{\"colorbar\":{\"outlinewidth\":0,\"ticks\":\"\"},\"colorscale\":[[0.0,\"#0d0887\"],[0.1111111111111111,\"#46039f\"],[0.2222222222222222,\"#7201a8\"],[0.3333333333333333,\"#9c179e\"],[0.4444444444444444,\"#bd3786\"],[0.5555555555555556,\"#d8576b\"],[0.6666666666666666,\"#ed7953\"],[0.7777777777777778,\"#fb9f3a\"],[0.8888888888888888,\"#fdca26\"],[1.0,\"#f0f921\"]],\"type\":\"surface\"}],\"table\":[{\"cells\":{\"fill\":{\"color\":\"#506784\"},\"line\":{\"color\":\"rgb(17,17,17)\"}},\"header\":{\"fill\":{\"color\":\"#2a3f5f\"},\"line\":{\"color\":\"rgb(17,17,17)\"}},\"type\":\"table\"}]},\"layout\":{\"annotationdefaults\":{\"arrowcolor\":\"#f2f5fa\",\"arrowhead\":0,\"arrowwidth\":1},\"autotypenumbers\":\"strict\",\"coloraxis\":{\"colorbar\":{\"outlinewidth\":0,\"ticks\":\"\"}},\"colorscale\":{\"diverging\":[[0,\"#8e0152\"],[0.1,\"#c51b7d\"],[0.2,\"#de77ae\"],[0.3,\"#f1b6da\"],[0.4,\"#fde0ef\"],[0.5,\"#f7f7f7\"],[0.6,\"#e6f5d0\"],[0.7,\"#b8e186\"],[0.8,\"#7fbc41\"],[0.9,\"#4d9221\"],[1,\"#276419\"]],\"sequential\":[[0.0,\"#0d0887\"],[0.1111111111111111,\"#46039f\"],[0.2222222222222222,\"#7201a8\"],[0.3333333333333333,\"#9c179e\"],[0.4444444444444444,\"#bd3786\"],[0.5555555555555556,\"#d8576b\"],[0.6666666666666666,\"#ed7953\"],[0.7777777777777778,\"#fb9f3a\"],[0.8888888888888888,\"#fdca26\"],[1.0,\"#f0f921\"]],\"sequentialminus\":[[0.0,\"#0d0887\"],[0.1111111111111111,\"#46039f\"],[0.2222222222222222,\"#7201a8\"],[0.3333333333333333,\"#9c179e\"],[0.4444444444444444,\"#bd3786\"],[0.5555555555555556,\"#d8576b\"],[0.6666666666666666,\"#ed7953\"],[0.7777777777777778,\"#fb9f3a\"],[0.8888888888888888,\"#fdca26\"],[1.0,\"#f0f921\"]]},\"colorway\":[\"#636efa\",\"#EF553B\",\"#00cc96\",\"#ab63fa\",\"#FFA15A\",\"#19d3f3\",\"#FF6692\",\"#B6E880\",\"#FF97FF\",\"#FECB52\"],\"font\":{\"color\":\"#f2f5fa\"},\"geo\":{\"bgcolor\":\"rgb(17,17,17)\",\"lakecolor\":\"rgb(17,17,17)\",\"landcolor\":\"rgb(17,17,17)\",\"showlakes\":true,\"showland\":true,\"subunitcolor\":\"#506784\"},\"hoverlabel\":{\"align\":\"left\"},\"hovermode\":\"closest\",\"mapbox\":{\"style\":\"dark\"},\"paper_bgcolor\":\"rgb(17,17,17)\",\"plot_bgcolor\":\"rgb(17,17,17)\",\"polar\":{\"angularaxis\":{\"gridcolor\":\"#506784\",\"linecolor\":\"#506784\",\"ticks\":\"\"},\"bgcolor\":\"rgb(17,17,17)\",\"radialaxis\":{\"gridcolor\":\"#506784\",\"linecolor\":\"#506784\",\"ticks\":\"\"}},\"scene\":{\"xaxis\":{\"backgroundcolor\":\"rgb(17,17,17)\",\"gridcolor\":\"#506784\",\"gridwidth\":2,\"linecolor\":\"#506784\",\"showbackground\":true,\"ticks\":\"\",\"zerolinecolor\":\"#C8D4E3\"},\"yaxis\":{\"backgroundcolor\":\"rgb(17,17,17)\",\"gridcolor\":\"#506784\",\"gridwidth\":2,\"linecolor\":\"#506784\",\"showbackground\":true,\"ticks\":\"\",\"zerolinecolor\":\"#C8D4E3\"},\"zaxis\":{\"backgroundcolor\":\"rgb(17,17,17)\",\"gridcolor\":\"#506784\",\"gridwidth\":2,\"linecolor\":\"#506784\",\"showbackground\":true,\"ticks\":\"\",\"zerolinecolor\":\"#C8D4E3\"}},\"shapedefaults\":{\"line\":{\"color\":\"#f2f5fa\"}},\"sliderdefaults\":{\"bgcolor\":\"#C8D4E3\",\"bordercolor\":\"rgb(17,17,17)\",\"borderwidth\":1,\"tickwidth\":0},\"ternary\":{\"aaxis\":{\"gridcolor\":\"#506784\",\"linecolor\":\"#506784\",\"ticks\":\"\"},\"baxis\":{\"gridcolor\":\"#506784\",\"linecolor\":\"#506784\",\"ticks\":\"\"},\"bgcolor\":\"rgb(17,17,17)\",\"caxis\":{\"gridcolor\":\"#506784\",\"linecolor\":\"#506784\",\"ticks\":\"\"}},\"title\":{\"x\":0.05},\"updatemenudefaults\":{\"bgcolor\":\"#506784\",\"borderwidth\":0},\"xaxis\":{\"automargin\":true,\"gridcolor\":\"#283442\",\"linecolor\":\"#506784\",\"ticks\":\"\",\"title\":{\"standoff\":15},\"zerolinecolor\":\"#283442\",\"zerolinewidth\":2},\"yaxis\":{\"automargin\":true,\"gridcolor\":\"#283442\",\"linecolor\":\"#506784\",\"ticks\":\"\",\"title\":{\"standoff\":15},\"zerolinecolor\":\"#283442\",\"zerolinewidth\":2}}},\"title\":{\"text\":\"Предсказание модели\"},\"width\":1200,\"height\":600},                        {\"responsive\": true}                    ).then(function(){\n",
              "                            \n",
              "var gd = document.getElementById('70a9c15f-aa79-4eb6-8782-31b4c3aa589f');\n",
              "var x = new MutationObserver(function (mutations, observer) {{\n",
              "        var display = window.getComputedStyle(gd).display;\n",
              "        if (!display || display === 'none') {{\n",
              "            console.log([gd, 'removed!']);\n",
              "            Plotly.purge(gd);\n",
              "            observer.disconnect();\n",
              "        }}\n",
              "}});\n",
              "\n",
              "// Listen for the removal of the full notebook cells\n",
              "var notebookContainer = gd.closest('#notebook-container');\n",
              "if (notebookContainer) {{\n",
              "    x.observe(notebookContainer, {childList: true});\n",
              "}}\n",
              "\n",
              "// Listen for the clearing of the current output cell\n",
              "var outputEl = gd.closest('.output');\n",
              "if (outputEl) {{\n",
              "    x.observe(outputEl, {childList: true});\n",
              "}}\n",
              "\n",
              "                        })                };                            </script>        </div>\n",
              "</body>\n",
              "</html>"
            ]
          },
          "metadata": {}
        }
      ]
    },
    {
      "cell_type": "markdown",
      "source": [
        "Рассеяние значений предсказанных относительно истинных довольно небольшое, что указывает на стабильность и надёжность модели. В данном случае регуляризация помагает примерно также как и стандартизация."
      ],
      "metadata": {
        "id": "cRGhQlgRJZ1N"
      }
    }
  ]
}